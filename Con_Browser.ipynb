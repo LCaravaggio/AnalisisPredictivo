{
  "nbformat": 4,
  "nbformat_minor": 0,
  "metadata": {
    "kernelspec": {
      "display_name": "Python 3",
      "language": "python",
      "name": "python3"
    },
    "language_info": {
      "codemirror_mode": {
        "name": "ipython",
        "version": 3
      },
      "file_extension": ".py",
      "mimetype": "text/x-python",
      "name": "python",
      "nbconvert_exporter": "python",
      "pygments_lexer": "ipython3",
      "version": "3.7.6"
    },
    "colab": {
      "name": "Con Browser.ipynb",
      "provenance": [],
      "include_colab_link": true
    }
  },
  "cells": [
    {
      "cell_type": "markdown",
      "metadata": {
        "id": "view-in-github",
        "colab_type": "text"
      },
      "source": [
        "<a href=\"https://colab.research.google.com/github/LCaravaggio/AnalisisPredictivo/blob/master/Con_Browser.ipynb\" target=\"_parent\"><img src=\"https://colab.research.google.com/assets/colab-badge.svg\" alt=\"Open In Colab\"/></a>"
      ]
    },
    {
      "cell_type": "code",
      "metadata": {
        "id": "p2R18O0EkTch"
      },
      "source": [
        "import time\n",
        "from urllib.request import urlretrieve\n",
        "import pytesseract\n",
        "from selenium import webdriver\n",
        "import re\n",
        "import datetime\n",
        "from bs4 import BeautifulSoup"
      ],
      "execution_count": null,
      "outputs": []
    },
    {
      "cell_type": "code",
      "metadata": {
        "id": "dWM08oV0kTcj"
      },
      "source": [
        "driver = webdriver.Chrome(executable_path=\"C:/Program Files (x86)/Google/Chrome/Application/chromedriver.exe\")"
      ],
      "execution_count": null,
      "outputs": []
    },
    {
      "cell_type": "code",
      "metadata": {
        "id": "bhOUPG5DkTck"
      },
      "source": [
        "lista=[\n",
        "\"https://www.veadigital.com.ar/prod/412416/galletitas-terrabusi-lincoln-chocolate-153-gr\"\n",
        "]"
      ],
      "execution_count": null,
      "outputs": []
    },
    {
      "cell_type": "code",
      "metadata": {
        "id": "jEBVn3ggkTck"
      },
      "source": [
        "def find_between( s, first, last ):\n",
        "    try:\n",
        "        start = s.index( first ) + len( first )+2\n",
        "        end = s.index( last, start )-2\n",
        "        return s[start:end]\n",
        "    except ValueError:\n",
        "        return \"\""
      ],
      "execution_count": null,
      "outputs": []
    },
    {
      "cell_type": "code",
      "metadata": {
        "id": "LULH8NLykTcl",
        "outputId": "fe7ac6e9-c992-4872-de67-037746dd4b66"
      },
      "source": [
        "a=\"\"\n",
        "\n",
        "for l in lista: \n",
        "\ttry: \n",
        "\t\tdriver.get(l)\n",
        "\t\ttime.sleep(2)\n",
        "\t\tsoup = BeautifulSoup(driver.page_source, 'html.parser')\n",
        "\t\t\n",
        "\t\ts = str(soup.find_all('input', {'id':'hfProductData'})[0])\n",
        "\t\tprint(l)\n",
        "\t\ta = a + l + \";\"\n",
        "\t\ta = a + find_between(s, \"DescripcionArticulo\", \"Grupo_Marca\") + \";\" \n",
        "\t\ta = a + find_between(s, \"Precio\", \"unidadPedida\") + \"\\n\" \n",
        "\texcept: \n",
        "\t\tprint(\"no se pudo acceder al url\")\n",
        "\t\n",
        "driver.close()"
      ],
      "execution_count": null,
      "outputs": [
        {
          "output_type": "stream",
          "text": [
            "https://www.veadigital.com.ar/prod/412416/galletitas-terrabusi-lincoln-chocolate-153-gr\n"
          ],
          "name": "stdout"
        }
      ]
    },
    {
      "cell_type": "code",
      "metadata": {
        "id": "wCRhSFBxkTcm",
        "outputId": "23ef14bf-68c3-4656-e029-71bc7a57814f"
      },
      "source": [
        "now = datetime.datetime.now()\n",
        "nw=str(now.strftime(\"%Y-%m-%d %H-%M-%S\"))\n",
        "with open('VEA ' + nw + '.csv', 'w', newline=\"\\n\", encoding='ISO-8859-1') as f:\n",
        "\tf.write(a)\n",
        "f.close"
      ],
      "execution_count": null,
      "outputs": [
        {
          "output_type": "execute_result",
          "data": {
            "text/plain": [
              "<function TextIOWrapper.close()>"
            ]
          },
          "metadata": {
            "tags": []
          },
          "execution_count": 11
        }
      ]
    }
  ]
}