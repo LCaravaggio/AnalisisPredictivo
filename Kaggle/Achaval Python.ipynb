{
  "nbformat": 4,
  "nbformat_minor": 0,
  "metadata": {
    "colab": {
      "name": "tp2final.ipynb",
      "provenance": []
    },
    "kernelspec": {
      "name": "python3",
      "display_name": "Python 3"
    },
    "language_info": {
      "name": "python"
    }
  },
  "cells": [
    {
      "cell_type": "code",
      "metadata": {
        "id": "OoWEpylaSzzN"
      },
      "source": [
        "import pandas as pd\n",
        "import numpy as np\n",
        "from sklearn.model_selection import train_test_split, RandomizedSearchCV, GridSearchCV\n",
        "from sklearn.ensemble import RandomForestRegressor, ExtraTreesRegressor\n",
        "from sklearn.metrics import accuracy_score, mean_absolute_error\n",
        "from sklearn import preprocessing\n",
        "from sklearn.metrics import r2_score\n",
        "from sklearn.preprocessing import scale"
      ],
      "execution_count": null,
      "outputs": []
    },
    {
      "cell_type": "code",
      "metadata": {
        "id": "k2Iwa8vSS6MY"
      },
      "source": [
        "j_training = pd.read_csv(\"/content/drive/MyDrive/Colab Notebooks/ENTRENAR4.csv\",sep=',')\n",
        "\n",
        "y_train=j_training['averageRating']\n",
        "\n",
        "X_train=j_training[['numVotes','budget','budget_real','budget_dif','movie','video','tvSeries','tvMovie','tvEpisode','Action','Adventure','Animation','Crime','Drama','Adult','Comedy','Romance','Short','Mystery','Documentary','Music','Reality_TV','Horror','Thriller','es_director_malo','es_director_piola']]\n",
        "\n",
        "# 'disney','warner','columbia','bbc','fox','mgm','paramount','universal','weinstein','marvel',\n",
        "from math import *\n",
        "# X_train['budget_square'] = X_train['budget'].astype(int)**2\n",
        "# X_train['budget_dif_square'] = X_train['budget_dif'].astype(int)**2\n",
        "# X_train['budget_real_square'] = X_train['budget_real'].astype(int)**2\n",
        "# X_train['numVotes_square'] = X_train['numVotes'].astype(int)**2\n",
        "# X_train['budget_square'] = scale(X_train['budget_square'])\n",
        "# X_train['budget'] = scale(X_train['budget'])\n",
        "# X_train['budget_real'] = scale(X_train['budget_real'])\n",
        "# X_train['numVotes'] = scale(X_train['numVotes'])\n",
        "#escalar es malo para el modelo que estamos entrenando\n",
        "# X_train"
      ],
      "execution_count": null,
      "outputs": []
    },
    {
      "cell_type": "code",
      "metadata": {
        "id": "0AZhR5HtTKn_"
      },
      "source": [
        "j_testing = pd.read_csv(\"/content/drive/MyDrive/Colab Notebooks/TESTEAR4.csv\",sep=',')\n",
        "\n",
        "# y_test=j_testing['averageRating'] #descomentar luego\n",
        "\n",
        "X_test=j_testing[['numVotes','budget','budget_real','budget_dif','movie','video','tvSeries','tvMovie','tvEpisode','Action','Adventure','Animation','Crime','Drama','Adult','Comedy','Romance','Short','Mystery','Documentary','Music','Reality_TV','Horror','Thriller','es_director_malo','es_director_piola']]\n",
        "\n",
        "# 'disney','warner','columbia','bbc','fox','mgm','paramount','universal','weinstein','marvel',\n",
        "\n",
        "# X_test['budget_square'] = X_test['budget'].astype(int)**2\n",
        "# X_test['budget_dif_square'] = X_test['budget_dif'].astype(int)**2\n",
        "# X_test['budget_real_square'] = X_test['budget_real'].astype(int)**2\n",
        "# X_test['numVotes_square'] = X_train['numVotes'].astype(int)**2\n",
        "# X_test['budget_square'] = scale(X_test['budget_square'])\n",
        "# X_test['budget'] = scale(X_test['budget'])\n",
        "# X_test['budget_real'] = scale(X_test['budget_real'])\n",
        "# X_test['numVotes'] = scale(X_test['numVotes'])\n",
        "#escalar es malo para el modelo que estamos usando\n",
        "# X_test\n"
      ],
      "execution_count": null,
      "outputs": []
    },
    {
      "cell_type": "code",
      "metadata": {
        "colab": {
          "base_uri": "https://localhost:8080/"
        },
        "id": "KEDWWrqGTTTc",
        "outputId": "77000aeb-db92-448a-d303-2b133b7de870"
      },
      "source": [
        "forest = RandomForestRegressor(n_estimators=250,max_depth=80,max_leaf_nodes=10000,oob_score=True,min_samples_split=12) # \n",
        "forest.fit(X_train, y_train)"
      ],
      "execution_count": null,
      "outputs": [
        {
          "output_type": "execute_result",
          "data": {
            "text/plain": [
              "RandomForestRegressor(bootstrap=True, ccp_alpha=0.0, criterion='mse',\n",
              "                      max_depth=80, max_features='auto', max_leaf_nodes=10000,\n",
              "                      max_samples=None, min_impurity_decrease=0.0,\n",
              "                      min_impurity_split=None, min_samples_leaf=1,\n",
              "                      min_samples_split=12, min_weight_fraction_leaf=0.0,\n",
              "                      n_estimators=250, n_jobs=None, oob_score=True,\n",
              "                      random_state=None, verbose=0, warm_start=False)"
            ]
          },
          "metadata": {},
          "execution_count": 44
        }
      ]
    },
    {
      "cell_type": "code",
      "metadata": {
        "id": "Kc9fV9tATXZ6"
      },
      "source": [
        "y_pred=forest.predict(X_test)\n",
        "pd.DataFrame(y_pred).to_csv('predicciones_ultimo.csv')\n",
        "#0.3523553407185297 con 4 sin escalar\n",
        "#0.35235016491917814 con depth 80 nodes 10000"
      ],
      "execution_count": null,
      "outputs": []
    },
    {
      "cell_type": "code",
      "metadata": {
        "id": "zCYqx3V0Ql1Q"
      },
      "source": [
        "from matplotlib import pyplot as plt\n"
      ],
      "execution_count": null,
      "outputs": []
    },
    {
      "cell_type": "code",
      "metadata": {
        "colab": {
          "base_uri": "https://localhost:8080/",
          "height": 298
        },
        "id": "aNi1ZZlLR2PX",
        "outputId": "ffaa98ff-dc4e-45fa-b9d1-55a55d80fae8"
      },
      "source": [
        "sorted_idx = forest.feature_importances_.argsort()\n",
        "plt.barh(X_train.columns[sorted_idx], forest.feature_importances_[sorted_idx])\n",
        "plt.xlabel(\"Random Forest Feature Importance\")\n"
      ],
      "execution_count": null,
      "outputs": [
        {
          "output_type": "execute_result",
          "data": {
            "text/plain": [
              "Text(0.5, 0, 'Random Forest Feature Importance')"
            ]
          },
          "metadata": {},
          "execution_count": 46
        },
        {
          "output_type": "display_data",
          "data": {
            "image/png": "[encoded data removed]",
            "text/plain": [
              "<Figure size 432x288 with 1 Axes>"
            ]
          },
          "metadata": {
            "needs_background": "light"
          }
        }
      ]
    },
    {
      "cell_type": "code",
      "metadata": {
        "colab": {
          "base_uri": "https://localhost:8080/"
        },
        "id": "ZlO80DmRqxQz",
        "outputId": "a87166f2-3ee8-41db-e76b-ca3d99135c86"
      },
      "source": [
        "extratree = ExtraTreesRegressor(max_depth=100,max_leaf_nodes=10000,bootstrap=True,oob_score=True, min_samples_split=12)\n",
        "extratree.fit(X_train,y_train)"
      ],
      "execution_count": null,
      "outputs": [
        {
          "output_type": "execute_result",
          "data": {
            "text/plain": [
              "ExtraTreesRegressor(bootstrap=True, ccp_alpha=0.0, criterion='mse',\n",
              "                    max_depth=100, max_features='auto', max_leaf_nodes=10000,\n",
              "                    max_samples=None, min_impurity_decrease=0.0,\n",
              "                    min_impurity_split=None, min_samples_leaf=1,\n",
              "                    min_samples_split=12, min_weight_fraction_leaf=0.0,\n",
              "                    n_estimators=100, n_jobs=None, oob_score=True,\n",
              "                    random_state=None, verbose=0, warm_start=False)"
            ]
          },
          "metadata": {},
          "execution_count": 29
        }
      ]
    },
    {
      "cell_type": "code",
      "metadata": {
        "colab": {
          "base_uri": "https://localhost:8080/"
        },
        "id": "8-CUCvhl3k_f",
        "outputId": "6ce20c5c-9e23-425f-bbe5-3c8dd0451b64"
      },
      "source": [
        "y_pred_extra=extratree.predict(X_test)\n",
        "r2_score(y_test,y_pred_extra)"
      ],
      "execution_count": null,
      "outputs": [
        {
          "output_type": "execute_result",
          "data": {
            "text/plain": [
              "0.3463686699237244"
            ]
          },
          "metadata": {},
          "execution_count": 30
        }
      ]
    },
    {
      "cell_type": "code",
      "metadata": {
        "id": "ufd79_Vv7k8l"
      },
      "source": [
        "import xgboost as xgb\n",
        "\n",
        "data_dmatrix = xgb.DMatrix(data=X_train,label=y_train)"
      ],
      "execution_count": null,
      "outputs": []
    },
    {
      "cell_type": "code",
      "metadata": {
        "colab": {
          "base_uri": "https://localhost:8080/"
        },
        "id": "rhEXLJww7MiP",
        "outputId": "7fa66baf-f38f-413f-d387-f80f98fb7490"
      },
      "source": [
        "xg_reg = xgb.XGBRegressor(objective ='reg:squarederror', colsample_bytree = 0.3, learning_rate = 0.2,\n",
        "                max_depth = 80, alpha = 10, n_estimators = 150)\n",
        "xg_reg.fit(X_train,y_train)"
      ],
      "execution_count": null,
      "outputs": [
        {
          "output_type": "execute_result",
          "data": {
            "text/plain": [
              "XGBRegressor(alpha=10, base_score=0.5, booster='gbtree', colsample_bylevel=1,\n",
              "             colsample_bynode=1, colsample_bytree=0.3, gamma=0,\n",
              "             importance_type='gain', learning_rate=0.2, max_delta_step=0,\n",
              "             max_depth=80, min_child_weight=1, missing=None, n_estimators=150,\n",
              "             n_jobs=1, nthread=None, objective='reg:squarederror',\n",
              "             random_state=0, reg_alpha=0, reg_lambda=1, scale_pos_weight=1,\n",
              "             seed=None, silent=None, subsample=1, verbosity=1)"
            ]
          },
          "metadata": {},
          "execution_count": 32
        }
      ]
    },
    {
      "cell_type": "code",
      "metadata": {
        "colab": {
          "base_uri": "https://localhost:8080/"
        },
        "id": "tRcxxXTe7sSa",
        "outputId": "539980df-48f9-41b5-c858-b4facb00ed6d"
      },
      "source": [
        "predsXG = xg_reg.predict(X_test)\n"
      ],
      "execution_count": null,
      "outputs": [
        {
          "output_type": "execute_result",
          "data": {
            "text/plain": [
              "0.3021341854836369"
            ]
          },
          "metadata": {},
          "execution_count": 33
        }
      ]
    },
    {
      "cell_type": "code",
      "metadata": {
        "colab": {
          "base_uri": "https://localhost:8080/"
        },
        "id": "sNL_K7hd1CM9",
        "outputId": "8ea4f269-5a24-4978-d57d-0b8eb3c44a35"
      },
      "source": [
        "r2_score(y_test,predsXG)\n",
        "# mean_absolute_error(y_test,predsXG)"
      ],
      "execution_count": null,
      "outputs": [
        {
          "output_type": "execute_result",
          "data": {
            "text/plain": [
              "0.3021341854836369"
            ]
          },
          "metadata": {},
          "execution_count": 40
        }
      ]
    },
    {
      "cell_type": "code",
      "metadata": {
        "colab": {
          "base_uri": "https://localhost:8080/"
        },
        "id": "h9LzDAwqxVZq",
        "outputId": "9302c421-edad-49c0-be1d-399313f65855"
      },
      "source": [
        "forest2 = RandomForestRegressor() # \n",
        "forest2.fit(X_train, y_train)"
      ],
      "execution_count": null,
      "outputs": [
        {
          "output_type": "execute_result",
          "data": {
            "text/plain": [
              "RandomForestRegressor(bootstrap=True, ccp_alpha=0.0, criterion='mse',\n",
              "                      max_depth=None, max_features='auto', max_leaf_nodes=None,\n",
              "                      max_samples=None, min_impurity_decrease=0.0,\n",
              "                      min_impurity_split=None, min_samples_leaf=1,\n",
              "                      min_samples_split=2, min_weight_fraction_leaf=0.0,\n",
              "                      n_estimators=100, n_jobs=None, oob_score=False,\n",
              "                      random_state=None, verbose=0, warm_start=False)"
            ]
          },
          "metadata": {},
          "execution_count": 35
        }
      ]
    },
    {
      "cell_type": "code",
      "metadata": {
        "colab": {
          "base_uri": "https://localhost:8080/"
        },
        "id": "iCKyITA4xq41",
        "outputId": "4ef8025b-bf55-4ca8-fe96-33a7398cded5"
      },
      "source": [
        "y_pred2=forest2.predict(X_test)\n",
        "r2_score(y_test,y_pred2)"
      ],
      "execution_count": null,
      "outputs": [
        {
          "output_type": "execute_result",
          "data": {
            "text/plain": [
              "0.2849875381259984"
            ]
          },
          "metadata": {},
          "execution_count": 36
        }
      ]
    },
    {
      "cell_type": "code",
      "metadata": {
        "id": "HkdKwio5cMOJ"
      },
      "source": [
        "# pd.DataFrame(predicciones_finales).to_csv('predicciones_finales.csv')"
      ],
      "execution_count": null,
      "outputs": []
    }
  ]
}