{
  "nbformat": 4,
  "nbformat_minor": 0,
  "metadata": {
    "colab": {
      "name": "RF_Kaggle 2.ipynb",
      "provenance": [],
      "collapsed_sections": []
    },
    "kernelspec": {
      "display_name": "Python 3",
      "language": "python",
      "name": "python3"
    },
    "language_info": {
      "codemirror_mode": {
        "name": "ipython",
        "version": 3
      },
      "file_extension": ".py",
      "mimetype": "text/x-python",
      "name": "python",
      "nbconvert_exporter": "python",
      "pygments_lexer": "ipython3",
      "version": "3.7.6"
    }
  },
  "cells": [
    {
      "cell_type": "code",
      "metadata": {
        "id": "Te3O3Ijul8PZ"
      },
      "source": [
        "# Acá deberían cargar todas las librerías que vayan a usar. \n",
        "# Es preferible cargar las librerías al principio para que quede claro que requerimientos tiene la notebook. \n",
        "# Tengan cuidado de no cargar librerías que no vayan a utilizar ya que esto incurre en un gasto de memoria innecesario\n",
        "\n",
        "import pandas as pd\n",
        "import numpy as np\n",
        "\n",
        "from sklearn.ensemble import RandomForestRegressor, ExtraTreesRegressor"
      ],
      "execution_count": 1,
      "outputs": []
    },
    {
      "cell_type": "code",
      "metadata": {
        "id": "cQZfUWFrslRU",
        "colab": {
          "base_uri": "https://localhost:8080/"
        },
        "outputId": "cdb0e000-99db-44cd-f12b-ce7fec80b7de"
      },
      "source": [
        "#Podriamos cargar los datos con la API de Kaggle sin necesidad de bajarlos, o alternativamente subirlos y no correr esta celda\n",
        "\n",
        "import json\n",
        "from google.colab import drive\n",
        "\n",
        "!mkdir ~/.kaggle\n",
        "!touch ~/.kaggle/kaggle.json\n",
        "\n",
        "drive.mount('/content/drive', force_remount=True)\n",
        "with open(\"/content/drive/My Drive/kaggle.json\", 'r') as f:\n",
        "    api_token= json.load(f)\n",
        "\n",
        "with open('/root/.kaggle/kaggle.json', 'w') as file:\n",
        "    json.dump(api_token, file)\n",
        "\n",
        "!chmod 600 ~/.kaggle/kaggle.json\n",
        "\n",
        "!kaggle competitions download -c examen-2-ap-itba\n",
        "\n",
        "\n",
        "import zipfile\n",
        "import os\n",
        "\n",
        "os.listdir()\n",
        "\n",
        "for file in os.listdir():\n",
        "    if file.endswith('.zip'):\n",
        "      zip_ref = zipfile.ZipFile(file, 'r')\n",
        "      zip_ref.extractall()\n",
        "      zip_ref.close()"
      ],
      "execution_count": 2,
      "outputs": [
        {
          "output_type": "stream",
          "name": "stdout",
          "text": [
            "mkdir: cannot create directory ‘/root/.kaggle’: File exists\n",
            "Mounted at /content/drive\n",
            "Warning: Looks like you're using an outdated API Version, please consider updating (server 1.5.12 / client 1.5.4)\n",
            "resultados.csv.zip: Skipping, found more recently modified local copy (use --force to force download)\n",
            "datos.csv.zip: Skipping, found more recently modified local copy (use --force to force download)\n"
          ]
        }
      ]
    },
    {
      "cell_type": "code",
      "metadata": {
        "id": "I3ptXMETmNSX",
        "colab": {
          "base_uri": "https://localhost:8080/"
        },
        "outputId": "62244067-3140-480b-ba93-716a0c91b897"
      },
      "source": [
        "#Levantamos los datos (si los tenemos local y no corrimos la celda anterior, habría que subirlos)\n",
        "\n",
        "df_train=pd.read_csv(\"datos.csv\", sep=\",\")\n",
        "df_test=pd.read_csv(\"resultados.csv\", sep=\",\")"
      ],
      "execution_count": 3,
      "outputs": [
        {
          "output_type": "stream",
          "name": "stderr",
          "text": [
            "/usr/local/lib/python3.7/dist-packages/IPython/core/interactiveshell.py:2718: DtypeWarning: Columns (4) have mixed types.Specify dtype option on import or set low_memory=False.\n",
            "  interactivity=interactivity, compiler=compiler, result=result)\n"
          ]
        }
      ]
    },
    {
      "cell_type": "code",
      "metadata": {
        "colab": {
          "base_uri": "https://localhost:8080/"
        },
        "id": "d2INFOE3mtOz",
        "outputId": "888096ad-eb43-40e6-f51c-51245e79e840"
      },
      "source": [
        "# Después deberían hacer un poco de EDA para conocer la base\n",
        "df_train.columns"
      ],
      "execution_count": 4,
      "outputs": [
        {
          "output_type": "execute_result",
          "data": {
            "text/plain": [
              "Index(['averageRating', 'numVotes', 'titleType', 'isAdult', 'startYear',\n",
              "       'endYear', 'runtimeMinutes', 'genres_x', 'directors', 'writers',\n",
              "       'seasonNumber', 'episodeNumber', 'ordering', 'language', 'types',\n",
              "       'attributes', 'isOriginalTitle', 'adult', 'budget', 'genres_y',\n",
              "       'original_language', 'overview', 'popularity', 'production_companies',\n",
              "       'production_countries', 'release_date', 'revenue', 'runtime', 'status',\n",
              "       'tagline', 'video', 'id'],\n",
              "      dtype='object')"
            ]
          },
          "metadata": {},
          "execution_count": 4
        }
      ]
    },
    {
      "cell_type": "code",
      "metadata": {
        "colab": {
          "base_uri": "https://localhost:8080/"
        },
        "id": "YWrGTGNxgxig",
        "outputId": "d85927b5-3f6c-463e-f187-80645466b05a"
      },
      "source": [
        "df_train.shape"
      ],
      "execution_count": 5,
      "outputs": [
        {
          "output_type": "execute_result",
          "data": {
            "text/plain": [
              "(900000, 32)"
            ]
          },
          "metadata": {},
          "execution_count": 5
        }
      ]
    },
    {
      "cell_type": "code",
      "metadata": {
        "colab": {
          "base_uri": "https://localhost:8080/"
        },
        "id": "VF-bwcVSCpC4",
        "outputId": "881cc852-7415-45a5-a467-8773091108ef"
      },
      "source": [
        "df_train.info()"
      ],
      "execution_count": 6,
      "outputs": [
        {
          "output_type": "stream",
          "name": "stdout",
          "text": [
            "<class 'pandas.core.frame.DataFrame'>\n",
            "RangeIndex: 900000 entries, 0 to 899999\n",
            "Data columns (total 32 columns):\n",
            " #   Column                Non-Null Count   Dtype  \n",
            "---  ------                --------------   -----  \n",
            " 0   averageRating         900000 non-null  float64\n",
            " 1   numVotes              900000 non-null  int64  \n",
            " 2   titleType             899998 non-null  object \n",
            " 3   isAdult               899998 non-null  float64\n",
            " 4   startYear             899998 non-null  object \n",
            " 5   endYear               899998 non-null  object \n",
            " 6   runtimeMinutes        899998 non-null  object \n",
            " 7   genres_x              899997 non-null  object \n",
            " 8   directors             899998 non-null  object \n",
            " 9   writers               899998 non-null  object \n",
            " 10  seasonNumber          403675 non-null  object \n",
            " 11  episodeNumber         403675 non-null  object \n",
            " 12  ordering              341292 non-null  float64\n",
            " 13  language              341292 non-null  object \n",
            " 14  types                 341292 non-null  object \n",
            " 15  attributes            341292 non-null  object \n",
            " 16  isOriginalTitle       341292 non-null  float64\n",
            " 17  adult                 43668 non-null   object \n",
            " 18  budget                43668 non-null   float64\n",
            " 19  genres_y              43668 non-null   object \n",
            " 20  original_language     43655 non-null   object \n",
            " 21  overview              42941 non-null   object \n",
            " 22  popularity            43665 non-null   float64\n",
            " 23  production_companies  43665 non-null   object \n",
            " 24  production_countries  43665 non-null   object \n",
            " 25  release_date          43601 non-null   object \n",
            " 26  revenue               43665 non-null   float64\n",
            " 27  runtime               43478 non-null   float64\n",
            " 28  status                43589 non-null   object \n",
            " 29  tagline               22126 non-null   object \n",
            " 30  video                 43665 non-null   object \n",
            " 31  id                    900000 non-null  int64  \n",
            "dtypes: float64(8), int64(2), object(22)\n",
            "memory usage: 219.7+ MB\n"
          ]
        }
      ]
    },
    {
      "cell_type": "code",
      "metadata": {
        "id": "ibjz7Czzr6LO"
      },
      "source": [
        "#Elimino los NA de las variables continuas\n",
        "contin_vars = ['numVotes', 'runtimeMinutes', 'budget', 'revenue', 'startYear','endYear','popularity','runtime']\n",
        "for v in contin_vars: df_train.loc[df_train[v].isnull(), v] = 0\n",
        "for v in contin_vars: df_train.loc[(df_train[v].isna()), v] = 0"
      ],
      "execution_count": 7,
      "outputs": []
    },
    {
      "cell_type": "code",
      "metadata": {
        "id": "piI6BaciWbb9"
      },
      "source": [
        "df_train=df_train.replace('\\\\N',0)\n",
        "df_train['endYear']=df_train['endYear'].astype('int16')\n",
        "df_train['startYear']=df_train['startYear'].astype('int16')\n",
        "df_train['prod']=df_train['endYear']-df_train['startYear']"
      ],
      "execution_count": 8,
      "outputs": []
    },
    {
      "cell_type": "code",
      "metadata": {
        "id": "yuusAgBFhjCN"
      },
      "source": [
        "df_train['runtimeMinutes']=df_train['runtimeMinutes'].replace('Game-Show',0)\n",
        "df_train['runtimeMinutes']=df_train['runtimeMinutes'].astype('int16')"
      ],
      "execution_count": 9,
      "outputs": []
    },
    {
      "cell_type": "code",
      "metadata": {
        "id": "Ckz4-hdxXBP8"
      },
      "source": [
        " def label_race (row, col):\n",
        "    lab = {\n",
        "        f[0]: 100,\n",
        "        f[1]: 80,\n",
        "        f[2]: 60,\n",
        "        f[3]: 40,\n",
        "        f[4]: 20,\n",
        "    }\n",
        "    return lab.get(row[col], 0)"
      ],
      "execution_count": 10,
      "outputs": []
    },
    {
      "cell_type": "code",
      "metadata": {
        "id": "JwOE4ep2h3Bo"
      },
      "source": [
        "f=df_train['directors'].value_counts()[1:6].index.tolist()\n",
        "df_train['director_f'] = df_train.apply (lambda row: label_race(row,'directors'), axis=1)"
      ],
      "execution_count": 11,
      "outputs": []
    },
    {
      "cell_type": "code",
      "metadata": {
        "id": "fY_DwsZiyXAy"
      },
      "source": [
        "f=df_train['writers'].value_counts()[1:6].index.tolist()\n",
        "df_train['writers_f'] = df_train.apply (lambda row: label_race(row,'writers'), axis=1)"
      ],
      "execution_count": 12,
      "outputs": []
    },
    {
      "cell_type": "code",
      "metadata": {
        "id": "h9NTXMIG12AV"
      },
      "source": [
        "f=df_train['production_companies'].value_counts()[1:6].index.tolist()\n",
        "df_train['production_companies_f'] = df_train.apply (lambda row: label_race(row,'production_companies'), axis=1)"
      ],
      "execution_count": 13,
      "outputs": []
    },
    {
      "cell_type": "code",
      "metadata": {
        "id": "M3VTDAJT218u"
      },
      "source": [
        "f=df_train['production_countries'].value_counts()[1:6].index.tolist()\n",
        "df_train['production_countries_f'] = df_train.apply (lambda row: label_race(row,'production_countries'), axis=1)"
      ],
      "execution_count": 14,
      "outputs": []
    },
    {
      "cell_type": "code",
      "metadata": {
        "id": "dLFRUasNaF7N"
      },
      "source": [
        "f=df_train['status'].value_counts()[0:5].index.tolist()\n",
        "df_train['status_f'] = df_train.apply (lambda row: label_race(row,'status'), axis=1)"
      ],
      "execution_count": 15,
      "outputs": []
    },
    {
      "cell_type": "code",
      "metadata": {
        "id": "zIP_lGOIofX2"
      },
      "source": [
        "#Clasifico en categóricas y continuas\n",
        "cat_vars = ['language'] \n",
        "contin_vars = ['startYear','endYear','prod', 'numVotes', 'runtimeMinutes', 'director_f', 'production_companies_f', 'production_countries_f','status_f','popularity','runtime']"
      ],
      "execution_count": 16,
      "outputs": []
    },
    {
      "cell_type": "code",
      "metadata": {
        "id": "Z9LnAsTCgxih"
      },
      "source": [
        "# Genero variables dummys con las categóricas\n",
        "for v in cat_vars: df_train=df_train.join(pd.get_dummies(df_train[v], drop_first=True), lsuffix = '_left', rsuffix = '_right')"
      ],
      "execution_count": 17,
      "outputs": []
    },
    {
      "cell_type": "code",
      "metadata": {
        "id": "I-vBUVn0OGmk"
      },
      "source": [
        "#Selección de variables para el modelo\n",
        "algunas=contin_vars+['en', 'es']"
      ],
      "execution_count": 18,
      "outputs": []
    },
    {
      "cell_type": "code",
      "metadata": {
        "id": "7rVp9CCum-M5"
      },
      "source": [
        "# Elegir un modelo y correrlo\n",
        "# Recuerden que lo que tienen que clasificar es la columna averageRating\n",
        "\n",
        "reg=ExtraTreesRegressor(max_depth=34)\n",
        "\n",
        "X=np.array(df_train[algunas])\n",
        "y=df_train['averageRating']\n",
        "\n",
        "res=reg.fit(X, y)"
      ],
      "execution_count": 19,
      "outputs": []
    },
    {
      "cell_type": "code",
      "metadata": {
        "colab": {
          "base_uri": "https://localhost:8080/"
        },
        "id": "mrb26ucOtFEh",
        "outputId": "d879cfba-8f97-48be-85b0-41ab291bffb0"
      },
      "source": [
        "res.score(X,y)"
      ],
      "execution_count": 20,
      "outputs": [
        {
          "output_type": "execute_result",
          "data": {
            "text/plain": [
              "0.4514463946996366"
            ]
          },
          "metadata": {},
          "execution_count": 20
        }
      ]
    },
    {
      "cell_type": "code",
      "metadata": {
        "id": "F3XlmSBBpu-f"
      },
      "source": [
        "# Luego podría corresponder ajustar hiperparámetros, hacer CV, etc..."
      ],
      "execution_count": 21,
      "outputs": []
    },
    {
      "cell_type": "code",
      "metadata": {
        "id": "RJSs3e1Z67aV"
      },
      "source": [
        "#Elimino los NA de las variables continuas\n",
        "contin_vars = ['numVotes', 'runtimeMinutes', 'budget', 'revenue', 'startYear','endYear','popularity','runtime']\n",
        "for v in contin_vars: df_test.loc[df_test[v].isnull(), v] = 0\n",
        "for v in contin_vars: df_test.loc[(df_test[v].isna()), v] = 0"
      ],
      "execution_count": 22,
      "outputs": []
    },
    {
      "cell_type": "code",
      "metadata": {
        "id": "Y324V2uU67aW"
      },
      "source": [
        "df_test=df_test.replace('\\\\N',0)\n",
        "df_test['endYear']=df_test['endYear'].astype('int16')\n",
        "df_test['startYear']=df_test['startYear'].astype('int16')\n",
        "df_test['prod']=df_test['endYear']-df_train['startYear']"
      ],
      "execution_count": 23,
      "outputs": []
    },
    {
      "cell_type": "code",
      "metadata": {
        "id": "Uwin_j3I67aW"
      },
      "source": [
        "df_test['runtimeMinutes']=df_test['runtimeMinutes'].replace('Reality-TV',0)\n",
        "df_test['runtimeMinutes']=df_test['runtimeMinutes'].astype('int16')"
      ],
      "execution_count": 24,
      "outputs": []
    },
    {
      "cell_type": "code",
      "metadata": {
        "id": "0v1neZf267aY"
      },
      "source": [
        "f=df_test['directors'].value_counts()[1:6].index.tolist()\n",
        "df_test['director_f'] = df_test.apply (lambda row: label_race(row,'directors'), axis=1)"
      ],
      "execution_count": 25,
      "outputs": []
    },
    {
      "cell_type": "code",
      "metadata": {
        "id": "OrD9S38x67aY"
      },
      "source": [
        "f=df_test['writers'].value_counts()[1:6].index.tolist()\n",
        "df_test['writers_f'] = df_test.apply (lambda row: label_race(row,'writers'), axis=1)"
      ],
      "execution_count": 26,
      "outputs": []
    },
    {
      "cell_type": "code",
      "metadata": {
        "id": "jjkcFdzt67aZ"
      },
      "source": [
        "f=df_test['production_companies'].value_counts()[1:6].index.tolist()\n",
        "df_test['production_companies_f'] = df_test.apply (lambda row: label_race(row,'production_companies'), axis=1)"
      ],
      "execution_count": 27,
      "outputs": []
    },
    {
      "cell_type": "code",
      "metadata": {
        "id": "7l9MjiWA67aZ"
      },
      "source": [
        "f=df_test['production_countries'].value_counts()[1:6].index.tolist()\n",
        "df_test['production_countries_f'] = df_test.apply (lambda row: label_race(row,'production_countries'), axis=1)"
      ],
      "execution_count": 28,
      "outputs": []
    },
    {
      "cell_type": "code",
      "metadata": {
        "id": "vN-W9p24cHXH"
      },
      "source": [
        "f=df_test['status'].value_counts()[0:5].index.tolist()\n",
        "df_test['status_f'] = df_test.apply (lambda row: label_race(row,'status'), axis=1)"
      ],
      "execution_count": 29,
      "outputs": []
    },
    {
      "cell_type": "code",
      "metadata": {
        "id": "7dVnoVcx67ab"
      },
      "source": [
        "# Genero variables dummys con las categóricas\n",
        "for v in cat_vars: df_test=df_test.join(pd.get_dummies(df_test[v], drop_first=True), lsuffix = '_left', rsuffix = '_right')"
      ],
      "execution_count": 30,
      "outputs": []
    },
    {
      "cell_type": "code",
      "metadata": {
        "id": "YGLPb-6Ugxin"
      },
      "source": [
        "# Y hago una predicción con las variables de testeo\n",
        "X=np.array(df_test[algunas])\n",
        "resultado=reg.predict(X)"
      ],
      "execution_count": 31,
      "outputs": []
    },
    {
      "cell_type": "code",
      "metadata": {
        "id": "2JbEO6XQqxs9"
      },
      "source": [
        "# Finalmente generar un CSV con los resultados aplicados al CSV de resultados que no contiene la columna target\n",
        "\n",
        "salida = pd.DataFrame(data={\"averageRating\": resultado}).astype(str)\n",
        "salida.index = df_test.id\n",
        "salida.to_csv(\"RF.csv\", sep=',',index=True,  index_label='id')"
      ],
      "execution_count": 32,
      "outputs": []
    },
    {
      "cell_type": "code",
      "metadata": {
        "id": "r27E2Rq1NwFa"
      },
      "source": [
        "resul=pd.read_csv(\"derived.csv\", sep=\",\")"
      ],
      "execution_count": 33,
      "outputs": []
    },
    {
      "cell_type": "code",
      "metadata": {
        "colab": {
          "base_uri": "https://localhost:8080/"
        },
        "id": "V2MyCwQ3NlB4",
        "outputId": "54f4e0a1-7d8d-4934-8170-8601174dd9e0"
      },
      "source": [
        "res.score(X,resul.averageRating)"
      ],
      "execution_count": 34,
      "outputs": [
        {
          "output_type": "execute_result",
          "data": {
            "text/plain": [
              "0.17862634305238534"
            ]
          },
          "metadata": {},
          "execution_count": 34
        }
      ]
    }
  ]
}
