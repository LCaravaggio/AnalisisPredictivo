{
  "nbformat": 4,
  "nbformat_minor": 0,
  "metadata": {
    "colab": {
      "name": "Competencia Kaggle AP - ITBA.ipynb",
      "provenance": [],
      "authorship_tag": "ABX9TyNdbOue9STWlPZ+Ufk2VVxv",
      "include_colab_link": true
    },
    "kernelspec": {
      "name": "python3",
      "display_name": "Python 3"
    },
    "language_info": {
      "name": "python"
    }
  },
  "cells": [
    {
      "cell_type": "markdown",
      "metadata": {
        "id": "view-in-github",
        "colab_type": "text"
      },
      "source": [
        "<a href=\"https://colab.research.google.com/github/LCaravaggio/AnalisisPredictivo/blob/master/Kaggle/Competencia_Kaggle_AP_ITBA.ipynb\" target=\"_parent\"><img src=\"https://colab.research.google.com/assets/colab-badge.svg\" alt=\"Open In Colab\"/></a>"
      ]
    },
    {
      "cell_type": "markdown",
      "metadata": {
        "id": "0k8Hrg3EMFui"
      },
      "source": [
        "Esta Notebook se usó como base de trabajo para la competencia Kaggle del 1er Cuatrimestre de 2021"
      ]
    },
    {
      "cell_type": "code",
      "metadata": {
        "id": "Te3O3Ijul8PZ"
      },
      "source": [
        "# Acá deberían cargar todas las librerías que vayan a usar. \n",
        "# Es preferible cargar las librerías al principio para que quede claro que requerimientos tiene la notebook. \n",
        "# Tengan cuidado de no cargar librerías que no vayan a utilizar ya que esto incurre en un gasto de memoria innecesario\n",
        "\n",
        "import pandas as pd\n",
        "import numpy as np\n",
        "from sklearn.linear_model import LogisticRegression "
      ],
      "execution_count": null,
      "outputs": []
    },
    {
      "cell_type": "code",
      "metadata": {
        "id": "I3ptXMETmNSX"
      },
      "source": [
        "#Levantamos los datos\n",
        "\n",
        "df=pd.read_csv(\"/content/Datos.csv\", sep=\";\")"
      ],
      "execution_count": null,
      "outputs": []
    },
    {
      "cell_type": "code",
      "metadata": {
        "colab": {
          "base_uri": "https://localhost:8080/"
        },
        "id": "d2INFOE3mtOz",
        "outputId": "4ba80101-6de9-4951-8dea-092fbcaa7c5f"
      },
      "source": [
        "# Después deberían hacer un poco de EDA para conocer la base\n",
        "\n",
        "df.shape"
      ],
      "execution_count": null,
      "outputs": [
        {
          "output_type": "execute_result",
          "data": {
            "text/plain": [
              "(8892, 15)"
            ]
          },
          "metadata": {
            "tags": []
          },
          "execution_count": 34
        }
      ]
    },
    {
      "cell_type": "code",
      "metadata": {
        "id": "8NDuDVYXpP0n"
      },
      "source": [
        "# Limpiar la base como lo crean necesario\n",
        "\n",
        "df.dropna(subset = [\"Hours\"], inplace=True)"
      ],
      "execution_count": null,
      "outputs": []
    },
    {
      "cell_type": "code",
      "metadata": {
        "id": "7rVp9CCum-M5"
      },
      "source": [
        "# Elegir un modelo y correrlo\n",
        "# Recuerden que lo que tienen que clasificar es la columna target\n",
        "\n",
        "model=LogisticRegression\n",
        "y=np.array(df['Hours'])\n",
        "clf = LogisticRegression(random_state=0).fit(y.reshape(-1, 1),df['Target'])"
      ],
      "execution_count": null,
      "outputs": []
    },
    {
      "cell_type": "code",
      "metadata": {
        "id": "F3XlmSBBpu-f"
      },
      "source": [
        "# Luego podría corresponder ajustar hiperparámetros, hacer CV, etc..."
      ],
      "execution_count": null,
      "outputs": []
    },
    {
      "cell_type": "code",
      "metadata": {
        "id": "nRkgUeh0p4dl"
      },
      "source": [
        "# Finalmente generar un CSV con los resultados aplicados al CSV de resultados que no contiene la columna target\n",
        "\n",
        "resultados=pd.read_csv(\"/content/Resultados.csv\", sep=\";\")\n",
        "y=np.array(resultados['Hours'])\n",
        "res=clf.predict(y.reshape(-1,1))"
      ],
      "execution_count": null,
      "outputs": []
    },
    {
      "cell_type": "code",
      "metadata": {
        "id": "2JbEO6XQqxs9"
      },
      "source": [
        "salida = pd.DataFrame(data={\"Target\": res}).astype(str)\n",
        "salida.to_csv(\"/content/submission.csv\", sep=',',index=True,  index_label='Id')"
      ],
      "execution_count": null,
      "outputs": []
    }
  ]
}