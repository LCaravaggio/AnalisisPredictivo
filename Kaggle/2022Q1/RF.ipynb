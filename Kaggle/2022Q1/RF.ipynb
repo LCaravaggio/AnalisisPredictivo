{
  "nbformat": 4,
  "nbformat_minor": 0,
  "metadata": {
    "colab": {
      "name": "RF_Kaggle_2 (2).ipynb",
      "provenance": [],
      "collapsed_sections": []
    },
    "kernelspec": {
      "display_name": "Python 3",
      "language": "python",
      "name": "python3"
    },
    "language_info": {
      "codemirror_mode": {
        "name": "ipython",
        "version": 3
      },
      "file_extension": ".py",
      "mimetype": "text/x-python",
      "name": "python",
      "nbconvert_exporter": "python",
      "pygments_lexer": "ipython3",
      "version": "3.7.6"
    }
  },
  "cells": [
    {
      "cell_type": "code",
      "metadata": {
        "id": "Te3O3Ijul8PZ"
      },
      "source": [
        "# Acá deberían cargar todas las librerías que vayan a usar. \n",
        "# Es preferible cargar las librerías al principio para que quede claro que requerimientos tiene la notebook. \n",
        "# Tengan cuidado de no cargar librerías que no vayan a utilizar ya que esto incurre en un gasto de memoria innecesario\n",
        "\n",
        "import pandas as pd\n",
        "import numpy as np\n",
        "\n",
        "from sklearn.ensemble import RandomForestRegressor, ExtraTreesRegressor"
      ],
      "execution_count": 1,
      "outputs": []
    },
    {
      "cell_type": "code",
      "metadata": {
        "id": "cQZfUWFrslRU",
        "colab": {
          "base_uri": "https://localhost:8080/"
        },
        "outputId": "e94adedc-9319-4fd3-814d-31e0b764361e"
      },
      "source": [
        "#Podriamos cargar los datos con la API de Kaggle sin necesidad de bajarlos, o alternativamente subirlos y no correr esta celda\n",
        "\n",
        "import json\n",
        "from google.colab import drive\n",
        "\n",
        "!mkdir ~/.kaggle\n",
        "!touch ~/.kaggle/kaggle.json\n",
        "\n",
        "drive.mount('/content/drive', force_remount=True)\n",
        "with open(\"/content/drive/My Drive/kaggle.json\", 'r') as f:\n",
        "    api_token= json.load(f)\n",
        "\n",
        "with open('/root/.kaggle/kaggle.json', 'w') as file:\n",
        "    json.dump(api_token, file)\n",
        "\n",
        "!chmod 600 ~/.kaggle/kaggle.json\n",
        "\n",
        "!kaggle competitions download -c ap-2022q1\n",
        "\n",
        "\n",
        "import zipfile\n",
        "import os\n",
        "\n",
        "os.listdir()\n",
        "\n",
        "for file in os.listdir():\n",
        "    if file.endswith('.zip'):\n",
        "      zip_ref = zipfile.ZipFile(file, 'r')\n",
        "      zip_ref.extractall()\n",
        "      zip_ref.close()"
      ],
      "execution_count": 2,
      "outputs": [
        {
          "output_type": "stream",
          "name": "stdout",
          "text": [
            "Mounted at /content/drive\n",
            "Warning: Looks like you're using an outdated API Version, please consider updating (server 1.5.12 / client 1.5.4)\n",
            "Downloading base_val.csv.zip to /content\n",
            " 82% 11.0M/13.4M [00:00<00:00, 51.8MB/s]\n",
            "100% 13.4M/13.4M [00:00<00:00, 53.0MB/s]\n",
            "Downloading base_train.csv.zip to /content\n",
            " 99% 58.0M/58.4M [00:00<00:00, 118MB/s]\n",
            "100% 58.4M/58.4M [00:00<00:00, 148MB/s]\n"
          ]
        }
      ]
    },
    {
      "cell_type": "code",
      "metadata": {
        "id": "I3ptXMETmNSX"
      },
      "source": [
        "#Levantamos los datos (si los tenemos local y no corrimos la celda anterior, habría que subirlos)\n",
        "\n",
        "df_train=pd.read_csv(\"base_train.csv\", sep=\",\")\n",
        "df_test=pd.read_csv(\"base_val.csv\", sep=\",\")"
      ],
      "execution_count": 3,
      "outputs": []
    },
    {
      "cell_type": "code",
      "metadata": {
        "colab": {
          "base_uri": "https://localhost:8080/"
        },
        "id": "d2INFOE3mtOz",
        "outputId": "466622aa-b6b4-4abd-b3a9-213d1ef12dc1"
      },
      "source": [
        "# Después deberían hacer un poco de EDA para conocer la base\n",
        "df_train.columns"
      ],
      "execution_count": 4,
      "outputs": [
        {
          "output_type": "execute_result",
          "data": {
            "text/plain": [
              "Index(['Unnamed: 0', 'symboling', 'normalized-losses', 'wheel-base', 'length',\n",
              "       'width', 'height', 'curb-weight', 'engine-size', 'bore', 'stroke',\n",
              "       'compression-ratio', 'horsepower', 'peak-rpm', 'city-mpg',\n",
              "       'highway-mpg', 'price'],\n",
              "      dtype='object')"
            ]
          },
          "metadata": {},
          "execution_count": 4
        }
      ]
    },
    {
      "cell_type": "code",
      "metadata": {
        "colab": {
          "base_uri": "https://localhost:8080/"
        },
        "id": "YWrGTGNxgxig",
        "outputId": "3ecb7f5c-c48e-4d6e-e5e6-1fab37d64e77"
      },
      "source": [
        "df_train.shape"
      ],
      "execution_count": 5,
      "outputs": [
        {
          "output_type": "execute_result",
          "data": {
            "text/plain": [
              "(800000, 17)"
            ]
          },
          "metadata": {},
          "execution_count": 5
        }
      ]
    },
    {
      "cell_type": "code",
      "metadata": {
        "colab": {
          "base_uri": "https://localhost:8080/"
        },
        "id": "VF-bwcVSCpC4",
        "outputId": "2458ecf6-202c-4ae3-b59d-20f70fb494e9"
      },
      "source": [
        "df_train.info()"
      ],
      "execution_count": 6,
      "outputs": [
        {
          "output_type": "stream",
          "name": "stdout",
          "text": [
            "<class 'pandas.core.frame.DataFrame'>\n",
            "RangeIndex: 800000 entries, 0 to 799999\n",
            "Data columns (total 17 columns):\n",
            " #   Column             Non-Null Count   Dtype  \n",
            "---  ------             --------------   -----  \n",
            " 0   Unnamed: 0         800000 non-null  int64  \n",
            " 1   symboling          800000 non-null  int64  \n",
            " 2   normalized-losses  800000 non-null  float64\n",
            " 3   wheel-base         800000 non-null  float64\n",
            " 4   length             800000 non-null  float64\n",
            " 5   width              800000 non-null  float64\n",
            " 6   height             800000 non-null  float64\n",
            " 7   curb-weight        800000 non-null  float64\n",
            " 8   engine-size        800000 non-null  float64\n",
            " 9   bore               800000 non-null  float64\n",
            " 10  stroke             800000 non-null  float64\n",
            " 11  compression-ratio  800000 non-null  float64\n",
            " 12  horsepower         800000 non-null  float64\n",
            " 13  peak-rpm           800000 non-null  float64\n",
            " 14  city-mpg           800000 non-null  float64\n",
            " 15  highway-mpg        800000 non-null  float64\n",
            " 16  price              800000 non-null  float64\n",
            "dtypes: float64(15), int64(2)\n",
            "memory usage: 103.8 MB\n"
          ]
        }
      ]
    },
    {
      "cell_type": "code",
      "metadata": {
        "id": "ibjz7Czzr6LO"
      },
      "source": [
        "#Elimino los NA de las variables continuas\n",
        "\n",
        "contin_vars = ['normalized-losses', 'wheel-base', 'length',\n",
        "       'width', 'height', 'curb-weight', 'engine-size', 'bore', 'stroke',\n",
        "       'compression-ratio', 'horsepower', 'peak-rpm', 'city-mpg',\n",
        "       'highway-mpg', 'price']\n",
        "for v in contin_vars: df_train.loc[df_train[v].isnull(), v] = 0\n",
        "for v in contin_vars: df_train.loc[(df_train[v].isna()), v] = 0"
      ],
      "execution_count": 8,
      "outputs": []
    },
    {
      "cell_type": "code",
      "metadata": {
        "id": "7rVp9CCum-M5"
      },
      "source": [
        "# Elegir un modelo y correrlo\n",
        "# Recuerden que lo que tienen que predecir es la columna averageRating\n",
        "reg=RandomForestRegressor(min_samples_split=55, n_estimators=50)\n",
        "\n",
        "Xs = ['normalized-losses', 'wheel-base', 'length',\n",
        "       'width', 'height', 'curb-weight', 'engine-size', 'bore', 'stroke',\n",
        "       'compression-ratio', 'horsepower', 'peak-rpm', 'city-mpg',\n",
        "       'highway-mpg']\n",
        "\n",
        "X=np.array(df_train[Xs])\n",
        "\n",
        "y=df_train['price']\n",
        "\n",
        "res=reg.fit(X, y)"
      ],
      "execution_count": 9,
      "outputs": []
    },
    {
      "cell_type": "code",
      "metadata": {
        "colab": {
          "base_uri": "https://localhost:8080/"
        },
        "id": "mrb26ucOtFEh",
        "outputId": "8cffd996-8424-4803-9acd-714f58962937"
      },
      "source": [
        "res.score(X,y)"
      ],
      "execution_count": 10,
      "outputs": [
        {
          "output_type": "execute_result",
          "data": {
            "text/plain": [
              "0.7535115579754372"
            ]
          },
          "metadata": {},
          "execution_count": 10
        }
      ]
    },
    {
      "cell_type": "code",
      "metadata": {
        "id": "F3XlmSBBpu-f"
      },
      "source": [
        "# Luego podría corresponder ajustar hiperparámetros, hacer CV, etc..."
      ],
      "execution_count": 11,
      "outputs": []
    },
    {
      "cell_type": "code",
      "source": [
        "X=np.array(df_test[Xs])"
      ],
      "metadata": {
        "id": "3xkoq5ypWabs"
      },
      "execution_count": 36,
      "outputs": []
    },
    {
      "cell_type": "code",
      "source": [
        "resultado=reg.predict(X)"
      ],
      "metadata": {
        "id": "bfGR5ToVVcaE"
      },
      "execution_count": 37,
      "outputs": []
    },
    {
      "cell_type": "code",
      "metadata": {
        "id": "2JbEO6XQqxs9"
      },
      "source": [
        "# Finalmente generar un CSV con los resultados aplicados al CSV de resultados que no contiene la columna target\n",
        "\n",
        "salida = pd.DataFrame(data={\"price\": resultado}).astype(str)\n",
        "salida.index = df_test.index + 800000\n",
        "salida.to_csv(\"RF.csv\", sep=',',index=True,  index_label='id')"
      ],
      "execution_count": 41,
      "outputs": []
    }
  ]
}
