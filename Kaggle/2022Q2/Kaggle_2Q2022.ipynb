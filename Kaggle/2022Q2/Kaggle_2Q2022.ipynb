{
  "nbformat": 4,
  "nbformat_minor": 0,
  "metadata": {
    "colab": {
      "provenance": [],
      "authorship_tag": "ABX9TyMsJ32D0XMgoS58UIVh/meI",
      "include_colab_link": true
    },
    "kernelspec": {
      "name": "python3",
      "display_name": "Python 3"
    },
    "language_info": {
      "name": "python"
    }
  },
  "cells": [
    {
      "cell_type": "markdown",
      "metadata": {
        "id": "view-in-github",
        "colab_type": "text"
      },
      "source": [
        "<a href=\"https://colab.research.google.com/github/LCaravaggio/AnalisisPredictivo/blob/master/Kaggle/2022Q2/Kaggle_2Q2022.ipynb\" target=\"_parent\"><img src=\"https://colab.research.google.com/assets/colab-badge.svg\" alt=\"Open In Colab\"/></a>"
      ]
    },
    {
      "cell_type": "markdown",
      "source": [
        "# Carga de datos"
      ],
      "metadata": {
        "id": "Ofqdcs87oYOA"
      }
    },
    {
      "cell_type": "code",
      "execution_count": 1,
      "metadata": {
        "id": "ncbH2y8VltlI"
      },
      "outputs": [],
      "source": [
        "import pandas as pd\n",
        "import numpy as np\n",
        "\n",
        "from sklearn.linear_model import LinearRegression"
      ]
    },
    {
      "cell_type": "code",
      "source": [
        "import json\n",
        "from google.colab import drive\n",
        "\n",
        "!mkdir ~/.kaggle\n",
        "!touch ~/.kaggle/kaggle.json\n",
        "\n",
        "drive.mount('/content/drive', force_remount=True)\n",
        "with open(\"/content/drive/My Drive/kaggle.json\", 'r') as f:\n",
        "    api_token= json.load(f)\n",
        "\n",
        "with open('/root/.kaggle/kaggle.json', 'w') as file:\n",
        "    json.dump(api_token, file)\n",
        "\n",
        "!chmod 600 ~/.kaggle/kaggle.json\n",
        "\n",
        "!kaggle competitions download -c ap-tp2-2q2022\n",
        "\n",
        "\n",
        "import zipfile\n",
        "import os\n",
        "\n",
        "os.listdir()\n",
        "\n",
        "for file in os.listdir():\n",
        "    if file.endswith('.zip'):\n",
        "      zip_ref = zipfile.ZipFile(file, 'r')\n",
        "      zip_ref.extractall()\n",
        "      zip_ref.close()"
      ],
      "metadata": {
        "colab": {
          "base_uri": "https://localhost:8080/"
        },
        "id": "Xp_QscholwOQ",
        "outputId": "a21d2b84-249f-43de-a421-7bfc8df0453f"
      },
      "execution_count": 3,
      "outputs": [
        {
          "output_type": "stream",
          "name": "stdout",
          "text": [
            "mkdir: cannot create directory ‘/root/.kaggle’: File exists\n",
            "Mounted at /content/drive\n",
            "Downloading ap-tp2-2q2022.zip to /content\n",
            "100% 51.3M/51.3M [00:00<00:00, 84.1MB/s]\n",
            "100% 51.3M/51.3M [00:00<00:00, 71.4MB/s]\n"
          ]
        }
      ]
    },
    {
      "cell_type": "code",
      "source": [
        "db=pd.read_csv(\"origen.csv\", sep=\",\")"
      ],
      "metadata": {
        "id": "gwZPvq1nmP1-"
      },
      "execution_count": 4,
      "outputs": []
    },
    {
      "cell_type": "code",
      "source": [
        "db.columns"
      ],
      "metadata": {
        "id": "HirC8iXN9J9E",
        "outputId": "208df3f8-aa57-4742-8904-edfb8861a160",
        "colab": {
          "base_uri": "https://localhost:8080/"
        }
      },
      "execution_count": 6,
      "outputs": [
        {
          "output_type": "execute_result",
          "data": {
            "text/plain": [
              "Index(['Id', 'averageRating', 'numVotes', 'titleType', 'isAdult', 'startYear',\n",
              "       'endYear', 'runtimeMinutes', 'genres_x', 'directors', 'writers',\n",
              "       'seasonNumber', 'episodeNumber', 'ordering', 'language', 'attributes',\n",
              "       'isOriginalTitle', 'adult', 'budget', 'genres_y', 'original_language',\n",
              "       'overview', 'popularity', 'production_companies',\n",
              "       'production_countries', 'release_date', 'revenue', 'runtime', 'status',\n",
              "       'tagline', 'video'],\n",
              "      dtype='object')"
            ]
          },
          "metadata": {},
          "execution_count": 6
        }
      ]
    },
    {
      "cell_type": "markdown",
      "source": [
        "# Regresión lineal"
      ],
      "metadata": {
        "id": "TKdJEjwSocG0"
      }
    },
    {
      "cell_type": "code",
      "source": [
        "X=['numVotes','startYear','runtimeMinutes']"
      ],
      "metadata": {
        "id": "hfNQyK9nmVNS"
      },
      "execution_count": 7,
      "outputs": []
    },
    {
      "cell_type": "code",
      "source": [
        "reg = LinearRegression().fit(db[X], db['averageRating'])\n",
        "reg.score(db[X], db['averageRating'])"
      ],
      "metadata": {
        "colab": {
          "base_uri": "https://localhost:8080/"
        },
        "id": "GYo2NA_hm3h5",
        "outputId": "bbca172e-0850-4c72-abba-8bfcf513fb3f"
      },
      "execution_count": 8,
      "outputs": [
        {
          "output_type": "execute_result",
          "data": {
            "text/plain": [
              "0.024976875345017358"
            ]
          },
          "metadata": {},
          "execution_count": 8
        }
      ]
    },
    {
      "cell_type": "markdown",
      "source": [
        "# Salida"
      ],
      "metadata": {
        "id": "s3zV2fcKofZz"
      }
    },
    {
      "cell_type": "code",
      "source": [
        "res=pd.read_csv(\"testear.csv\", sep=\",\")"
      ],
      "metadata": {
        "id": "HDt0yNuTnPw7"
      },
      "execution_count": 9,
      "outputs": []
    },
    {
      "cell_type": "code",
      "source": [
        "resultado=reg.predict(res[X])"
      ],
      "metadata": {
        "id": "qae389TKnNna"
      },
      "execution_count": 10,
      "outputs": []
    },
    {
      "cell_type": "code",
      "source": [
        "salida = pd.DataFrame(data={\"averageRating\": resultado}).astype(str)\n",
        "salida.index = res.Id\n",
        "salida.to_csv(\"Linear_Reg.csv\", sep=',',index=True,  index_label='Id')"
      ],
      "metadata": {
        "id": "XqM1xyoxnda5"
      },
      "execution_count": 11,
      "outputs": []
    },
    {
      "cell_type": "markdown",
      "source": [
        "# Extra Trees"
      ],
      "metadata": {
        "id": "BN0gS3pRohL7"
      }
    },
    {
      "cell_type": "code",
      "source": [
        "from sklearn.ensemble import ExtraTreesRegressor"
      ],
      "metadata": {
        "id": "beppszXaoj2E"
      },
      "execution_count": 12,
      "outputs": []
    },
    {
      "cell_type": "code",
      "source": [
        "reg = ExtraTreesRegressor().fit(db[X], db['averageRating'])\n",
        "reg.score(db[X], db['averageRating'])"
      ],
      "metadata": {
        "colab": {
          "base_uri": "https://localhost:8080/"
        },
        "id": "ZqdIRbDVomUJ",
        "outputId": "23e9e69a-92bc-4107-c414-5b609aa66d53"
      },
      "execution_count": 13,
      "outputs": [
        {
          "output_type": "execute_result",
          "data": {
            "text/plain": [
              "0.5067633418019462"
            ]
          },
          "metadata": {},
          "execution_count": 13
        }
      ]
    },
    {
      "cell_type": "markdown",
      "source": [
        "# Train Test Split"
      ],
      "metadata": {
        "id": "uNqlPN1qqI-h"
      }
    },
    {
      "cell_type": "code",
      "source": [
        "from sklearn.model_selection import train_test_split"
      ],
      "metadata": {
        "id": "jEGreydjqIPw"
      },
      "execution_count": 14,
      "outputs": []
    },
    {
      "cell_type": "code",
      "source": [
        "X_train, X_test, y_train, y_test = train_test_split(db[X], db['averageRating'], test_size=0.2, random_state=10)"
      ],
      "metadata": {
        "id": "zvr-P2FOqOwo"
      },
      "execution_count": 15,
      "outputs": []
    },
    {
      "cell_type": "code",
      "source": [
        "reg = ExtraTreesRegressor().fit(X_train, y_train)\n",
        "reg.score(X_test,  y_test)"
      ],
      "metadata": {
        "colab": {
          "base_uri": "https://localhost:8080/"
        },
        "id": "AYNU7YOrqbtD",
        "outputId": "253d3c2e-dfc6-4875-a9e8-717b4108bba4"
      },
      "execution_count": 16,
      "outputs": [
        {
          "output_type": "execute_result",
          "data": {
            "text/plain": [
              "0.06332556847731052"
            ]
          },
          "metadata": {},
          "execution_count": 16
        }
      ]
    },
    {
      "cell_type": "markdown",
      "source": [
        "# Regularizar"
      ],
      "metadata": {
        "id": "G6uqHc_lrQzi"
      }
    },
    {
      "cell_type": "code",
      "source": [
        "reg = ExtraTreesRegressor(max_depth=20).fit(X_train, y_train)\n",
        "reg.score(X_test,  y_test)"
      ],
      "metadata": {
        "colab": {
          "base_uri": "https://localhost:8080/"
        },
        "id": "N3Ha4qUXrSPe",
        "outputId": "ac7dc2b0-6c2e-4ce6-d9eb-bd6adc28a0c2"
      },
      "execution_count": 17,
      "outputs": [
        {
          "output_type": "execute_result",
          "data": {
            "text/plain": [
              "0.16308167729176037"
            ]
          },
          "metadata": {},
          "execution_count": 17
        }
      ]
    },
    {
      "cell_type": "markdown",
      "source": [
        "¿Qué sigue? ¿Cómo mejorar? \n",
        "\n",
        "- Hicimos una regularización y el modelo mejoró, pero eso no quiere decir que el modelo esté optimizado. Habría que seguir probando, incluso convendría hacerlo por [Cross Validation](https://scikit-learn.org/stable/modules/cross_validation.html). \n",
        "- Solo regularizamos con max_depth. [Extra Trees](https://scikit-learn.org/stable/modules/generated/sklearn.ensemble.ExtraTreesClassifier.html) tiene otros hiperparámetros que podrían mejorar la performance. Conocer los modelos ayuda a tener mejor intuición de que es lo que puede pasar al tocar cada hiperparámetro, pero nada me garantiza resultados: hay que probar. \n",
        "- Probar a mano (grid o random search) puede llevar mucho tiempo. Por eso existen técnicas, como por ejemplo la [optimización bayesiana](https://towardsdatascience.com/automated-machine-learning-hyperparameter-tuning-in-python-dfda59b72f8a). \n",
        "- Probamos con Extra Trees que es uno de los modelos que mejor funcionan. Sin embargo, hay muchos otros. Casi con seguridad [Catboost](https://catboost.ai/) y [XGBoost](https://xgboost.readthedocs.io/en/stable/) funcionan mejor. Hay que probarlos. \n",
        "- Todavía el data set tiene mucha información para incorporar. ¡Estamos usando solo tres features! Hay que limpiar e incorporar las demás. Por más que usemos el mejor modelo y esté optimizado de la mejor manera, tal vez con solo tres features no logremos pasar el 0.20 en testeo. \n",
        "- Hay que hacer EDA, Data Wrangling, Data Discovery. \n",
        "- ¿Por qué limitarse a los datos que se presentan? Por ejemplo, tal vez los directores más jóvenes tienen mejor rating. ¿Cómo puedo incorporar esa información? \n",
        "- También puedo forzar relaciones entre las features, especialmente si creo que pueden tener un significado para la explicación de los datos. Esto es parte de lo que se conoce como [feature engineering](https://www.projectpro.io/article/8-feature-engineering-techniques-for-machine-learning/423). \n",
        "- En esta línea podría ayudar alguna técnia de [reducción de la dimensionalidad](https://wikipedia.org/en/Dimensionality_reduction). O [Shapley Values](https://towardsdatascience.com/the-shapley-value-for-ml-models-f1100bff78d1), [PDP](https://christophm.github.io/interpretable-ml-book/pdp.html), [Ale Plots](https://christophm.github.io/interpretable-ml-book/ale.html), etc. \n",
        "- Una vez que tengamos un score de testeo que nos satisfaga, todavía tenemos que ir al Kaggle y hacer la submission. Llegar a un 0.35 en testeo no implica necesariamente que en la competencia obtengamos ese resultado. Especialmente si enviciamos el modelo con mucha cross validation mal hecha. "
      ],
      "metadata": {
        "id": "sYbh6nyFr7Ev"
      }
    }
  ]
}