{
  "nbformat": 4,
  "nbformat_minor": 0,
  "metadata": {
    "colab": {
      "provenance": [],
      "authorship_tag": "ABX9TyMLks/duJK8bZ8KHzDIv0sq",
      "include_colab_link": true
    },
    "kernelspec": {
      "name": "python3",
      "display_name": "Python 3"
    },
    "language_info": {
      "name": "python"
    }
  },
  "cells": [
    {
      "cell_type": "markdown",
      "metadata": {
        "id": "view-in-github",
        "colab_type": "text"
      },
      "source": [
        "<a href=\"https://colab.research.google.com/github/LCaravaggio/AnalisisPredictivo/blob/master/Kaggle/2022Q2/Kaggle_2Q2022.ipynb\" target=\"_parent\"><img src=\"https://colab.research.google.com/assets/colab-badge.svg\" alt=\"Open In Colab\"/></a>"
      ]
    },
    {
      "cell_type": "markdown",
      "source": [
        "# Carga de datos"
      ],
      "metadata": {
        "id": "Ofqdcs87oYOA"
      }
    },
    {
      "cell_type": "code",
      "execution_count": 6,
      "metadata": {
        "id": "ncbH2y8VltlI"
      },
      "outputs": [],
      "source": [
        "import pandas as pd\n",
        "import numpy as np\n",
        "\n",
        "from sklearn.linear_model import LinearRegression"
      ]
    },
    {
      "cell_type": "code",
      "source": [
        "import json\n",
        "from google.colab import drive\n",
        "\n",
        "!mkdir ~/.kaggle\n",
        "!touch ~/.kaggle/kaggle.json\n",
        "\n",
        "drive.mount('/content/drive', force_remount=True)\n",
        "with open(\"/content/drive/My Drive/kaggle.json\", 'r') as f:\n",
        "    api_token= json.load(f)\n",
        "\n",
        "with open('/root/.kaggle/kaggle.json', 'w') as file:\n",
        "    json.dump(api_token, file)\n",
        "\n",
        "!chmod 600 ~/.kaggle/kaggle.json\n",
        "\n",
        "!kaggle competitions download -c ap-tp2-2q2022\n",
        "\n",
        "\n",
        "import zipfile\n",
        "import os\n",
        "\n",
        "os.listdir()\n",
        "\n",
        "for file in os.listdir():\n",
        "    if file.endswith('.zip'):\n",
        "      zip_ref = zipfile.ZipFile(file, 'r')\n",
        "      zip_ref.extractall()\n",
        "      zip_ref.close()"
      ],
      "metadata": {
        "colab": {
          "base_uri": "https://localhost:8080/"
        },
        "id": "Xp_QscholwOQ",
        "outputId": "23244f5a-4766-4b52-e104-e1d46ae64a88"
      },
      "execution_count": 2,
      "outputs": [
        {
          "output_type": "stream",
          "name": "stdout",
          "text": [
            "Mounted at /content/drive\n",
            "Downloading ap-tp2-2q2022.zip to /content\n",
            " 96% 49.0M/51.3M [00:01<00:00, 37.7MB/s]\n",
            "100% 51.3M/51.3M [00:01<00:00, 36.8MB/s]\n"
          ]
        }
      ]
    },
    {
      "cell_type": "code",
      "source": [
        "db=pd.read_csv(\"origen.csv\", sep=\",\")"
      ],
      "metadata": {
        "id": "gwZPvq1nmP1-"
      },
      "execution_count": 19,
      "outputs": []
    },
    {
      "cell_type": "markdown",
      "source": [
        "# Regresión lineal"
      ],
      "metadata": {
        "id": "TKdJEjwSocG0"
      }
    },
    {
      "cell_type": "code",
      "source": [
        "X=['numVotes','startYear','runtimeMinutes']"
      ],
      "metadata": {
        "id": "hfNQyK9nmVNS"
      },
      "execution_count": 5,
      "outputs": []
    },
    {
      "cell_type": "code",
      "source": [
        "reg = LinearRegression().fit(db[X], db['averageRating'])\n",
        "reg.score(db[X], db['averageRating'])"
      ],
      "metadata": {
        "colab": {
          "base_uri": "https://localhost:8080/"
        },
        "id": "GYo2NA_hm3h5",
        "outputId": "95f72e53-3ac4-4475-9891-8f99772cba68"
      },
      "execution_count": 9,
      "outputs": [
        {
          "output_type": "execute_result",
          "data": {
            "text/plain": [
              "0.024976875345017358"
            ]
          },
          "metadata": {},
          "execution_count": 9
        }
      ]
    },
    {
      "cell_type": "markdown",
      "source": [
        "# Salida"
      ],
      "metadata": {
        "id": "s3zV2fcKofZz"
      }
    },
    {
      "cell_type": "code",
      "source": [
        "res=pd.read_csv(\"testear.csv\", sep=\",\")"
      ],
      "metadata": {
        "id": "HDt0yNuTnPw7"
      },
      "execution_count": 11,
      "outputs": []
    },
    {
      "cell_type": "code",
      "source": [
        "resultado=reg.predict(res[X])"
      ],
      "metadata": {
        "id": "qae389TKnNna"
      },
      "execution_count": 12,
      "outputs": []
    },
    {
      "cell_type": "code",
      "source": [
        "salida = pd.DataFrame(data={\"averageRating\": resultado}).astype(str)\n",
        "salida.index = res.Id\n",
        "salida.to_csv(\"Linear_Reg.csv\", sep=',',index=True,  index_label='Id')"
      ],
      "metadata": {
        "id": "XqM1xyoxnda5"
      },
      "execution_count": 16,
      "outputs": []
    },
    {
      "cell_type": "markdown",
      "source": [
        "# Extra Trees"
      ],
      "metadata": {
        "id": "BN0gS3pRohL7"
      }
    },
    {
      "cell_type": "code",
      "source": [
        "from sklearn.ensemble import ExtraTreesRegressor"
      ],
      "metadata": {
        "id": "beppszXaoj2E"
      },
      "execution_count": 17,
      "outputs": []
    },
    {
      "cell_type": "code",
      "source": [
        "reg = ExtraTreesRegressor().fit(db[X], db['averageRating'])\n",
        "reg.score(db[X], db['averageRating'])"
      ],
      "metadata": {
        "colab": {
          "base_uri": "https://localhost:8080/"
        },
        "id": "ZqdIRbDVomUJ",
        "outputId": "611ba6fe-5236-459e-d924-3cde9165a368"
      },
      "execution_count": 20,
      "outputs": [
        {
          "output_type": "execute_result",
          "data": {
            "text/plain": [
              "0.506763341745001"
            ]
          },
          "metadata": {},
          "execution_count": 20
        }
      ]
    },
    {
      "cell_type": "markdown",
      "source": [
        "# Train Test Split"
      ],
      "metadata": {
        "id": "uNqlPN1qqI-h"
      }
    },
    {
      "cell_type": "code",
      "source": [
        "from sklearn.model_selection import train_test_split"
      ],
      "metadata": {
        "id": "jEGreydjqIPw"
      },
      "execution_count": 21,
      "outputs": []
    },
    {
      "cell_type": "code",
      "source": [
        "X_train, X_test, y_train, y_test = train_test_split(db[X], db['averageRating'], test_size=0.2, random_state=10)"
      ],
      "metadata": {
        "id": "zvr-P2FOqOwo"
      },
      "execution_count": 22,
      "outputs": []
    },
    {
      "cell_type": "code",
      "source": [
        "reg = ExtraTreesRegressor().fit(X_train, y_train)\n",
        "reg.score(X_test,  y_test)"
      ],
      "metadata": {
        "colab": {
          "base_uri": "https://localhost:8080/"
        },
        "id": "AYNU7YOrqbtD",
        "outputId": "cf4809cb-0841-45ba-958e-031e850b36aa"
      },
      "execution_count": 23,
      "outputs": [
        {
          "output_type": "execute_result",
          "data": {
            "text/plain": [
              "0.062153643265038805"
            ]
          },
          "metadata": {},
          "execution_count": 23
        }
      ]
    },
    {
      "cell_type": "markdown",
      "source": [
        "# Regularizar"
      ],
      "metadata": {
        "id": "G6uqHc_lrQzi"
      }
    },
    {
      "cell_type": "code",
      "source": [
        "reg = ExtraTreesRegressor(max_depth=20).fit(X_train, y_train)\n",
        "reg.score(X_test,  y_test)"
      ],
      "metadata": {
        "colab": {
          "base_uri": "https://localhost:8080/"
        },
        "id": "N3Ha4qUXrSPe",
        "outputId": "28a79531-5ba0-49a3-890b-bdb4f2ff036b"
      },
      "execution_count": 24,
      "outputs": [
        {
          "output_type": "execute_result",
          "data": {
            "text/plain": [
              "0.1578344590844627"
            ]
          },
          "metadata": {},
          "execution_count": 24
        }
      ]
    },
    {
      "cell_type": "markdown",
      "source": [
        "¿Qué sigue? ¿Cómo mejorar? \n",
        "\n",
        "- Hicimos una regularización y el modelo mejoró, pero eso no quiere decir que el modelo esté optimizado. Habría que seguir probando, incluso convendría hacerlo por Cross Validation. \n",
        "- Solo regularizamos con max_depth. Extra Trees tiene otros hiperparámetros que podrían mejorar la performance. Conocer los modelos ayuda a tener mejor intuición de que es lo que puede pasar al tocar cada hiperparámetro, pero nada me garantiza resultados: hay que probar. \n",
        "- Probamos con Extra Trees que es uno de los modelos que mejor funcionan. Sin embargo, hay muchos otros. Casi con seguridad Catboost y XGBoost funcionan mejor. Hay que probarlos. \n",
        "- Todavía el data set tiene mucha información para incorporar. ¡Estamos usando solo tres features! Hay que limpiar e incorporar las demás. Por más que usemos el mejor modelo y esté optimizado de la mejor manera, tal vez con solo tres features no logremos pasar el 0.20 en testeo. \n",
        "- Cuidado con el paso anterior, porque incorporar información tiene un efecto de mejora del ajuste, lo que puede llevarnos nuevamente a overfittear. \n",
        "- Una vez que tengamos un score de testeo que nos satisfaga, todavía tenemos que ir al Kaggle y hacer la submission. Llegar a un 0.35 en testeo no implica necesariamente que en la competencia obtengamos ese resultado. Especialmente si enviciamos el modelo con mucha cross validation mal hecha. "
      ],
      "metadata": {
        "id": "sYbh6nyFr7Ev"
      }
    }
  ]
}