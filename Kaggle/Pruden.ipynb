{
  "nbformat": 4,
  "nbformat_minor": 0,
  "metadata": {
    "colab": {
      "name": "2do Parcial.ipynb",
      "provenance": [],
      "collapsed_sections": [
        "rguLCij96AoA",
        "ANmc35f1YzCB",
        "FLF0JMcQLSUF",
        "vepON8xgJHtA",
        "5Gq_6pmEJKHJ",
        "v22q-4N-JWWR",
        "hPZ8S_trJkWu",
        "o9-ZkCdGOO_d",
        "BDvadWPTAcpC",
        "JI2lT8j5B48D",
        "m_CC8uYjyILJ",
        "Zc55jNRsEI27",
        "hzkLUru6X5Pw",
        "Kr1C4as0YDt7",
        "Ju-3jaUxX8mk",
        "qzCWpfGvr76A",
        "ApVps_s63wMv",
        "83Fkg7CA76i2",
        "nBiAq2lCA4gC",
        "vbsVP8_68V5O"
      ]
    },
    "kernelspec": {
      "name": "python3",
      "display_name": "Python 3"
    },
    "language_info": {
      "name": "python"
    }
  },
  "cells": [
    {
      "cell_type": "code",
      "metadata": {
        "colab": {
          "resources": {
            "http://localhost:8080/nbextensions/google.colab/files.js": {
              "data": "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",
              "ok": true,
              "headers": [
                [
                  "content-type",
                  "application/javascript"
                ]
              ],
              "status": 200,
              "status_text": ""
            }
          },
          "base_uri": "https://localhost:8080/",
          "height": 91
        },
        "id": "_Elaor-EHunO",
        "outputId": "58992257-81be-4df2-f4fa-9cd40ef147d2"
      },
      "source": [
        "from google.colab import files\n",
        "files.upload()"
      ],
      "execution_count": 142,
      "outputs": [
        {
          "output_type": "display_data",
          "data": {
            "text/html": [
              "\n",
              "     <input type=\"file\" id=\"files-7beb34d5-efda-43bd-8750-9a6db051579b\" name=\"files[]\" multiple disabled\n",
              "        style=\"border:none\" />\n",
              "     <output id=\"result-7beb34d5-efda-43bd-8750-9a6db051579b\">\n",
              "      Upload widget is only available when the cell has been executed in the\n",
              "      current browser session. Please rerun this cell to enable.\n",
              "      </output>\n",
              "      <script src=\"/nbextensions/google.colab/files.js\"></script> "
            ],
            "text/plain": [
              "<IPython.core.display.HTML object>"
            ]
          },
          "metadata": {}
        },
        {
          "output_type": "stream",
          "name": "stdout",
          "text": [
            "Saving kaggle.json to kaggle (1).json\n"
          ]
        },
        {
          "output_type": "execute_result",
          "data": {
            "text/plain": [
              "{'kaggle.json': b'{\"username\":\"valentinapruden\",\"key\":\"744a0251a854ea2b1c75286c77b4d8fd\"}'}"
            ]
          },
          "metadata": {},
          "execution_count": 142
        }
      ]
    },
    {
      "cell_type": "markdown",
      "metadata": {
        "id": "rguLCij96AoA"
      },
      "source": [
        "##Instalación inicial"
      ]
    },
    {
      "cell_type": "code",
      "metadata": {
        "id": "hsjGApgHH-K4"
      },
      "source": [
        "# Instalar la librería de Kaggle\n",
        "!pip install -q kaggle"
      ],
      "execution_count": 143,
      "outputs": []
    },
    {
      "cell_type": "code",
      "metadata": {
        "id": "x25FNtpTICYa",
        "colab": {
          "base_uri": "https://localhost:8080/"
        },
        "outputId": "b0be7b2a-eded-4483-ad8d-9e97dad4da1b"
      },
      "source": [
        "# Crear un directorio temporal y almacenar allí el archivo con las keys de \n",
        "# Kaggle\n",
        "!mkdir -p ~/.kaggle \n",
        "!cp kaggle.json ~/.kaggle/\n",
        "!ls ~/.kaggle\n",
        "!chmod 600 /root/.kaggle/kaggle.json"
      ],
      "execution_count": 144,
      "outputs": [
        {
          "output_type": "stream",
          "name": "stdout",
          "text": [
            "kaggle.json\n"
          ]
        }
      ]
    },
    {
      "cell_type": "code",
      "metadata": {
        "id": "MR291CQ6IEL4",
        "colab": {
          "base_uri": "https://localhost:8080/"
        },
        "outputId": "e1868c5c-35fa-4c66-a08b-c20d89371fe3"
      },
      "source": [
        "# Verificar que la API key funciona correctamente listando los kernels de \n",
        "# nuestro usuario.\n",
        "!kaggle kernels list --user valentinapruden --sort-by dateRun\n",
        "!kaggle competitions download -c examen-2-ap-itba"
      ],
      "execution_count": 145,
      "outputs": [
        {
          "output_type": "stream",
          "name": "stdout",
          "text": [
            "Warning: Looks like you're using an outdated API Version, please consider updating (server 1.5.12 / client 1.5.4)\n",
            "ref                                                         title                                        author            lastRunTime          totalVotes  \n",
            "----------------------------------------------------------  -------------------------------------------  ----------------  -------------------  ----------  \n",
            "valentinapruden/notebookc998cff4cb                          notebookc998cff4cb                           Valentina Pruden  2021-10-23 17:01:40           0  \n",
            "valentinapruden/exercise-parsing-dates                      Exercise: Parsing Dates                      Valentina Pruden  2021-04-06 16:23:55           0  \n",
            "valentinapruden/exercise-scaling-and-normalization          Exercise: Scaling and Normalization          Valentina Pruden  2021-04-01 17:25:50           0  \n",
            "valentinapruden/exercise-handling-missing-values            Exercise: Handling Missing Values            Valentina Pruden  2021-04-01 16:46:07           0  \n",
            "valentinapruden/exercise-hello-seaborn                      Exercise: Hello, Seaborn                     Valentina Pruden  2020-11-05 21:42:22           0  \n",
            "valentinapruden/competencia                                 Competencia                                  Valentina Pruden  2020-05-22 16:42:41           0  \n",
            "valentinapruden/exercise-underfitting-and-overfitting       Exercise: Underfitting and Overfitting       Valentina Pruden  2020-05-22 16:19:44           0  \n",
            "valentinapruden/exercise-model-validation                   Exercise: Model Validation                   Valentina Pruden  2020-05-21 20:33:46           0  \n",
            "valentinapruden/exercise-your-first-machine-learning-model  Exercise: Your First Machine Learning Model  Valentina Pruden  2020-05-21 20:00:42           0  \n",
            "valentinapruden/exercise-explore-your-data                  Exercise: Explore Your Data                  Valentina Pruden  2020-05-21 18:11:14           0  \n",
            "Warning: Looks like you're using an outdated API Version, please consider updating (server 1.5.12 / client 1.5.4)\n",
            "resultados.csv.zip: Skipping, found more recently modified local copy (use --force to force download)\n",
            "datos.csv.zip: Skipping, found more recently modified local copy (use --force to force download)\n"
          ]
        }
      ]
    },
    {
      "cell_type": "markdown",
      "metadata": {
        "id": "y7T_XIL3YurE"
      },
      "source": [
        "##Carga de datos"
      ]
    },
    {
      "cell_type": "code",
      "metadata": {
        "colab": {
          "base_uri": "https://localhost:8080/"
        },
        "id": "aNOrb7NQIGLo",
        "outputId": "257e7900-b0e7-45e1-87d5-cc1af04ec0e7"
      },
      "source": [
        "# Verificar que tenemos el dataset \n",
        "!ls datos.csv.zip"
      ],
      "execution_count": 149,
      "outputs": [
        {
          "output_type": "stream",
          "name": "stdout",
          "text": [
            "datos.csv.zip\n"
          ]
        }
      ]
    },
    {
      "cell_type": "code",
      "metadata": {
        "id": "yNBl6VlaIHnn"
      },
      "source": [
        "import pandas as pd\n",
        "import matplotlib.pyplot as plt\n",
        "import numpy as np\n",
        "import seaborn as sns"
      ],
      "execution_count": 150,
      "outputs": []
    },
    {
      "cell_type": "code",
      "metadata": {
        "colab": {
          "base_uri": "https://localhost:8080/"
        },
        "id": "yqeHIik8II_x",
        "outputId": "c71aa555-3a37-40b7-a2a2-e0dc02f57741"
      },
      "source": [
        "df = pd.read_csv(\"datos.csv.zip\")\n",
        "resultados = pd.read_csv(\"resultados.csv.zip\")"
      ],
      "execution_count": 151,
      "outputs": [
        {
          "output_type": "stream",
          "name": "stderr",
          "text": [
            "/usr/local/lib/python3.7/dist-packages/IPython/core/interactiveshell.py:2718: DtypeWarning: Columns (4) have mixed types.Specify dtype option on import or set low_memory=False.\n",
            "  interactivity=interactivity, compiler=compiler, result=result)\n"
          ]
        }
      ]
    },
    {
      "cell_type": "markdown",
      "metadata": {
        "id": "ANmc35f1YzCB"
      },
      "source": [
        "##Analisis inicial"
      ]
    },
    {
      "cell_type": "code",
      "metadata": {
        "colab": {
          "base_uri": "https://localhost:8080/"
        },
        "id": "Os-dcxqweNmH",
        "outputId": "f5dac9c1-56e3-4948-f237-12d2aedecee5"
      },
      "source": [
        "df.dtypes"
      ],
      "execution_count": 152,
      "outputs": [
        {
          "output_type": "execute_result",
          "data": {
            "text/plain": [
              "averageRating           float64\n",
              "numVotes                  int64\n",
              "titleType                object\n",
              "isAdult                 float64\n",
              "startYear                object\n",
              "endYear                  object\n",
              "runtimeMinutes           object\n",
              "genres_x                 object\n",
              "directors                object\n",
              "writers                  object\n",
              "seasonNumber             object\n",
              "episodeNumber            object\n",
              "ordering                float64\n",
              "language                 object\n",
              "types                    object\n",
              "attributes               object\n",
              "isOriginalTitle         float64\n",
              "adult                    object\n",
              "budget                  float64\n",
              "genres_y                 object\n",
              "original_language        object\n",
              "overview                 object\n",
              "popularity              float64\n",
              "production_companies     object\n",
              "production_countries     object\n",
              "release_date             object\n",
              "revenue                 float64\n",
              "runtime                 float64\n",
              "status                   object\n",
              "tagline                  object\n",
              "video                    object\n",
              "id                        int64\n",
              "dtype: object"
            ]
          },
          "metadata": {},
          "execution_count": 152
        }
      ]
    },
    {
      "cell_type": "code",
      "metadata": {
        "colab": {
          "base_uri": "https://localhost:8080/"
        },
        "id": "36cFuMuOIKVt",
        "outputId": "9f166bec-2178-4c49-a6e2-26f0685ab084"
      },
      "source": [
        "df.info()"
      ],
      "execution_count": 153,
      "outputs": [
        {
          "output_type": "stream",
          "name": "stdout",
          "text": [
            "<class 'pandas.core.frame.DataFrame'>\n",
            "RangeIndex: 900000 entries, 0 to 899999\n",
            "Data columns (total 32 columns):\n",
            " #   Column                Non-Null Count   Dtype  \n",
            "---  ------                --------------   -----  \n",
            " 0   averageRating         900000 non-null  float64\n",
            " 1   numVotes              900000 non-null  int64  \n",
            " 2   titleType             899998 non-null  object \n",
            " 3   isAdult               899998 non-null  float64\n",
            " 4   startYear             899998 non-null  object \n",
            " 5   endYear               899998 non-null  object \n",
            " 6   runtimeMinutes        899998 non-null  object \n",
            " 7   genres_x              899997 non-null  object \n",
            " 8   directors             899998 non-null  object \n",
            " 9   writers               899998 non-null  object \n",
            " 10  seasonNumber          403675 non-null  object \n",
            " 11  episodeNumber         403675 non-null  object \n",
            " 12  ordering              341292 non-null  float64\n",
            " 13  language              341292 non-null  object \n",
            " 14  types                 341292 non-null  object \n",
            " 15  attributes            341292 non-null  object \n",
            " 16  isOriginalTitle       341292 non-null  float64\n",
            " 17  adult                 43668 non-null   object \n",
            " 18  budget                43668 non-null   float64\n",
            " 19  genres_y              43668 non-null   object \n",
            " 20  original_language     43655 non-null   object \n",
            " 21  overview              42941 non-null   object \n",
            " 22  popularity            43665 non-null   float64\n",
            " 23  production_companies  43665 non-null   object \n",
            " 24  production_countries  43665 non-null   object \n",
            " 25  release_date          43601 non-null   object \n",
            " 26  revenue               43665 non-null   float64\n",
            " 27  runtime               43478 non-null   float64\n",
            " 28  status                43589 non-null   object \n",
            " 29  tagline               22126 non-null   object \n",
            " 30  video                 43665 non-null   object \n",
            " 31  id                    900000 non-null  int64  \n",
            "dtypes: float64(8), int64(2), object(22)\n",
            "memory usage: 219.7+ MB\n"
          ]
        }
      ]
    },
    {
      "cell_type": "code",
      "metadata": {
        "colab": {
          "base_uri": "https://localhost:8080/"
        },
        "id": "nLmlD8dlILec",
        "outputId": "d5ff6ee2-1540-4ddc-ae5d-99257df9a9e6"
      },
      "source": [
        "contiene_enters = df == '\\\\N'\n",
        "cantidad_enters = contiene_enters.sum()\n",
        "cantidad_enters"
      ],
      "execution_count": 154,
      "outputs": [
        {
          "output_type": "execute_result",
          "data": {
            "text/plain": [
              "averageRating                0\n",
              "numVotes                     0\n",
              "titleType                    0\n",
              "isAdult                      0\n",
              "startYear                  145\n",
              "endYear                 873886\n",
              "runtimeMinutes          237950\n",
              "genres_x                 17057\n",
              "directors               135525\n",
              "writers                 206225\n",
              "seasonNumber             11119\n",
              "episodeNumber            11119\n",
              "ordering                     0\n",
              "language                339803\n",
              "types                    59204\n",
              "attributes              321551\n",
              "isOriginalTitle              0\n",
              "adult                        0\n",
              "budget                       0\n",
              "genres_y                     0\n",
              "original_language            0\n",
              "overview                     0\n",
              "popularity                   0\n",
              "production_companies         0\n",
              "production_countries         0\n",
              "release_date                 0\n",
              "revenue                      0\n",
              "runtime                      0\n",
              "status                       0\n",
              "tagline                      0\n",
              "video                        0\n",
              "id                           0\n",
              "dtype: int64"
            ]
          },
          "metadata": {},
          "execution_count": 154
        }
      ]
    },
    {
      "cell_type": "code",
      "metadata": {
        "id": "hERc-WX1IM1b"
      },
      "source": [
        "def replaceN (df,columna):\n",
        "  df[columna] = df[columna].str.replace('\\\\\\\\N','hola').replace('hola',np.nan)\n",
        "\n",
        "replaceN(df,'endYear')\n",
        "replaceN(df,'runtimeMinutes')\n",
        "replaceN(df,'genres_x')\n",
        "replaceN(df,'startYear')\n",
        "replaceN(df,'directors')\n",
        "replaceN(df,'writers')\n",
        "replaceN(df,'seasonNumber')\n",
        "replaceN(df,'episodeNumber')\n",
        "replaceN(df,'language')\n",
        "replaceN(df,'types')\n",
        "replaceN(df,'attributes')"
      ],
      "execution_count": 155,
      "outputs": []
    },
    {
      "cell_type": "code",
      "metadata": {
        "colab": {
          "base_uri": "https://localhost:8080/"
        },
        "id": "sryWoZ6xINc6",
        "outputId": "79b1a805-9394-4c7c-ef4f-c2b77c289935"
      },
      "source": [
        "df.info()"
      ],
      "execution_count": 156,
      "outputs": [
        {
          "output_type": "stream",
          "name": "stdout",
          "text": [
            "<class 'pandas.core.frame.DataFrame'>\n",
            "RangeIndex: 900000 entries, 0 to 899999\n",
            "Data columns (total 32 columns):\n",
            " #   Column                Non-Null Count   Dtype  \n",
            "---  ------                --------------   -----  \n",
            " 0   averageRating         900000 non-null  float64\n",
            " 1   numVotes              900000 non-null  int64  \n",
            " 2   titleType             899998 non-null  object \n",
            " 3   isAdult               899998 non-null  float64\n",
            " 4   startYear             834317 non-null  object \n",
            " 5   endYear               26112 non-null   object \n",
            " 6   runtimeMinutes        662048 non-null  object \n",
            " 7   genres_x              882940 non-null  object \n",
            " 8   directors             764473 non-null  object \n",
            " 9   writers               693773 non-null  object \n",
            " 10  seasonNumber          392556 non-null  object \n",
            " 11  episodeNumber         392556 non-null  object \n",
            " 12  ordering              341292 non-null  float64\n",
            " 13  language              1489 non-null    object \n",
            " 14  types                 282088 non-null  object \n",
            " 15  attributes            19741 non-null   object \n",
            " 16  isOriginalTitle       341292 non-null  float64\n",
            " 17  adult                 43668 non-null   object \n",
            " 18  budget                43668 non-null   float64\n",
            " 19  genres_y              43668 non-null   object \n",
            " 20  original_language     43655 non-null   object \n",
            " 21  overview              42941 non-null   object \n",
            " 22  popularity            43665 non-null   float64\n",
            " 23  production_companies  43665 non-null   object \n",
            " 24  production_countries  43665 non-null   object \n",
            " 25  release_date          43601 non-null   object \n",
            " 26  revenue               43665 non-null   float64\n",
            " 27  runtime               43478 non-null   float64\n",
            " 28  status                43589 non-null   object \n",
            " 29  tagline               22126 non-null   object \n",
            " 30  video                 43665 non-null   object \n",
            " 31  id                    900000 non-null  int64  \n",
            "dtypes: float64(8), int64(2), object(22)\n",
            "memory usage: 219.7+ MB\n"
          ]
        }
      ]
    },
    {
      "cell_type": "code",
      "metadata": {
        "colab": {
          "base_uri": "https://localhost:8080/"
        },
        "id": "sfo4hUtSITDz",
        "outputId": "38962c26-70c2-46eb-9f6c-0e5c34f7d205"
      },
      "source": [
        "missing_values_count = df.isnull().sum()\n",
        "porcentaje_missings = (missing_values_count/len(df))*100\n",
        "porcentaje_missings"
      ],
      "execution_count": 157,
      "outputs": [
        {
          "output_type": "execute_result",
          "data": {
            "text/plain": [
              "averageRating            0.000000\n",
              "numVotes                 0.000000\n",
              "titleType                0.000222\n",
              "isAdult                  0.000222\n",
              "startYear                7.298111\n",
              "endYear                 97.098667\n",
              "runtimeMinutes          26.439111\n",
              "genres_x                 1.895556\n",
              "directors               15.058556\n",
              "writers                 22.914111\n",
              "seasonNumber            56.382667\n",
              "episodeNumber           56.382667\n",
              "ordering                62.078667\n",
              "language                99.834556\n",
              "types                   68.656889\n",
              "attributes              97.806556\n",
              "isOriginalTitle         62.078667\n",
              "adult                   95.148000\n",
              "budget                  95.148000\n",
              "genres_y                95.148000\n",
              "original_language       95.149444\n",
              "overview                95.228778\n",
              "popularity              95.148333\n",
              "production_companies    95.148333\n",
              "production_countries    95.148333\n",
              "release_date            95.155444\n",
              "revenue                 95.148333\n",
              "runtime                 95.169111\n",
              "status                  95.156778\n",
              "tagline                 97.541556\n",
              "video                   95.148333\n",
              "id                       0.000000\n",
              "dtype: float64"
            ]
          },
          "metadata": {},
          "execution_count": 157
        }
      ]
    },
    {
      "cell_type": "code",
      "metadata": {
        "colab": {
          "base_uri": "https://localhost:8080/"
        },
        "id": "2oKDneGVIU6G",
        "outputId": "4d71252d-88ae-48ce-c05d-f3b1a7cb1aec"
      },
      "source": [
        "# how many total missing values do we have?\n",
        "total_cells = np.product(df.shape)\n",
        "total_missing = missing_values_count.sum()\n",
        "\n",
        "# percent of data that is missing\n",
        "percent_missing = (total_missing/total_cells) * 100\n",
        "print(percent_missing)"
      ],
      "execution_count": 158,
      "outputs": [
        {
          "output_type": "stream",
          "name": "stdout",
          "text": [
            "62.766\n"
          ]
        }
      ]
    },
    {
      "cell_type": "code",
      "metadata": {
        "id": "FajOiPYxIXID"
      },
      "source": [
        "def colsMas95 (df):\n",
        "  porcentajes = (df.isnull().sum()/len(df))*100\n",
        "  columnas = porcentajes.keys()\n",
        "  columnas_drop = []\n",
        "  \n",
        "  for columna in columnas:\n",
        "    if porcentajes[columna] > 95:\n",
        "      columnas_drop.append(columna)\n",
        "  return columnas_drop\n",
        "\n",
        "df = df.drop(columns = colsMas95(df), axis=1)"
      ],
      "execution_count": 159,
      "outputs": []
    },
    {
      "cell_type": "code",
      "metadata": {
        "colab": {
          "base_uri": "https://localhost:8080/"
        },
        "id": "U0cDOzyjIZ0g",
        "outputId": "12d3961a-ddef-4bfa-e6d1-5946bef7bdb2"
      },
      "source": [
        "(df.isnull().sum()/len(df))*100"
      ],
      "execution_count": 160,
      "outputs": [
        {
          "output_type": "execute_result",
          "data": {
            "text/plain": [
              "averageRating       0.000000\n",
              "numVotes            0.000000\n",
              "titleType           0.000222\n",
              "isAdult             0.000222\n",
              "startYear           7.298111\n",
              "runtimeMinutes     26.439111\n",
              "genres_x            1.895556\n",
              "directors          15.058556\n",
              "writers            22.914111\n",
              "seasonNumber       56.382667\n",
              "episodeNumber      56.382667\n",
              "ordering           62.078667\n",
              "types              68.656889\n",
              "isOriginalTitle    62.078667\n",
              "id                  0.000000\n",
              "dtype: float64"
            ]
          },
          "metadata": {},
          "execution_count": 160
        }
      ]
    },
    {
      "cell_type": "markdown",
      "metadata": {
        "id": "FLF0JMcQLSUF"
      },
      "source": [
        "#Transformacion de tipos de dato"
      ]
    },
    {
      "cell_type": "code",
      "metadata": {
        "id": "x0at_eh6LWtY"
      },
      "source": [
        "df['startYear'] = pd.to_numeric(df.startYear,errors='coerce').fillna(0).astype('int16')\n",
        "df['runtimeMinutes'] = pd.to_numeric(df.runtimeMinutes,errors='coerce')\n",
        "df['seasonNumber'] = pd.to_numeric(df.seasonNumber,errors='coerce',downcast='integer').fillna(0).astype('int16')\n",
        "df['episodeNumber'] = pd.to_numeric(df.episodeNumber,errors='coerce',downcast='integer').fillna(0).astype('int16')"
      ],
      "execution_count": 161,
      "outputs": []
    },
    {
      "cell_type": "code",
      "metadata": {
        "id": "5PoHcTBSLbL6"
      },
      "source": [
        "resultados['runtimeMinutes'] = pd.to_numeric(resultados.runtimeMinutes,errors='coerce')\n",
        "resultados['seasonNumber'] = pd.to_numeric(resultados.seasonNumber,errors='coerce',downcast='integer').fillna(0).astype('int16')\n",
        "resultados['episodeNumber'] = pd.to_numeric(resultados.episodeNumber,errors='coerce',downcast='integer').fillna(0).astype('int16')"
      ],
      "execution_count": 162,
      "outputs": []
    },
    {
      "cell_type": "markdown",
      "metadata": {
        "id": "GQQuJQo-JFJc"
      },
      "source": [
        "# Tratamiento de Missings"
      ]
    },
    {
      "cell_type": "markdown",
      "metadata": {
        "id": "vepON8xgJHtA"
      },
      "source": [
        "## startYear"
      ]
    },
    {
      "cell_type": "code",
      "metadata": {
        "id": "nodu0l_oymnt"
      },
      "source": [
        "def get_porc_missing(df,col,tipo_missing):\n",
        "  if tipo_missing == 0:\n",
        "    return (len(df[df[col]==0])/len(df))*100\n",
        "  else:\n",
        "    return (len(df[df[col].isnull()])/len(df))*100"
      ],
      "execution_count": 192,
      "outputs": []
    },
    {
      "cell_type": "code",
      "metadata": {
        "colab": {
          "base_uri": "https://localhost:8080/"
        },
        "id": "LN5J0TosyQRV",
        "outputId": "95c10793-b710-4c73-ce85-815350b05ba8"
      },
      "source": [
        "get_porc_missing(df,'startYear',0)"
      ],
      "execution_count": 193,
      "outputs": [
        {
          "output_type": "execute_result",
          "data": {
            "text/plain": [
              "7.298111111111111"
            ]
          },
          "metadata": {},
          "execution_count": 193
        }
      ]
    },
    {
      "cell_type": "code",
      "metadata": {
        "colab": {
          "base_uri": "https://localhost:8080/"
        },
        "id": "pfNTYkXfHPGN",
        "outputId": "9d3bca4b-d6b8-4eb0-ac85-e1036c79d613"
      },
      "source": [
        "get_porc_missing(resultados,'startYear',np.nan)"
      ],
      "execution_count": 194,
      "outputs": [
        {
          "output_type": "execute_result",
          "data": {
            "text/plain": [
              "0.0"
            ]
          },
          "metadata": {},
          "execution_count": 194
        }
      ]
    },
    {
      "cell_type": "code",
      "metadata": {
        "id": "V72Z2GM8GIMs"
      },
      "source": [
        "sy_median = df.startYear.median()"
      ],
      "execution_count": 195,
      "outputs": []
    },
    {
      "cell_type": "code",
      "metadata": {
        "colab": {
          "base_uri": "https://localhost:8080/",
          "height": 0
        },
        "id": "XXfxqruRGcH4",
        "outputId": "6d8c35ae-04c5-48c3-d7c9-ea458628c84d"
      },
      "source": [
        "fig, ax = plt.subplots(figsize=(11,8))\n",
        "ax = sns.histplot(df.startYear)\n",
        "ax.set(ylim=(0, 40000))\n",
        "ax.set(xlim=(1875, 2022))"
      ],
      "execution_count": 196,
      "outputs": [
        {
          "output_type": "execute_result",
          "data": {
            "text/plain": [
              "[(1875.0, 2022.0)]"
            ]
          },
          "metadata": {},
          "execution_count": 196
        },
        {
          "output_type": "display_data",
          "data": {
            "image/png": "[encoded data removed]",
            "text/plain": [
              "<Figure size 792x576 with 1 Axes>"
            ]
          },
          "metadata": {
            "needs_background": "light"
          }
        }
      ]
    },
    {
      "cell_type": "code",
      "metadata": {
        "id": "w8Nedy5oHmKS"
      },
      "source": [
        "resultados['startYear'] = pd.to_numeric(resultados.startYear,errors='coerce').fillna(sy_median).astype('int16')"
      ],
      "execution_count": 197,
      "outputs": []
    },
    {
      "cell_type": "markdown",
      "metadata": {
        "id": "L4KNAoHvSKAw"
      },
      "source": [
        "Creo una nueva variable: anios_desde_start."
      ]
    },
    {
      "cell_type": "code",
      "metadata": {
        "id": "T55m1rIHRL91"
      },
      "source": [
        "import datetime\n",
        "\n",
        "df['anios_desde_start'] = datetime.datetime.now().year - df['startYear']\n",
        "resultados['anios_desde_start'] = datetime.datetime.now().year - resultados['startYear']"
      ],
      "execution_count": 198,
      "outputs": []
    },
    {
      "cell_type": "markdown",
      "metadata": {
        "id": "5Gq_6pmEJKHJ"
      },
      "source": [
        "##runtimeMinutes"
      ]
    },
    {
      "cell_type": "code",
      "metadata": {
        "colab": {
          "base_uri": "https://localhost:8080/"
        },
        "id": "cLJp4Y_9zuyf",
        "outputId": "237f5bce-f337-40a8-ef13-e7d231f67181"
      },
      "source": [
        "get_porc_missing(df,'runtimeMinutes',np.nan)"
      ],
      "execution_count": 199,
      "outputs": [
        {
          "output_type": "execute_result",
          "data": {
            "text/plain": [
              "0.0"
            ]
          },
          "metadata": {},
          "execution_count": 199
        }
      ]
    },
    {
      "cell_type": "code",
      "metadata": {
        "colab": {
          "base_uri": "https://localhost:8080/"
        },
        "id": "-pxahMogJUS5",
        "outputId": "f33ad4d6-585a-4d72-e16e-3610a3da0f7a"
      },
      "source": [
        "get_porc_missing(resultados,'runtimeMinutes',np.nan)"
      ],
      "execution_count": 200,
      "outputs": [
        {
          "output_type": "execute_result",
          "data": {
            "text/plain": [
              "0.0"
            ]
          },
          "metadata": {},
          "execution_count": 200
        }
      ]
    },
    {
      "cell_type": "code",
      "metadata": {
        "colab": {
          "base_uri": "https://localhost:8080/",
          "height": 0
        },
        "id": "oQh34C-mJJkt",
        "outputId": "8b4a7c58-b9ba-4901-9b77-1f386491245c"
      },
      "source": [
        "df[['runtimeMinutes']].drop_duplicates()"
      ],
      "execution_count": 201,
      "outputs": [
        {
          "output_type": "execute_result",
          "data": {
            "text/html": [
              "<div>\n",
              "<style scoped>\n",
              "    .dataframe tbody tr th:only-of-type {\n",
              "        vertical-align: middle;\n",
              "    }\n",
              "\n",
              "    .dataframe tbody tr th {\n",
              "        vertical-align: top;\n",
              "    }\n",
              "\n",
              "    .dataframe thead th {\n",
              "        text-align: right;\n",
              "    }\n",
              "</style>\n",
              "<table border=\"1\" class=\"dataframe\">\n",
              "  <thead>\n",
              "    <tr style=\"text-align: right;\">\n",
              "      <th></th>\n",
              "      <th>runtimeMinutes</th>\n",
              "    </tr>\n",
              "  </thead>\n",
              "  <tbody>\n",
              "    <tr>\n",
              "      <th>0</th>\n",
              "      <td>21.0</td>\n",
              "    </tr>\n",
              "    <tr>\n",
              "      <th>1</th>\n",
              "      <td>34.0</td>\n",
              "    </tr>\n",
              "    <tr>\n",
              "      <th>2</th>\n",
              "      <td>7.0</td>\n",
              "    </tr>\n",
              "    <tr>\n",
              "      <th>3</th>\n",
              "      <td>12.0</td>\n",
              "    </tr>\n",
              "    <tr>\n",
              "      <th>4</th>\n",
              "      <td>22.0</td>\n",
              "    </tr>\n",
              "    <tr>\n",
              "      <th>...</th>\n",
              "      <td>...</td>\n",
              "    </tr>\n",
              "    <tr>\n",
              "      <th>883462</th>\n",
              "      <td>1370.0</td>\n",
              "    </tr>\n",
              "    <tr>\n",
              "      <th>884105</th>\n",
              "      <td>659.0</td>\n",
              "    </tr>\n",
              "    <tr>\n",
              "      <th>893427</th>\n",
              "      <td>2880.0</td>\n",
              "    </tr>\n",
              "    <tr>\n",
              "      <th>894160</th>\n",
              "      <td>804.0</td>\n",
              "    </tr>\n",
              "    <tr>\n",
              "      <th>899060</th>\n",
              "      <td>425.0</td>\n",
              "    </tr>\n",
              "  </tbody>\n",
              "</table>\n",
              "<p>653 rows × 1 columns</p>\n",
              "</div>"
            ],
            "text/plain": [
              "        runtimeMinutes\n",
              "0                 21.0\n",
              "1                 34.0\n",
              "2                  7.0\n",
              "3                 12.0\n",
              "4                 22.0\n",
              "...                ...\n",
              "883462          1370.0\n",
              "884105           659.0\n",
              "893427          2880.0\n",
              "894160           804.0\n",
              "899060           425.0\n",
              "\n",
              "[653 rows x 1 columns]"
            ]
          },
          "metadata": {},
          "execution_count": 201
        }
      ]
    },
    {
      "cell_type": "code",
      "metadata": {
        "colab": {
          "base_uri": "https://localhost:8080/",
          "height": 0
        },
        "id": "5_44bbYEJNAG",
        "outputId": "4b4f997d-40aa-4763-8b1a-674eae5edfe4"
      },
      "source": [
        "fig, ax = plt.subplots(figsize=(11,8))\n",
        "ax = sns.boxplot(x=\"titleType\", y=\"runtimeMinutes\", data=df)\n",
        "ax.set(ylim=(0, 250))"
      ],
      "execution_count": 202,
      "outputs": [
        {
          "output_type": "execute_result",
          "data": {
            "text/plain": [
              "[(0.0, 250.0)]"
            ]
          },
          "metadata": {},
          "execution_count": 202
        },
        {
          "output_type": "display_data",
          "data": {
            "image/png": "[encoded data removed]",
            "text/plain": [
              "<Figure size 792x576 with 1 Axes>"
            ]
          },
          "metadata": {
            "needs_background": "light"
          }
        }
      ]
    },
    {
      "cell_type": "code",
      "metadata": {
        "colab": {
          "base_uri": "https://localhost:8080/",
          "height": 0
        },
        "id": "y67AwFN7JPKg",
        "outputId": "644afe4e-a60e-4cb9-b1e7-12d3b3c18599"
      },
      "source": [
        "df[df['runtimeMinutes'].isnull()].groupby('titleType')[['id']].count().sort_values(by='id',ascending=False).head()"
      ],
      "execution_count": 203,
      "outputs": [
        {
          "output_type": "execute_result",
          "data": {
            "text/html": [
              "<div>\n",
              "<style scoped>\n",
              "    .dataframe tbody tr th:only-of-type {\n",
              "        vertical-align: middle;\n",
              "    }\n",
              "\n",
              "    .dataframe tbody tr th {\n",
              "        vertical-align: top;\n",
              "    }\n",
              "\n",
              "    .dataframe thead th {\n",
              "        text-align: right;\n",
              "    }\n",
              "</style>\n",
              "<table border=\"1\" class=\"dataframe\">\n",
              "  <thead>\n",
              "    <tr style=\"text-align: right;\">\n",
              "      <th></th>\n",
              "      <th>id</th>\n",
              "    </tr>\n",
              "    <tr>\n",
              "      <th>titleType</th>\n",
              "      <th></th>\n",
              "    </tr>\n",
              "  </thead>\n",
              "  <tbody>\n",
              "  </tbody>\n",
              "</table>\n",
              "</div>"
            ],
            "text/plain": [
              "Empty DataFrame\n",
              "Columns: [id]\n",
              "Index: []"
            ]
          },
          "metadata": {},
          "execution_count": 203
        }
      ]
    },
    {
      "cell_type": "code",
      "metadata": {
        "colab": {
          "base_uri": "https://localhost:8080/",
          "height": 0
        },
        "id": "1vMnc_hYWXDF",
        "outputId": "4fd5e4c8-df5d-4e08-aa53-480ee13ca691"
      },
      "source": [
        "df.groupby('titleType')[['id']].count().sort_values(by='id',ascending=False).head()"
      ],
      "execution_count": 204,
      "outputs": [
        {
          "output_type": "execute_result",
          "data": {
            "text/html": [
              "<div>\n",
              "<style scoped>\n",
              "    .dataframe tbody tr th:only-of-type {\n",
              "        vertical-align: middle;\n",
              "    }\n",
              "\n",
              "    .dataframe tbody tr th {\n",
              "        vertical-align: top;\n",
              "    }\n",
              "\n",
              "    .dataframe thead th {\n",
              "        text-align: right;\n",
              "    }\n",
              "</style>\n",
              "<table border=\"1\" class=\"dataframe\">\n",
              "  <thead>\n",
              "    <tr style=\"text-align: right;\">\n",
              "      <th></th>\n",
              "      <th>id</th>\n",
              "    </tr>\n",
              "    <tr>\n",
              "      <th>titleType</th>\n",
              "      <th></th>\n",
              "    </tr>\n",
              "  </thead>\n",
              "  <tbody>\n",
              "    <tr>\n",
              "      <th>tvEpisode</th>\n",
              "      <td>403692</td>\n",
              "    </tr>\n",
              "    <tr>\n",
              "      <th>movie</th>\n",
              "      <td>217350</td>\n",
              "    </tr>\n",
              "    <tr>\n",
              "      <th>short</th>\n",
              "      <td>102830</td>\n",
              "    </tr>\n",
              "    <tr>\n",
              "      <th>tvSeries</th>\n",
              "      <td>59710</td>\n",
              "    </tr>\n",
              "    <tr>\n",
              "      <th>video</th>\n",
              "      <td>50568</td>\n",
              "    </tr>\n",
              "  </tbody>\n",
              "</table>\n",
              "</div>"
            ],
            "text/plain": [
              "               id\n",
              "titleType        \n",
              "tvEpisode  403692\n",
              "movie      217350\n",
              "short      102830\n",
              "tvSeries    59710\n",
              "video       50568"
            ]
          },
          "metadata": {},
          "execution_count": 204
        }
      ]
    },
    {
      "cell_type": "markdown",
      "metadata": {
        "id": "gGBjJs6ZV8z8"
      },
      "source": [
        "Como voy a llenar la variable runtimeMinutes a partir de titleType, debo asegurarme de que en la ultima no haya nulos.\n",
        "\n",
        "\n",
        "\n"
      ]
    },
    {
      "cell_type": "code",
      "metadata": {
        "colab": {
          "base_uri": "https://localhost:8080/"
        },
        "id": "FOFdXiK1W1qk",
        "outputId": "f9f5b323-00fa-4786-f1a5-e1bd70a88126"
      },
      "source": [
        "get_porc_missing(df,'titleType',np.nan)"
      ],
      "execution_count": 205,
      "outputs": [
        {
          "output_type": "execute_result",
          "data": {
            "text/plain": [
              "0.0"
            ]
          },
          "metadata": {},
          "execution_count": 205
        }
      ]
    },
    {
      "cell_type": "code",
      "metadata": {
        "colab": {
          "base_uri": "https://localhost:8080/"
        },
        "id": "HfxgZGpWWPb9",
        "outputId": "209b92b5-17f2-4138-80aa-d67e032ef327"
      },
      "source": [
        "get_porc_missing(resultados,'titleType',np.nan)"
      ],
      "execution_count": 206,
      "outputs": [
        {
          "output_type": "execute_result",
          "data": {
            "text/plain": [
              "0.0"
            ]
          },
          "metadata": {},
          "execution_count": 206
        }
      ]
    },
    {
      "cell_type": "code",
      "metadata": {
        "id": "mY-mK23HMQQz"
      },
      "source": [
        "# reemplazo los nulos con el tipo mas frecuente\n",
        "df['titleType'] = df['titleType'].fillna('tvEpisode')\n",
        "resultados['titleType'] = resultados['titleType'].fillna('tvEpisode')"
      ],
      "execution_count": 207,
      "outputs": []
    },
    {
      "cell_type": "code",
      "metadata": {
        "id": "ubvNiwJ4JP2H"
      },
      "source": [
        "medianas_ttype = df[['titleType','runtimeMinutes']].groupby(['titleType']).median()\n",
        "medianas_dict = medianas_ttype.runtimeMinutes.to_dict()\n",
        "\n",
        "#df['medias_titleType'] = df['titleType'].map(medianas_dict)\n",
        "df['runtimeMinutes'] = df['runtimeMinutes'].fillna(df['titleType'].map(medianas_dict))"
      ],
      "execution_count": 208,
      "outputs": []
    },
    {
      "cell_type": "code",
      "metadata": {
        "id": "Wz10Hxn5wxPd"
      },
      "source": [
        "resultados['runtimeMinutes'] = resultados['runtimeMinutes'].fillna(resultados['titleType'].map(medianas_dict))"
      ],
      "execution_count": 209,
      "outputs": []
    },
    {
      "cell_type": "markdown",
      "metadata": {
        "id": "v22q-4N-JWWR"
      },
      "source": [
        "##titleType"
      ]
    },
    {
      "cell_type": "markdown",
      "metadata": {
        "id": "PYJ-i7WlJ5uf"
      },
      "source": [
        "Las filas con titleType nulo las reemplace antes."
      ]
    },
    {
      "cell_type": "code",
      "metadata": {
        "colab": {
          "base_uri": "https://localhost:8080/",
          "height": 0
        },
        "id": "wL6sa3AfJWtz",
        "outputId": "2bec0bfa-93af-4f15-cfce-8e5799c4a15e"
      },
      "source": [
        "df[['titleType']].drop_duplicates()"
      ],
      "execution_count": 210,
      "outputs": [
        {
          "output_type": "execute_result",
          "data": {
            "text/html": [
              "<div>\n",
              "<style scoped>\n",
              "    .dataframe tbody tr th:only-of-type {\n",
              "        vertical-align: middle;\n",
              "    }\n",
              "\n",
              "    .dataframe tbody tr th {\n",
              "        vertical-align: top;\n",
              "    }\n",
              "\n",
              "    .dataframe thead th {\n",
              "        text-align: right;\n",
              "    }\n",
              "</style>\n",
              "<table border=\"1\" class=\"dataframe\">\n",
              "  <thead>\n",
              "    <tr style=\"text-align: right;\">\n",
              "      <th></th>\n",
              "      <th>titleType</th>\n",
              "    </tr>\n",
              "  </thead>\n",
              "  <tbody>\n",
              "    <tr>\n",
              "      <th>0</th>\n",
              "      <td>tvEpisode</td>\n",
              "    </tr>\n",
              "    <tr>\n",
              "      <th>2</th>\n",
              "      <td>video</td>\n",
              "    </tr>\n",
              "    <tr>\n",
              "      <th>3</th>\n",
              "      <td>short</td>\n",
              "    </tr>\n",
              "    <tr>\n",
              "      <th>7</th>\n",
              "      <td>movie</td>\n",
              "    </tr>\n",
              "    <tr>\n",
              "      <th>15</th>\n",
              "      <td>tvSeries</td>\n",
              "    </tr>\n",
              "    <tr>\n",
              "      <th>25</th>\n",
              "      <td>tvMovie</td>\n",
              "    </tr>\n",
              "    <tr>\n",
              "      <th>63</th>\n",
              "      <td>tvMiniSeries</td>\n",
              "    </tr>\n",
              "    <tr>\n",
              "      <th>108</th>\n",
              "      <td>tvSpecial</td>\n",
              "    </tr>\n",
              "    <tr>\n",
              "      <th>264</th>\n",
              "      <td>videoGame</td>\n",
              "    </tr>\n",
              "    <tr>\n",
              "      <th>740</th>\n",
              "      <td>tvShort</td>\n",
              "    </tr>\n",
              "  </tbody>\n",
              "</table>\n",
              "</div>"
            ],
            "text/plain": [
              "        titleType\n",
              "0       tvEpisode\n",
              "2           video\n",
              "3           short\n",
              "7           movie\n",
              "15       tvSeries\n",
              "25        tvMovie\n",
              "63   tvMiniSeries\n",
              "108     tvSpecial\n",
              "264     videoGame\n",
              "740       tvShort"
            ]
          },
          "metadata": {},
          "execution_count": 210
        }
      ]
    },
    {
      "cell_type": "code",
      "metadata": {
        "colab": {
          "base_uri": "https://localhost:8080/",
          "height": 0
        },
        "id": "NCdMTJIzJaUR",
        "outputId": "4d983277-9c7a-45b5-809f-a0d7350e58d2"
      },
      "source": [
        "# los tvEpisodes son los unicos que tienen seasonNumber y episodeNumber\n",
        "df[(df['seasonNumber'] != 0) & (df['episodeNumber']!=0)][['titleType']].drop_duplicates()"
      ],
      "execution_count": 211,
      "outputs": [
        {
          "output_type": "execute_result",
          "data": {
            "text/html": [
              "<div>\n",
              "<style scoped>\n",
              "    .dataframe tbody tr th:only-of-type {\n",
              "        vertical-align: middle;\n",
              "    }\n",
              "\n",
              "    .dataframe tbody tr th {\n",
              "        vertical-align: top;\n",
              "    }\n",
              "\n",
              "    .dataframe thead th {\n",
              "        text-align: right;\n",
              "    }\n",
              "</style>\n",
              "<table border=\"1\" class=\"dataframe\">\n",
              "  <thead>\n",
              "    <tr style=\"text-align: right;\">\n",
              "      <th></th>\n",
              "      <th>titleType</th>\n",
              "    </tr>\n",
              "  </thead>\n",
              "  <tbody>\n",
              "    <tr>\n",
              "      <th>0</th>\n",
              "      <td>tvEpisode</td>\n",
              "    </tr>\n",
              "  </tbody>\n",
              "</table>\n",
              "</div>"
            ],
            "text/plain": [
              "   titleType\n",
              "0  tvEpisode"
            ]
          },
          "metadata": {},
          "execution_count": 211
        }
      ]
    },
    {
      "cell_type": "code",
      "metadata": {
        "colab": {
          "base_uri": "https://localhost:8080/",
          "height": 0
        },
        "id": "tjMl0hCYIl2T",
        "outputId": "acdefd17-2946-4ba0-ca2a-faaf2f38e030"
      },
      "source": [
        "ttype_count = df.groupby('titleType')[['id']].count().sort_values(by = 'id',ascending=False)\n",
        "ttype_count"
      ],
      "execution_count": 212,
      "outputs": [
        {
          "output_type": "execute_result",
          "data": {
            "text/html": [
              "<div>\n",
              "<style scoped>\n",
              "    .dataframe tbody tr th:only-of-type {\n",
              "        vertical-align: middle;\n",
              "    }\n",
              "\n",
              "    .dataframe tbody tr th {\n",
              "        vertical-align: top;\n",
              "    }\n",
              "\n",
              "    .dataframe thead th {\n",
              "        text-align: right;\n",
              "    }\n",
              "</style>\n",
              "<table border=\"1\" class=\"dataframe\">\n",
              "  <thead>\n",
              "    <tr style=\"text-align: right;\">\n",
              "      <th></th>\n",
              "      <th>id</th>\n",
              "    </tr>\n",
              "    <tr>\n",
              "      <th>titleType</th>\n",
              "      <th></th>\n",
              "    </tr>\n",
              "  </thead>\n",
              "  <tbody>\n",
              "    <tr>\n",
              "      <th>tvEpisode</th>\n",
              "      <td>403692</td>\n",
              "    </tr>\n",
              "    <tr>\n",
              "      <th>movie</th>\n",
              "      <td>217350</td>\n",
              "    </tr>\n",
              "    <tr>\n",
              "      <th>short</th>\n",
              "      <td>102830</td>\n",
              "    </tr>\n",
              "    <tr>\n",
              "      <th>tvSeries</th>\n",
              "      <td>59710</td>\n",
              "    </tr>\n",
              "    <tr>\n",
              "      <th>video</th>\n",
              "      <td>50568</td>\n",
              "    </tr>\n",
              "    <tr>\n",
              "      <th>tvMovie</th>\n",
              "      <td>36964</td>\n",
              "    </tr>\n",
              "    <tr>\n",
              "      <th>videoGame</th>\n",
              "      <td>9944</td>\n",
              "    </tr>\n",
              "    <tr>\n",
              "      <th>tvMiniSeries</th>\n",
              "      <td>9091</td>\n",
              "    </tr>\n",
              "    <tr>\n",
              "      <th>tvSpecial</th>\n",
              "      <td>8124</td>\n",
              "    </tr>\n",
              "    <tr>\n",
              "      <th>tvShort</th>\n",
              "      <td>1727</td>\n",
              "    </tr>\n",
              "  </tbody>\n",
              "</table>\n",
              "</div>"
            ],
            "text/plain": [
              "                  id\n",
              "titleType           \n",
              "tvEpisode     403692\n",
              "movie         217350\n",
              "short         102830\n",
              "tvSeries       59710\n",
              "video          50568\n",
              "tvMovie        36964\n",
              "videoGame       9944\n",
              "tvMiniSeries    9091\n",
              "tvSpecial       8124\n",
              "tvShort         1727"
            ]
          },
          "metadata": {},
          "execution_count": 212
        }
      ]
    },
    {
      "cell_type": "code",
      "metadata": {
        "colab": {
          "base_uri": "https://localhost:8080/",
          "height": 0
        },
        "id": "knMQJ4LPgkV3",
        "outputId": "7d4e8fb8-bea2-4031-fca5-d99d706de4a9"
      },
      "source": [
        "fig, ax = plt.subplots(figsize=(11,8))\n",
        "ax = sns.barplot(x=ttype_count.index, y=\"id\", data=ttype_count)"
      ],
      "execution_count": 213,
      "outputs": [
        {
          "output_type": "display_data",
          "data": {
            "image/png": "[encoded data removed]",
            "text/plain": [
              "<Figure size 792x576 with 1 Axes>"
            ]
          },
          "metadata": {
            "needs_background": "light"
          }
        }
      ]
    },
    {
      "cell_type": "code",
      "metadata": {
        "colab": {
          "base_uri": "https://localhost:8080/",
          "height": 0
        },
        "id": "TiULEKVmsdCj",
        "outputId": "4788f348-acb5-4cf7-eb67-88d92807fa1f"
      },
      "source": [
        "df.groupby('titleType')[['averageRating']].mean().sort_values(by = 'averageRating',ascending=False)"
      ],
      "execution_count": 214,
      "outputs": [
        {
          "output_type": "execute_result",
          "data": {
            "text/html": [
              "<div>\n",
              "<style scoped>\n",
              "    .dataframe tbody tr th:only-of-type {\n",
              "        vertical-align: middle;\n",
              "    }\n",
              "\n",
              "    .dataframe tbody tr th {\n",
              "        vertical-align: top;\n",
              "    }\n",
              "\n",
              "    .dataframe thead th {\n",
              "        text-align: right;\n",
              "    }\n",
              "</style>\n",
              "<table border=\"1\" class=\"dataframe\">\n",
              "  <thead>\n",
              "    <tr style=\"text-align: right;\">\n",
              "      <th></th>\n",
              "      <th>averageRating</th>\n",
              "    </tr>\n",
              "    <tr>\n",
              "      <th>titleType</th>\n",
              "      <th></th>\n",
              "    </tr>\n",
              "  </thead>\n",
              "  <tbody>\n",
              "    <tr>\n",
              "      <th>tvEpisode</th>\n",
              "      <td>7.392151</td>\n",
              "    </tr>\n",
              "    <tr>\n",
              "      <th>tvMiniSeries</th>\n",
              "      <td>7.088109</td>\n",
              "    </tr>\n",
              "    <tr>\n",
              "      <th>videoGame</th>\n",
              "      <td>7.019660</td>\n",
              "    </tr>\n",
              "    <tr>\n",
              "      <th>tvShort</th>\n",
              "      <td>6.855646</td>\n",
              "    </tr>\n",
              "    <tr>\n",
              "      <th>tvSeries</th>\n",
              "      <td>6.802765</td>\n",
              "    </tr>\n",
              "    <tr>\n",
              "      <th>short</th>\n",
              "      <td>6.781752</td>\n",
              "    </tr>\n",
              "    <tr>\n",
              "      <th>tvSpecial</th>\n",
              "      <td>6.759183</td>\n",
              "    </tr>\n",
              "    <tr>\n",
              "      <th>tvMovie</th>\n",
              "      <td>6.611189</td>\n",
              "    </tr>\n",
              "    <tr>\n",
              "      <th>video</th>\n",
              "      <td>6.568889</td>\n",
              "    </tr>\n",
              "    <tr>\n",
              "      <th>movie</th>\n",
              "      <td>6.106495</td>\n",
              "    </tr>\n",
              "  </tbody>\n",
              "</table>\n",
              "</div>"
            ],
            "text/plain": [
              "              averageRating\n",
              "titleType                  \n",
              "tvEpisode          7.392151\n",
              "tvMiniSeries       7.088109\n",
              "videoGame          7.019660\n",
              "tvShort            6.855646\n",
              "tvSeries           6.802765\n",
              "short              6.781752\n",
              "tvSpecial          6.759183\n",
              "tvMovie            6.611189\n",
              "video              6.568889\n",
              "movie              6.106495"
            ]
          },
          "metadata": {},
          "execution_count": 214
        }
      ]
    },
    {
      "cell_type": "code",
      "metadata": {
        "colab": {
          "base_uri": "https://localhost:8080/",
          "height": 0
        },
        "id": "UFADShTLXXBi",
        "outputId": "252acab8-f495-4931-fe68-58d1b4230962"
      },
      "source": [
        "mi_orden = df.groupby('titleType')[['averageRating']].median().sort_values(by = 'averageRating',ascending=False).index.tolist()\n",
        "\n",
        "fig, ax = plt.subplots(figsize=(11,8))\n",
        "ax = sns.boxplot(x=\"titleType\", y=\"averageRating\", data=df, order = mi_orden)\n",
        "ax.set(ylim=(4, 10))"
      ],
      "execution_count": 215,
      "outputs": [
        {
          "output_type": "execute_result",
          "data": {
            "text/plain": [
              "[(4.0, 10.0)]"
            ]
          },
          "metadata": {},
          "execution_count": 215
        },
        {
          "output_type": "display_data",
          "data": {
            "image/png": "[encoded data removed]",
            "text/plain": [
              "<Figure size 792x576 with 1 Axes>"
            ]
          },
          "metadata": {
            "needs_background": "light"
          }
        }
      ]
    },
    {
      "cell_type": "code",
      "metadata": {
        "id": "UYA9sPBDM6Hz"
      },
      "source": [
        "df['es_serie'] = np.where(df['titleType'].isin(['tvEpisode','tvMiniSeries','tvSeries']),1,0)"
      ],
      "execution_count": 216,
      "outputs": []
    },
    {
      "cell_type": "code",
      "metadata": {
        "id": "NyBc2s9EOD3A"
      },
      "source": [
        "resultados['es_serie'] = np.where(resultados['titleType'].isin(['tvEpisode','tvMiniSeries','tvSeries']),1,0)"
      ],
      "execution_count": 217,
      "outputs": []
    },
    {
      "cell_type": "code",
      "metadata": {
        "colab": {
          "base_uri": "https://localhost:8080/",
          "height": 0
        },
        "id": "o75ECfwgN3FA",
        "outputId": "9467a01c-45e9-4823-d790-bcfc1f118fb4"
      },
      "source": [
        "df[['titleType','es_serie']].head()"
      ],
      "execution_count": 218,
      "outputs": [
        {
          "output_type": "execute_result",
          "data": {
            "text/html": [
              "<div>\n",
              "<style scoped>\n",
              "    .dataframe tbody tr th:only-of-type {\n",
              "        vertical-align: middle;\n",
              "    }\n",
              "\n",
              "    .dataframe tbody tr th {\n",
              "        vertical-align: top;\n",
              "    }\n",
              "\n",
              "    .dataframe thead th {\n",
              "        text-align: right;\n",
              "    }\n",
              "</style>\n",
              "<table border=\"1\" class=\"dataframe\">\n",
              "  <thead>\n",
              "    <tr style=\"text-align: right;\">\n",
              "      <th></th>\n",
              "      <th>titleType</th>\n",
              "      <th>es_serie</th>\n",
              "    </tr>\n",
              "  </thead>\n",
              "  <tbody>\n",
              "    <tr>\n",
              "      <th>0</th>\n",
              "      <td>tvEpisode</td>\n",
              "      <td>1</td>\n",
              "    </tr>\n",
              "    <tr>\n",
              "      <th>1</th>\n",
              "      <td>tvEpisode</td>\n",
              "      <td>1</td>\n",
              "    </tr>\n",
              "    <tr>\n",
              "      <th>2</th>\n",
              "      <td>video</td>\n",
              "      <td>0</td>\n",
              "    </tr>\n",
              "    <tr>\n",
              "      <th>3</th>\n",
              "      <td>short</td>\n",
              "      <td>0</td>\n",
              "    </tr>\n",
              "    <tr>\n",
              "      <th>4</th>\n",
              "      <td>tvEpisode</td>\n",
              "      <td>1</td>\n",
              "    </tr>\n",
              "  </tbody>\n",
              "</table>\n",
              "</div>"
            ],
            "text/plain": [
              "   titleType  es_serie\n",
              "0  tvEpisode         1\n",
              "1  tvEpisode         1\n",
              "2      video         0\n",
              "3      short         0\n",
              "4  tvEpisode         1"
            ]
          },
          "metadata": {},
          "execution_count": 218
        }
      ]
    },
    {
      "cell_type": "code",
      "metadata": {
        "colab": {
          "base_uri": "https://localhost:8080/",
          "height": 0
        },
        "id": "7fMnZWJLssst",
        "outputId": "c73ee7b2-784e-4952-f32b-32fcdc68fe97"
      },
      "source": [
        "mi_orden = df.groupby('es_serie')[['averageRating']].median().sort_values(by = 'averageRating',ascending=False).index.tolist()\n",
        "\n",
        "fig, ax = plt.subplots(figsize=(11,8))\n",
        "ax = sns.boxplot(x=\"es_serie\", y=\"averageRating\", data=df, order = mi_orden)\n",
        "ax.set(ylim=(0, 12))"
      ],
      "execution_count": 219,
      "outputs": [
        {
          "output_type": "execute_result",
          "data": {
            "text/plain": [
              "[(0.0, 12.0)]"
            ]
          },
          "metadata": {},
          "execution_count": 219
        },
        {
          "output_type": "display_data",
          "data": {
            "image/png": "[encoded data removed]",
            "text/plain": [
              "<Figure size 792x576 with 1 Axes>"
            ]
          },
          "metadata": {
            "needs_background": "light"
          }
        }
      ]
    },
    {
      "cell_type": "markdown",
      "metadata": {
        "id": "hPZ8S_trJkWu"
      },
      "source": [
        "##genres"
      ]
    },
    {
      "cell_type": "code",
      "metadata": {
        "colab": {
          "base_uri": "https://localhost:8080/"
        },
        "id": "pCtIt9VIil3v",
        "outputId": "92533e5c-5586-4bce-dd8f-9de53fe0eb8d"
      },
      "source": [
        "get_porc_missing(df,'genres_x',np.nan)"
      ],
      "execution_count": 220,
      "outputs": [
        {
          "output_type": "execute_result",
          "data": {
            "text/plain": [
              "1.8955555555555554"
            ]
          },
          "metadata": {},
          "execution_count": 220
        }
      ]
    },
    {
      "cell_type": "code",
      "metadata": {
        "colab": {
          "base_uri": "https://localhost:8080/"
        },
        "id": "JBqsznMiOtum",
        "outputId": "f34507e5-0760-4790-ceda-e6b3f2f089e5"
      },
      "source": [
        "get_porc_missing(resultados,'genres_x',np.nan)"
      ],
      "execution_count": 221,
      "outputs": [
        {
          "output_type": "execute_result",
          "data": {
            "text/plain": [
              "0.0012424984158145198"
            ]
          },
          "metadata": {},
          "execution_count": 221
        }
      ]
    },
    {
      "cell_type": "code",
      "metadata": {
        "colab": {
          "base_uri": "https://localhost:8080/",
          "height": 0
        },
        "id": "p0yNGKg2lbty",
        "outputId": "a643ed0b-ec86-4895-ae0a-9182b70a0be8"
      },
      "source": [
        "df[df['genres_x'].isnull()]"
      ],
      "execution_count": 222,
      "outputs": [
        {
          "output_type": "execute_result",
          "data": {
            "text/html": [
              "<div>\n",
              "<style scoped>\n",
              "    .dataframe tbody tr th:only-of-type {\n",
              "        vertical-align: middle;\n",
              "    }\n",
              "\n",
              "    .dataframe tbody tr th {\n",
              "        vertical-align: top;\n",
              "    }\n",
              "\n",
              "    .dataframe thead th {\n",
              "        text-align: right;\n",
              "    }\n",
              "</style>\n",
              "<table border=\"1\" class=\"dataframe\">\n",
              "  <thead>\n",
              "    <tr style=\"text-align: right;\">\n",
              "      <th></th>\n",
              "      <th>averageRating</th>\n",
              "      <th>numVotes</th>\n",
              "      <th>titleType</th>\n",
              "      <th>isAdult</th>\n",
              "      <th>startYear</th>\n",
              "      <th>runtimeMinutes</th>\n",
              "      <th>genres_x</th>\n",
              "      <th>directors</th>\n",
              "      <th>writers</th>\n",
              "      <th>seasonNumber</th>\n",
              "      <th>episodeNumber</th>\n",
              "      <th>ordering</th>\n",
              "      <th>types</th>\n",
              "      <th>isOriginalTitle</th>\n",
              "      <th>id</th>\n",
              "      <th>anios_desde_start</th>\n",
              "      <th>es_serie</th>\n",
              "    </tr>\n",
              "  </thead>\n",
              "  <tbody>\n",
              "    <tr>\n",
              "      <th>21</th>\n",
              "      <td>8.0</td>\n",
              "      <td>5</td>\n",
              "      <td>tvEpisode</td>\n",
              "      <td>0.0</td>\n",
              "      <td>2016</td>\n",
              "      <td>34.0</td>\n",
              "      <td>NaN</td>\n",
              "      <td>nm3006224</td>\n",
              "      <td>NaN</td>\n",
              "      <td>2</td>\n",
              "      <td>1</td>\n",
              "      <td>NaN</td>\n",
              "      <td>NaN</td>\n",
              "      <td>NaN</td>\n",
              "      <td>22</td>\n",
              "      <td>5</td>\n",
              "      <td>1</td>\n",
              "    </tr>\n",
              "    <tr>\n",
              "      <th>36</th>\n",
              "      <td>5.4</td>\n",
              "      <td>11</td>\n",
              "      <td>tvMovie</td>\n",
              "      <td>0.0</td>\n",
              "      <td>1984</td>\n",
              "      <td>85.0</td>\n",
              "      <td>NaN</td>\n",
              "      <td>nm0342160</td>\n",
              "      <td>nm0304698,nm0342160,nm0894523</td>\n",
              "      <td>0</td>\n",
              "      <td>0</td>\n",
              "      <td>NaN</td>\n",
              "      <td>NaN</td>\n",
              "      <td>NaN</td>\n",
              "      <td>37</td>\n",
              "      <td>37</td>\n",
              "      <td>0</td>\n",
              "    </tr>\n",
              "    <tr>\n",
              "      <th>116</th>\n",
              "      <td>4.7</td>\n",
              "      <td>13</td>\n",
              "      <td>movie</td>\n",
              "      <td>0.0</td>\n",
              "      <td>1923</td>\n",
              "      <td>59.0</td>\n",
              "      <td>NaN</td>\n",
              "      <td>nm0919976</td>\n",
              "      <td>nm0178126</td>\n",
              "      <td>0</td>\n",
              "      <td>0</td>\n",
              "      <td>NaN</td>\n",
              "      <td>NaN</td>\n",
              "      <td>NaN</td>\n",
              "      <td>117</td>\n",
              "      <td>98</td>\n",
              "      <td>0</td>\n",
              "    </tr>\n",
              "    <tr>\n",
              "      <th>139</th>\n",
              "      <td>7.0</td>\n",
              "      <td>7</td>\n",
              "      <td>tvSeries</td>\n",
              "      <td>0.0</td>\n",
              "      <td>2009</td>\n",
              "      <td>30.0</td>\n",
              "      <td>NaN</td>\n",
              "      <td>NaN</td>\n",
              "      <td>NaN</td>\n",
              "      <td>0</td>\n",
              "      <td>0</td>\n",
              "      <td>NaN</td>\n",
              "      <td>NaN</td>\n",
              "      <td>NaN</td>\n",
              "      <td>140</td>\n",
              "      <td>12</td>\n",
              "      <td>1</td>\n",
              "    </tr>\n",
              "    <tr>\n",
              "      <th>300</th>\n",
              "      <td>7.6</td>\n",
              "      <td>5</td>\n",
              "      <td>tvEpisode</td>\n",
              "      <td>0.0</td>\n",
              "      <td>2010</td>\n",
              "      <td>34.0</td>\n",
              "      <td>NaN</td>\n",
              "      <td>NaN</td>\n",
              "      <td>NaN</td>\n",
              "      <td>1</td>\n",
              "      <td>4</td>\n",
              "      <td>NaN</td>\n",
              "      <td>NaN</td>\n",
              "      <td>NaN</td>\n",
              "      <td>301</td>\n",
              "      <td>11</td>\n",
              "      <td>1</td>\n",
              "    </tr>\n",
              "    <tr>\n",
              "      <th>...</th>\n",
              "      <td>...</td>\n",
              "      <td>...</td>\n",
              "      <td>...</td>\n",
              "      <td>...</td>\n",
              "      <td>...</td>\n",
              "      <td>...</td>\n",
              "      <td>...</td>\n",
              "      <td>...</td>\n",
              "      <td>...</td>\n",
              "      <td>...</td>\n",
              "      <td>...</td>\n",
              "      <td>...</td>\n",
              "      <td>...</td>\n",
              "      <td>...</td>\n",
              "      <td>...</td>\n",
              "      <td>...</td>\n",
              "      <td>...</td>\n",
              "    </tr>\n",
              "    <tr>\n",
              "      <th>899780</th>\n",
              "      <td>5.9</td>\n",
              "      <td>10</td>\n",
              "      <td>movie</td>\n",
              "      <td>0.0</td>\n",
              "      <td>1946</td>\n",
              "      <td>91.0</td>\n",
              "      <td>NaN</td>\n",
              "      <td>nm0439290</td>\n",
              "      <td>nm0439290</td>\n",
              "      <td>0</td>\n",
              "      <td>0</td>\n",
              "      <td>NaN</td>\n",
              "      <td>NaN</td>\n",
              "      <td>NaN</td>\n",
              "      <td>899781</td>\n",
              "      <td>75</td>\n",
              "      <td>0</td>\n",
              "    </tr>\n",
              "    <tr>\n",
              "      <th>899791</th>\n",
              "      <td>8.2</td>\n",
              "      <td>8</td>\n",
              "      <td>tvEpisode</td>\n",
              "      <td>0.0</td>\n",
              "      <td>2020</td>\n",
              "      <td>34.0</td>\n",
              "      <td>NaN</td>\n",
              "      <td>nm0450428</td>\n",
              "      <td>nm3961640</td>\n",
              "      <td>0</td>\n",
              "      <td>0</td>\n",
              "      <td>NaN</td>\n",
              "      <td>NaN</td>\n",
              "      <td>NaN</td>\n",
              "      <td>899792</td>\n",
              "      <td>1</td>\n",
              "      <td>1</td>\n",
              "    </tr>\n",
              "    <tr>\n",
              "      <th>899863</th>\n",
              "      <td>7.8</td>\n",
              "      <td>11</td>\n",
              "      <td>tvSpecial</td>\n",
              "      <td>0.0</td>\n",
              "      <td>1989</td>\n",
              "      <td>86.0</td>\n",
              "      <td>NaN</td>\n",
              "      <td>nm0589495</td>\n",
              "      <td>nm0525701</td>\n",
              "      <td>0</td>\n",
              "      <td>0</td>\n",
              "      <td>2.0</td>\n",
              "      <td>imdbDisplay</td>\n",
              "      <td>0.0</td>\n",
              "      <td>899864</td>\n",
              "      <td>32</td>\n",
              "      <td>0</td>\n",
              "    </tr>\n",
              "    <tr>\n",
              "      <th>899903</th>\n",
              "      <td>7.4</td>\n",
              "      <td>39</td>\n",
              "      <td>movie</td>\n",
              "      <td>0.0</td>\n",
              "      <td>1998</td>\n",
              "      <td>79.0</td>\n",
              "      <td>NaN</td>\n",
              "      <td>nm0365098,nm0734287</td>\n",
              "      <td>NaN</td>\n",
              "      <td>0</td>\n",
              "      <td>0</td>\n",
              "      <td>3.0</td>\n",
              "      <td>imdbDisplay</td>\n",
              "      <td>0.0</td>\n",
              "      <td>899904</td>\n",
              "      <td>23</td>\n",
              "      <td>0</td>\n",
              "    </tr>\n",
              "    <tr>\n",
              "      <th>899975</th>\n",
              "      <td>8.0</td>\n",
              "      <td>12</td>\n",
              "      <td>tvSeries</td>\n",
              "      <td>0.0</td>\n",
              "      <td>2005</td>\n",
              "      <td>30.0</td>\n",
              "      <td>NaN</td>\n",
              "      <td>NaN</td>\n",
              "      <td>NaN</td>\n",
              "      <td>0</td>\n",
              "      <td>0</td>\n",
              "      <td>1.0</td>\n",
              "      <td>imdbDisplay</td>\n",
              "      <td>0.0</td>\n",
              "      <td>899976</td>\n",
              "      <td>16</td>\n",
              "      <td>1</td>\n",
              "    </tr>\n",
              "  </tbody>\n",
              "</table>\n",
              "<p>17060 rows × 17 columns</p>\n",
              "</div>"
            ],
            "text/plain": [
              "        averageRating  numVotes  titleType  ...      id  anios_desde_start  es_serie\n",
              "21                8.0         5  tvEpisode  ...      22                  5         1\n",
              "36                5.4        11    tvMovie  ...      37                 37         0\n",
              "116               4.7        13      movie  ...     117                 98         0\n",
              "139               7.0         7   tvSeries  ...     140                 12         1\n",
              "300               7.6         5  tvEpisode  ...     301                 11         1\n",
              "...               ...       ...        ...  ...     ...                ...       ...\n",
              "899780            5.9        10      movie  ...  899781                 75         0\n",
              "899791            8.2         8  tvEpisode  ...  899792                  1         1\n",
              "899863            7.8        11  tvSpecial  ...  899864                 32         0\n",
              "899903            7.4        39      movie  ...  899904                 23         0\n",
              "899975            8.0        12   tvSeries  ...  899976                 16         1\n",
              "\n",
              "[17060 rows x 17 columns]"
            ]
          },
          "metadata": {},
          "execution_count": 222
        }
      ]
    },
    {
      "cell_type": "code",
      "metadata": {
        "id": "tA2mFdo7Jagy"
      },
      "source": [
        "genres = df[df['genres_x'].notnull()].genres_x.tolist()\n",
        "join_genres = ','.join(genres)\n",
        "generos = set(join_genres.split(\",\"))"
      ],
      "execution_count": 223,
      "outputs": []
    },
    {
      "cell_type": "code",
      "metadata": {
        "id": "FhWLEmEEKfK3"
      },
      "source": [
        "#convierto los generos en columnas\n",
        "\n",
        "generos_dummy = df['genres_x'].str.get_dummies(sep=',')\n",
        "#df_dummy = df.copy()"
      ],
      "execution_count": 224,
      "outputs": []
    },
    {
      "cell_type": "code",
      "metadata": {
        "colab": {
          "base_uri": "https://localhost:8080/"
        },
        "id": "ydO2GfKQama9",
        "outputId": "55bd6d7a-cba1-47bd-bfc9-240ad8305d39"
      },
      "source": [
        "generos_dummy.sum().sort_values(ascending=False)"
      ],
      "execution_count": 225,
      "outputs": [
        {
          "output_type": "execute_result",
          "data": {
            "text/plain": [
              "Drama          294517\n",
              "Comedy         280068\n",
              "Short          119865\n",
              "Action         109233\n",
              "Documentary    106962\n",
              "Animation      101027\n",
              "Adventure       95062\n",
              "Crime           91277\n",
              "Romance         66899\n",
              "Family          65819\n",
              "Music           43180\n",
              "Reality-TV      42545\n",
              "Mystery         41731\n",
              "Horror          39161\n",
              "Fantasy         37625\n",
              "Thriller        36788\n",
              "Talk-Show       27064\n",
              "Sci-Fi          25511\n",
              "History         23009\n",
              "Biography       17895\n",
              "Game-Show       17075\n",
              "Sport           16789\n",
              "Adult           16356\n",
              "Western         12082\n",
              "News            12013\n",
              "War             10030\n",
              "Musical          9361\n",
              "Film-Noir         977\n",
              "dtype: int64"
            ]
          },
          "metadata": {},
          "execution_count": 225
        }
      ]
    },
    {
      "cell_type": "code",
      "metadata": {
        "id": "O5sUjPsf3DqX"
      },
      "source": [
        "def splitDataFrameList(df,target_column,separator):\n",
        "    ''' df = dataframe to split,\n",
        "    target_column = the column containing the values to split\n",
        "    separator = the symbol used to perform the split\n",
        "    returns: a dataframe with each entry for the target column separated, with each element moved into a new row. \n",
        "    The values in the other columns are duplicated across the newly divided rows.\n",
        "    '''\n",
        "    def splitListToRows(row,row_accumulator,target_column,separator):\n",
        "        split_row = row[target_column].split(separator)\n",
        "        for s in split_row:\n",
        "            new_row = row.to_dict()\n",
        "            new_row[target_column] = s\n",
        "            row_accumulator.append(new_row)\n",
        "    new_rows = []\n",
        "    df.apply(splitListToRows,axis=1,args = (new_rows,target_column,separator))\n",
        "    new_df = pd.DataFrame(new_rows)\n",
        "    return new_df"
      ],
      "execution_count": 226,
      "outputs": []
    },
    {
      "cell_type": "code",
      "metadata": {
        "id": "97Wv_WTocqvm"
      },
      "source": [
        "df['genres_x'] = df['genres_x'].astype('str')\n",
        "df_gen_stack = splitDataFrameList(df[['titleType','genres_x','averageRating','numVotes']],'genres_x',\",\")"
      ],
      "execution_count": 227,
      "outputs": []
    },
    {
      "cell_type": "code",
      "metadata": {
        "id": "-ayKxOoUhw7w"
      },
      "source": [
        "df_gen_stack['ranking'] = df_gen_stack['averageRating']*df_gen_stack['numVotes']"
      ],
      "execution_count": 228,
      "outputs": []
    },
    {
      "cell_type": "code",
      "metadata": {
        "colab": {
          "base_uri": "https://localhost:8080/",
          "height": 0
        },
        "id": "vRfioqkodb6n",
        "outputId": "4339e776-e35a-431a-d75b-1c53106bf221"
      },
      "source": [
        "gen_avg_rat = df_gen_stack.groupby('genres_x')[['averageRating']].mean().sort_values(by='averageRating',ascending=False)\n",
        "gen_avg_rat.head()"
      ],
      "execution_count": 229,
      "outputs": [
        {
          "output_type": "execute_result",
          "data": {
            "text/html": [
              "<div>\n",
              "<style scoped>\n",
              "    .dataframe tbody tr th:only-of-type {\n",
              "        vertical-align: middle;\n",
              "    }\n",
              "\n",
              "    .dataframe tbody tr th {\n",
              "        vertical-align: top;\n",
              "    }\n",
              "\n",
              "    .dataframe thead th {\n",
              "        text-align: right;\n",
              "    }\n",
              "</style>\n",
              "<table border=\"1\" class=\"dataframe\">\n",
              "  <thead>\n",
              "    <tr style=\"text-align: right;\">\n",
              "      <th></th>\n",
              "      <th>averageRating</th>\n",
              "    </tr>\n",
              "    <tr>\n",
              "      <th>genres_x</th>\n",
              "      <th></th>\n",
              "    </tr>\n",
              "  </thead>\n",
              "  <tbody>\n",
              "    <tr>\n",
              "      <th>History</th>\n",
              "      <td>7.338455</td>\n",
              "    </tr>\n",
              "    <tr>\n",
              "      <th>Documentary</th>\n",
              "      <td>7.224429</td>\n",
              "    </tr>\n",
              "    <tr>\n",
              "      <th>Biography</th>\n",
              "      <td>7.151098</td>\n",
              "    </tr>\n",
              "    <tr>\n",
              "      <th>Mystery</th>\n",
              "      <td>7.121258</td>\n",
              "    </tr>\n",
              "    <tr>\n",
              "      <th>Crime</th>\n",
              "      <td>7.112280</td>\n",
              "    </tr>\n",
              "  </tbody>\n",
              "</table>\n",
              "</div>"
            ],
            "text/plain": [
              "             averageRating\n",
              "genres_x                  \n",
              "History           7.338455\n",
              "Documentary       7.224429\n",
              "Biography         7.151098\n",
              "Mystery           7.121258\n",
              "Crime             7.112280"
            ]
          },
          "metadata": {},
          "execution_count": 229
        }
      ]
    },
    {
      "cell_type": "code",
      "metadata": {
        "colab": {
          "base_uri": "https://localhost:8080/",
          "height": 0
        },
        "id": "dsV5xyJOD9j4",
        "outputId": "20650d2d-1749-474d-f377-d07a2babdfe6"
      },
      "source": [
        "mi_orden = gen_avg_rat.index.tolist()\n",
        "\n",
        "fig, ax = plt.subplots(figsize=(30,8))\n",
        "ax = sns.boxplot(x=\"genres_x\", y=\"averageRating\", data=df_gen_stack, order = mi_orden)\n",
        "ax.set(ylim=(4, 10))"
      ],
      "execution_count": 230,
      "outputs": [
        {
          "output_type": "execute_result",
          "data": {
            "text/plain": [
              "[(4.0, 10.0)]"
            ]
          },
          "metadata": {},
          "execution_count": 230
        },
        {
          "output_type": "display_data",
          "data": {
            "image/png": "[encoded data removed]",
            "text/plain": [
              "<Figure size 2160x576 with 1 Axes>"
            ]
          },
          "metadata": {
            "needs_background": "light"
          }
        }
      ]
    },
    {
      "cell_type": "code",
      "metadata": {
        "colab": {
          "base_uri": "https://localhost:8080/",
          "height": 0
        },
        "id": "A8jbgdVIhNuz",
        "outputId": "ff87d446-a126-4992-ae07-b2b1c997c20b"
      },
      "source": [
        "genYtipo_top_ranking = df_gen_stack.groupby(['titleType','genres_x'])[['ranking']].mean().sort_values(by='ranking',ascending=False).reset_index()\n",
        "genYtipo_top_ranking.head()"
      ],
      "execution_count": 231,
      "outputs": [
        {
          "output_type": "execute_result",
          "data": {
            "text/html": [
              "<div>\n",
              "<style scoped>\n",
              "    .dataframe tbody tr th:only-of-type {\n",
              "        vertical-align: middle;\n",
              "    }\n",
              "\n",
              "    .dataframe tbody tr th {\n",
              "        vertical-align: top;\n",
              "    }\n",
              "\n",
              "    .dataframe thead th {\n",
              "        text-align: right;\n",
              "    }\n",
              "</style>\n",
              "<table border=\"1\" class=\"dataframe\">\n",
              "  <thead>\n",
              "    <tr style=\"text-align: right;\">\n",
              "      <th></th>\n",
              "      <th>titleType</th>\n",
              "      <th>genres_x</th>\n",
              "      <th>ranking</th>\n",
              "    </tr>\n",
              "  </thead>\n",
              "  <tbody>\n",
              "    <tr>\n",
              "      <th>0</th>\n",
              "      <td>movie</td>\n",
              "      <td>Sci-Fi</td>\n",
              "      <td>246507.448603</td>\n",
              "    </tr>\n",
              "    <tr>\n",
              "      <th>1</th>\n",
              "      <td>movie</td>\n",
              "      <td>Adventure</td>\n",
              "      <td>200615.814459</td>\n",
              "    </tr>\n",
              "    <tr>\n",
              "      <th>2</th>\n",
              "      <td>movie</td>\n",
              "      <td>Fantasy</td>\n",
              "      <td>154082.199402</td>\n",
              "    </tr>\n",
              "    <tr>\n",
              "      <th>3</th>\n",
              "      <td>movie</td>\n",
              "      <td>Animation</td>\n",
              "      <td>145938.462557</td>\n",
              "    </tr>\n",
              "    <tr>\n",
              "      <th>4</th>\n",
              "      <td>movie</td>\n",
              "      <td>Action</td>\n",
              "      <td>145112.101436</td>\n",
              "    </tr>\n",
              "  </tbody>\n",
              "</table>\n",
              "</div>"
            ],
            "text/plain": [
              "  titleType   genres_x        ranking\n",
              "0     movie     Sci-Fi  246507.448603\n",
              "1     movie  Adventure  200615.814459\n",
              "2     movie    Fantasy  154082.199402\n",
              "3     movie  Animation  145938.462557\n",
              "4     movie     Action  145112.101436"
            ]
          },
          "metadata": {},
          "execution_count": 231
        }
      ]
    },
    {
      "cell_type": "code",
      "metadata": {
        "colab": {
          "base_uri": "https://localhost:8080/",
          "height": 0
        },
        "id": "4O9R4JtxdlD6",
        "outputId": "c3f08f12-3b30-417b-ceee-925d666c50ef"
      },
      "source": [
        "# para hacer una agrupacion de generos de acuerdo a la cantidad de votos de cada uno\n",
        "gen_cant_votos = df_gen_stack.groupby('genres_x')[['numVotes']].sum().sort_values(by='numVotes',ascending=False)\n",
        "gen_cant_votos.head()"
      ],
      "execution_count": 232,
      "outputs": [
        {
          "output_type": "execute_result",
          "data": {
            "text/html": [
              "<div>\n",
              "<style scoped>\n",
              "    .dataframe tbody tr th:only-of-type {\n",
              "        vertical-align: middle;\n",
              "    }\n",
              "\n",
              "    .dataframe tbody tr th {\n",
              "        vertical-align: top;\n",
              "    }\n",
              "\n",
              "    .dataframe thead th {\n",
              "        text-align: right;\n",
              "    }\n",
              "</style>\n",
              "<table border=\"1\" class=\"dataframe\">\n",
              "  <thead>\n",
              "    <tr style=\"text-align: right;\">\n",
              "      <th></th>\n",
              "      <th>numVotes</th>\n",
              "    </tr>\n",
              "    <tr>\n",
              "      <th>genres_x</th>\n",
              "      <th></th>\n",
              "    </tr>\n",
              "  </thead>\n",
              "  <tbody>\n",
              "    <tr>\n",
              "      <th>Drama</th>\n",
              "      <td>642802602</td>\n",
              "    </tr>\n",
              "    <tr>\n",
              "      <th>Action</th>\n",
              "      <td>569632034</td>\n",
              "    </tr>\n",
              "    <tr>\n",
              "      <th>Adventure</th>\n",
              "      <td>491603545</td>\n",
              "    </tr>\n",
              "    <tr>\n",
              "      <th>Comedy</th>\n",
              "      <td>408106829</td>\n",
              "    </tr>\n",
              "    <tr>\n",
              "      <th>Crime</th>\n",
              "      <td>258198817</td>\n",
              "    </tr>\n",
              "  </tbody>\n",
              "</table>\n",
              "</div>"
            ],
            "text/plain": [
              "            numVotes\n",
              "genres_x            \n",
              "Drama      642802602\n",
              "Action     569632034\n",
              "Adventure  491603545\n",
              "Comedy     408106829\n",
              "Crime      258198817"
            ]
          },
          "metadata": {},
          "execution_count": 232
        }
      ]
    },
    {
      "cell_type": "code",
      "metadata": {
        "id": "quOdnsF4dIS0"
      },
      "source": [
        "#aux = df[['averageRating']].merge(generos_dummy,left_index=True, right_index=True)\n",
        "\n",
        "#for genero in generos_dummy.columns:\n",
        "#  aux[genero] = np.where(aux[genero] == 1, aux['averageRating'], np.nan)"
      ],
      "execution_count": 233,
      "outputs": []
    },
    {
      "cell_type": "code",
      "metadata": {
        "id": "vfNA_F8GaXw0"
      },
      "source": [
        "#a = aux.drop(columns = ['averageRating']).mean().sort_values(ascending = False)\n",
        "#a = pd.DataFrame(a).reset_index()\n",
        "#a.columns = ['genero','averageRating']\n",
        "#a"
      ],
      "execution_count": 234,
      "outputs": []
    },
    {
      "cell_type": "code",
      "metadata": {
        "id": "v7mMVjoQep5h"
      },
      "source": [
        "gen_top = genYtipo_top_ranking['genres_x'].tolist()\n",
        "tipo_top = ['movie']\n",
        "df['tiene_buen_ranking'] = np.where((df['genres_x'].isin(gen_top)) & (df['titleType'].isin(tipo_top)) , 1, 0)\n",
        "resultados['tiene_buen_ranking'] = np.where((resultados['genres_x'].isin(gen_top)) & (resultados['titleType'].isin(tipo_top)) , 1, 0)"
      ],
      "execution_count": 235,
      "outputs": []
    },
    {
      "cell_type": "markdown",
      "metadata": {
        "id": "ui8f9uRrkuP2"
      },
      "source": [
        "La variable tiene_buen_ranking indica si una pelicula,episodio,etc tiene un alto averageRating*numVotos. Tiene sentido que los registros con buen ranking tengan un averageRating mas bajo, ya que su buen ranking se debe a la alta cantidad de votos. Mientras mas votos tenga, mas probable es que el rating promedio baje."
      ]
    },
    {
      "cell_type": "code",
      "metadata": {
        "colab": {
          "base_uri": "https://localhost:8080/",
          "height": 0
        },
        "id": "tsW3IMOldXSu",
        "outputId": "91d06995-2e8a-431c-d5a4-e0a6b4360d4b"
      },
      "source": [
        "ax = sns.boxplot(x=\"tiene_buen_ranking\", y=\"averageRating\", data=df)"
      ],
      "execution_count": 236,
      "outputs": [
        {
          "output_type": "display_data",
          "data": {
            "image/png": "[encoded data removed]",
            "text/plain": [
              "<Figure size 432x288 with 1 Axes>"
            ]
          },
          "metadata": {
            "needs_background": "light"
          }
        }
      ]
    },
    {
      "cell_type": "code",
      "metadata": {
        "id": "1H8l7yIYPBF4"
      },
      "source": [
        "generos_interes = ['Drama','Comedy','Short','Action','Documentary']\n",
        "generos_dummy = generos_dummy[generos_interes]"
      ],
      "execution_count": 237,
      "outputs": []
    },
    {
      "cell_type": "code",
      "metadata": {
        "id": "lEsD1hhyPgFc"
      },
      "source": [
        "for genero in generos_interes:\n",
        "  resultados[genero] = np.where(resultados['genres_x'].str.find(genero)!=-1,1,0)"
      ],
      "execution_count": 238,
      "outputs": []
    },
    {
      "cell_type": "code",
      "metadata": {
        "id": "XD9D1RsQw8us"
      },
      "source": [
        "#df_con_dummies = df.merge(generos_dummy, left_index=True, right_index=True).drop(columns = ['genres_x'],axis=1).copy()"
      ],
      "execution_count": 239,
      "outputs": []
    },
    {
      "cell_type": "code",
      "metadata": {
        "colab": {
          "base_uri": "https://localhost:8080/",
          "height": 0
        },
        "id": "RPCoAMhNjiYW",
        "outputId": "0fec29a7-3f84-4743-d89d-8540f69f2513"
      },
      "source": [
        "df[(df['genres_x'].str.find('Drama')!=-1) & (df['genres_x'].notnull())]"
      ],
      "execution_count": 240,
      "outputs": [
        {
          "output_type": "execute_result",
          "data": {
            "text/html": [
              "<div>\n",
              "<style scoped>\n",
              "    .dataframe tbody tr th:only-of-type {\n",
              "        vertical-align: middle;\n",
              "    }\n",
              "\n",
              "    .dataframe tbody tr th {\n",
              "        vertical-align: top;\n",
              "    }\n",
              "\n",
              "    .dataframe thead th {\n",
              "        text-align: right;\n",
              "    }\n",
              "</style>\n",
              "<table border=\"1\" class=\"dataframe\">\n",
              "  <thead>\n",
              "    <tr style=\"text-align: right;\">\n",
              "      <th></th>\n",
              "      <th>averageRating</th>\n",
              "      <th>numVotes</th>\n",
              "      <th>titleType</th>\n",
              "      <th>isAdult</th>\n",
              "      <th>startYear</th>\n",
              "      <th>runtimeMinutes</th>\n",
              "      <th>genres_x</th>\n",
              "      <th>directors</th>\n",
              "      <th>writers</th>\n",
              "      <th>seasonNumber</th>\n",
              "      <th>episodeNumber</th>\n",
              "      <th>ordering</th>\n",
              "      <th>types</th>\n",
              "      <th>isOriginalTitle</th>\n",
              "      <th>id</th>\n",
              "      <th>anios_desde_start</th>\n",
              "      <th>es_serie</th>\n",
              "      <th>tiene_buen_ranking</th>\n",
              "    </tr>\n",
              "  </thead>\n",
              "  <tbody>\n",
              "    <tr>\n",
              "      <th>5</th>\n",
              "      <td>6.6</td>\n",
              "      <td>5</td>\n",
              "      <td>tvEpisode</td>\n",
              "      <td>0.0</td>\n",
              "      <td>1986</td>\n",
              "      <td>50.0</td>\n",
              "      <td>Comedy,Crime,Drama</td>\n",
              "      <td>nm0857280</td>\n",
              "      <td>nm0302825,nm0384386,nm0821601</td>\n",
              "      <td>1</td>\n",
              "      <td>12</td>\n",
              "      <td>NaN</td>\n",
              "      <td>NaN</td>\n",
              "      <td>NaN</td>\n",
              "      <td>6</td>\n",
              "      <td>35</td>\n",
              "      <td>1</td>\n",
              "      <td>0</td>\n",
              "    </tr>\n",
              "    <tr>\n",
              "      <th>8</th>\n",
              "      <td>5.9</td>\n",
              "      <td>219</td>\n",
              "      <td>short</td>\n",
              "      <td>0.0</td>\n",
              "      <td>2002</td>\n",
              "      <td>15.0</td>\n",
              "      <td>Drama,Romance,Short</td>\n",
              "      <td>nm1210547</td>\n",
              "      <td>nm1210547</td>\n",
              "      <td>0</td>\n",
              "      <td>0</td>\n",
              "      <td>NaN</td>\n",
              "      <td>NaN</td>\n",
              "      <td>NaN</td>\n",
              "      <td>9</td>\n",
              "      <td>19</td>\n",
              "      <td>0</td>\n",
              "      <td>0</td>\n",
              "    </tr>\n",
              "    <tr>\n",
              "      <th>10</th>\n",
              "      <td>7.9</td>\n",
              "      <td>619</td>\n",
              "      <td>tvEpisode</td>\n",
              "      <td>0.0</td>\n",
              "      <td>2010</td>\n",
              "      <td>28.0</td>\n",
              "      <td>Comedy,Drama</td>\n",
              "      <td>nm0638354</td>\n",
              "      <td>nm0254120,nm1718886,nm1861274,nm3275453</td>\n",
              "      <td>7</td>\n",
              "      <td>7</td>\n",
              "      <td>NaN</td>\n",
              "      <td>NaN</td>\n",
              "      <td>NaN</td>\n",
              "      <td>11</td>\n",
              "      <td>11</td>\n",
              "      <td>1</td>\n",
              "      <td>0</td>\n",
              "    </tr>\n",
              "    <tr>\n",
              "      <th>15</th>\n",
              "      <td>8.4</td>\n",
              "      <td>2814</td>\n",
              "      <td>tvSeries</td>\n",
              "      <td>0.0</td>\n",
              "      <td>1971</td>\n",
              "      <td>60.0</td>\n",
              "      <td>Drama</td>\n",
              "      <td>nm0650240,nm0388338,nm0071713,nm0047688,nm0936...</td>\n",
              "      <td>nm0789477,nm0666875,nm0370058,nm0803100,nm0919...</td>\n",
              "      <td>0</td>\n",
              "      <td>0</td>\n",
              "      <td>15.0</td>\n",
              "      <td>imdbDisplay</td>\n",
              "      <td>0.0</td>\n",
              "      <td>16</td>\n",
              "      <td>50</td>\n",
              "      <td>1</td>\n",
              "      <td>0</td>\n",
              "    </tr>\n",
              "    <tr>\n",
              "      <th>16</th>\n",
              "      <td>7.6</td>\n",
              "      <td>21</td>\n",
              "      <td>tvEpisode</td>\n",
              "      <td>0.0</td>\n",
              "      <td>1994</td>\n",
              "      <td>25.0</td>\n",
              "      <td>Comedy,Drama,Family</td>\n",
              "      <td>nm0573732</td>\n",
              "      <td>nm0528480,nm0513516,nm4046499,nm4046047</td>\n",
              "      <td>1</td>\n",
              "      <td>6</td>\n",
              "      <td>NaN</td>\n",
              "      <td>NaN</td>\n",
              "      <td>NaN</td>\n",
              "      <td>17</td>\n",
              "      <td>27</td>\n",
              "      <td>1</td>\n",
              "      <td>0</td>\n",
              "    </tr>\n",
              "    <tr>\n",
              "      <th>...</th>\n",
              "      <td>...</td>\n",
              "      <td>...</td>\n",
              "      <td>...</td>\n",
              "      <td>...</td>\n",
              "      <td>...</td>\n",
              "      <td>...</td>\n",
              "      <td>...</td>\n",
              "      <td>...</td>\n",
              "      <td>...</td>\n",
              "      <td>...</td>\n",
              "      <td>...</td>\n",
              "      <td>...</td>\n",
              "      <td>...</td>\n",
              "      <td>...</td>\n",
              "      <td>...</td>\n",
              "      <td>...</td>\n",
              "      <td>...</td>\n",
              "      <td>...</td>\n",
              "    </tr>\n",
              "    <tr>\n",
              "      <th>899990</th>\n",
              "      <td>7.0</td>\n",
              "      <td>111</td>\n",
              "      <td>movie</td>\n",
              "      <td>0.0</td>\n",
              "      <td>1963</td>\n",
              "      <td>107.0</td>\n",
              "      <td>Drama</td>\n",
              "      <td>nm0620205</td>\n",
              "      <td>nm1021538,nm0442704</td>\n",
              "      <td>0</td>\n",
              "      <td>0</td>\n",
              "      <td>NaN</td>\n",
              "      <td>NaN</td>\n",
              "      <td>NaN</td>\n",
              "      <td>899991</td>\n",
              "      <td>58</td>\n",
              "      <td>0</td>\n",
              "      <td>1</td>\n",
              "    </tr>\n",
              "    <tr>\n",
              "      <th>899991</th>\n",
              "      <td>7.8</td>\n",
              "      <td>165</td>\n",
              "      <td>tvEpisode</td>\n",
              "      <td>0.0</td>\n",
              "      <td>2013</td>\n",
              "      <td>54.0</td>\n",
              "      <td>Crime,Drama,Mystery</td>\n",
              "      <td>nm0699114</td>\n",
              "      <td>nm1161980,nm0010984,nm1131770</td>\n",
              "      <td>1</td>\n",
              "      <td>6</td>\n",
              "      <td>NaN</td>\n",
              "      <td>NaN</td>\n",
              "      <td>NaN</td>\n",
              "      <td>899992</td>\n",
              "      <td>8</td>\n",
              "      <td>1</td>\n",
              "      <td>0</td>\n",
              "    </tr>\n",
              "    <tr>\n",
              "      <th>899993</th>\n",
              "      <td>7.4</td>\n",
              "      <td>455</td>\n",
              "      <td>tvEpisode</td>\n",
              "      <td>0.0</td>\n",
              "      <td>2021</td>\n",
              "      <td>42.0</td>\n",
              "      <td>Crime,Drama,Mystery</td>\n",
              "      <td>nm0867127</td>\n",
              "      <td>nm0005082,nm11353819,nm3080233,nm5518269</td>\n",
              "      <td>1</td>\n",
              "      <td>6</td>\n",
              "      <td>1.0</td>\n",
              "      <td>NaN</td>\n",
              "      <td>0.0</td>\n",
              "      <td>899994</td>\n",
              "      <td>0</td>\n",
              "      <td>1</td>\n",
              "      <td>0</td>\n",
              "    </tr>\n",
              "    <tr>\n",
              "      <th>899994</th>\n",
              "      <td>4.7</td>\n",
              "      <td>7</td>\n",
              "      <td>movie</td>\n",
              "      <td>0.0</td>\n",
              "      <td>1971</td>\n",
              "      <td>83.0</td>\n",
              "      <td>Drama</td>\n",
              "      <td>nm0477483</td>\n",
              "      <td>nm0287566</td>\n",
              "      <td>0</td>\n",
              "      <td>0</td>\n",
              "      <td>NaN</td>\n",
              "      <td>NaN</td>\n",
              "      <td>NaN</td>\n",
              "      <td>899995</td>\n",
              "      <td>50</td>\n",
              "      <td>0</td>\n",
              "      <td>1</td>\n",
              "    </tr>\n",
              "    <tr>\n",
              "      <th>899997</th>\n",
              "      <td>5.4</td>\n",
              "      <td>55</td>\n",
              "      <td>movie</td>\n",
              "      <td>0.0</td>\n",
              "      <td>2003</td>\n",
              "      <td>91.0</td>\n",
              "      <td>Action,Drama,Fantasy</td>\n",
              "      <td>nm0004915</td>\n",
              "      <td>nm0482511</td>\n",
              "      <td>0</td>\n",
              "      <td>0</td>\n",
              "      <td>1.0</td>\n",
              "      <td>imdbDisplay</td>\n",
              "      <td>0.0</td>\n",
              "      <td>899998</td>\n",
              "      <td>18</td>\n",
              "      <td>0</td>\n",
              "      <td>0</td>\n",
              "    </tr>\n",
              "  </tbody>\n",
              "</table>\n",
              "<p>294517 rows × 18 columns</p>\n",
              "</div>"
            ],
            "text/plain": [
              "        averageRating  numVotes  ... es_serie  tiene_buen_ranking\n",
              "5                 6.6         5  ...        1                   0\n",
              "8                 5.9       219  ...        0                   0\n",
              "10                7.9       619  ...        1                   0\n",
              "15                8.4      2814  ...        1                   0\n",
              "16                7.6        21  ...        1                   0\n",
              "...               ...       ...  ...      ...                 ...\n",
              "899990            7.0       111  ...        0                   1\n",
              "899991            7.8       165  ...        1                   0\n",
              "899993            7.4       455  ...        1                   0\n",
              "899994            4.7         7  ...        0                   1\n",
              "899997            5.4        55  ...        0                   0\n",
              "\n",
              "[294517 rows x 18 columns]"
            ]
          },
          "metadata": {},
          "execution_count": 240
        }
      ]
    },
    {
      "cell_type": "code",
      "metadata": {
        "id": "-eJn4MQbJgjy"
      },
      "source": [
        "df['Horror'] = np.where(df['genres_x'].str.find('Horror')!=-1,1,0)\n",
        "resultados['Horror'] = np.where(resultados['genres_x'].str.find('Horror')!=-1,1,0)\n",
        "\n",
        "df['Family'] = np.where(df['genres_x'].str.find('Family')!=-1,1,0)\n",
        "resultados['Family'] = np.where(resultados['genres_x'].str.find('Family')!=-1,1,0)"
      ],
      "execution_count": 241,
      "outputs": []
    },
    {
      "cell_type": "markdown",
      "metadata": {
        "id": "o9-ZkCdGOO_d"
      },
      "source": [
        "##directors & writers"
      ]
    },
    {
      "cell_type": "code",
      "metadata": {
        "colab": {
          "base_uri": "https://localhost:8080/"
        },
        "id": "9j6HeKP2OOry",
        "outputId": "3621d3bf-8c72-4079-c67a-b71e71f3e218"
      },
      "source": [
        "directors = df[df['directors'].notnull()].directors.tolist()\n",
        "join_directors = ','.join(directors)\n",
        "directors = set(join_directors.split(\",\"))\n",
        "len(directors)"
      ],
      "execution_count": 242,
      "outputs": [
        {
          "output_type": "execute_result",
          "data": {
            "text/plain": [
              "215500"
            ]
          },
          "metadata": {},
          "execution_count": 242
        }
      ]
    },
    {
      "cell_type": "code",
      "metadata": {
        "colab": {
          "base_uri": "https://localhost:8080/"
        },
        "id": "13R9k09hAM5k",
        "outputId": "f53dd2f7-73bc-44ae-e421-3d680159e88b"
      },
      "source": [
        "writers = df[df['writers'].notnull()].writers.tolist()\n",
        "join_writers = ','.join(writers)\n",
        "writers = set(join_writers.split(\",\"))\n",
        "len(writers)"
      ],
      "execution_count": 243,
      "outputs": [
        {
          "output_type": "execute_result",
          "data": {
            "text/plain": [
              "326973"
            ]
          },
          "metadata": {},
          "execution_count": 243
        }
      ]
    },
    {
      "cell_type": "code",
      "metadata": {
        "id": "AIlhmu-63FbT"
      },
      "source": [
        "df['directors'] = df['directors'].astype('str')\n",
        "df_dir_stack = splitDataFrameList(df[['directors','averageRating','numVotes']],'directors',\",\")"
      ],
      "execution_count": 244,
      "outputs": []
    },
    {
      "cell_type": "code",
      "metadata": {
        "id": "iiZbl89W1Tdb"
      },
      "source": [
        "df['writers'] = df['writers'].astype('str')\n",
        "df_wri_stack = splitDataFrameList(df[['writers','averageRating','numVotes']],'writers',\",\")"
      ],
      "execution_count": 245,
      "outputs": []
    },
    {
      "cell_type": "code",
      "metadata": {
        "colab": {
          "base_uri": "https://localhost:8080/",
          "height": 232
        },
        "id": "Yr8j6nVW5U0o",
        "outputId": "db284c32-e154-4b70-980b-ca36b81e4185"
      },
      "source": [
        "dir_numVotes_mean = df_dir_stack.groupby('directors')[['numVotes']].mean().round().sort_values(by='numVotes',ascending=False)\n",
        "dir_numVotes_mean.head()"
      ],
      "execution_count": 246,
      "outputs": [
        {
          "output_type": "execute_result",
          "data": {
            "text/html": [
              "<div>\n",
              "<style scoped>\n",
              "    .dataframe tbody tr th:only-of-type {\n",
              "        vertical-align: middle;\n",
              "    }\n",
              "\n",
              "    .dataframe tbody tr th {\n",
              "        vertical-align: top;\n",
              "    }\n",
              "\n",
              "    .dataframe thead th {\n",
              "        text-align: right;\n",
              "    }\n",
              "</style>\n",
              "<table border=\"1\" class=\"dataframe\">\n",
              "  <thead>\n",
              "    <tr style=\"text-align: right;\">\n",
              "      <th></th>\n",
              "      <th>numVotes</th>\n",
              "    </tr>\n",
              "    <tr>\n",
              "      <th>directors</th>\n",
              "      <th></th>\n",
              "    </tr>\n",
              "  </thead>\n",
              "  <tbody>\n",
              "    <tr>\n",
              "      <th>nm0634240</th>\n",
              "      <td>1374022.0</td>\n",
              "    </tr>\n",
              "    <tr>\n",
              "      <th>nm0418362</th>\n",
              "      <td>882675.0</td>\n",
              "    </tr>\n",
              "    <tr>\n",
              "      <th>nm0021249</th>\n",
              "      <td>600398.0</td>\n",
              "    </tr>\n",
              "    <tr>\n",
              "      <th>nm0001392</th>\n",
              "      <td>587345.0</td>\n",
              "    </tr>\n",
              "    <tr>\n",
              "      <th>nm0000116</th>\n",
              "      <td>567464.0</td>\n",
              "    </tr>\n",
              "  </tbody>\n",
              "</table>\n",
              "</div>"
            ],
            "text/plain": [
              "            numVotes\n",
              "directors           \n",
              "nm0634240  1374022.0\n",
              "nm0418362   882675.0\n",
              "nm0021249   600398.0\n",
              "nm0001392   587345.0\n",
              "nm0000116   567464.0"
            ]
          },
          "metadata": {},
          "execution_count": 246
        }
      ]
    },
    {
      "cell_type": "code",
      "metadata": {
        "colab": {
          "base_uri": "https://localhost:8080/",
          "height": 232
        },
        "id": "Hiw_isLWs5YI",
        "outputId": "f18acbc5-4465-41a6-b395-3292c10b44c8"
      },
      "source": [
        "dir_averageRating_mean = df_dir_stack.groupby('directors')[['averageRating']].mean().sort_values(by='averageRating',ascending=False)\n",
        "dir_ratYvot = dir_averageRating_mean.merge(dir_numVotes_mean,left_index=True, right_index=True).sort_values(by='numVotes',ascending = False)\n",
        "dir_ratYvot.head()"
      ],
      "execution_count": 247,
      "outputs": [
        {
          "output_type": "execute_result",
          "data": {
            "text/html": [
              "<div>\n",
              "<style scoped>\n",
              "    .dataframe tbody tr th:only-of-type {\n",
              "        vertical-align: middle;\n",
              "    }\n",
              "\n",
              "    .dataframe tbody tr th {\n",
              "        vertical-align: top;\n",
              "    }\n",
              "\n",
              "    .dataframe thead th {\n",
              "        text-align: right;\n",
              "    }\n",
              "</style>\n",
              "<table border=\"1\" class=\"dataframe\">\n",
              "  <thead>\n",
              "    <tr style=\"text-align: right;\">\n",
              "      <th></th>\n",
              "      <th>averageRating</th>\n",
              "      <th>numVotes</th>\n",
              "    </tr>\n",
              "    <tr>\n",
              "      <th>directors</th>\n",
              "      <th></th>\n",
              "      <th></th>\n",
              "    </tr>\n",
              "  </thead>\n",
              "  <tbody>\n",
              "    <tr>\n",
              "      <th>nm0634240</th>\n",
              "      <td>8.246429</td>\n",
              "      <td>1374022.0</td>\n",
              "    </tr>\n",
              "    <tr>\n",
              "      <th>nm0418362</th>\n",
              "      <td>8.200000</td>\n",
              "      <td>882675.0</td>\n",
              "    </tr>\n",
              "    <tr>\n",
              "      <th>nm0021249</th>\n",
              "      <td>7.680000</td>\n",
              "      <td>600398.0</td>\n",
              "    </tr>\n",
              "    <tr>\n",
              "      <th>nm0001392</th>\n",
              "      <td>7.731818</td>\n",
              "      <td>587345.0</td>\n",
              "    </tr>\n",
              "    <tr>\n",
              "      <th>nm0000116</th>\n",
              "      <td>7.577778</td>\n",
              "      <td>567464.0</td>\n",
              "    </tr>\n",
              "  </tbody>\n",
              "</table>\n",
              "</div>"
            ],
            "text/plain": [
              "           averageRating   numVotes\n",
              "directors                          \n",
              "nm0634240       8.246429  1374022.0\n",
              "nm0418362       8.200000   882675.0\n",
              "nm0021249       7.680000   600398.0\n",
              "nm0001392       7.731818   587345.0\n",
              "nm0000116       7.577778   567464.0"
            ]
          },
          "metadata": {},
          "execution_count": 247
        }
      ]
    },
    {
      "cell_type": "code",
      "metadata": {
        "colab": {
          "base_uri": "https://localhost:8080/"
        },
        "id": "ci-voutUpq3k",
        "outputId": "8c5288df-2ae9-4092-c202-c2f380a9104a"
      },
      "source": [
        "#tomo aprox el 2% de los directores\n",
        "dir_95 = np.percentile(dir_numVotes_mean['numVotes'], 98.3,interpolation = 'midpoint')\n",
        "dir_95"
      ],
      "execution_count": 248,
      "outputs": [
        {
          "output_type": "execute_result",
          "data": {
            "text/plain": [
              "9812.5"
            ]
          },
          "metadata": {},
          "execution_count": 248
        }
      ]
    },
    {
      "cell_type": "code",
      "metadata": {
        "colab": {
          "base_uri": "https://localhost:8080/"
        },
        "id": "Hzbw2KVRBFVK",
        "outputId": "34c7230d-fa13-4c1e-9df4-44fe19deacee"
      },
      "source": [
        "dirs_mas_votados = dir_numVotes_mean[dir_numVotes_mean['numVotes'] > dir_95].index.tolist()\n",
        "dirs_rat_mas8 = dir_averageRating_mean[dir_averageRating_mean['averageRating'] > 8].index.tolist()\n",
        "\n",
        "intersection_set = set.intersection(set(dirs_mas_votados), set(dirs_rat_mas8))\n",
        "intersection_list = list(intersection_set)\n",
        "len(intersection_list)"
      ],
      "execution_count": 249,
      "outputs": [
        {
          "output_type": "execute_result",
          "data": {
            "text/plain": [
              "472"
            ]
          },
          "metadata": {},
          "execution_count": 249
        }
      ]
    },
    {
      "cell_type": "code",
      "metadata": {
        "id": "NBF0h9RDrM16"
      },
      "source": [
        "df['dir_popular'] = np.where(df['directors'].isin(intersection_list),1,0)\n",
        "resultados['dir_popular'] = np.where(resultados['directors'].isin(intersection_list),1,0)"
      ],
      "execution_count": 250,
      "outputs": []
    },
    {
      "cell_type": "code",
      "metadata": {
        "colab": {
          "base_uri": "https://localhost:8080/",
          "height": 280
        },
        "id": "5meFtGP4teuR",
        "outputId": "7805e459-5b81-42ae-a5ef-8ef2753ad1c7"
      },
      "source": [
        "ax = sns.boxplot(x=\"dir_popular\", y=\"averageRating\", data=df)"
      ],
      "execution_count": 251,
      "outputs": [
        {
          "output_type": "display_data",
          "data": {
            "image/png": "[encoded data removed]",
            "text/plain": [
              "<Figure size 432x288 with 1 Axes>"
            ]
          },
          "metadata": {
            "needs_background": "light"
          }
        }
      ]
    },
    {
      "cell_type": "code",
      "metadata": {
        "colab": {
          "base_uri": "https://localhost:8080/",
          "height": 232
        },
        "id": "kwGlY--_6VuF",
        "outputId": "cb1aeccd-4361-4b58-cc28-7473e9c1ea29"
      },
      "source": [
        "dir_averageRating_count = df_dir_stack.groupby('directors')[['averageRating']].count().sort_values(by='averageRating',ascending=False)\n",
        "dir_averageRating_count.head()"
      ],
      "execution_count": 252,
      "outputs": [
        {
          "output_type": "execute_result",
          "data": {
            "text/html": [
              "<div>\n",
              "<style scoped>\n",
              "    .dataframe tbody tr th:only-of-type {\n",
              "        vertical-align: middle;\n",
              "    }\n",
              "\n",
              "    .dataframe tbody tr th {\n",
              "        vertical-align: top;\n",
              "    }\n",
              "\n",
              "    .dataframe thead th {\n",
              "        text-align: right;\n",
              "    }\n",
              "</style>\n",
              "<table border=\"1\" class=\"dataframe\">\n",
              "  <thead>\n",
              "    <tr style=\"text-align: right;\">\n",
              "      <th></th>\n",
              "      <th>averageRating</th>\n",
              "    </tr>\n",
              "    <tr>\n",
              "      <th>directors</th>\n",
              "      <th></th>\n",
              "    </tr>\n",
              "  </thead>\n",
              "  <tbody>\n",
              "    <tr>\n",
              "      <th>nan</th>\n",
              "      <td>135527</td>\n",
              "    </tr>\n",
              "    <tr>\n",
              "      <th>nm1337210</th>\n",
              "      <td>2133</td>\n",
              "    </tr>\n",
              "    <tr>\n",
              "      <th>nm0665889</th>\n",
              "      <td>902</td>\n",
              "    </tr>\n",
              "    <tr>\n",
              "      <th>nm0360253</th>\n",
              "      <td>895</td>\n",
              "    </tr>\n",
              "    <tr>\n",
              "      <th>nm3766090</th>\n",
              "      <td>889</td>\n",
              "    </tr>\n",
              "  </tbody>\n",
              "</table>\n",
              "</div>"
            ],
            "text/plain": [
              "           averageRating\n",
              "directors               \n",
              "nan               135527\n",
              "nm1337210           2133\n",
              "nm0665889            902\n",
              "nm0360253            895\n",
              "nm3766090            889"
            ]
          },
          "metadata": {},
          "execution_count": 252
        }
      ]
    },
    {
      "cell_type": "code",
      "metadata": {
        "colab": {
          "base_uri": "https://localhost:8080/",
          "height": 280
        },
        "id": "cIisQ7jv92vy",
        "outputId": "e47785b5-ba30-4d88-882c-6a6abe65c205"
      },
      "source": [
        "directores_top = dir_averageRating_count[1:6].index.tolist()\n",
        "ax = sns.boxplot(x=\"directors\", y=\"averageRating\", data=df_dir_stack[df_dir_stack['directors'].isin(directores_top)])"
      ],
      "execution_count": 253,
      "outputs": [
        {
          "output_type": "display_data",
          "data": {
            "image/png": "[encoded data removed]",
            "text/plain": [
              "<Figure size 432x288 with 1 Axes>"
            ]
          },
          "metadata": {
            "needs_background": "light"
          }
        }
      ]
    },
    {
      "cell_type": "code",
      "metadata": {
        "colab": {
          "base_uri": "https://localhost:8080/",
          "height": 301
        },
        "id": "pzU1qqRPLjtu",
        "outputId": "ebeca0f8-806d-4c6f-975a-cb7d71221d18"
      },
      "source": [
        "ax = sns.boxplot(x=\"directors\", y=\"numVotes\", data=df_dir_stack[df_dir_stack['directors'].isin(directores_top)])\n",
        "plt.ylim([0,400])"
      ],
      "execution_count": 254,
      "outputs": [
        {
          "output_type": "execute_result",
          "data": {
            "text/plain": [
              "(0.0, 400.0)"
            ]
          },
          "metadata": {},
          "execution_count": 254
        },
        {
          "output_type": "display_data",
          "data": {
            "image/png": "[encoded data removed]",
            "text/plain": [
              "<Figure size 432x288 with 1 Axes>"
            ]
          },
          "metadata": {
            "needs_background": "light"
          }
        }
      ]
    },
    {
      "cell_type": "code",
      "metadata": {
        "id": "PgAiJSjgL0c9"
      },
      "source": [
        "def label_race (row, col):\n",
        "    lab = {\n",
        "        f[0]: 100,\n",
        "        f[1]: 80,\n",
        "        f[2]: 60,\n",
        "        f[3]: 40,\n",
        "        f[4]: 20,\n",
        "    }\n",
        "    return lab.get(row[col], 0)"
      ],
      "execution_count": 255,
      "outputs": []
    },
    {
      "cell_type": "code",
      "metadata": {
        "id": "DvnccrGFMg3k"
      },
      "source": [
        "f=directores_top\n",
        "df['director_f'] = df.apply(lambda row: label_race(row,'directors'), axis=1)\n",
        "resultados['director_f'] = resultados.apply(lambda row: label_race(row,'directors'), axis=1)"
      ],
      "execution_count": 256,
      "outputs": []
    },
    {
      "cell_type": "code",
      "metadata": {
        "colab": {
          "base_uri": "https://localhost:8080/",
          "height": 232
        },
        "id": "FLRd4x1mM-aI",
        "outputId": "3b8679b8-9bcd-41c8-840d-4da20f7f2548"
      },
      "source": [
        "wri_averageRating_count = df_wri_stack.groupby('writers')[['averageRating']].count().sort_values(by='averageRating',ascending=False)\n",
        "wri_averageRating_count.head()"
      ],
      "execution_count": 257,
      "outputs": [
        {
          "output_type": "execute_result",
          "data": {
            "text/html": [
              "<div>\n",
              "<style scoped>\n",
              "    .dataframe tbody tr th:only-of-type {\n",
              "        vertical-align: middle;\n",
              "    }\n",
              "\n",
              "    .dataframe tbody tr th {\n",
              "        vertical-align: top;\n",
              "    }\n",
              "\n",
              "    .dataframe thead th {\n",
              "        text-align: right;\n",
              "    }\n",
              "</style>\n",
              "<table border=\"1\" class=\"dataframe\">\n",
              "  <thead>\n",
              "    <tr style=\"text-align: right;\">\n",
              "      <th></th>\n",
              "      <th>averageRating</th>\n",
              "    </tr>\n",
              "    <tr>\n",
              "      <th>writers</th>\n",
              "      <th></th>\n",
              "    </tr>\n",
              "  </thead>\n",
              "  <tbody>\n",
              "    <tr>\n",
              "      <th>nan</th>\n",
              "      <td>206227</td>\n",
              "    </tr>\n",
              "    <tr>\n",
              "      <th>nm0829537</th>\n",
              "      <td>3042</td>\n",
              "    </tr>\n",
              "    <tr>\n",
              "      <th>nm0935540</th>\n",
              "      <td>2929</td>\n",
              "    </tr>\n",
              "    <tr>\n",
              "      <th>nm0810431</th>\n",
              "      <td>2923</td>\n",
              "    </tr>\n",
              "    <tr>\n",
              "      <th>nm0170306</th>\n",
              "      <td>2244</td>\n",
              "    </tr>\n",
              "  </tbody>\n",
              "</table>\n",
              "</div>"
            ],
            "text/plain": [
              "           averageRating\n",
              "writers                 \n",
              "nan               206227\n",
              "nm0829537           3042\n",
              "nm0935540           2929\n",
              "nm0810431           2923\n",
              "nm0170306           2244"
            ]
          },
          "metadata": {},
          "execution_count": 257
        }
      ]
    },
    {
      "cell_type": "code",
      "metadata": {
        "colab": {
          "base_uri": "https://localhost:8080/"
        },
        "id": "cZ5K8KOyNdvl",
        "outputId": "476b933a-a20b-414e-b77f-a353fdd84d1c"
      },
      "source": [
        "writers_top = dir_averageRating_count[1:6].index.tolist()\n",
        "writers_top"
      ],
      "execution_count": 258,
      "outputs": [
        {
          "output_type": "execute_result",
          "data": {
            "text/plain": [
              "['nm1337210', 'nm0665889', 'nm0360253', 'nm3766090', 'nm0053484']"
            ]
          },
          "metadata": {},
          "execution_count": 258
        }
      ]
    },
    {
      "cell_type": "code",
      "metadata": {
        "colab": {
          "base_uri": "https://localhost:8080/",
          "height": 278
        },
        "id": "v0TpUabWNhEb",
        "outputId": "53a029e4-fa5a-4521-c500-28cb86c2f4d5"
      },
      "source": [
        "ax = sns.boxplot(x=\"writers\", y=\"averageRating\", data=df_wri_stack[df_wri_stack['writers'].isin(writers_top)])"
      ],
      "execution_count": 259,
      "outputs": [
        {
          "output_type": "display_data",
          "data": {
            "image/png": "[encoded data removed]",
            "text/plain": [
              "<Figure size 432x288 with 1 Axes>"
            ]
          },
          "metadata": {
            "needs_background": "light"
          }
        }
      ]
    },
    {
      "cell_type": "code",
      "metadata": {
        "id": "PDokQoyUM4MJ"
      },
      "source": [
        "f=writers_top\n",
        "df['writers_f'] = df.apply (lambda row: label_race(row,'writers'), axis=1)\n",
        "resultados['writers_f'] = resultados.apply (lambda row: label_race(row,'writers'), axis=1)"
      ],
      "execution_count": 260,
      "outputs": []
    },
    {
      "cell_type": "code",
      "metadata": {
        "id": "EqXqMmhjFOhn"
      },
      "source": [
        "df['directors']=np.where(df['directors']=='nan',np.nan,df['directors'])\n",
        "df['writers']=np.where(df['writers']=='nan',np.nan,df['writers'])"
      ],
      "execution_count": 261,
      "outputs": []
    },
    {
      "cell_type": "markdown",
      "metadata": {
        "id": "BDvadWPTAcpC"
      },
      "source": [
        "##seasonNumber & episodeNumber"
      ]
    },
    {
      "cell_type": "code",
      "metadata": {
        "colab": {
          "base_uri": "https://localhost:8080/",
          "height": 0
        },
        "id": "QjszrxU_Agru",
        "outputId": "8a689dc4-43c2-40c5-b10d-2d7385113b49"
      },
      "source": [
        "df[df['seasonNumber'].notnull()][['titleType']].drop_duplicates()"
      ],
      "execution_count": 262,
      "outputs": [
        {
          "output_type": "execute_result",
          "data": {
            "text/html": [
              "<div>\n",
              "<style scoped>\n",
              "    .dataframe tbody tr th:only-of-type {\n",
              "        vertical-align: middle;\n",
              "    }\n",
              "\n",
              "    .dataframe tbody tr th {\n",
              "        vertical-align: top;\n",
              "    }\n",
              "\n",
              "    .dataframe thead th {\n",
              "        text-align: right;\n",
              "    }\n",
              "</style>\n",
              "<table border=\"1\" class=\"dataframe\">\n",
              "  <thead>\n",
              "    <tr style=\"text-align: right;\">\n",
              "      <th></th>\n",
              "      <th>titleType</th>\n",
              "    </tr>\n",
              "  </thead>\n",
              "  <tbody>\n",
              "    <tr>\n",
              "      <th>0</th>\n",
              "      <td>tvEpisode</td>\n",
              "    </tr>\n",
              "    <tr>\n",
              "      <th>2</th>\n",
              "      <td>video</td>\n",
              "    </tr>\n",
              "    <tr>\n",
              "      <th>3</th>\n",
              "      <td>short</td>\n",
              "    </tr>\n",
              "    <tr>\n",
              "      <th>7</th>\n",
              "      <td>movie</td>\n",
              "    </tr>\n",
              "    <tr>\n",
              "      <th>15</th>\n",
              "      <td>tvSeries</td>\n",
              "    </tr>\n",
              "    <tr>\n",
              "      <th>25</th>\n",
              "      <td>tvMovie</td>\n",
              "    </tr>\n",
              "    <tr>\n",
              "      <th>63</th>\n",
              "      <td>tvMiniSeries</td>\n",
              "    </tr>\n",
              "    <tr>\n",
              "      <th>108</th>\n",
              "      <td>tvSpecial</td>\n",
              "    </tr>\n",
              "    <tr>\n",
              "      <th>264</th>\n",
              "      <td>videoGame</td>\n",
              "    </tr>\n",
              "    <tr>\n",
              "      <th>740</th>\n",
              "      <td>tvShort</td>\n",
              "    </tr>\n",
              "  </tbody>\n",
              "</table>\n",
              "</div>"
            ],
            "text/plain": [
              "        titleType\n",
              "0       tvEpisode\n",
              "2           video\n",
              "3           short\n",
              "7           movie\n",
              "15       tvSeries\n",
              "25        tvMovie\n",
              "63   tvMiniSeries\n",
              "108     tvSpecial\n",
              "264     videoGame\n",
              "740       tvShort"
            ]
          },
          "metadata": {},
          "execution_count": 262
        }
      ]
    },
    {
      "cell_type": "code",
      "metadata": {
        "colab": {
          "base_uri": "https://localhost:8080/"
        },
        "id": "Oep1x2JCOiuT",
        "outputId": "9b68549c-90fe-4674-e760-29457f8b10cb"
      },
      "source": [
        "df[df['seasonNumber'].isnull()][['id']].count()"
      ],
      "execution_count": 263,
      "outputs": [
        {
          "output_type": "execute_result",
          "data": {
            "text/plain": [
              "id    0\n",
              "dtype: int64"
            ]
          },
          "metadata": {},
          "execution_count": 263
        }
      ]
    },
    {
      "cell_type": "code",
      "metadata": {
        "colab": {
          "base_uri": "https://localhost:8080/",
          "height": 0
        },
        "id": "qAQLr8H4BXxb",
        "outputId": "bbe6287a-ae31-414a-f4b4-d0d820fb98c8"
      },
      "source": [
        "df[df['episodeNumber'].notnull()][['titleType']].drop_duplicates()"
      ],
      "execution_count": 264,
      "outputs": [
        {
          "output_type": "execute_result",
          "data": {
            "text/html": [
              "<div>\n",
              "<style scoped>\n",
              "    .dataframe tbody tr th:only-of-type {\n",
              "        vertical-align: middle;\n",
              "    }\n",
              "\n",
              "    .dataframe tbody tr th {\n",
              "        vertical-align: top;\n",
              "    }\n",
              "\n",
              "    .dataframe thead th {\n",
              "        text-align: right;\n",
              "    }\n",
              "</style>\n",
              "<table border=\"1\" class=\"dataframe\">\n",
              "  <thead>\n",
              "    <tr style=\"text-align: right;\">\n",
              "      <th></th>\n",
              "      <th>titleType</th>\n",
              "    </tr>\n",
              "  </thead>\n",
              "  <tbody>\n",
              "    <tr>\n",
              "      <th>0</th>\n",
              "      <td>tvEpisode</td>\n",
              "    </tr>\n",
              "    <tr>\n",
              "      <th>2</th>\n",
              "      <td>video</td>\n",
              "    </tr>\n",
              "    <tr>\n",
              "      <th>3</th>\n",
              "      <td>short</td>\n",
              "    </tr>\n",
              "    <tr>\n",
              "      <th>7</th>\n",
              "      <td>movie</td>\n",
              "    </tr>\n",
              "    <tr>\n",
              "      <th>15</th>\n",
              "      <td>tvSeries</td>\n",
              "    </tr>\n",
              "    <tr>\n",
              "      <th>25</th>\n",
              "      <td>tvMovie</td>\n",
              "    </tr>\n",
              "    <tr>\n",
              "      <th>63</th>\n",
              "      <td>tvMiniSeries</td>\n",
              "    </tr>\n",
              "    <tr>\n",
              "      <th>108</th>\n",
              "      <td>tvSpecial</td>\n",
              "    </tr>\n",
              "    <tr>\n",
              "      <th>264</th>\n",
              "      <td>videoGame</td>\n",
              "    </tr>\n",
              "    <tr>\n",
              "      <th>740</th>\n",
              "      <td>tvShort</td>\n",
              "    </tr>\n",
              "  </tbody>\n",
              "</table>\n",
              "</div>"
            ],
            "text/plain": [
              "        titleType\n",
              "0       tvEpisode\n",
              "2           video\n",
              "3           short\n",
              "7           movie\n",
              "15       tvSeries\n",
              "25        tvMovie\n",
              "63   tvMiniSeries\n",
              "108     tvSpecial\n",
              "264     videoGame\n",
              "740       tvShort"
            ]
          },
          "metadata": {},
          "execution_count": 264
        }
      ]
    },
    {
      "cell_type": "code",
      "metadata": {
        "colab": {
          "base_uri": "https://localhost:8080/"
        },
        "id": "UPei8OKqOtgH",
        "outputId": "acbd8b21-aa1e-4968-c34c-187e718ee703"
      },
      "source": [
        "df[df['episodeNumber'].isnull()][['id']].count()"
      ],
      "execution_count": 265,
      "outputs": [
        {
          "output_type": "execute_result",
          "data": {
            "text/plain": [
              "id    0\n",
              "dtype: int64"
            ]
          },
          "metadata": {},
          "execution_count": 265
        }
      ]
    },
    {
      "cell_type": "code",
      "metadata": {
        "colab": {
          "base_uri": "https://localhost:8080/",
          "height": 0
        },
        "id": "letQG-g4BfES",
        "outputId": "6a9d8dc5-a645-4b04-a691-846cee007a1e"
      },
      "source": [
        "df[(df['seasonNumber'].isnull()) & (df['titleType']=='tvEpisode')]"
      ],
      "execution_count": 266,
      "outputs": [
        {
          "output_type": "execute_result",
          "data": {
            "text/html": [
              "<div>\n",
              "<style scoped>\n",
              "    .dataframe tbody tr th:only-of-type {\n",
              "        vertical-align: middle;\n",
              "    }\n",
              "\n",
              "    .dataframe tbody tr th {\n",
              "        vertical-align: top;\n",
              "    }\n",
              "\n",
              "    .dataframe thead th {\n",
              "        text-align: right;\n",
              "    }\n",
              "</style>\n",
              "<table border=\"1\" class=\"dataframe\">\n",
              "  <thead>\n",
              "    <tr style=\"text-align: right;\">\n",
              "      <th></th>\n",
              "      <th>averageRating</th>\n",
              "      <th>numVotes</th>\n",
              "      <th>titleType</th>\n",
              "      <th>isAdult</th>\n",
              "      <th>startYear</th>\n",
              "      <th>runtimeMinutes</th>\n",
              "      <th>genres_x</th>\n",
              "      <th>directors</th>\n",
              "      <th>writers</th>\n",
              "      <th>seasonNumber</th>\n",
              "      <th>episodeNumber</th>\n",
              "      <th>ordering</th>\n",
              "      <th>types</th>\n",
              "      <th>isOriginalTitle</th>\n",
              "      <th>id</th>\n",
              "      <th>anios_desde_start</th>\n",
              "      <th>es_serie</th>\n",
              "      <th>tiene_buen_ranking</th>\n",
              "      <th>Horror</th>\n",
              "      <th>Family</th>\n",
              "      <th>dir_popular</th>\n",
              "      <th>director_f</th>\n",
              "      <th>writers_f</th>\n",
              "    </tr>\n",
              "  </thead>\n",
              "  <tbody>\n",
              "  </tbody>\n",
              "</table>\n",
              "</div>"
            ],
            "text/plain": [
              "Empty DataFrame\n",
              "Columns: [averageRating, numVotes, titleType, isAdult, startYear, runtimeMinutes, genres_x, directors, writers, seasonNumber, episodeNumber, ordering, types, isOriginalTitle, id, anios_desde_start, es_serie, tiene_buen_ranking, Horror, Family, dir_popular, director_f, writers_f]\n",
              "Index: []"
            ]
          },
          "metadata": {},
          "execution_count": 266
        }
      ]
    },
    {
      "cell_type": "markdown",
      "metadata": {
        "id": "JI2lT8j5B48D"
      },
      "source": [
        "##types"
      ]
    },
    {
      "cell_type": "code",
      "metadata": {
        "colab": {
          "base_uri": "https://localhost:8080/"
        },
        "id": "RoMYX34QQ9xn",
        "outputId": "17001d1d-6cca-4740-91ef-026c9c3359d9"
      },
      "source": [
        "get_porc_missing(df,'types',np.nan)"
      ],
      "execution_count": 267,
      "outputs": [
        {
          "output_type": "execute_result",
          "data": {
            "text/plain": [
              "68.65688888888889"
            ]
          },
          "metadata": {},
          "execution_count": 267
        }
      ]
    },
    {
      "cell_type": "code",
      "metadata": {
        "colab": {
          "base_uri": "https://localhost:8080/",
          "height": 0
        },
        "id": "H8ZZysv_PQfN",
        "outputId": "3d19cb49-32d6-42d4-fd90-1d50ad3853ea"
      },
      "source": [
        "types_count = df.groupby('types')[['id']].count().sort_values(by='id',ascending=False)\n",
        "types_top=types_count[0:5].index.tolist()\n",
        "types_count.head()"
      ],
      "execution_count": 268,
      "outputs": [
        {
          "output_type": "execute_result",
          "data": {
            "text/html": [
              "<div>\n",
              "<style scoped>\n",
              "    .dataframe tbody tr th:only-of-type {\n",
              "        vertical-align: middle;\n",
              "    }\n",
              "\n",
              "    .dataframe tbody tr th {\n",
              "        vertical-align: top;\n",
              "    }\n",
              "\n",
              "    .dataframe thead th {\n",
              "        text-align: right;\n",
              "    }\n",
              "</style>\n",
              "<table border=\"1\" class=\"dataframe\">\n",
              "  <thead>\n",
              "    <tr style=\"text-align: right;\">\n",
              "      <th></th>\n",
              "      <th>id</th>\n",
              "    </tr>\n",
              "    <tr>\n",
              "      <th>types</th>\n",
              "      <th></th>\n",
              "    </tr>\n",
              "  </thead>\n",
              "  <tbody>\n",
              "    <tr>\n",
              "      <th>imdbDisplay</th>\n",
              "      <td>258502</td>\n",
              "    </tr>\n",
              "    <tr>\n",
              "      <th>working</th>\n",
              "      <td>12372</td>\n",
              "    </tr>\n",
              "    <tr>\n",
              "      <th>alternative</th>\n",
              "      <td>6520</td>\n",
              "    </tr>\n",
              "    <tr>\n",
              "      <th>dvd</th>\n",
              "      <td>1733</td>\n",
              "    </tr>\n",
              "    <tr>\n",
              "      <th>video</th>\n",
              "      <td>1542</td>\n",
              "    </tr>\n",
              "  </tbody>\n",
              "</table>\n",
              "</div>"
            ],
            "text/plain": [
              "                 id\n",
              "types              \n",
              "imdbDisplay  258502\n",
              "working       12372\n",
              "alternative    6520\n",
              "dvd            1733\n",
              "video          1542"
            ]
          },
          "metadata": {},
          "execution_count": 268
        }
      ]
    },
    {
      "cell_type": "code",
      "metadata": {
        "colab": {
          "base_uri": "https://localhost:8080/",
          "height": 0
        },
        "id": "vwGoWLZXP1xZ",
        "outputId": "bb3d6759-231a-4030-b290-30df947d3fe7"
      },
      "source": [
        "df.groupby('types')[['averageRating']].mean().sort_values(by='averageRating',ascending=False).head()"
      ],
      "execution_count": 269,
      "outputs": [
        {
          "output_type": "execute_result",
          "data": {
            "text/html": [
              "<div>\n",
              "<style scoped>\n",
              "    .dataframe tbody tr th:only-of-type {\n",
              "        vertical-align: middle;\n",
              "    }\n",
              "\n",
              "    .dataframe tbody tr th {\n",
              "        vertical-align: top;\n",
              "    }\n",
              "\n",
              "    .dataframe thead th {\n",
              "        text-align: right;\n",
              "    }\n",
              "</style>\n",
              "<table border=\"1\" class=\"dataframe\">\n",
              "  <thead>\n",
              "    <tr style=\"text-align: right;\">\n",
              "      <th></th>\n",
              "      <th>averageRating</th>\n",
              "    </tr>\n",
              "    <tr>\n",
              "      <th>types</th>\n",
              "      <th></th>\n",
              "    </tr>\n",
              "  </thead>\n",
              "  <tbody>\n",
              "    <tr>\n",
              "      <th>imdbDisplay</th>\n",
              "      <td>6.765153</td>\n",
              "    </tr>\n",
              "    <tr>\n",
              "      <th>festival</th>\n",
              "      <td>6.591225</td>\n",
              "    </tr>\n",
              "    <tr>\n",
              "      <th>festival\u0002working</th>\n",
              "      <td>6.300000</td>\n",
              "    </tr>\n",
              "    <tr>\n",
              "      <th>working</th>\n",
              "      <td>6.054704</td>\n",
              "    </tr>\n",
              "    <tr>\n",
              "      <th>alternative</th>\n",
              "      <td>6.046181</td>\n",
              "    </tr>\n",
              "  </tbody>\n",
              "</table>\n",
              "</div>"
            ],
            "text/plain": [
              "                  averageRating\n",
              "types                          \n",
              "imdbDisplay            6.765153\n",
              "festival               6.591225\n",
              "festival\u0002working       6.300000\n",
              "working                6.054704\n",
              "alternative            6.046181"
            ]
          },
          "metadata": {},
          "execution_count": 269
        }
      ]
    },
    {
      "cell_type": "code",
      "metadata": {
        "colab": {
          "base_uri": "https://localhost:8080/",
          "height": 0
        },
        "id": "g5I24-9QQCte",
        "outputId": "7c0a6c4a-01b9-431f-8d46-4413c43718e6"
      },
      "source": [
        "ax = sns.boxplot(x=\"types\", y=\"averageRating\", data=df[df['types'].isin(types_top)])"
      ],
      "execution_count": 270,
      "outputs": [
        {
          "output_type": "display_data",
          "data": {
            "image/png": "[encoded data removed]",
            "text/plain": [
              "<Figure size 432x288 with 1 Axes>"
            ]
          },
          "metadata": {
            "needs_background": "light"
          }
        }
      ]
    },
    {
      "cell_type": "code",
      "metadata": {
        "id": "q6xFMFm8Q6Fh"
      },
      "source": [
        "f=types_top\n",
        "df['types_f'] = df.apply(lambda row: label_race(row,'types'), axis=1)"
      ],
      "execution_count": 271,
      "outputs": []
    },
    {
      "cell_type": "code",
      "metadata": {
        "colab": {
          "base_uri": "https://localhost:8080/",
          "height": 0
        },
        "id": "S7FX_kuEDfxz",
        "outputId": "38678ece-6cdd-4001-d75d-207ed3c97d31"
      },
      "source": [
        "df.groupby('isOriginalTitle',dropna=False)[['id']].count()"
      ],
      "execution_count": 272,
      "outputs": [
        {
          "output_type": "execute_result",
          "data": {
            "text/html": [
              "<div>\n",
              "<style scoped>\n",
              "    .dataframe tbody tr th:only-of-type {\n",
              "        vertical-align: middle;\n",
              "    }\n",
              "\n",
              "    .dataframe tbody tr th {\n",
              "        vertical-align: top;\n",
              "    }\n",
              "\n",
              "    .dataframe thead th {\n",
              "        text-align: right;\n",
              "    }\n",
              "</style>\n",
              "<table border=\"1\" class=\"dataframe\">\n",
              "  <thead>\n",
              "    <tr style=\"text-align: right;\">\n",
              "      <th></th>\n",
              "      <th>id</th>\n",
              "    </tr>\n",
              "    <tr>\n",
              "      <th>isOriginalTitle</th>\n",
              "      <th></th>\n",
              "    </tr>\n",
              "  </thead>\n",
              "  <tbody>\n",
              "    <tr>\n",
              "      <th>0.0</th>\n",
              "      <td>341286</td>\n",
              "    </tr>\n",
              "    <tr>\n",
              "      <th>1.0</th>\n",
              "      <td>6</td>\n",
              "    </tr>\n",
              "    <tr>\n",
              "      <th>NaN</th>\n",
              "      <td>558708</td>\n",
              "    </tr>\n",
              "  </tbody>\n",
              "</table>\n",
              "</div>"
            ],
            "text/plain": [
              "                     id\n",
              "isOriginalTitle        \n",
              "0.0              341286\n",
              "1.0                   6\n",
              "NaN              558708"
            ]
          },
          "metadata": {},
          "execution_count": 272
        }
      ]
    },
    {
      "cell_type": "markdown",
      "metadata": {
        "id": "m_CC8uYjyILJ"
      },
      "source": [
        "##isAdult"
      ]
    },
    {
      "cell_type": "code",
      "metadata": {
        "colab": {
          "base_uri": "https://localhost:8080/"
        },
        "id": "0bML72YUyJ62",
        "outputId": "7ae5cdbe-f86d-4153-bf09-3f604de5f173"
      },
      "source": [
        "get_porc_missing(df,'isAdult',np.nan)"
      ],
      "execution_count": 273,
      "outputs": [
        {
          "output_type": "execute_result",
          "data": {
            "text/plain": [
              "0.0002222222222222222"
            ]
          },
          "metadata": {},
          "execution_count": 273
        }
      ]
    },
    {
      "cell_type": "code",
      "metadata": {
        "colab": {
          "base_uri": "https://localhost:8080/"
        },
        "id": "tPN_SwxlyNwf",
        "outputId": "2a863d3e-bdea-4336-89c4-20fd7507ad38"
      },
      "source": [
        "get_porc_missing(resultados,'isAdult',np.nan)"
      ],
      "execution_count": 274,
      "outputs": [
        {
          "output_type": "execute_result",
          "data": {
            "text/plain": [
              "0.0009318738118608899"
            ]
          },
          "metadata": {},
          "execution_count": 274
        }
      ]
    },
    {
      "cell_type": "code",
      "metadata": {
        "colab": {
          "base_uri": "https://localhost:8080/",
          "height": 0
        },
        "id": "JlDfnHgKyYyi",
        "outputId": "0994aebf-d98d-406e-fd3b-11c3f5eb1bd8"
      },
      "source": [
        "df.groupby('isAdult')[['id']].count()"
      ],
      "execution_count": 275,
      "outputs": [
        {
          "output_type": "execute_result",
          "data": {
            "text/html": [
              "<div>\n",
              "<style scoped>\n",
              "    .dataframe tbody tr th:only-of-type {\n",
              "        vertical-align: middle;\n",
              "    }\n",
              "\n",
              "    .dataframe tbody tr th {\n",
              "        vertical-align: top;\n",
              "    }\n",
              "\n",
              "    .dataframe thead th {\n",
              "        text-align: right;\n",
              "    }\n",
              "</style>\n",
              "<table border=\"1\" class=\"dataframe\">\n",
              "  <thead>\n",
              "    <tr style=\"text-align: right;\">\n",
              "      <th></th>\n",
              "      <th>id</th>\n",
              "    </tr>\n",
              "    <tr>\n",
              "      <th>isAdult</th>\n",
              "      <th></th>\n",
              "    </tr>\n",
              "  </thead>\n",
              "  <tbody>\n",
              "    <tr>\n",
              "      <th>0.0</th>\n",
              "      <td>883096</td>\n",
              "    </tr>\n",
              "    <tr>\n",
              "      <th>1.0</th>\n",
              "      <td>16901</td>\n",
              "    </tr>\n",
              "    <tr>\n",
              "      <th>2020.0</th>\n",
              "      <td>1</td>\n",
              "    </tr>\n",
              "  </tbody>\n",
              "</table>\n",
              "</div>"
            ],
            "text/plain": [
              "             id\n",
              "isAdult        \n",
              "0.0      883096\n",
              "1.0       16901\n",
              "2020.0        1"
            ]
          },
          "metadata": {},
          "execution_count": 275
        }
      ]
    },
    {
      "cell_type": "code",
      "metadata": {
        "id": "-Cv9JuXjyaID"
      },
      "source": [
        "resultados['isAdult'] = resultados['isAdult'].fillna(0)"
      ],
      "execution_count": 276,
      "outputs": []
    },
    {
      "cell_type": "markdown",
      "metadata": {
        "id": "Zc55jNRsEI27"
      },
      "source": [
        "# Outliers"
      ]
    },
    {
      "cell_type": "code",
      "metadata": {
        "id": "Q1u4RtF-liAx"
      },
      "source": [
        "def datosOutliers(df,columna):\n",
        "  aux = df[df[columna].notnull()]\n",
        "  q1 = np.percentile(aux[columna], 25,interpolation = 'midpoint')\n",
        "  q3 = np.percentile(aux[columna], 75,interpolation = 'midpoint')\n",
        "  iqr = q3 - q1\n",
        "  return [q1,q3,iqr]"
      ],
      "execution_count": 277,
      "outputs": []
    },
    {
      "cell_type": "code",
      "metadata": {
        "id": "ZjZTUbMQluhy"
      },
      "source": [
        "vars_num = df.select_dtypes(exclude = 'object').drop(columns = 'id').columns\n",
        "datos_cols = {key: None for key in vars_num}\n",
        "\n",
        "for columna in vars_num:\n",
        "\n",
        "    datos = {'q1': datosOutliers(df,columna)[0],\n",
        "             'q3': datosOutliers(df,columna)[1],\n",
        "             'iqr': datosOutliers(df,columna)[2]\n",
        "    }\n",
        "\n",
        "    datos_cols[columna]=datos\n",
        "\n",
        "    q1 = datos['q1']\n",
        "    q3 = datos['q3']\n",
        "    iqr = datos['iqr']\n",
        "\n",
        "    #print('\\n\\n',columna,\": \",datos)\n",
        "\n",
        "    upper = q3+1.5*iqr\n",
        "    datos['upper'] = upper\n",
        "    #print(\"Upper bound:\",upper)\n",
        "    \n",
        "    lower = q1-1.5*iqr\n",
        "    datos['lower'] = lower\n",
        "    #print(\"Lower bound:\", lower)\n",
        "\n",
        "    outliers = df[(df[columna] > upper) | (df[columna] < lower)][columna]\n",
        "    datos['outliers'] = list(outliers)\n",
        "    #print(columna,\": \\n\\n\",outliers)"
      ],
      "execution_count": 278,
      "outputs": []
    },
    {
      "cell_type": "code",
      "metadata": {
        "colab": {
          "base_uri": "https://localhost:8080/",
          "height": 0
        },
        "id": "by86e0EJm0Nu",
        "outputId": "b15ed017-8e54-4c60-d0dd-bceeea6d49b8"
      },
      "source": [
        "fig, axs = plt.subplots(3,3, figsize=(22, 10))\n",
        "\n",
        "sns.boxplot(x=df[\"averageRating\"],ax=axs[0,0])\n",
        "sns.boxplot(x=df[\"numVotes\"],ax=axs[1,0])\n",
        "sns.boxplot(x=df[\"isAdult\"],ax=axs[2,0])\n",
        "sns.boxplot(x=df[\"startYear\"],ax=axs[0,1])\n",
        "sns.boxplot(x=df[\"runtimeMinutes\"],ax=axs[1,1])\n",
        "sns.boxplot(x=df[\"seasonNumber\"],ax=axs[2,1])\n",
        "sns.boxplot(x=df[\"episodeNumber\"],ax=axs[0,2])\n",
        "sns.boxplot(x=df[\"ordering\"],ax=axs[1,2])\n",
        "sns.boxplot(x=df[\"isOriginalTitle\"],ax=axs[2,2])\n",
        "\n",
        "plt.show()"
      ],
      "execution_count": 279,
      "outputs": [
        {
          "output_type": "display_data",
          "data": {
            "image/png": "[encoded data removed]",
            "text/plain": [
              "<Figure size 1584x720 with 9 Axes>"
            ]
          },
          "metadata": {
            "needs_background": "light"
          }
        }
      ]
    },
    {
      "cell_type": "markdown",
      "metadata": {
        "id": "jsyh8SKCNMit"
      },
      "source": [
        "###numVotes"
      ]
    },
    {
      "cell_type": "code",
      "metadata": {
        "colab": {
          "base_uri": "https://localhost:8080/"
        },
        "id": "fW3WzsOaNPb3",
        "outputId": "552e1e40-5572-4706-8c01-c7d3b4f7b3fa"
      },
      "source": [
        "# tiene un upper bound demasiado acotado\n",
        "datos_cols['numVotes']['upper']"
      ],
      "execution_count": 280,
      "outputs": [
        {
          "output_type": "execute_result",
          "data": {
            "text/plain": [
              "216.5"
            ]
          },
          "metadata": {},
          "execution_count": 280
        }
      ]
    },
    {
      "cell_type": "markdown",
      "metadata": {
        "id": "hzkLUru6X5Pw"
      },
      "source": [
        "###seasonNumber"
      ]
    },
    {
      "cell_type": "code",
      "metadata": {
        "colab": {
          "base_uri": "https://localhost:8080/",
          "height": 0
        },
        "id": "XMNPd1dKTDT9",
        "outputId": "949802b9-8049-41de-a9ea-5f6bafef22c9"
      },
      "source": [
        "df[df['seasonNumber']>15].sort_values(by='seasonNumber',ascending=False).head(10)"
      ],
      "execution_count": 281,
      "outputs": [
        {
          "output_type": "execute_result",
          "data": {
            "text/html": [
              "<div>\n",
              "<style scoped>\n",
              "    .dataframe tbody tr th:only-of-type {\n",
              "        vertical-align: middle;\n",
              "    }\n",
              "\n",
              "    .dataframe tbody tr th {\n",
              "        vertical-align: top;\n",
              "    }\n",
              "\n",
              "    .dataframe thead th {\n",
              "        text-align: right;\n",
              "    }\n",
              "</style>\n",
              "<table border=\"1\" class=\"dataframe\">\n",
              "  <thead>\n",
              "    <tr style=\"text-align: right;\">\n",
              "      <th></th>\n",
              "      <th>averageRating</th>\n",
              "      <th>numVotes</th>\n",
              "      <th>titleType</th>\n",
              "      <th>isAdult</th>\n",
              "      <th>startYear</th>\n",
              "      <th>runtimeMinutes</th>\n",
              "      <th>genres_x</th>\n",
              "      <th>directors</th>\n",
              "      <th>writers</th>\n",
              "      <th>seasonNumber</th>\n",
              "      <th>episodeNumber</th>\n",
              "      <th>ordering</th>\n",
              "      <th>types</th>\n",
              "      <th>isOriginalTitle</th>\n",
              "      <th>id</th>\n",
              "      <th>anios_desde_start</th>\n",
              "      <th>es_serie</th>\n",
              "      <th>tiene_buen_ranking</th>\n",
              "      <th>Horror</th>\n",
              "      <th>Family</th>\n",
              "      <th>dir_popular</th>\n",
              "      <th>director_f</th>\n",
              "      <th>writers_f</th>\n",
              "      <th>types_f</th>\n",
              "    </tr>\n",
              "  </thead>\n",
              "  <tbody>\n",
              "    <tr>\n",
              "      <th>868009</th>\n",
              "      <td>8.0</td>\n",
              "      <td>51</td>\n",
              "      <td>tvEpisode</td>\n",
              "      <td>0.0</td>\n",
              "      <td>2008</td>\n",
              "      <td>60.0</td>\n",
              "      <td>Biography,Documentary</td>\n",
              "      <td>NaN</td>\n",
              "      <td>nm3002597</td>\n",
              "      <td>2012</td>\n",
              "      <td>2</td>\n",
              "      <td>2.0</td>\n",
              "      <td>imdbDisplay</td>\n",
              "      <td>0.0</td>\n",
              "      <td>868010</td>\n",
              "      <td>13</td>\n",
              "      <td>1</td>\n",
              "      <td>0</td>\n",
              "      <td>0</td>\n",
              "      <td>0</td>\n",
              "      <td>0</td>\n",
              "      <td>0</td>\n",
              "      <td>0</td>\n",
              "      <td>100</td>\n",
              "    </tr>\n",
              "    <tr>\n",
              "      <th>162392</th>\n",
              "      <td>7.6</td>\n",
              "      <td>5</td>\n",
              "      <td>tvEpisode</td>\n",
              "      <td>0.0</td>\n",
              "      <td>0</td>\n",
              "      <td>28.0</td>\n",
              "      <td>Animation,Comedy,Documentary</td>\n",
              "      <td>nm0536160</td>\n",
              "      <td>NaN</td>\n",
              "      <td>1996</td>\n",
              "      <td>162</td>\n",
              "      <td>NaN</td>\n",
              "      <td>NaN</td>\n",
              "      <td>NaN</td>\n",
              "      <td>162393</td>\n",
              "      <td>2021</td>\n",
              "      <td>1</td>\n",
              "      <td>0</td>\n",
              "      <td>0</td>\n",
              "      <td>0</td>\n",
              "      <td>0</td>\n",
              "      <td>0</td>\n",
              "      <td>0</td>\n",
              "      <td>0</td>\n",
              "    </tr>\n",
              "    <tr>\n",
              "      <th>442865</th>\n",
              "      <td>6.4</td>\n",
              "      <td>19</td>\n",
              "      <td>tvEpisode</td>\n",
              "      <td>0.0</td>\n",
              "      <td>1996</td>\n",
              "      <td>28.0</td>\n",
              "      <td>Animation,Comedy,Documentary</td>\n",
              "      <td>nm0609741</td>\n",
              "      <td>nm0609741</td>\n",
              "      <td>1996</td>\n",
              "      <td>155</td>\n",
              "      <td>NaN</td>\n",
              "      <td>NaN</td>\n",
              "      <td>NaN</td>\n",
              "      <td>442866</td>\n",
              "      <td>25</td>\n",
              "      <td>1</td>\n",
              "      <td>0</td>\n",
              "      <td>0</td>\n",
              "      <td>0</td>\n",
              "      <td>0</td>\n",
              "      <td>0</td>\n",
              "      <td>0</td>\n",
              "      <td>0</td>\n",
              "    </tr>\n",
              "    <tr>\n",
              "      <th>479950</th>\n",
              "      <td>7.0</td>\n",
              "      <td>6</td>\n",
              "      <td>tvEpisode</td>\n",
              "      <td>0.0</td>\n",
              "      <td>1996</td>\n",
              "      <td>24.0</td>\n",
              "      <td>Animation,Comedy,Documentary</td>\n",
              "      <td>nm0486188</td>\n",
              "      <td>nm0486188,nm0663064</td>\n",
              "      <td>1996</td>\n",
              "      <td>161</td>\n",
              "      <td>NaN</td>\n",
              "      <td>NaN</td>\n",
              "      <td>NaN</td>\n",
              "      <td>479951</td>\n",
              "      <td>25</td>\n",
              "      <td>1</td>\n",
              "      <td>0</td>\n",
              "      <td>0</td>\n",
              "      <td>0</td>\n",
              "      <td>0</td>\n",
              "      <td>0</td>\n",
              "      <td>0</td>\n",
              "      <td>0</td>\n",
              "    </tr>\n",
              "    <tr>\n",
              "      <th>764515</th>\n",
              "      <td>7.3</td>\n",
              "      <td>21</td>\n",
              "      <td>tvEpisode</td>\n",
              "      <td>0.0</td>\n",
              "      <td>1995</td>\n",
              "      <td>28.0</td>\n",
              "      <td>Animation,Comedy,Documentary</td>\n",
              "      <td>nm1123085,nm0609741</td>\n",
              "      <td>nm3359987,nm0609741</td>\n",
              "      <td>1995</td>\n",
              "      <td>114</td>\n",
              "      <td>NaN</td>\n",
              "      <td>NaN</td>\n",
              "      <td>NaN</td>\n",
              "      <td>764516</td>\n",
              "      <td>26</td>\n",
              "      <td>1</td>\n",
              "      <td>0</td>\n",
              "      <td>0</td>\n",
              "      <td>0</td>\n",
              "      <td>0</td>\n",
              "      <td>0</td>\n",
              "      <td>0</td>\n",
              "      <td>0</td>\n",
              "    </tr>\n",
              "    <tr>\n",
              "      <th>842835</th>\n",
              "      <td>5.8</td>\n",
              "      <td>97</td>\n",
              "      <td>tvEpisode</td>\n",
              "      <td>0.0</td>\n",
              "      <td>1994</td>\n",
              "      <td>27.0</td>\n",
              "      <td>Animation,Comedy,Documentary</td>\n",
              "      <td>nm0637615</td>\n",
              "      <td>nm0637615</td>\n",
              "      <td>1994</td>\n",
              "      <td>74</td>\n",
              "      <td>NaN</td>\n",
              "      <td>NaN</td>\n",
              "      <td>NaN</td>\n",
              "      <td>842836</td>\n",
              "      <td>27</td>\n",
              "      <td>1</td>\n",
              "      <td>0</td>\n",
              "      <td>0</td>\n",
              "      <td>0</td>\n",
              "      <td>0</td>\n",
              "      <td>0</td>\n",
              "      <td>0</td>\n",
              "      <td>0</td>\n",
              "    </tr>\n",
              "    <tr>\n",
              "      <th>456474</th>\n",
              "      <td>8.2</td>\n",
              "      <td>7</td>\n",
              "      <td>tvEpisode</td>\n",
              "      <td>0.0</td>\n",
              "      <td>1967</td>\n",
              "      <td>60.0</td>\n",
              "      <td>Documentary,History</td>\n",
              "      <td>nm0806293</td>\n",
              "      <td>nm0637498</td>\n",
              "      <td>1967</td>\n",
              "      <td>2</td>\n",
              "      <td>1.0</td>\n",
              "      <td>imdbDisplay</td>\n",
              "      <td>0.0</td>\n",
              "      <td>456475</td>\n",
              "      <td>54</td>\n",
              "      <td>1</td>\n",
              "      <td>0</td>\n",
              "      <td>0</td>\n",
              "      <td>0</td>\n",
              "      <td>0</td>\n",
              "      <td>0</td>\n",
              "      <td>0</td>\n",
              "      <td>100</td>\n",
              "    </tr>\n",
              "    <tr>\n",
              "      <th>690835</th>\n",
              "      <td>8.3</td>\n",
              "      <td>8</td>\n",
              "      <td>tvEpisode</td>\n",
              "      <td>0.0</td>\n",
              "      <td>1966</td>\n",
              "      <td>60.0</td>\n",
              "      <td>Documentary,History</td>\n",
              "      <td>nm0422444</td>\n",
              "      <td>nm0637498</td>\n",
              "      <td>1966</td>\n",
              "      <td>1</td>\n",
              "      <td>2.0</td>\n",
              "      <td>imdbDisplay</td>\n",
              "      <td>0.0</td>\n",
              "      <td>690836</td>\n",
              "      <td>55</td>\n",
              "      <td>1</td>\n",
              "      <td>0</td>\n",
              "      <td>0</td>\n",
              "      <td>0</td>\n",
              "      <td>0</td>\n",
              "      <td>0</td>\n",
              "      <td>0</td>\n",
              "      <td>100</td>\n",
              "    </tr>\n",
              "    <tr>\n",
              "      <th>321788</th>\n",
              "      <td>6.6</td>\n",
              "      <td>17</td>\n",
              "      <td>tvEpisode</td>\n",
              "      <td>0.0</td>\n",
              "      <td>1965</td>\n",
              "      <td>60.0</td>\n",
              "      <td>Documentary,History</td>\n",
              "      <td>nm0281310</td>\n",
              "      <td>nm0281310</td>\n",
              "      <td>1965</td>\n",
              "      <td>2</td>\n",
              "      <td>2.0</td>\n",
              "      <td>imdbDisplay</td>\n",
              "      <td>0.0</td>\n",
              "      <td>321789</td>\n",
              "      <td>56</td>\n",
              "      <td>1</td>\n",
              "      <td>0</td>\n",
              "      <td>0</td>\n",
              "      <td>0</td>\n",
              "      <td>0</td>\n",
              "      <td>0</td>\n",
              "      <td>0</td>\n",
              "      <td>100</td>\n",
              "    </tr>\n",
              "    <tr>\n",
              "      <th>528525</th>\n",
              "      <td>8.3</td>\n",
              "      <td>8</td>\n",
              "      <td>tvEpisode</td>\n",
              "      <td>0.0</td>\n",
              "      <td>2017</td>\n",
              "      <td>21.0</td>\n",
              "      <td>Reality-TV</td>\n",
              "      <td>NaN</td>\n",
              "      <td>NaN</td>\n",
              "      <td>135</td>\n",
              "      <td>2</td>\n",
              "      <td>1.0</td>\n",
              "      <td>imdbDisplay</td>\n",
              "      <td>0.0</td>\n",
              "      <td>528526</td>\n",
              "      <td>4</td>\n",
              "      <td>1</td>\n",
              "      <td>0</td>\n",
              "      <td>0</td>\n",
              "      <td>0</td>\n",
              "      <td>0</td>\n",
              "      <td>0</td>\n",
              "      <td>0</td>\n",
              "      <td>100</td>\n",
              "    </tr>\n",
              "  </tbody>\n",
              "</table>\n",
              "</div>"
            ],
            "text/plain": [
              "        averageRating  numVotes  titleType  ...  director_f  writers_f  types_f\n",
              "868009            8.0        51  tvEpisode  ...           0          0      100\n",
              "162392            7.6         5  tvEpisode  ...           0          0        0\n",
              "442865            6.4        19  tvEpisode  ...           0          0        0\n",
              "479950            7.0         6  tvEpisode  ...           0          0        0\n",
              "764515            7.3        21  tvEpisode  ...           0          0        0\n",
              "842835            5.8        97  tvEpisode  ...           0          0        0\n",
              "456474            8.2         7  tvEpisode  ...           0          0      100\n",
              "690835            8.3         8  tvEpisode  ...           0          0      100\n",
              "321788            6.6        17  tvEpisode  ...           0          0      100\n",
              "528525            8.3         8  tvEpisode  ...           0          0      100\n",
              "\n",
              "[10 rows x 24 columns]"
            ]
          },
          "metadata": {},
          "execution_count": 281
        }
      ]
    },
    {
      "cell_type": "code",
      "metadata": {
        "id": "Nin-xmg3WIy7"
      },
      "source": [
        "df = df.drop(df[df['seasonNumber']>=1965].index)"
      ],
      "execution_count": 282,
      "outputs": []
    },
    {
      "cell_type": "code",
      "metadata": {
        "id": "gNRIcSq9TqWr"
      },
      "source": [
        "df['genres_x'] = df['genres_x'].astype('str')\n",
        "df_genres_stack = splitDataFrameList(df[['genres_x','seasonNumber','averageRating']],'genres_x',\",\")"
      ],
      "execution_count": 283,
      "outputs": []
    },
    {
      "cell_type": "code",
      "metadata": {
        "colab": {
          "base_uri": "https://localhost:8080/",
          "height": 0
        },
        "id": "arFmQUA8U_Mo",
        "outputId": "e297e114-2ad3-49d5-c9e1-696a4ce842a4"
      },
      "source": [
        "genres_count=df_genres_stack.groupby('genres_x')[['averageRating']].count().sort_values(by='averageRating',ascending=False).head()\n",
        "genres_count"
      ],
      "execution_count": 284,
      "outputs": [
        {
          "output_type": "execute_result",
          "data": {
            "text/html": [
              "<div>\n",
              "<style scoped>\n",
              "    .dataframe tbody tr th:only-of-type {\n",
              "        vertical-align: middle;\n",
              "    }\n",
              "\n",
              "    .dataframe tbody tr th {\n",
              "        vertical-align: top;\n",
              "    }\n",
              "\n",
              "    .dataframe thead th {\n",
              "        text-align: right;\n",
              "    }\n",
              "</style>\n",
              "<table border=\"1\" class=\"dataframe\">\n",
              "  <thead>\n",
              "    <tr style=\"text-align: right;\">\n",
              "      <th></th>\n",
              "      <th>averageRating</th>\n",
              "    </tr>\n",
              "    <tr>\n",
              "      <th>genres_x</th>\n",
              "      <th></th>\n",
              "    </tr>\n",
              "  </thead>\n",
              "  <tbody>\n",
              "    <tr>\n",
              "      <th>Drama</th>\n",
              "      <td>294517</td>\n",
              "    </tr>\n",
              "    <tr>\n",
              "      <th>Comedy</th>\n",
              "      <td>280063</td>\n",
              "    </tr>\n",
              "    <tr>\n",
              "      <th>Short</th>\n",
              "      <td>119865</td>\n",
              "    </tr>\n",
              "    <tr>\n",
              "      <th>Action</th>\n",
              "      <td>109233</td>\n",
              "    </tr>\n",
              "    <tr>\n",
              "      <th>Documentary</th>\n",
              "      <td>106953</td>\n",
              "    </tr>\n",
              "  </tbody>\n",
              "</table>\n",
              "</div>"
            ],
            "text/plain": [
              "             averageRating\n",
              "genres_x                  \n",
              "Drama               294517\n",
              "Comedy              280063\n",
              "Short               119865\n",
              "Action              109233\n",
              "Documentary         106953"
            ]
          },
          "metadata": {},
          "execution_count": 284
        }
      ]
    },
    {
      "cell_type": "code",
      "metadata": {
        "colab": {
          "base_uri": "https://localhost:8080/",
          "height": 0
        },
        "id": "ajNeAls2cVCc",
        "outputId": "b906aabe-1d7d-4a5d-f0e0-f99604296429"
      },
      "source": [
        "df_genres_stack.groupby('genres_x')[['seasonNumber']].max().sort_values(by='seasonNumber',ascending=False).head()"
      ],
      "execution_count": 285,
      "outputs": [
        {
          "output_type": "execute_result",
          "data": {
            "text/html": [
              "<div>\n",
              "<style scoped>\n",
              "    .dataframe tbody tr th:only-of-type {\n",
              "        vertical-align: middle;\n",
              "    }\n",
              "\n",
              "    .dataframe tbody tr th {\n",
              "        vertical-align: top;\n",
              "    }\n",
              "\n",
              "    .dataframe thead th {\n",
              "        text-align: right;\n",
              "    }\n",
              "</style>\n",
              "<table border=\"1\" class=\"dataframe\">\n",
              "  <thead>\n",
              "    <tr style=\"text-align: right;\">\n",
              "      <th></th>\n",
              "      <th>seasonNumber</th>\n",
              "    </tr>\n",
              "    <tr>\n",
              "      <th>genres_x</th>\n",
              "      <th></th>\n",
              "    </tr>\n",
              "  </thead>\n",
              "  <tbody>\n",
              "    <tr>\n",
              "      <th>Reality-TV</th>\n",
              "      <td>135</td>\n",
              "    </tr>\n",
              "    <tr>\n",
              "      <th>Game-Show</th>\n",
              "      <td>82</td>\n",
              "    </tr>\n",
              "    <tr>\n",
              "      <th>Sport</th>\n",
              "      <td>77</td>\n",
              "    </tr>\n",
              "    <tr>\n",
              "      <th>Documentary</th>\n",
              "      <td>69</td>\n",
              "    </tr>\n",
              "    <tr>\n",
              "      <th>News</th>\n",
              "      <td>69</td>\n",
              "    </tr>\n",
              "  </tbody>\n",
              "</table>\n",
              "</div>"
            ],
            "text/plain": [
              "             seasonNumber\n",
              "genres_x                 \n",
              "Reality-TV            135\n",
              "Game-Show              82\n",
              "Sport                  77\n",
              "Documentary            69\n",
              "News                   69"
            ]
          },
          "metadata": {},
          "execution_count": 285
        }
      ]
    },
    {
      "cell_type": "code",
      "metadata": {
        "colab": {
          "base_uri": "https://localhost:8080/",
          "height": 0
        },
        "id": "z51wdXkBVTxe",
        "outputId": "a7ec0a21-2ed5-47c5-94f0-8392563b6de6"
      },
      "source": [
        "df[df['genres_x'].notnull()].groupby(['genres_x','directors','writers'])[['averageRating']].count()"
      ],
      "execution_count": 286,
      "outputs": [
        {
          "output_type": "execute_result",
          "data": {
            "text/html": [
              "<div>\n",
              "<style scoped>\n",
              "    .dataframe tbody tr th:only-of-type {\n",
              "        vertical-align: middle;\n",
              "    }\n",
              "\n",
              "    .dataframe tbody tr th {\n",
              "        vertical-align: top;\n",
              "    }\n",
              "\n",
              "    .dataframe thead th {\n",
              "        text-align: right;\n",
              "    }\n",
              "</style>\n",
              "<table border=\"1\" class=\"dataframe\">\n",
              "  <thead>\n",
              "    <tr style=\"text-align: right;\">\n",
              "      <th></th>\n",
              "      <th></th>\n",
              "      <th></th>\n",
              "      <th>averageRating</th>\n",
              "    </tr>\n",
              "    <tr>\n",
              "      <th>genres_x</th>\n",
              "      <th>directors</th>\n",
              "      <th>writers</th>\n",
              "      <th></th>\n",
              "    </tr>\n",
              "  </thead>\n",
              "  <tbody>\n",
              "    <tr>\n",
              "      <th rowspan=\"5\" valign=\"top\">Action</th>\n",
              "      <th>nm0000247</th>\n",
              "      <th>nm0393250,nm0000247</th>\n",
              "      <td>1</td>\n",
              "    </tr>\n",
              "    <tr>\n",
              "      <th>nm0000647</th>\n",
              "      <th>nm0457048</th>\n",
              "      <td>1</td>\n",
              "    </tr>\n",
              "    <tr>\n",
              "      <th>nm0000647,nm0939202</th>\n",
              "      <th>nm0570226,nm0305413,nm0666806</th>\n",
              "      <td>1</td>\n",
              "    </tr>\n",
              "    <tr>\n",
              "      <th>nm0001092</th>\n",
              "      <th>nm0357326,nm1323785,nm0001092</th>\n",
              "      <td>1</td>\n",
              "    </tr>\n",
              "    <tr>\n",
              "      <th>nm0001206</th>\n",
              "      <th>nm0343419</th>\n",
              "      <td>1</td>\n",
              "    </tr>\n",
              "    <tr>\n",
              "      <th>...</th>\n",
              "      <th>...</th>\n",
              "      <th>...</th>\n",
              "      <td>...</td>\n",
              "    </tr>\n",
              "    <tr>\n",
              "      <th rowspan=\"5\" valign=\"top\">nan</th>\n",
              "      <th>nm9913311</th>\n",
              "      <th>nm9913311</th>\n",
              "      <td>1</td>\n",
              "    </tr>\n",
              "    <tr>\n",
              "      <th>nm9925048,nm10386911</th>\n",
              "      <th>nm9486622,nm9925048,nm11235350,nm11361170</th>\n",
              "      <td>1</td>\n",
              "    </tr>\n",
              "    <tr>\n",
              "      <th>nm9926246,nm9231217,nm4869802</th>\n",
              "      <th>nm0131387,nm5233193</th>\n",
              "      <td>1</td>\n",
              "    </tr>\n",
              "    <tr>\n",
              "      <th>nm9951743</th>\n",
              "      <th>nm9951743</th>\n",
              "      <td>1</td>\n",
              "    </tr>\n",
              "    <tr>\n",
              "      <th>nm9970819</th>\n",
              "      <th>nm9970821,nm9970820</th>\n",
              "      <td>1</td>\n",
              "    </tr>\n",
              "  </tbody>\n",
              "</table>\n",
              "<p>495628 rows × 1 columns</p>\n",
              "</div>"
            ],
            "text/plain": [
              "                                                                                  averageRating\n",
              "genres_x directors                     writers                                                 \n",
              "Action   nm0000247                     nm0393250,nm0000247                                    1\n",
              "         nm0000647                     nm0457048                                              1\n",
              "         nm0000647,nm0939202           nm0570226,nm0305413,nm0666806                          1\n",
              "         nm0001092                     nm0357326,nm1323785,nm0001092                          1\n",
              "         nm0001206                     nm0343419                                              1\n",
              "...                                                                                         ...\n",
              "nan      nm9913311                     nm9913311                                              1\n",
              "         nm9925048,nm10386911          nm9486622,nm9925048,nm11235350,nm11361170              1\n",
              "         nm9926246,nm9231217,nm4869802 nm0131387,nm5233193                                    1\n",
              "         nm9951743                     nm9951743                                              1\n",
              "         nm9970819                     nm9970821,nm9970820                                    1\n",
              "\n",
              "[495628 rows x 1 columns]"
            ]
          },
          "metadata": {},
          "execution_count": 286
        }
      ]
    },
    {
      "cell_type": "markdown",
      "metadata": {
        "id": "Kr1C4as0YDt7"
      },
      "source": [
        "###startYear"
      ]
    },
    {
      "cell_type": "code",
      "metadata": {
        "colab": {
          "base_uri": "https://localhost:8080/"
        },
        "id": "pUU1VA10YHxV",
        "outputId": "d83ffb24-d6f2-4922-db27-f928267bed40"
      },
      "source": [
        "min(datos_cols['startYear']['outliers'])"
      ],
      "execution_count": 287,
      "outputs": [
        {
          "output_type": "execute_result",
          "data": {
            "text/plain": [
              "0"
            ]
          },
          "metadata": {},
          "execution_count": 287
        }
      ]
    },
    {
      "cell_type": "code",
      "metadata": {
        "colab": {
          "base_uri": "https://localhost:8080/",
          "height": 0
        },
        "id": "EQK6rRWGaFhI",
        "outputId": "c26f6194-1136-4396-92ba-590f6a333833"
      },
      "source": [
        "#https://headsup.scoutlife.org/what-was-the-first-movie-ever-made/\n",
        "df[df['startYear']==1874]"
      ],
      "execution_count": 288,
      "outputs": [
        {
          "output_type": "execute_result",
          "data": {
            "text/html": [
              "<div>\n",
              "<style scoped>\n",
              "    .dataframe tbody tr th:only-of-type {\n",
              "        vertical-align: middle;\n",
              "    }\n",
              "\n",
              "    .dataframe tbody tr th {\n",
              "        vertical-align: top;\n",
              "    }\n",
              "\n",
              "    .dataframe thead th {\n",
              "        text-align: right;\n",
              "    }\n",
              "</style>\n",
              "<table border=\"1\" class=\"dataframe\">\n",
              "  <thead>\n",
              "    <tr style=\"text-align: right;\">\n",
              "      <th></th>\n",
              "      <th>averageRating</th>\n",
              "      <th>numVotes</th>\n",
              "      <th>titleType</th>\n",
              "      <th>isAdult</th>\n",
              "      <th>startYear</th>\n",
              "      <th>runtimeMinutes</th>\n",
              "      <th>genres_x</th>\n",
              "      <th>directors</th>\n",
              "      <th>writers</th>\n",
              "      <th>seasonNumber</th>\n",
              "      <th>episodeNumber</th>\n",
              "      <th>ordering</th>\n",
              "      <th>types</th>\n",
              "      <th>isOriginalTitle</th>\n",
              "      <th>id</th>\n",
              "      <th>anios_desde_start</th>\n",
              "      <th>es_serie</th>\n",
              "      <th>tiene_buen_ranking</th>\n",
              "      <th>Horror</th>\n",
              "      <th>Family</th>\n",
              "      <th>dir_popular</th>\n",
              "      <th>director_f</th>\n",
              "      <th>writers_f</th>\n",
              "      <th>types_f</th>\n",
              "    </tr>\n",
              "  </thead>\n",
              "  <tbody>\n",
              "    <tr>\n",
              "      <th>69603</th>\n",
              "      <td>6.9</td>\n",
              "      <td>1431</td>\n",
              "      <td>short</td>\n",
              "      <td>0.0</td>\n",
              "      <td>1874</td>\n",
              "      <td>1.0</td>\n",
              "      <td>Documentary,Short</td>\n",
              "      <td>nm1715062</td>\n",
              "      <td>NaN</td>\n",
              "      <td>0</td>\n",
              "      <td>0</td>\n",
              "      <td>5.0</td>\n",
              "      <td>imdbDisplay</td>\n",
              "      <td>0.0</td>\n",
              "      <td>69604</td>\n",
              "      <td>147</td>\n",
              "      <td>0</td>\n",
              "      <td>0</td>\n",
              "      <td>0</td>\n",
              "      <td>0</td>\n",
              "      <td>0</td>\n",
              "      <td>0</td>\n",
              "      <td>0</td>\n",
              "      <td>100</td>\n",
              "    </tr>\n",
              "  </tbody>\n",
              "</table>\n",
              "</div>"
            ],
            "text/plain": [
              "       averageRating  numVotes titleType  ...  director_f  writers_f  types_f\n",
              "69603            6.9      1431     short  ...           0          0      100\n",
              "\n",
              "[1 rows x 24 columns]"
            ]
          },
          "metadata": {},
          "execution_count": 288
        }
      ]
    },
    {
      "cell_type": "markdown",
      "metadata": {
        "id": "Ju-3jaUxX8mk"
      },
      "source": [
        "###episodeNumber"
      ]
    },
    {
      "cell_type": "code",
      "metadata": {
        "colab": {
          "base_uri": "https://localhost:8080/",
          "height": 0
        },
        "id": "NkfCia4rafyh",
        "outputId": "17ea256c-0c67-41eb-c69f-c256518d4a8d"
      },
      "source": [
        "datos_cols['episodeNumber']['outliers']\n",
        "df[df['episodeNumber']>1000]"
      ],
      "execution_count": 289,
      "outputs": [
        {
          "output_type": "execute_result",
          "data": {
            "text/html": [
              "<div>\n",
              "<style scoped>\n",
              "    .dataframe tbody tr th:only-of-type {\n",
              "        vertical-align: middle;\n",
              "    }\n",
              "\n",
              "    .dataframe tbody tr th {\n",
              "        vertical-align: top;\n",
              "    }\n",
              "\n",
              "    .dataframe thead th {\n",
              "        text-align: right;\n",
              "    }\n",
              "</style>\n",
              "<table border=\"1\" class=\"dataframe\">\n",
              "  <thead>\n",
              "    <tr style=\"text-align: right;\">\n",
              "      <th></th>\n",
              "      <th>averageRating</th>\n",
              "      <th>numVotes</th>\n",
              "      <th>titleType</th>\n",
              "      <th>isAdult</th>\n",
              "      <th>startYear</th>\n",
              "      <th>runtimeMinutes</th>\n",
              "      <th>genres_x</th>\n",
              "      <th>directors</th>\n",
              "      <th>writers</th>\n",
              "      <th>seasonNumber</th>\n",
              "      <th>episodeNumber</th>\n",
              "      <th>ordering</th>\n",
              "      <th>types</th>\n",
              "      <th>isOriginalTitle</th>\n",
              "      <th>id</th>\n",
              "      <th>anios_desde_start</th>\n",
              "      <th>es_serie</th>\n",
              "      <th>tiene_buen_ranking</th>\n",
              "      <th>Horror</th>\n",
              "      <th>Family</th>\n",
              "      <th>dir_popular</th>\n",
              "      <th>director_f</th>\n",
              "      <th>writers_f</th>\n",
              "      <th>types_f</th>\n",
              "    </tr>\n",
              "  </thead>\n",
              "  <tbody>\n",
              "    <tr>\n",
              "      <th>168</th>\n",
              "      <td>8.4</td>\n",
              "      <td>6</td>\n",
              "      <td>tvEpisode</td>\n",
              "      <td>0.0</td>\n",
              "      <td>2008</td>\n",
              "      <td>34.0</td>\n",
              "      <td>Drama,Romance</td>\n",
              "      <td>NaN</td>\n",
              "      <td>nm2183823</td>\n",
              "      <td>1</td>\n",
              "      <td>5398</td>\n",
              "      <td>NaN</td>\n",
              "      <td>NaN</td>\n",
              "      <td>NaN</td>\n",
              "      <td>169</td>\n",
              "      <td>13</td>\n",
              "      <td>1</td>\n",
              "      <td>0</td>\n",
              "      <td>0</td>\n",
              "      <td>0</td>\n",
              "      <td>0</td>\n",
              "      <td>0</td>\n",
              "      <td>0</td>\n",
              "      <td>0</td>\n",
              "    </tr>\n",
              "    <tr>\n",
              "      <th>1048</th>\n",
              "      <td>8.0</td>\n",
              "      <td>5</td>\n",
              "      <td>tvEpisode</td>\n",
              "      <td>0.0</td>\n",
              "      <td>2013</td>\n",
              "      <td>28.0</td>\n",
              "      <td>Drama,Romance</td>\n",
              "      <td>nm0705249</td>\n",
              "      <td>nm1035004</td>\n",
              "      <td>1</td>\n",
              "      <td>5762</td>\n",
              "      <td>NaN</td>\n",
              "      <td>NaN</td>\n",
              "      <td>NaN</td>\n",
              "      <td>1049</td>\n",
              "      <td>8</td>\n",
              "      <td>1</td>\n",
              "      <td>0</td>\n",
              "      <td>0</td>\n",
              "      <td>0</td>\n",
              "      <td>0</td>\n",
              "      <td>0</td>\n",
              "      <td>0</td>\n",
              "      <td>0</td>\n",
              "    </tr>\n",
              "    <tr>\n",
              "      <th>1632</th>\n",
              "      <td>9.4</td>\n",
              "      <td>5</td>\n",
              "      <td>tvEpisode</td>\n",
              "      <td>0.0</td>\n",
              "      <td>2019</td>\n",
              "      <td>34.0</td>\n",
              "      <td>Crime,Drama,Romance</td>\n",
              "      <td>nm0526389</td>\n",
              "      <td>nm0022935,nm9436004,nm1250889,nm3601736,nm1014...</td>\n",
              "      <td>1</td>\n",
              "      <td>14362</td>\n",
              "      <td>NaN</td>\n",
              "      <td>NaN</td>\n",
              "      <td>NaN</td>\n",
              "      <td>1633</td>\n",
              "      <td>2</td>\n",
              "      <td>1</td>\n",
              "      <td>0</td>\n",
              "      <td>0</td>\n",
              "      <td>0</td>\n",
              "      <td>0</td>\n",
              "      <td>0</td>\n",
              "      <td>0</td>\n",
              "      <td>0</td>\n",
              "    </tr>\n",
              "    <tr>\n",
              "      <th>1961</th>\n",
              "      <td>7.7</td>\n",
              "      <td>7</td>\n",
              "      <td>tvEpisode</td>\n",
              "      <td>0.0</td>\n",
              "      <td>2015</td>\n",
              "      <td>28.0</td>\n",
              "      <td>Drama,Romance</td>\n",
              "      <td>nm0636616</td>\n",
              "      <td>nm3464219,nm5939618</td>\n",
              "      <td>1</td>\n",
              "      <td>6121</td>\n",
              "      <td>NaN</td>\n",
              "      <td>NaN</td>\n",
              "      <td>NaN</td>\n",
              "      <td>1962</td>\n",
              "      <td>6</td>\n",
              "      <td>1</td>\n",
              "      <td>0</td>\n",
              "      <td>0</td>\n",
              "      <td>0</td>\n",
              "      <td>0</td>\n",
              "      <td>0</td>\n",
              "      <td>0</td>\n",
              "      <td>0</td>\n",
              "    </tr>\n",
              "    <tr>\n",
              "      <th>2813</th>\n",
              "      <td>5.4</td>\n",
              "      <td>5</td>\n",
              "      <td>tvEpisode</td>\n",
              "      <td>0.0</td>\n",
              "      <td>2018</td>\n",
              "      <td>34.0</td>\n",
              "      <td>Drama,Romance</td>\n",
              "      <td>NaN</td>\n",
              "      <td>nm0027442</td>\n",
              "      <td>1</td>\n",
              "      <td>13405</td>\n",
              "      <td>NaN</td>\n",
              "      <td>NaN</td>\n",
              "      <td>NaN</td>\n",
              "      <td>2814</td>\n",
              "      <td>3</td>\n",
              "      <td>1</td>\n",
              "      <td>0</td>\n",
              "      <td>0</td>\n",
              "      <td>0</td>\n",
              "      <td>0</td>\n",
              "      <td>0</td>\n",
              "      <td>0</td>\n",
              "      <td>0</td>\n",
              "    </tr>\n",
              "    <tr>\n",
              "      <th>...</th>\n",
              "      <td>...</td>\n",
              "      <td>...</td>\n",
              "      <td>...</td>\n",
              "      <td>...</td>\n",
              "      <td>...</td>\n",
              "      <td>...</td>\n",
              "      <td>...</td>\n",
              "      <td>...</td>\n",
              "      <td>...</td>\n",
              "      <td>...</td>\n",
              "      <td>...</td>\n",
              "      <td>...</td>\n",
              "      <td>...</td>\n",
              "      <td>...</td>\n",
              "      <td>...</td>\n",
              "      <td>...</td>\n",
              "      <td>...</td>\n",
              "      <td>...</td>\n",
              "      <td>...</td>\n",
              "      <td>...</td>\n",
              "      <td>...</td>\n",
              "      <td>...</td>\n",
              "      <td>...</td>\n",
              "      <td>...</td>\n",
              "    </tr>\n",
              "    <tr>\n",
              "      <th>899115</th>\n",
              "      <td>5.9</td>\n",
              "      <td>108</td>\n",
              "      <td>tvEpisode</td>\n",
              "      <td>0.0</td>\n",
              "      <td>2018</td>\n",
              "      <td>89.0</td>\n",
              "      <td>Crime,Drama,Mystery</td>\n",
              "      <td>nm0092115</td>\n",
              "      <td>nm0092115</td>\n",
              "      <td>1</td>\n",
              "      <td>1074</td>\n",
              "      <td>NaN</td>\n",
              "      <td>NaN</td>\n",
              "      <td>NaN</td>\n",
              "      <td>899116</td>\n",
              "      <td>3</td>\n",
              "      <td>1</td>\n",
              "      <td>0</td>\n",
              "      <td>0</td>\n",
              "      <td>0</td>\n",
              "      <td>0</td>\n",
              "      <td>0</td>\n",
              "      <td>0</td>\n",
              "      <td>0</td>\n",
              "    </tr>\n",
              "    <tr>\n",
              "      <th>899318</th>\n",
              "      <td>7.4</td>\n",
              "      <td>8</td>\n",
              "      <td>tvEpisode</td>\n",
              "      <td>0.0</td>\n",
              "      <td>2013</td>\n",
              "      <td>34.0</td>\n",
              "      <td>Comedy,Family</td>\n",
              "      <td>nm10631312,nm4027968,nm11741397</td>\n",
              "      <td>nm5378778,nm2097520,nm4029150,nm2814611,nm4030057</td>\n",
              "      <td>1</td>\n",
              "      <td>1072</td>\n",
              "      <td>NaN</td>\n",
              "      <td>NaN</td>\n",
              "      <td>NaN</td>\n",
              "      <td>899319</td>\n",
              "      <td>8</td>\n",
              "      <td>1</td>\n",
              "      <td>0</td>\n",
              "      <td>0</td>\n",
              "      <td>1</td>\n",
              "      <td>0</td>\n",
              "      <td>0</td>\n",
              "      <td>0</td>\n",
              "      <td>0</td>\n",
              "    </tr>\n",
              "    <tr>\n",
              "      <th>899390</th>\n",
              "      <td>6.8</td>\n",
              "      <td>5</td>\n",
              "      <td>tvEpisode</td>\n",
              "      <td>0.0</td>\n",
              "      <td>2015</td>\n",
              "      <td>28.0</td>\n",
              "      <td>Drama,Romance</td>\n",
              "      <td>nm0071776</td>\n",
              "      <td>nm5939618,nm0680304</td>\n",
              "      <td>1</td>\n",
              "      <td>6203</td>\n",
              "      <td>NaN</td>\n",
              "      <td>NaN</td>\n",
              "      <td>NaN</td>\n",
              "      <td>899391</td>\n",
              "      <td>6</td>\n",
              "      <td>1</td>\n",
              "      <td>0</td>\n",
              "      <td>0</td>\n",
              "      <td>0</td>\n",
              "      <td>0</td>\n",
              "      <td>0</td>\n",
              "      <td>0</td>\n",
              "      <td>0</td>\n",
              "    </tr>\n",
              "    <tr>\n",
              "      <th>899420</th>\n",
              "      <td>7.6</td>\n",
              "      <td>10</td>\n",
              "      <td>tvEpisode</td>\n",
              "      <td>0.0</td>\n",
              "      <td>2013</td>\n",
              "      <td>34.0</td>\n",
              "      <td>Comedy,Family</td>\n",
              "      <td>nm10631312,nm4027968,nm11741397</td>\n",
              "      <td>nm5378778,nm2097520,nm4029150,nm2814611,nm4030057</td>\n",
              "      <td>1</td>\n",
              "      <td>1046</td>\n",
              "      <td>NaN</td>\n",
              "      <td>NaN</td>\n",
              "      <td>NaN</td>\n",
              "      <td>899421</td>\n",
              "      <td>8</td>\n",
              "      <td>1</td>\n",
              "      <td>0</td>\n",
              "      <td>0</td>\n",
              "      <td>1</td>\n",
              "      <td>0</td>\n",
              "      <td>0</td>\n",
              "      <td>0</td>\n",
              "      <td>0</td>\n",
              "    </tr>\n",
              "    <tr>\n",
              "      <th>899650</th>\n",
              "      <td>5.5</td>\n",
              "      <td>7</td>\n",
              "      <td>tvEpisode</td>\n",
              "      <td>0.0</td>\n",
              "      <td>2015</td>\n",
              "      <td>34.0</td>\n",
              "      <td>Drama,Family</td>\n",
              "      <td>nm0278950</td>\n",
              "      <td>nm0312078,nm0278964</td>\n",
              "      <td>1</td>\n",
              "      <td>1531</td>\n",
              "      <td>NaN</td>\n",
              "      <td>NaN</td>\n",
              "      <td>NaN</td>\n",
              "      <td>899651</td>\n",
              "      <td>6</td>\n",
              "      <td>1</td>\n",
              "      <td>0</td>\n",
              "      <td>0</td>\n",
              "      <td>1</td>\n",
              "      <td>0</td>\n",
              "      <td>0</td>\n",
              "      <td>0</td>\n",
              "      <td>0</td>\n",
              "    </tr>\n",
              "  </tbody>\n",
              "</table>\n",
              "<p>2631 rows × 24 columns</p>\n",
              "</div>"
            ],
            "text/plain": [
              "        averageRating  numVotes  titleType  ...  director_f  writers_f  types_f\n",
              "168               8.4         6  tvEpisode  ...           0          0        0\n",
              "1048              8.0         5  tvEpisode  ...           0          0        0\n",
              "1632              9.4         5  tvEpisode  ...           0          0        0\n",
              "1961              7.7         7  tvEpisode  ...           0          0        0\n",
              "2813              5.4         5  tvEpisode  ...           0          0        0\n",
              "...               ...       ...        ...  ...         ...        ...      ...\n",
              "899115            5.9       108  tvEpisode  ...           0          0        0\n",
              "899318            7.4         8  tvEpisode  ...           0          0        0\n",
              "899390            6.8         5  tvEpisode  ...           0          0        0\n",
              "899420            7.6        10  tvEpisode  ...           0          0        0\n",
              "899650            5.5         7  tvEpisode  ...           0          0        0\n",
              "\n",
              "[2631 rows x 24 columns]"
            ]
          },
          "metadata": {},
          "execution_count": 289
        }
      ]
    },
    {
      "cell_type": "markdown",
      "metadata": {
        "id": "dFe4CFCdk2kw"
      },
      "source": [
        "###isAdult"
      ]
    },
    {
      "cell_type": "code",
      "metadata": {
        "colab": {
          "base_uri": "https://localhost:8080/",
          "height": 0
        },
        "id": "JL76cbHtvtBr",
        "outputId": "1b0abf04-db08-4651-e3ba-cdb977acf605"
      },
      "source": [
        "df.groupby('isAdult')[['id']].count()"
      ],
      "execution_count": 290,
      "outputs": [
        {
          "output_type": "execute_result",
          "data": {
            "text/html": [
              "<div>\n",
              "<style scoped>\n",
              "    .dataframe tbody tr th:only-of-type {\n",
              "        vertical-align: middle;\n",
              "    }\n",
              "\n",
              "    .dataframe tbody tr th {\n",
              "        vertical-align: top;\n",
              "    }\n",
              "\n",
              "    .dataframe thead th {\n",
              "        text-align: right;\n",
              "    }\n",
              "</style>\n",
              "<table border=\"1\" class=\"dataframe\">\n",
              "  <thead>\n",
              "    <tr style=\"text-align: right;\">\n",
              "      <th></th>\n",
              "      <th>id</th>\n",
              "    </tr>\n",
              "    <tr>\n",
              "      <th>isAdult</th>\n",
              "      <th></th>\n",
              "    </tr>\n",
              "  </thead>\n",
              "  <tbody>\n",
              "    <tr>\n",
              "      <th>0.0</th>\n",
              "      <td>883087</td>\n",
              "    </tr>\n",
              "    <tr>\n",
              "      <th>1.0</th>\n",
              "      <td>16901</td>\n",
              "    </tr>\n",
              "    <tr>\n",
              "      <th>2020.0</th>\n",
              "      <td>1</td>\n",
              "    </tr>\n",
              "  </tbody>\n",
              "</table>\n",
              "</div>"
            ],
            "text/plain": [
              "             id\n",
              "isAdult        \n",
              "0.0      883087\n",
              "1.0       16901\n",
              "2020.0        1"
            ]
          },
          "metadata": {},
          "execution_count": 290
        }
      ]
    },
    {
      "cell_type": "code",
      "metadata": {
        "colab": {
          "base_uri": "https://localhost:8080/"
        },
        "id": "H57_-vfwk7zh",
        "outputId": "967c018d-cd6e-4447-8af5-da1545f3aab9"
      },
      "source": [
        "# hay un outlier = 2020 en isAdult \n",
        "df.isAdult.replace(2020,0)"
      ],
      "execution_count": 291,
      "outputs": [
        {
          "output_type": "execute_result",
          "data": {
            "text/plain": [
              "0         0.0\n",
              "1         0.0\n",
              "2         0.0\n",
              "3         0.0\n",
              "4         0.0\n",
              "         ... \n",
              "899995    0.0\n",
              "899996    0.0\n",
              "899997    0.0\n",
              "899998    0.0\n",
              "899999    0.0\n",
              "Name: isAdult, Length: 899991, dtype: float64"
            ]
          },
          "metadata": {},
          "execution_count": 291
        }
      ]
    },
    {
      "cell_type": "markdown",
      "metadata": {
        "id": "yVBac7vvFEWb"
      },
      "source": [
        "#Modelo"
      ]
    },
    {
      "cell_type": "markdown",
      "metadata": {
        "id": "qzCWpfGvr76A"
      },
      "source": [
        "##Split dataset"
      ]
    },
    {
      "cell_type": "code",
      "metadata": {
        "id": "ADCOZ0M9RGue"
      },
      "source": [
        "df_con_dummies = df.merge(generos_dummy, left_index=True, right_index=True).drop(columns = ['genres_x'],axis=1)\n",
        "df_con_dummies = df_con_dummies[['averageRating','numVotes','isAdult','startYear','runtimeMinutes','seasonNumber',\n",
        "                                 'episodeNumber','es_serie','director_f','writers_f',\n",
        "                                 'Drama','Comedy','Short','Action','Documentary','Horror','Family','tiene_buen_ranking','dir_popular','anios_desde_start']]"
      ],
      "execution_count": 292,
      "outputs": []
    },
    {
      "cell_type": "code",
      "metadata": {
        "id": "7OwjmeVtSbYb"
      },
      "source": [
        "resultados_con_dummies = resultados[['numVotes','isAdult','startYear','runtimeMinutes','seasonNumber',\n",
        "                                 'episodeNumber','es_serie','director_f','writers_f',\n",
        "                                 'Drama','Comedy','Short','Action','Documentary','Horror','Family','id','tiene_buen_ranking','dir_popular','anios_desde_start']].copy()"
      ],
      "execution_count": 293,
      "outputs": []
    },
    {
      "cell_type": "code",
      "metadata": {
        "id": "xfENXTpIsO9q"
      },
      "source": [
        "from sklearn.tree import DecisionTreeRegressor, plot_tree\n",
        "from sklearn.ensemble import RandomForestRegressor, ExtraTreesRegressor\n",
        "from sklearn.model_selection import train_test_split"
      ],
      "execution_count": 294,
      "outputs": []
    },
    {
      "cell_type": "code",
      "metadata": {
        "colab": {
          "base_uri": "https://localhost:8080/"
        },
        "id": "6dN1qSIPr_Io",
        "outputId": "56511874-94f9-4995-f9ec-3ae476bc6bb2"
      },
      "source": [
        "# Separo en train y test\n",
        "# Let's say we want to split the data in 80:20 for train:valid:test dataset\n",
        "#train_size=0.6\n",
        "\n",
        "X = df_con_dummies.loc[:, df_con_dummies.columns != 'averageRating'].copy()\n",
        "y = df_con_dummies['averageRating']\n",
        "\n",
        "# In the first step we will split the data in training and remaining dataset\n",
        "X_train, X_test, y_train, y_test = train_test_split(X,y, train_size=0.7)\n",
        "\n",
        "print(X_train.shape), print(y_train.shape)\n",
        "print(X_test.shape), print(y_test.shape)"
      ],
      "execution_count": 295,
      "outputs": [
        {
          "output_type": "stream",
          "name": "stdout",
          "text": [
            "(629993, 19)\n",
            "(629993,)\n",
            "(269998, 19)\n",
            "(269998,)\n"
          ]
        },
        {
          "output_type": "execute_result",
          "data": {
            "text/plain": [
              "(None, None)"
            ]
          },
          "metadata": {},
          "execution_count": 295
        }
      ]
    },
    {
      "cell_type": "markdown",
      "metadata": {
        "id": "-6SKRXRZ2C8s"
      },
      "source": [
        "##Selección de variables"
      ]
    },
    {
      "cell_type": "code",
      "metadata": {
        "id": "P_tQCAo5TSOT"
      },
      "source": [
        "cols_iniciales = ['numVotes','runtimeMinutes','seasonNumber','dir_popular','es_serie',\n",
        "                  'tiene_buen_ranking','Horror','Family','anios_desde_start']\n",
        "\n",
        "#['numVotes','isAdult','startYear','runtimeMinutes','seasonNumber','episodeNumber','corto','movie','serie','director_f','writers_f',\n",
        "#'Drama','Comedy','Short','Action','Documentary','id','tiene_buen_ranking','dir_popular']"
      ],
      "execution_count": 296,
      "outputs": []
    },
    {
      "cell_type": "code",
      "metadata": {
        "id": "8dfmTesgAb06"
      },
      "source": [
        "X_train=np.array(X_train[cols_iniciales])"
      ],
      "execution_count": 297,
      "outputs": []
    },
    {
      "cell_type": "code",
      "metadata": {
        "id": "R0x2gpTF1AP1"
      },
      "source": [
        "X_test = np.array(X_test[cols_iniciales]) "
      ],
      "execution_count": 298,
      "outputs": []
    },
    {
      "cell_type": "markdown",
      "metadata": {
        "id": "8TSwcOzZFOpJ"
      },
      "source": [
        "##ExtraTreesRegressor"
      ]
    },
    {
      "cell_type": "code",
      "metadata": {
        "id": "77MCBBlrBkfF"
      },
      "source": [
        "from sklearn.metrics import r2_score"
      ],
      "execution_count": null,
      "outputs": []
    },
    {
      "cell_type": "code",
      "metadata": {
        "id": "fkquhsibBiQZ",
        "colab": {
          "base_uri": "https://localhost:8080/"
        },
        "outputId": "06d49f6f-3bb1-49e9-ab80-378ed93cb0f3"
      },
      "source": [
        "fila = []\n",
        "\n",
        "for i in range(25,35,2):\n",
        "  print(i)\n",
        "  regr2 = ExtraTreesRegressor(max_depth=i)\n",
        "  fregr2 = regr2.fit(X_train,y_train)\n",
        "  r2_train = fregr2.score(X_train, y_train)\n",
        "  r2_test = fregr2.score(X_test, y_test)\n",
        "  fila.append([i,r2_train,r2_test])\n",
        "  #print(f'criterion: {c} - max_depth: {i} => r2_train: {r2_train} - r2_test: {r2_test}')"
      ],
      "execution_count": null,
      "outputs": [
        {
          "output_type": "stream",
          "name": "stdout",
          "text": [
            "25\n",
            "27\n",
            "29\n",
            "31\n",
            "33\n"
          ]
        }
      ]
    },
    {
      "cell_type": "code",
      "metadata": {
        "colab": {
          "base_uri": "https://localhost:8080/",
          "height": 202
        },
        "id": "SihUtd41EBEP",
        "outputId": "15911125-c5da-4b84-ee5f-dc966de490fe"
      },
      "source": [
        "scores_profundidad = pd.DataFrame(fila, columns=[\"max_depth\",\"r2_train\",\"r2_test\"])\n",
        "scores_profundidad"
      ],
      "execution_count": null,
      "outputs": [
        {
          "output_type": "execute_result",
          "data": {
            "text/html": [
              "<div>\n",
              "<style scoped>\n",
              "    .dataframe tbody tr th:only-of-type {\n",
              "        vertical-align: middle;\n",
              "    }\n",
              "\n",
              "    .dataframe tbody tr th {\n",
              "        vertical-align: top;\n",
              "    }\n",
              "\n",
              "    .dataframe thead th {\n",
              "        text-align: right;\n",
              "    }\n",
              "</style>\n",
              "<table border=\"1\" class=\"dataframe\">\n",
              "  <thead>\n",
              "    <tr style=\"text-align: right;\">\n",
              "      <th></th>\n",
              "      <th>max_depth</th>\n",
              "      <th>r2_train</th>\n",
              "      <th>r2_test</th>\n",
              "    </tr>\n",
              "  </thead>\n",
              "  <tbody>\n",
              "    <tr>\n",
              "      <th>0</th>\n",
              "      <td>25</td>\n",
              "      <td>0.370079</td>\n",
              "      <td>0.273740</td>\n",
              "    </tr>\n",
              "    <tr>\n",
              "      <th>1</th>\n",
              "      <td>27</td>\n",
              "      <td>0.425444</td>\n",
              "      <td>0.280341</td>\n",
              "    </tr>\n",
              "    <tr>\n",
              "      <th>2</th>\n",
              "      <td>29</td>\n",
              "      <td>0.492795</td>\n",
              "      <td>0.283349</td>\n",
              "    </tr>\n",
              "    <tr>\n",
              "      <th>3</th>\n",
              "      <td>31</td>\n",
              "      <td>0.560493</td>\n",
              "      <td>0.280733</td>\n",
              "    </tr>\n",
              "    <tr>\n",
              "      <th>4</th>\n",
              "      <td>33</td>\n",
              "      <td>0.621197</td>\n",
              "      <td>0.270176</td>\n",
              "    </tr>\n",
              "  </tbody>\n",
              "</table>\n",
              "</div>"
            ],
            "text/plain": [
              "   max_depth  r2_train   r2_test\n",
              "0         25  0.370079  0.273740\n",
              "1         27  0.425444  0.280341\n",
              "2         29  0.492795  0.283349\n",
              "3         31  0.560493  0.280733\n",
              "4         33  0.621197  0.270176"
            ]
          },
          "metadata": {},
          "execution_count": 129
        }
      ]
    },
    {
      "cell_type": "code",
      "metadata": {
        "colab": {
          "base_uri": "https://localhost:8080/",
          "height": 497
        },
        "id": "4PNt3TCuEUb0",
        "outputId": "9f33297f-f421-449a-ae10-b4b8185fc1b5"
      },
      "source": [
        "fig, ax = plt.subplots(figsize=(11,8))\n",
        "ax = sns.lineplot(data=scores_profundidad, x=\"max_depth\", y=\"r2_train\", color = 'orange')\n",
        "ax = sns.lineplot(data=scores_profundidad, x=\"max_depth\", y=\"r2_test\", color = 'blue')"
      ],
      "execution_count": null,
      "outputs": [
        {
          "output_type": "display_data",
          "data": {
            "image/png": "[encoded data removed]",
            "text/plain": [
              "<Figure size 792x576 with 1 Axes>"
            ]
          },
          "metadata": {
            "needs_background": "light"
          }
        }
      ]
    },
    {
      "cell_type": "code",
      "metadata": {
        "id": "CP4q4tb1EsP5",
        "colab": {
          "base_uri": "https://localhost:8080/"
        },
        "outputId": "6480f5bd-dc8c-4709-992b-e587e4dd8432"
      },
      "source": [
        "fila2 = []\n",
        "\n",
        "for i in range(155,171,5):\n",
        "  regr2 = ExtraTreesRegressor(max_depth=29,n_estimators=i,random_state=42)\n",
        "  fregr2 = regr2.fit(X_train,y_train)\n",
        "\n",
        "  r2_train = fregr2.score(X_train, y_train)\n",
        "  r2_test = fregr2.score(X_test, y_test)\n",
        "  fila2.append([i,r2_train,r2_test])\n",
        "  print(f'n_estimators: {i} => r2_train: {r2_train} - r2_test: {r2_test}')"
      ],
      "execution_count": null,
      "outputs": [
        {
          "output_type": "stream",
          "name": "stdout",
          "text": [
            "max_depth: 155 => r2_train: 0.4932189350399403 - r2_test: 0.28533311512921\n",
            "max_depth: 160 => r2_train: 0.4929193997603156 - r2_test: 0.2853480226707866\n",
            "max_depth: 165 => r2_train: 0.4939143276232835 - r2_test: 0.2852070970246936\n",
            "max_depth: 170 => r2_train: 0.4937992262720495 - r2_test: 0.2851726206737507\n"
          ]
        }
      ]
    },
    {
      "cell_type": "code",
      "metadata": {
        "colab": {
          "base_uri": "https://localhost:8080/",
          "height": 171
        },
        "id": "WfIqciK2P4mR",
        "outputId": "a1fe4280-2760-4e7b-ef18-369c40a3787d"
      },
      "source": [
        "scores_n_estimators = pd.DataFrame(fila2, columns=[\"n_estimators\",\"r2_train\",\"r2_test\"])\n",
        "scores_n_estimators"
      ],
      "execution_count": null,
      "outputs": [
        {
          "output_type": "execute_result",
          "data": {
            "text/html": [
              "<div>\n",
              "<style scoped>\n",
              "    .dataframe tbody tr th:only-of-type {\n",
              "        vertical-align: middle;\n",
              "    }\n",
              "\n",
              "    .dataframe tbody tr th {\n",
              "        vertical-align: top;\n",
              "    }\n",
              "\n",
              "    .dataframe thead th {\n",
              "        text-align: right;\n",
              "    }\n",
              "</style>\n",
              "<table border=\"1\" class=\"dataframe\">\n",
              "  <thead>\n",
              "    <tr style=\"text-align: right;\">\n",
              "      <th></th>\n",
              "      <th>n_estimators</th>\n",
              "      <th>r2_train</th>\n",
              "      <th>r2_test</th>\n",
              "    </tr>\n",
              "  </thead>\n",
              "  <tbody>\n",
              "    <tr>\n",
              "      <th>0</th>\n",
              "      <td>155</td>\n",
              "      <td>0.493219</td>\n",
              "      <td>0.285333</td>\n",
              "    </tr>\n",
              "    <tr>\n",
              "      <th>1</th>\n",
              "      <td>160</td>\n",
              "      <td>0.492919</td>\n",
              "      <td>0.285348</td>\n",
              "    </tr>\n",
              "    <tr>\n",
              "      <th>2</th>\n",
              "      <td>165</td>\n",
              "      <td>0.493914</td>\n",
              "      <td>0.285207</td>\n",
              "    </tr>\n",
              "    <tr>\n",
              "      <th>3</th>\n",
              "      <td>170</td>\n",
              "      <td>0.493799</td>\n",
              "      <td>0.285173</td>\n",
              "    </tr>\n",
              "  </tbody>\n",
              "</table>\n",
              "</div>"
            ],
            "text/plain": [
              "   n_estimators  r2_train   r2_test\n",
              "0           155  0.493219  0.285333\n",
              "1           160  0.492919  0.285348\n",
              "2           165  0.493914  0.285207\n",
              "3           170  0.493799  0.285173"
            ]
          },
          "metadata": {},
          "execution_count": 132
        }
      ]
    },
    {
      "cell_type": "code",
      "metadata": {
        "id": "CTvquQIufMK9"
      },
      "source": [
        "regr2 = ExtraTreesRegressor(max_depth=29,n_estimators=160,random_state=42,bootstrap=True)\n",
        "fregr2 = regr2.fit(X_train,y_train)"
      ],
      "execution_count": null,
      "outputs": []
    },
    {
      "cell_type": "code",
      "metadata": {
        "colab": {
          "base_uri": "https://localhost:8080/"
        },
        "id": "LD2HfMGyfPIX",
        "outputId": "6ab81537-445f-49ac-cc01-508fc072e611"
      },
      "source": [
        "fregr2.score(X_train, y_train)"
      ],
      "execution_count": null,
      "outputs": [
        {
          "output_type": "execute_result",
          "data": {
            "text/plain": [
              "0.4753892194566829"
            ]
          },
          "metadata": {},
          "execution_count": 131
        }
      ]
    },
    {
      "cell_type": "code",
      "metadata": {
        "colab": {
          "base_uri": "https://localhost:8080/"
        },
        "id": "ohZYNe8xfPi1",
        "outputId": "53dfdaf3-8ac6-473b-f085-22dcaf2f5e10"
      },
      "source": [
        "fregr2.score(X_test, y_test)"
      ],
      "execution_count": null,
      "outputs": [
        {
          "output_type": "execute_result",
          "data": {
            "text/plain": [
              "0.28836215168891444"
            ]
          },
          "metadata": {},
          "execution_count": 132
        }
      ]
    },
    {
      "cell_type": "code",
      "metadata": {
        "colab": {
          "base_uri": "https://localhost:8080/",
          "height": 324
        },
        "id": "pOVE-U78NylG",
        "outputId": "3337007b-89f5-4079-85f3-6e5222ac8e43"
      },
      "source": [
        "importances = []\n",
        "for i in range(len(cols_iniciales)):\n",
        "  importances.append([cols_iniciales[i], fregr2.feature_importances_[i]])\n",
        "\n",
        "importances = pd.DataFrame(importances, columns=[\"feature\", \"importance\"])\n",
        "importances.sort_values(by='importance',ascending = False)"
      ],
      "execution_count": null,
      "outputs": [
        {
          "output_type": "execute_result",
          "data": {
            "text/html": [
              "<div>\n",
              "<style scoped>\n",
              "    .dataframe tbody tr th:only-of-type {\n",
              "        vertical-align: middle;\n",
              "    }\n",
              "\n",
              "    .dataframe tbody tr th {\n",
              "        vertical-align: top;\n",
              "    }\n",
              "\n",
              "    .dataframe thead th {\n",
              "        text-align: right;\n",
              "    }\n",
              "</style>\n",
              "<table border=\"1\" class=\"dataframe\">\n",
              "  <thead>\n",
              "    <tr style=\"text-align: right;\">\n",
              "      <th></th>\n",
              "      <th>feature</th>\n",
              "      <th>importance</th>\n",
              "    </tr>\n",
              "  </thead>\n",
              "  <tbody>\n",
              "    <tr>\n",
              "      <th>0</th>\n",
              "      <td>numVotes</td>\n",
              "      <td>0.262511</td>\n",
              "    </tr>\n",
              "    <tr>\n",
              "      <th>1</th>\n",
              "      <td>runtimeMinutes</td>\n",
              "      <td>0.217143</td>\n",
              "    </tr>\n",
              "    <tr>\n",
              "      <th>4</th>\n",
              "      <td>es_serie</td>\n",
              "      <td>0.214505</td>\n",
              "    </tr>\n",
              "    <tr>\n",
              "      <th>8</th>\n",
              "      <td>anios_desde_start</td>\n",
              "      <td>0.198615</td>\n",
              "    </tr>\n",
              "    <tr>\n",
              "      <th>2</th>\n",
              "      <td>seasonNumber</td>\n",
              "      <td>0.055128</td>\n",
              "    </tr>\n",
              "    <tr>\n",
              "      <th>6</th>\n",
              "      <td>Horror</td>\n",
              "      <td>0.033241</td>\n",
              "    </tr>\n",
              "    <tr>\n",
              "      <th>5</th>\n",
              "      <td>tiene_buen_ranking</td>\n",
              "      <td>0.012304</td>\n",
              "    </tr>\n",
              "    <tr>\n",
              "      <th>3</th>\n",
              "      <td>dir_popular</td>\n",
              "      <td>0.003386</td>\n",
              "    </tr>\n",
              "    <tr>\n",
              "      <th>7</th>\n",
              "      <td>Family</td>\n",
              "      <td>0.003166</td>\n",
              "    </tr>\n",
              "  </tbody>\n",
              "</table>\n",
              "</div>"
            ],
            "text/plain": [
              "              feature  importance\n",
              "0            numVotes    0.262511\n",
              "1      runtimeMinutes    0.217143\n",
              "4            es_serie    0.214505\n",
              "8   anios_desde_start    0.198615\n",
              "2        seasonNumber    0.055128\n",
              "6              Horror    0.033241\n",
              "5  tiene_buen_ranking    0.012304\n",
              "3         dir_popular    0.003386\n",
              "7              Family    0.003166"
            ]
          },
          "metadata": {},
          "execution_count": 266
        }
      ]
    },
    {
      "cell_type": "markdown",
      "metadata": {
        "id": "MGU_XnTZSHkB"
      },
      "source": [
        "##RandomForestRegressor"
      ]
    },
    {
      "cell_type": "code",
      "metadata": {
        "colab": {
          "base_uri": "https://localhost:8080/"
        },
        "id": "Zs2BXEgqSN54",
        "outputId": "5e3d909d-b551-41f6-f181-d79bfbcdbd0c"
      },
      "source": [
        "fila3 = []\n",
        "\n",
        "for i in range(17,24,2):\n",
        "  print(i)\n",
        "  regr3 = RandomForestRegressor(max_depth=i,random_state=42)\n",
        "  fregr3 = regr3.fit(X_train,y_train)\n",
        "  r2_train = fregr3.score(X_train, y_train)\n",
        "  r2_test = fregr3.score(X_test, y_test)\n",
        "  fila3.append([i,r2_train,r2_test])\n",
        "  #print(f'criterion: {c} - max_depth: {i} => r2_train: {r2_train} - r2_test: {r2_test}')"
      ],
      "execution_count": 303,
      "outputs": [
        {
          "output_type": "stream",
          "name": "stdout",
          "text": [
            "17\n",
            "19\n",
            "21\n",
            "23\n"
          ]
        }
      ]
    },
    {
      "cell_type": "code",
      "metadata": {
        "colab": {
          "base_uri": "https://localhost:8080/",
          "height": 171
        },
        "id": "TmQx2dzMSVfk",
        "outputId": "1d2a354f-a75c-4749-dc34-695421d84848"
      },
      "source": [
        "scores_profundidad2 = pd.DataFrame(fila3, columns=[\"max_depth\",\"r2_train\",\"r2_test\"])\n",
        "scores_profundidad2"
      ],
      "execution_count": 304,
      "outputs": [
        {
          "output_type": "execute_result",
          "data": {
            "text/html": [
              "<div>\n",
              "<style scoped>\n",
              "    .dataframe tbody tr th:only-of-type {\n",
              "        vertical-align: middle;\n",
              "    }\n",
              "\n",
              "    .dataframe tbody tr th {\n",
              "        vertical-align: top;\n",
              "    }\n",
              "\n",
              "    .dataframe thead th {\n",
              "        text-align: right;\n",
              "    }\n",
              "</style>\n",
              "<table border=\"1\" class=\"dataframe\">\n",
              "  <thead>\n",
              "    <tr style=\"text-align: right;\">\n",
              "      <th></th>\n",
              "      <th>max_depth</th>\n",
              "      <th>r2_train</th>\n",
              "      <th>r2_test</th>\n",
              "    </tr>\n",
              "  </thead>\n",
              "  <tbody>\n",
              "    <tr>\n",
              "      <th>0</th>\n",
              "      <td>17</td>\n",
              "      <td>0.395445</td>\n",
              "      <td>0.292791</td>\n",
              "    </tr>\n",
              "    <tr>\n",
              "      <th>1</th>\n",
              "      <td>19</td>\n",
              "      <td>0.456813</td>\n",
              "      <td>0.293463</td>\n",
              "    </tr>\n",
              "    <tr>\n",
              "      <th>2</th>\n",
              "      <td>21</td>\n",
              "      <td>0.517869</td>\n",
              "      <td>0.285982</td>\n",
              "    </tr>\n",
              "    <tr>\n",
              "      <th>3</th>\n",
              "      <td>23</td>\n",
              "      <td>0.570267</td>\n",
              "      <td>0.272521</td>\n",
              "    </tr>\n",
              "  </tbody>\n",
              "</table>\n",
              "</div>"
            ],
            "text/plain": [
              "   max_depth  r2_train   r2_test\n",
              "0         17  0.395445  0.292791\n",
              "1         19  0.456813  0.293463\n",
              "2         21  0.517869  0.285982\n",
              "3         23  0.570267  0.272521"
            ]
          },
          "metadata": {},
          "execution_count": 304
        }
      ]
    },
    {
      "cell_type": "code",
      "metadata": {
        "id": "4Pt59Ok9SJ5O",
        "colab": {
          "base_uri": "https://localhost:8080/"
        },
        "outputId": "f79f35e7-d1b8-44eb-dabf-92cc1da00456"
      },
      "source": [
        "fila4 = []\n",
        "\n",
        "for i in range(155,171,5):\n",
        "  regr2 = RandomForestRegressor(max_depth=19,n_estimators=i,random_state=42)\n",
        "  fregr2 = regr2.fit(X_train,y_train)\n",
        "\n",
        "  r2_train = fregr2.score(X_train, y_train)\n",
        "  r2_test = fregr2.score(X_test, y_test)\n",
        "  fila4.append([i,r2_train,r2_test])\n",
        "  print(f'n_estimators: {i} => r2_train: {r2_train} - r2_test: {r2_test}')"
      ],
      "execution_count": 307,
      "outputs": [
        {
          "output_type": "stream",
          "name": "stdout",
          "text": [
            "n_estimators: 155 => r2_train: 0.4574015524960548 - r2_test: 0.2940077043151397\n",
            "n_estimators: 160 => r2_train: 0.45742952867542225 - r2_test: 0.2940138274432823\n",
            "n_estimators: 165 => r2_train: 0.45740405977223725 - r2_test: 0.2940199182276213\n",
            "n_estimators: 170 => r2_train: 0.45743032548050805 - r2_test: 0.2940152256759553\n"
          ]
        }
      ]
    },
    {
      "cell_type": "code",
      "metadata": {
        "id": "dMxxTJnhwmqn",
        "outputId": "f194676b-4af1-4756-c737-ed2a37d1cc52",
        "colab": {
          "base_uri": "https://localhost:8080/",
          "height": 171
        }
      },
      "source": [
        "scores_n_estimators2 = pd.DataFrame(fila4, columns=[\"n_estimators\",\"r2_train\",\"r2_test\"])\n",
        "scores_n_estimators2"
      ],
      "execution_count": 308,
      "outputs": [
        {
          "output_type": "execute_result",
          "data": {
            "text/html": [
              "<div>\n",
              "<style scoped>\n",
              "    .dataframe tbody tr th:only-of-type {\n",
              "        vertical-align: middle;\n",
              "    }\n",
              "\n",
              "    .dataframe tbody tr th {\n",
              "        vertical-align: top;\n",
              "    }\n",
              "\n",
              "    .dataframe thead th {\n",
              "        text-align: right;\n",
              "    }\n",
              "</style>\n",
              "<table border=\"1\" class=\"dataframe\">\n",
              "  <thead>\n",
              "    <tr style=\"text-align: right;\">\n",
              "      <th></th>\n",
              "      <th>n_estimators</th>\n",
              "      <th>r2_train</th>\n",
              "      <th>r2_test</th>\n",
              "    </tr>\n",
              "  </thead>\n",
              "  <tbody>\n",
              "    <tr>\n",
              "      <th>0</th>\n",
              "      <td>155</td>\n",
              "      <td>0.457402</td>\n",
              "      <td>0.294008</td>\n",
              "    </tr>\n",
              "    <tr>\n",
              "      <th>1</th>\n",
              "      <td>160</td>\n",
              "      <td>0.457430</td>\n",
              "      <td>0.294014</td>\n",
              "    </tr>\n",
              "    <tr>\n",
              "      <th>2</th>\n",
              "      <td>165</td>\n",
              "      <td>0.457404</td>\n",
              "      <td>0.294020</td>\n",
              "    </tr>\n",
              "    <tr>\n",
              "      <th>3</th>\n",
              "      <td>170</td>\n",
              "      <td>0.457430</td>\n",
              "      <td>0.294015</td>\n",
              "    </tr>\n",
              "  </tbody>\n",
              "</table>\n",
              "</div>"
            ],
            "text/plain": [
              "   n_estimators  r2_train   r2_test\n",
              "0           155  0.457402  0.294008\n",
              "1           160  0.457430  0.294014\n",
              "2           165  0.457404  0.294020\n",
              "3           170  0.457430  0.294015"
            ]
          },
          "metadata": {},
          "execution_count": 308
        }
      ]
    },
    {
      "cell_type": "code",
      "metadata": {
        "id": "3fKcbkEEw6wC"
      },
      "source": [
        "rf_optimo = RandomForestRegressor(max_depth=19,n_estimators=165,random_state=42)\n",
        "rf_optimo = regr2.fit(X_train,y_train)"
      ],
      "execution_count": 311,
      "outputs": []
    },
    {
      "cell_type": "markdown",
      "metadata": {
        "id": "83Fkg7CA76i2"
      },
      "source": [
        "##BaggingRegressor"
      ]
    },
    {
      "cell_type": "code",
      "metadata": {
        "id": "WGOrKTwF_Lt6"
      },
      "source": [
        "from sklearn.ensemble import BaggingRegressor"
      ],
      "execution_count": null,
      "outputs": []
    },
    {
      "cell_type": "code",
      "metadata": {
        "id": "1vk0HMCr_QgL"
      },
      "source": [
        "bag_dt = BaggingRegressor(n_estimators=100, random_state=42)"
      ],
      "execution_count": null,
      "outputs": []
    },
    {
      "cell_type": "code",
      "metadata": {
        "colab": {
          "base_uri": "https://localhost:8080/"
        },
        "id": "Y196DtLo_duy",
        "outputId": "5eca9eaa-016a-493d-d618-633c1d5dda85"
      },
      "source": [
        "bag_dt.fit(X_train,y_train)"
      ],
      "execution_count": null,
      "outputs": [
        {
          "output_type": "execute_result",
          "data": {
            "text/plain": [
              "BaggingRegressor(base_estimator=None, bootstrap=True, bootstrap_features=False,\n",
              "                 max_features=1.0, max_samples=1.0, n_estimators=100,\n",
              "                 n_jobs=None, oob_score=False, random_state=42, verbose=0,\n",
              "                 warm_start=False)"
            ]
          },
          "metadata": {},
          "execution_count": 185
        }
      ]
    },
    {
      "cell_type": "code",
      "metadata": {
        "colab": {
          "base_uri": "https://localhost:8080/"
        },
        "id": "PkMQXKXi_iSz",
        "outputId": "c30ee37e-bbdd-4b0b-caf6-748981f15a02"
      },
      "source": [
        "bag_dt.score(X_train,y_train)"
      ],
      "execution_count": null,
      "outputs": [
        {
          "output_type": "execute_result",
          "data": {
            "text/plain": [
              "0.5464154282080771"
            ]
          },
          "metadata": {},
          "execution_count": 186
        }
      ]
    },
    {
      "cell_type": "code",
      "metadata": {
        "colab": {
          "base_uri": "https://localhost:8080/"
        },
        "id": "yUISgtP3AZPN",
        "outputId": "d13c1fe1-0fc4-486c-da42-42e2ae2b030e"
      },
      "source": [
        "bag_dt.score(X_test,y_test)"
      ],
      "execution_count": null,
      "outputs": [
        {
          "output_type": "execute_result",
          "data": {
            "text/plain": [
              "0.13491592887845427"
            ]
          },
          "metadata": {},
          "execution_count": 187
        }
      ]
    },
    {
      "cell_type": "code",
      "metadata": {
        "id": "oFEhBk33Q6bA"
      },
      "source": [
        "bagBoot_dt = BaggingRegressor(bootstrap_features=True, random_state=42)"
      ],
      "execution_count": null,
      "outputs": []
    },
    {
      "cell_type": "markdown",
      "metadata": {
        "id": "nBiAq2lCA4gC"
      },
      "source": [
        "###Ajuste de hiperparámetros"
      ]
    },
    {
      "cell_type": "code",
      "metadata": {
        "id": "83iGnY-7A7So"
      },
      "source": [
        "estimator_range = [1] + list(range(10,150,20))\n",
        "\n",
        "scores = []\n",
        "\n",
        "for estimator in estimator_range:\n",
        "  bag_dt = BaggingRegressor(n_estimators=estimator, random_state = 0)\n",
        "  bag_dt.fit(X_train, y_train)\n",
        "  scores.append(bag_dt.score(X_test,y_test))"
      ],
      "execution_count": null,
      "outputs": []
    },
    {
      "cell_type": "code",
      "metadata": {
        "colab": {
          "base_uri": "https://localhost:8080/"
        },
        "id": "Gm8kcCT_Bce-",
        "outputId": "7b7515da-ac45-4869-fab4-5c73c969d237"
      },
      "source": [
        "plt.figure(figsize=(10,7))\n",
        "plt.plot(estimator_range,scores)\n",
        "\n",
        "plt.xlabel('n_estimators',fontsize=20)\n",
        "plt.ylabel('score',fontsize=20)\n",
        "plt.tick_params(labelsize=18)\n",
        "plt.grid()"
      ],
      "execution_count": null,
      "outputs": [
        {
          "output_type": "display_data",
          "data": {
            "image/png": "[encoded data removed]",
            "text/plain": [
              "<Figure size 720x504 with 1 Axes>"
            ]
          },
          "metadata": {
            "needs_background": "light"
          }
        }
      ]
    },
    {
      "cell_type": "markdown",
      "metadata": {
        "id": "vbsVP8_68V5O"
      },
      "source": [
        "##Salida"
      ]
    },
    {
      "cell_type": "code",
      "metadata": {
        "id": "jCjRddcw4JOH"
      },
      "source": [
        "pred = fregr2.predict(resultados_con_dummies[cols_iniciales])"
      ],
      "execution_count": null,
      "outputs": []
    },
    {
      "cell_type": "code",
      "metadata": {
        "id": "pt0vadNebDPZ"
      },
      "source": [
        "# Finalmente generar un CSV con los resultados aplicados al CSV de resultados que no contiene la columna target\n",
        "\n",
        "salida = pd.DataFrame(data={\"averageRating\": pred}).astype(str)\n",
        "salida.index = resultados_con_dummies.id\n",
        "salida.to_csv(\"extraTrees.csv\", sep=',',index=True,  index_label='id')"
      ],
      "execution_count": null,
      "outputs": []
    },
    {
      "cell_type": "code",
      "metadata": {
        "id": "aQnQ2JWvxGUn"
      },
      "source": [
        "pred_rf = rf_optimo.predict(resultados_con_dummies[cols_iniciales])"
      ],
      "execution_count": 312,
      "outputs": []
    },
    {
      "cell_type": "code",
      "metadata": {
        "id": "Y0dROks3xKl4"
      },
      "source": [
        "# Finalmente generar un CSV con los resultados aplicados al CSV de resultados que no contiene la columna target\n",
        "\n",
        "salida = pd.DataFrame(data={\"averageRating\": pred_rf}).astype(str)\n",
        "salida.index = resultados_con_dummies.id\n",
        "salida.to_csv(\"randomForest.csv\", sep=',',index=True,  index_label='id')"
      ],
      "execution_count": 313,
      "outputs": []
    }
  ]
}