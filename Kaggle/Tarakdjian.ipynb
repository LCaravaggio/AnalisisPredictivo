{
  "nbformat": 4,
  "nbformat_minor": 0,
  "metadata": {
    "colab": {
      "name": "KAGGLE.ipynb",
      "provenance": [],
      "authorship_tag": "ABX9TyM8OLfIwLouUjRt7FkV0xTO",
      "include_colab_link": true
    },
    "kernelspec": {
      "name": "python3",
      "display_name": "Python 3"
    },
    "language_info": {
      "name": "python"
    }
  },
  "cells": [
    {
      "cell_type": "markdown",
      "metadata": {
        "id": "view-in-github",
        "colab_type": "text"
      },
      "source": [
        "<a href=\"https://colab.research.google.com/github/ftarakdjian/infovis/blob/gh-pages/KAGGLE.ipynb\" target=\"_parent\"><img src=\"https://colab.research.google.com/assets/colab-badge.svg\" alt=\"Open In Colab\"/></a>"
      ]
    },
    {
      "cell_type": "markdown",
      "metadata": {
        "id": "xNO7KXoQi-5U"
      },
      "source": [
        "##INTRO"
      ]
    },
    {
      "cell_type": "code",
      "metadata": {
        "colab": {
          "base_uri": "https://localhost:8080/"
        },
        "id": "b2dWy-Etl7cw",
        "outputId": "091188c7-3b64-4f43-9c37-af509eb38d02"
      },
      "source": [
        "# permiso para colab\n",
        "from google.colab import drive\n",
        "drive.mount('/content/drive')"
      ],
      "execution_count": null,
      "outputs": [
        {
          "output_type": "stream",
          "name": "stdout",
          "text": [
            "Mounted at /content/drive\n"
          ]
        }
      ]
    },
    {
      "cell_type": "code",
      "metadata": {
        "id": "j_H_HLOsjNXG"
      },
      "source": [
        "#librerias necesarias\n",
        "import pandas as pd\n",
        "import matplotlib.pyplot as plt\n",
        "import seaborn as sns\n",
        "import numpy as np\n",
        "from sklearn.ensemble import RandomForestRegressor, ExtraTreesRegressor\n",
        "from sklearn.model_selection import train_test_split\n",
        "from sklearn.linear_model import LinearRegression"
      ],
      "execution_count": null,
      "outputs": []
    },
    {
      "cell_type": "code",
      "metadata": {
        "colab": {
          "base_uri": "https://localhost:8080/"
        },
        "id": "h8mldqvDjC5-",
        "outputId": "d4727a70-33d0-417f-b13b-818e2f340f7c"
      },
      "source": [
        "#Descargo los datasets\n",
        "df_train = pd.read_csv('/content/drive/MyDrive/PREDICTIVO TP2/datos.csv')\n",
        "df_test = pd.read_csv(\"/content/drive/MyDrive/PREDICTIVO TP2/resultados.csv\", sep=\",\")"
      ],
      "execution_count": null,
      "outputs": [
        {
          "output_type": "stream",
          "name": "stderr",
          "text": [
            "/usr/local/lib/python3.7/dist-packages/IPython/core/interactiveshell.py:2718: DtypeWarning: Columns (4) have mixed types.Specify dtype option on import or set low_memory=False.\n",
            "  interactivity=interactivity, compiler=compiler, result=result)\n"
          ]
        }
      ]
    },
    {
      "cell_type": "code",
      "metadata": {
        "colab": {
          "base_uri": "https://localhost:8080/"
        },
        "id": "CoWlQFLN_REi",
        "outputId": "25ec8253-3a3e-4885-9a6f-3fd2135fe1c8"
      },
      "source": [
        "#primera vista de los datos\n",
        "df_train.info()"
      ],
      "execution_count": null,
      "outputs": [
        {
          "output_type": "stream",
          "name": "stdout",
          "text": [
            "<class 'pandas.core.frame.DataFrame'>\n",
            "RangeIndex: 900000 entries, 0 to 899999\n",
            "Data columns (total 32 columns):\n",
            " #   Column                Non-Null Count   Dtype  \n",
            "---  ------                --------------   -----  \n",
            " 0   averageRating         900000 non-null  float64\n",
            " 1   numVotes              900000 non-null  int64  \n",
            " 2   titleType             899998 non-null  object \n",
            " 3   isAdult               899998 non-null  float64\n",
            " 4   startYear             899998 non-null  object \n",
            " 5   endYear               899998 non-null  object \n",
            " 6   runtimeMinutes        899998 non-null  object \n",
            " 7   genres_x              899997 non-null  object \n",
            " 8   directors             899998 non-null  object \n",
            " 9   writers               899998 non-null  object \n",
            " 10  seasonNumber          403675 non-null  object \n",
            " 11  episodeNumber         403675 non-null  object \n",
            " 12  ordering              341292 non-null  float64\n",
            " 13  language              341292 non-null  object \n",
            " 14  types                 341292 non-null  object \n",
            " 15  attributes            341292 non-null  object \n",
            " 16  isOriginalTitle       341292 non-null  float64\n",
            " 17  adult                 43668 non-null   object \n",
            " 18  budget                43668 non-null   float64\n",
            " 19  genres_y              43668 non-null   object \n",
            " 20  original_language     43655 non-null   object \n",
            " 21  overview              42941 non-null   object \n",
            " 22  popularity            43665 non-null   float64\n",
            " 23  production_companies  43665 non-null   object \n",
            " 24  production_countries  43665 non-null   object \n",
            " 25  release_date          43601 non-null   object \n",
            " 26  revenue               43665 non-null   float64\n",
            " 27  runtime               43478 non-null   float64\n",
            " 28  status                43589 non-null   object \n",
            " 29  tagline               22126 non-null   object \n",
            " 30  video                 43665 non-null   object \n",
            " 31  id                    900000 non-null  int64  \n",
            "dtypes: float64(8), int64(2), object(22)\n",
            "memory usage: 219.7+ MB\n"
          ]
        }
      ]
    },
    {
      "cell_type": "markdown",
      "metadata": {
        "id": "lkedLKOYkN4q"
      },
      "source": [
        "#limpio train"
      ]
    },
    {
      "cell_type": "markdown",
      "metadata": {
        "id": "bpKECKe37W7Q"
      },
      "source": [
        "#missings y tipos de datos"
      ]
    },
    {
      "cell_type": "code",
      "metadata": {
        "id": "NQ1zO8IkjRC9"
      },
      "source": [
        "#Elimino los NA de las variables continuas\n",
        "contin_vars = ['numVotes', 'runtimeMinutes', 'budget', 'revenue', 'startYear','endYear','popularity','runtime']\n",
        "for v in contin_vars: df_train.loc[df_train[v].isnull(), v] = 0\n",
        "for v in contin_vars: df_train.loc[(df_train[v].isna()), v] = 0"
      ],
      "execution_count": null,
      "outputs": []
    },
    {
      "cell_type": "code",
      "metadata": {
        "id": "zm3JmcPvkDRi"
      },
      "source": [
        "#ajusto tipos de datos\n",
        "df_train=df_train.replace('\\\\N',0)\n",
        "df_train['endYear']=df_train['endYear'].astype('int16')\n",
        "df_train['startYear']=df_train['startYear'].astype('int16')\n",
        "df_train['prod']=df_train['endYear']-df_train['startYear']"
      ],
      "execution_count": null,
      "outputs": []
    },
    {
      "cell_type": "code",
      "metadata": {
        "id": "v1JXxsEikHMd"
      },
      "source": [
        "df_train['runtimeMinutes']=df_train['runtimeMinutes'].replace('Game-Show',0)\n",
        "df_train['runtimeMinutes']=df_train['runtimeMinutes'].astype('int16')"
      ],
      "execution_count": null,
      "outputs": []
    },
    {
      "cell_type": "code",
      "metadata": {
        "id": "mb7M49lpkpkm"
      },
      "source": [
        "def label_race (row, col):\n",
        "    lab = {\n",
        "        f[0]: 100,\n",
        "        f[1]: 80,\n",
        "        f[2]: 60,\n",
        "        f[3]: 40,\n",
        "        f[4]: 20,\n",
        "    }\n",
        "    return lab.get(row[col], 0)"
      ],
      "execution_count": null,
      "outputs": []
    },
    {
      "cell_type": "markdown",
      "metadata": {
        "id": "Slk46mkWD1YN"
      },
      "source": [
        "#minutos"
      ]
    },
    {
      "cell_type": "code",
      "metadata": {
        "colab": {
          "base_uri": "https://localhost:8080/"
        },
        "id": "02NHuuyCATSO",
        "outputId": "23abbf08-1da9-4624-cae3-4ad18be8d551"
      },
      "source": [
        "#promedio de minutos por director\n",
        "minutosDirector = df_train[df_train['runtimeMinutes'] > 0]\n",
        "minutosDirector = minutosDirector.groupby([ \"directors\" ])[[ \"runtimeMinutes\" ]].mean()\n",
        "minutosDirector.sort_values(by=['runtimeMinutes'],ascending=False)\n"
      ],
      "execution_count": null,
      "outputs": [
        {
          "output_type": "execute_result",
          "data": {
            "text/html": [
              "<div>\n",
              "<style scoped>\n",
              "    .dataframe tbody tr th:only-of-type {\n",
              "        vertical-align: middle;\n",
              "    }\n",
              "\n",
              "    .dataframe tbody tr th {\n",
              "        vertical-align: top;\n",
              "    }\n",
              "\n",
              "    .dataframe thead th {\n",
              "        text-align: right;\n",
              "    }\n",
              "</style>\n",
              "<table border=\"1\" class=\"dataframe\">\n",
              "  <thead>\n",
              "    <tr style=\"text-align: right;\">\n",
              "      <th></th>\n",
              "      <th>runtimeMinutes</th>\n",
              "    </tr>\n",
              "    <tr>\n",
              "      <th>directors</th>\n",
              "      <th></th>\n",
              "    </tr>\n",
              "  </thead>\n",
              "  <tbody>\n",
              "    <tr>\n",
              "      <th>nm5492599,nm5492495,nm5492891,nm1432536</th>\n",
              "      <td>14400.0</td>\n",
              "    </tr>\n",
              "    <tr>\n",
              "      <th>nm4246748</th>\n",
              "      <td>5700.0</td>\n",
              "    </tr>\n",
              "    <tr>\n",
              "      <th>nm1267224</th>\n",
              "      <td>5220.0</td>\n",
              "    </tr>\n",
              "    <tr>\n",
              "      <th>nm0248119,nm0227486,nm0192463,nm0942185,nm0324426</th>\n",
              "      <td>3900.0</td>\n",
              "    </tr>\n",
              "    <tr>\n",
              "      <th>nm0631590,nm1374337,nm0007071,nm1005906,nm1785712,nm1376792</th>\n",
              "      <td>3900.0</td>\n",
              "    </tr>\n",
              "    <tr>\n",
              "      <th>...</th>\n",
              "      <td>...</td>\n",
              "    </tr>\n",
              "    <tr>\n",
              "      <th>nm1299757</th>\n",
              "      <td>1.0</td>\n",
              "    </tr>\n",
              "    <tr>\n",
              "      <th>nm2669534,nm2696049</th>\n",
              "      <td>1.0</td>\n",
              "    </tr>\n",
              "    <tr>\n",
              "      <th>nm2144889</th>\n",
              "      <td>1.0</td>\n",
              "    </tr>\n",
              "    <tr>\n",
              "      <th>nm0797216,nm0283687</th>\n",
              "      <td>1.0</td>\n",
              "    </tr>\n",
              "    <tr>\n",
              "      <th>nm4321429</th>\n",
              "      <td>1.0</td>\n",
              "    </tr>\n",
              "  </tbody>\n",
              "</table>\n",
              "<p>190060 rows × 1 columns</p>\n",
              "</div>"
            ],
            "text/plain": [
              "                                                    runtimeMinutes\n",
              "directors                                                         \n",
              "nm5492599,nm5492495,nm5492891,nm1432536                    14400.0\n",
              "nm4246748                                                   5700.0\n",
              "nm1267224                                                   5220.0\n",
              "nm0248119,nm0227486,nm0192463,nm0942185,nm0324426           3900.0\n",
              "nm0631590,nm1374337,nm0007071,nm1005906,nm17857...          3900.0\n",
              "...                                                            ...\n",
              "nm1299757                                                      1.0\n",
              "nm2669534,nm2696049                                            1.0\n",
              "nm2144889                                                      1.0\n",
              "nm0797216,nm0283687                                            1.0\n",
              "nm4321429                                                      1.0\n",
              "\n",
              "[190060 rows x 1 columns]"
            ]
          },
          "metadata": {},
          "execution_count": 16
        }
      ]
    },
    {
      "cell_type": "code",
      "metadata": {
        "id": "JKO3jAPVBiru"
      },
      "source": [
        "df_train = df_train.join(minutosDirector, on = 'directors', how = 'left', rsuffix='_aux' )"
      ],
      "execution_count": null,
      "outputs": []
    },
    {
      "cell_type": "code",
      "metadata": {
        "id": "f7BMzu4xCCYR"
      },
      "source": [
        "df_train['runtimeMinutes'] = np.where(df_train[\"runtimeMinutes\"]==0,df_train[\"runtimeMinutes_aux\"],df_train[\"runtimeMinutes\"])"
      ],
      "execution_count": null,
      "outputs": []
    },
    {
      "cell_type": "code",
      "metadata": {
        "id": "49TpdL-kEGck"
      },
      "source": [
        "df_train.columns\n",
        "df_train = df_train[['averageRating', 'numVotes', 'titleType', 'isAdult', 'startYear',\n",
        "       'endYear', 'runtimeMinutes', 'genres_x', 'directors', 'writers',\n",
        "       'seasonNumber', 'episodeNumber', 'ordering', 'language', 'types',\n",
        "       'attributes', 'isOriginalTitle', 'adult', 'budget', 'genres_y',\n",
        "       'original_language', 'overview', 'popularity', 'production_companies',\n",
        "       'production_countries', 'release_date', 'revenue', 'runtime', 'status',\n",
        "       'tagline', 'video', 'id', 'prod']]"
      ],
      "execution_count": null,
      "outputs": []
    },
    {
      "cell_type": "markdown",
      "metadata": {
        "id": "b1dlRKEf7eph"
      },
      "source": [
        "#directores"
      ]
    },
    {
      "cell_type": "code",
      "metadata": {
        "id": "9ErIfvlqkqyv"
      },
      "source": [
        "f=df_train['directors'].value_counts()[1:6].index.tolist()\n",
        "df_train['director_f'] = df_train.apply (lambda row: label_race(row,'directors'), axis=1)"
      ],
      "execution_count": null,
      "outputs": []
    },
    {
      "cell_type": "code",
      "metadata": {
        "colab": {
          "base_uri": "https://localhost:8080/",
          "height": 450
        },
        "id": "uIE3RLLCrMDM",
        "outputId": "c434b291-2400-4805-9063-a67121c8bdec"
      },
      "source": [
        "directores_mean = df_train.groupby([ \"directors\" ])[[ \"averageRating\" ]].mean()\n",
        "directores_mean.sort_values(by=['averageRating'],ascending=False)\n",
        "\n",
        "directores_count = df_train.groupby([\"directors\"])[[\"averageRating\"]].count()\n",
        "directores_count.sort_values(by= ['averageRating'],ascending=False)\n",
        "\n",
        "directores = directores_count.join(directores_mean, on = 'directors', lsuffix= '_count', rsuffix= '_mean')\n",
        "directores = directores[directores[\"averageRating_count\"] > 100]\n",
        "directores.sort_values(by= 'averageRating_mean', ascending = False)\n",
        "#directores.sort_values(by= 'averageRating_count', ascending = False)\n",
        "\n",
        "\n"
      ],
      "execution_count": null,
      "outputs": [
        {
          "output_type": "execute_result",
          "data": {
            "text/html": [
              "<div>\n",
              "<style scoped>\n",
              "    .dataframe tbody tr th:only-of-type {\n",
              "        vertical-align: middle;\n",
              "    }\n",
              "\n",
              "    .dataframe tbody tr th {\n",
              "        vertical-align: top;\n",
              "    }\n",
              "\n",
              "    .dataframe thead th {\n",
              "        text-align: right;\n",
              "    }\n",
              "</style>\n",
              "<table border=\"1\" class=\"dataframe\">\n",
              "  <thead>\n",
              "    <tr style=\"text-align: right;\">\n",
              "      <th></th>\n",
              "      <th>averageRating_count</th>\n",
              "      <th>averageRating_mean</th>\n",
              "    </tr>\n",
              "    <tr>\n",
              "      <th>directors</th>\n",
              "      <th></th>\n",
              "      <th></th>\n",
              "    </tr>\n",
              "  </thead>\n",
              "  <tbody>\n",
              "    <tr>\n",
              "      <th>nm1475126</th>\n",
              "      <td>369</td>\n",
              "      <td>9.785908</td>\n",
              "    </tr>\n",
              "    <tr>\n",
              "      <th>nm4355606</th>\n",
              "      <td>249</td>\n",
              "      <td>9.685542</td>\n",
              "    </tr>\n",
              "    <tr>\n",
              "      <th>nm4492923</th>\n",
              "      <td>253</td>\n",
              "      <td>9.537154</td>\n",
              "    </tr>\n",
              "    <tr>\n",
              "      <th>nm7870411,nm7477059</th>\n",
              "      <td>117</td>\n",
              "      <td>9.429060</td>\n",
              "    </tr>\n",
              "    <tr>\n",
              "      <th>nm7477059,nm7870411</th>\n",
              "      <td>139</td>\n",
              "      <td>9.418705</td>\n",
              "    </tr>\n",
              "    <tr>\n",
              "      <th>...</th>\n",
              "      <td>...</td>\n",
              "      <td>...</td>\n",
              "    </tr>\n",
              "    <tr>\n",
              "      <th>nm0644861</th>\n",
              "      <td>101</td>\n",
              "      <td>4.635644</td>\n",
              "    </tr>\n",
              "    <tr>\n",
              "      <th>nm0924920</th>\n",
              "      <td>340</td>\n",
              "      <td>4.527941</td>\n",
              "    </tr>\n",
              "    <tr>\n",
              "      <th>nm0676248</th>\n",
              "      <td>176</td>\n",
              "      <td>4.472727</td>\n",
              "    </tr>\n",
              "    <tr>\n",
              "      <th>nm0213983</th>\n",
              "      <td>141</td>\n",
              "      <td>3.909929</td>\n",
              "    </tr>\n",
              "    <tr>\n",
              "      <th>nm2043336,nm0279371</th>\n",
              "      <td>104</td>\n",
              "      <td>3.865385</td>\n",
              "    </tr>\n",
              "  </tbody>\n",
              "</table>\n",
              "<p>521 rows × 2 columns</p>\n",
              "</div>"
            ],
            "text/plain": [
              "                     averageRating_count  averageRating_mean\n",
              "directors                                                   \n",
              "nm1475126                            369            9.785908\n",
              "nm4355606                            249            9.685542\n",
              "nm4492923                            253            9.537154\n",
              "nm7870411,nm7477059                  117            9.429060\n",
              "nm7477059,nm7870411                  139            9.418705\n",
              "...                                  ...                 ...\n",
              "nm0644861                            101            4.635644\n",
              "nm0924920                            340            4.527941\n",
              "nm0676248                            176            4.472727\n",
              "nm0213983                            141            3.909929\n",
              "nm2043336,nm0279371                  104            3.865385\n",
              "\n",
              "[521 rows x 2 columns]"
            ]
          },
          "metadata": {},
          "execution_count": 8
        }
      ]
    },
    {
      "cell_type": "code",
      "metadata": {
        "id": "APUz7qT61h-P"
      },
      "source": [
        "df_train = df_train.join(directores, on = 'directors', how= 'left')"
      ],
      "execution_count": null,
      "outputs": []
    },
    {
      "cell_type": "code",
      "metadata": {
        "id": "FZSi68Hq1rCR"
      },
      "source": [
        "\n",
        "df_train['directors_p'] = np.where(df_train['averageRating_count'].isnull(), 0,1)\n",
        "df_train['directors_p'] = [100 if (x> 8) else 70 if (x> 6) else 40 if (x> 4) else 10 if (x> 2) else 0 for x in df_train['averageRating_mean']]\n"
      ],
      "execution_count": null,
      "outputs": []
    },
    {
      "cell_type": "code",
      "metadata": {
        "id": "nHzZubOI7zRI"
      },
      "source": [
        "df_train = df_train[['averageRating', 'numVotes', 'titleType', 'isAdult', 'startYear',\n",
        "       'endYear', 'runtimeMinutes', 'genres_x', 'directors', 'writers',\n",
        "       'seasonNumber', 'episodeNumber', 'ordering', 'language', 'types',\n",
        "       'attributes', 'isOriginalTitle', 'adult', 'budget', 'genres_y',\n",
        "       'original_language', 'overview', 'popularity', 'production_companies',\n",
        "       'production_countries', 'release_date', 'revenue', 'runtime', 'status',\n",
        "       'tagline', 'video', 'id', 'prod', 'director_f', 'directors_p']]"
      ],
      "execution_count": null,
      "outputs": []
    },
    {
      "cell_type": "code",
      "metadata": {
        "colab": {
          "base_uri": "https://localhost:8080/",
          "height": 280
        },
        "id": "4clO5-lJfUrs",
        "outputId": "ac7214c4-74d1-4782-ee77-ba780215455b"
      },
      "source": [
        "directores_algunos = df_train[df_train['directors_p'] > 70]\n",
        "ax = sns.boxplot(x=directores_algunos['averageRating'], y= directores_algunos['directors'])"
      ],
      "execution_count": null,
      "outputs": [
        {
          "output_type": "display_data",
          "data": {
            "image/png": "[encoded data removed]",
            "text/plain": [
              "<Figure size 432x288 with 1 Axes>"
            ]
          },
          "metadata": {
            "needs_background": "light"
          }
        }
      ]
    },
    {
      "cell_type": "markdown",
      "metadata": {
        "id": "0qVfP_MC7m1A"
      },
      "source": [
        "#writers"
      ]
    },
    {
      "cell_type": "code",
      "metadata": {
        "id": "X9fUhl-MkwpG"
      },
      "source": [
        "f=df_train['writers'].value_counts()[1:6].index.tolist()\n",
        "df_train['writers_f'] = df_train.apply (lambda row: label_race(row,'writers'), axis=1)"
      ],
      "execution_count": null,
      "outputs": []
    },
    {
      "cell_type": "code",
      "metadata": {
        "colab": {
          "base_uri": "https://localhost:8080/"
        },
        "id": "E1tSxU1txXR3",
        "outputId": "dde67e6b-c0d4-4b23-c8fc-d0ff3da620de"
      },
      "source": [
        "escritores_mean = df_train.groupby([ \"writers\" ])[[ \"averageRating\" ]].mean()\n",
        "escritores_mean.sort_values(by=['averageRating'],ascending=False)\n",
        "\n",
        "escritores_count = df_train.groupby([\"writers\"])[[\"averageRating\"]].count()\n",
        "escritores_count.sort_values(by= ['averageRating'],ascending=False)\n",
        "\n",
        "escritores = escritores_count.join(escritores_mean, on = 'writers', lsuffix= '_count', rsuffix= '_mean')\n",
        "escritores = escritores[escritores[\"averageRating_count\"] > 100]\n",
        "escritores.sort_values(by= 'averageRating_mean', ascending = False)"
      ],
      "execution_count": null,
      "outputs": [
        {
          "output_type": "execute_result",
          "data": {
            "text/html": [
              "<div>\n",
              "<style scoped>\n",
              "    .dataframe tbody tr th:only-of-type {\n",
              "        vertical-align: middle;\n",
              "    }\n",
              "\n",
              "    .dataframe tbody tr th {\n",
              "        vertical-align: top;\n",
              "    }\n",
              "\n",
              "    .dataframe thead th {\n",
              "        text-align: right;\n",
              "    }\n",
              "</style>\n",
              "<table border=\"1\" class=\"dataframe\">\n",
              "  <thead>\n",
              "    <tr style=\"text-align: right;\">\n",
              "      <th></th>\n",
              "      <th>averageRating_count</th>\n",
              "      <th>averageRating_mean</th>\n",
              "    </tr>\n",
              "    <tr>\n",
              "      <th>writers</th>\n",
              "      <th></th>\n",
              "      <th></th>\n",
              "    </tr>\n",
              "  </thead>\n",
              "  <tbody>\n",
              "    <tr>\n",
              "      <th>nm1974030</th>\n",
              "      <td>315</td>\n",
              "      <td>9.828254</td>\n",
              "    </tr>\n",
              "    <tr>\n",
              "      <th>nm3815573,nm6750552</th>\n",
              "      <td>213</td>\n",
              "      <td>9.773709</td>\n",
              "    </tr>\n",
              "    <tr>\n",
              "      <th>nm1475126</th>\n",
              "      <td>154</td>\n",
              "      <td>9.755195</td>\n",
              "    </tr>\n",
              "    <tr>\n",
              "      <th>nm11871999</th>\n",
              "      <td>102</td>\n",
              "      <td>9.639216</td>\n",
              "    </tr>\n",
              "    <tr>\n",
              "      <th>nm7477076,nm9925322,nm1939626,nm8457565,nm3204856</th>\n",
              "      <td>249</td>\n",
              "      <td>9.426104</td>\n",
              "    </tr>\n",
              "    <tr>\n",
              "      <th>...</th>\n",
              "      <td>...</td>\n",
              "      <td>...</td>\n",
              "    </tr>\n",
              "    <tr>\n",
              "      <th>nm3454839,nm2452107,nm2807724</th>\n",
              "      <td>102</td>\n",
              "      <td>4.847059</td>\n",
              "    </tr>\n",
              "    <tr>\n",
              "      <th>nm0112944,nm0247243,nm0369870,nm0416853,nm0426351,nm0428568,nm0452929,nm0580528,nm0630497,nm2154640,nm0810431,nm0935540</th>\n",
              "      <td>112</td>\n",
              "      <td>4.720536</td>\n",
              "    </tr>\n",
              "    <tr>\n",
              "      <th>nm0298350</th>\n",
              "      <td>325</td>\n",
              "      <td>4.523692</td>\n",
              "    </tr>\n",
              "    <tr>\n",
              "      <th>nm0856056</th>\n",
              "      <td>112</td>\n",
              "      <td>4.417857</td>\n",
              "    </tr>\n",
              "    <tr>\n",
              "      <th>nm0971123</th>\n",
              "      <td>113</td>\n",
              "      <td>2.370796</td>\n",
              "    </tr>\n",
              "  </tbody>\n",
              "</table>\n",
              "<p>137 rows × 2 columns</p>\n",
              "</div>"
            ],
            "text/plain": [
              "                                                    averageRating_count  averageRating_mean\n",
              "writers                                                                                    \n",
              "nm1974030                                                           315            9.828254\n",
              "nm3815573,nm6750552                                                 213            9.773709\n",
              "nm1475126                                                           154            9.755195\n",
              "nm11871999                                                          102            9.639216\n",
              "nm7477076,nm9925322,nm1939626,nm8457565,nm3204856                   249            9.426104\n",
              "...                                                                 ...                 ...\n",
              "nm3454839,nm2452107,nm2807724                                       102            4.847059\n",
              "nm0112944,nm0247243,nm0369870,nm0416853,nm04263...                  112            4.720536\n",
              "nm0298350                                                           325            4.523692\n",
              "nm0856056                                                           112            4.417857\n",
              "nm0971123                                                           113            2.370796\n",
              "\n",
              "[137 rows x 2 columns]"
            ]
          },
          "metadata": {},
          "execution_count": 40
        }
      ]
    },
    {
      "cell_type": "code",
      "metadata": {
        "id": "cOOt_aRL7SnI"
      },
      "source": [
        "df_train = df_train.join(escritores, on = 'writers', how= 'left')"
      ],
      "execution_count": null,
      "outputs": []
    },
    {
      "cell_type": "code",
      "metadata": {
        "id": "xGQd-0gK8JhQ"
      },
      "source": [
        "df_train['writers_p'] = np.where(df_train['averageRating_count'].isnull(), 0,1)\n",
        "df_train['writers_p'] = [100 if (x> 8) else 70 if (x> 6) else 40 if (x> 4) else 10 if (x> 2) else 0 for x in df_train['averageRating_mean']]\n",
        "\n"
      ],
      "execution_count": null,
      "outputs": []
    },
    {
      "cell_type": "code",
      "metadata": {
        "id": "DAQdjtDH8-P4"
      },
      "source": [
        "df_train = df_train[['averageRating', 'numVotes', 'titleType', 'isAdult', 'startYear',\n",
        "       'endYear', 'runtimeMinutes', 'genres_x', 'directors', 'writers',\n",
        "       'seasonNumber', 'episodeNumber', 'ordering', 'language', 'types',\n",
        "       'attributes', 'isOriginalTitle', 'adult', 'budget', 'genres_y',\n",
        "       'original_language', 'overview', 'popularity', 'production_companies',\n",
        "       'production_countries', 'release_date', 'revenue', 'runtime', 'status',\n",
        "       'tagline', 'video', 'id', 'prod', 'director_f', 'directors_p',\n",
        "       'writers_f', 'writers_p']]"
      ],
      "execution_count": null,
      "outputs": []
    },
    {
      "cell_type": "markdown",
      "metadata": {
        "id": "Fsv_zmxW7qko"
      },
      "source": [
        "#production companies"
      ]
    },
    {
      "cell_type": "code",
      "metadata": {
        "id": "9qBUsZxkk3io"
      },
      "source": [
        "f=df_train['production_companies'].value_counts()[1:6].index.tolist()\n",
        "df_train['production_companies_f'] = df_train.apply (lambda row: label_race(row,'production_companies'), axis=1)"
      ],
      "execution_count": null,
      "outputs": []
    },
    {
      "cell_type": "code",
      "metadata": {
        "colab": {
          "base_uri": "https://localhost:8080/"
        },
        "id": "RpWQec8A9TqZ",
        "outputId": "7e3eea87-aaab-4e3b-a70a-721463ff490e"
      },
      "source": [
        "empresas_mean = df_train.groupby([ \"production_companies\" ])[[ \"averageRating\" ]].mean()\n",
        "empresas_mean.sort_values(by=['averageRating'],ascending=False)\n",
        "\n",
        "empresas_count = df_train.groupby([\"production_companies\"])[[\"averageRating\"]].count()\n",
        "empresas_count.sort_values(by= ['averageRating'],ascending=False)\n",
        "\n",
        "empresas = empresas_count.join(empresas_mean, on = 'production_companies', lsuffix= '_count', rsuffix= '_mean')\n",
        "empresas = empresas[empresas[\"averageRating_count\"] > 100]\n",
        "empresas.sort_values(by= 'averageRating_mean', ascending = False)"
      ],
      "execution_count": null,
      "outputs": [
        {
          "output_type": "execute_result",
          "data": {
            "text/html": [
              "<div>\n",
              "<style scoped>\n",
              "    .dataframe tbody tr th:only-of-type {\n",
              "        vertical-align: middle;\n",
              "    }\n",
              "\n",
              "    .dataframe tbody tr th {\n",
              "        vertical-align: top;\n",
              "    }\n",
              "\n",
              "    .dataframe thead th {\n",
              "        text-align: right;\n",
              "    }\n",
              "</style>\n",
              "<table border=\"1\" class=\"dataframe\">\n",
              "  <thead>\n",
              "    <tr style=\"text-align: right;\">\n",
              "      <th></th>\n",
              "      <th>averageRating_count</th>\n",
              "      <th>averageRating_mean</th>\n",
              "    </tr>\n",
              "    <tr>\n",
              "      <th>production_companies</th>\n",
              "      <th></th>\n",
              "      <th></th>\n",
              "    </tr>\n",
              "  </thead>\n",
              "  <tbody>\n",
              "    <tr>\n",
              "      <th>[{'name': 'Mosfilm', 'id': 5120}]</th>\n",
              "      <td>117</td>\n",
              "      <td>7.429060</td>\n",
              "    </tr>\n",
              "    <tr>\n",
              "      <th>[{'name': 'Twentieth Century Fox Film Corporation', 'id': 306}]</th>\n",
              "      <td>565</td>\n",
              "      <td>6.746195</td>\n",
              "    </tr>\n",
              "    <tr>\n",
              "      <th>[{'name': 'Warner Bros.', 'id': 6194}]</th>\n",
              "      <td>648</td>\n",
              "      <td>6.614660</td>\n",
              "    </tr>\n",
              "    <tr>\n",
              "      <th>[{'name': 'Paramount Pictures', 'id': 4}]</th>\n",
              "      <td>582</td>\n",
              "      <td>6.602749</td>\n",
              "    </tr>\n",
              "    <tr>\n",
              "      <th>[{'name': 'RKO Radio Pictures', 'id': 6}]</th>\n",
              "      <td>311</td>\n",
              "      <td>6.548875</td>\n",
              "    </tr>\n",
              "    <tr>\n",
              "      <th>[{'name': 'Columbia Pictures', 'id': 5}]</th>\n",
              "      <td>164</td>\n",
              "      <td>6.545122</td>\n",
              "    </tr>\n",
              "    <tr>\n",
              "      <th>[{'name': 'Universal International Pictures (UI)', 'id': 10330}]</th>\n",
              "      <td>111</td>\n",
              "      <td>6.545045</td>\n",
              "    </tr>\n",
              "    <tr>\n",
              "      <th>[{'name': 'Metro-Goldwyn-Mayer (MGM)', 'id': 8411}]</th>\n",
              "      <td>884</td>\n",
              "      <td>6.536425</td>\n",
              "    </tr>\n",
              "    <tr>\n",
              "      <th>[{'name': 'Columbia Pictures Corporation', 'id': 441}]</th>\n",
              "      <td>263</td>\n",
              "      <td>6.496578</td>\n",
              "    </tr>\n",
              "    <tr>\n",
              "      <th>[{'name': 'Universal Pictures', 'id': 33}]</th>\n",
              "      <td>381</td>\n",
              "      <td>6.326509</td>\n",
              "    </tr>\n",
              "    <tr>\n",
              "      <th>[]</th>\n",
              "      <td>10085</td>\n",
              "      <td>6.214467</td>\n",
              "    </tr>\n",
              "    <tr>\n",
              "      <th>[{'name': 'Walt Disney Pictures', 'id': 2}]</th>\n",
              "      <td>107</td>\n",
              "      <td>6.196262</td>\n",
              "    </tr>\n",
              "  </tbody>\n",
              "</table>\n",
              "</div>"
            ],
            "text/plain": [
              "                                                    averageRating_count  averageRating_mean\n",
              "production_companies                                                                       \n",
              "[{'name': 'Mosfilm', 'id': 5120}]                                   117            7.429060\n",
              "[{'name': 'Twentieth Century Fox Film Corporati...                  565            6.746195\n",
              "[{'name': 'Warner Bros.', 'id': 6194}]                              648            6.614660\n",
              "[{'name': 'Paramount Pictures', 'id': 4}]                           582            6.602749\n",
              "[{'name': 'RKO Radio Pictures', 'id': 6}]                           311            6.548875\n",
              "[{'name': 'Columbia Pictures', 'id': 5}]                            164            6.545122\n",
              "[{'name': 'Universal International Pictures (UI...                  111            6.545045\n",
              "[{'name': 'Metro-Goldwyn-Mayer (MGM)', 'id': 84...                  884            6.536425\n",
              "[{'name': 'Columbia Pictures Corporation', 'id'...                  263            6.496578\n",
              "[{'name': 'Universal Pictures', 'id': 33}]                          381            6.326509\n",
              "[]                                                                10085            6.214467\n",
              "[{'name': 'Walt Disney Pictures', 'id': 2}]                         107            6.196262"
            ]
          },
          "metadata": {},
          "execution_count": 45
        }
      ]
    },
    {
      "cell_type": "markdown",
      "metadata": {
        "id": "YwUGh0Oe9PVr"
      },
      "source": [
        "#production countries"
      ]
    },
    {
      "cell_type": "code",
      "metadata": {
        "id": "tlCAr1T4k-py"
      },
      "source": [
        "f=df_train['production_countries'].value_counts()[1:6].index.tolist()\n",
        "df_train['production_countries_f'] = df_train.apply (lambda row: label_race(row,'production_countries'), axis=1)"
      ],
      "execution_count": null,
      "outputs": []
    },
    {
      "cell_type": "code",
      "metadata": {
        "colab": {
          "base_uri": "https://localhost:8080/"
        },
        "id": "zCpOLwWM-hpg",
        "outputId": "c349a1fe-0770-48b7-e162-235374902bfc"
      },
      "source": [
        "paises_mean = df_train.groupby([ \"production_countries\" ])[[ \"averageRating\" ]].mean()\n",
        "paises_mean.sort_values(by=['averageRating'],ascending=False)\n",
        "\n",
        "paises_count = df_train.groupby([\"production_countries\"])[[\"averageRating\"]].count()\n",
        "paises_count.sort_values(by= ['averageRating'],ascending=False)\n",
        "\n",
        "paises = paises_count.join(paises_mean, on = 'production_countries', lsuffix= '_count', rsuffix= '_mean')\n",
        "paises = paises[paises[\"averageRating_count\"] > 100]\n",
        "paises.sort_values(by= 'averageRating_mean', ascending = False)"
      ],
      "execution_count": null,
      "outputs": [
        {
          "output_type": "execute_result",
          "data": {
            "text/html": [
              "<div>\n",
              "<style scoped>\n",
              "    .dataframe tbody tr th:only-of-type {\n",
              "        vertical-align: middle;\n",
              "    }\n",
              "\n",
              "    .dataframe tbody tr th {\n",
              "        vertical-align: top;\n",
              "    }\n",
              "\n",
              "    .dataframe thead th {\n",
              "        text-align: right;\n",
              "    }\n",
              "</style>\n",
              "<table border=\"1\" class=\"dataframe\">\n",
              "  <thead>\n",
              "    <tr style=\"text-align: right;\">\n",
              "      <th></th>\n",
              "      <th>averageRating_count</th>\n",
              "      <th>averageRating_mean</th>\n",
              "    </tr>\n",
              "    <tr>\n",
              "      <th>production_countries</th>\n",
              "      <th></th>\n",
              "      <th></th>\n",
              "    </tr>\n",
              "  </thead>\n",
              "  <tbody>\n",
              "    <tr>\n",
              "      <th>[{'iso_3166_1': 'IN', 'name': 'India'}]</th>\n",
              "      <td>579</td>\n",
              "      <td>6.843696</td>\n",
              "    </tr>\n",
              "    <tr>\n",
              "      <th>[{'iso_3166_1': 'JP', 'name': 'Japan'}]</th>\n",
              "      <td>1212</td>\n",
              "      <td>6.816419</td>\n",
              "    </tr>\n",
              "    <tr>\n",
              "      <th>[{'iso_3166_1': 'PL', 'name': 'Poland'}]</th>\n",
              "      <td>157</td>\n",
              "      <td>6.813376</td>\n",
              "    </tr>\n",
              "    <tr>\n",
              "      <th>[{'iso_3166_1': 'BR', 'name': 'Brazil'}]</th>\n",
              "      <td>167</td>\n",
              "      <td>6.800599</td>\n",
              "    </tr>\n",
              "    <tr>\n",
              "      <th>[{'iso_3166_1': 'IT', 'name': 'Italy'}, {'iso_3166_1': 'FR', 'name': 'France'}]</th>\n",
              "      <td>115</td>\n",
              "      <td>6.790435</td>\n",
              "    </tr>\n",
              "    <tr>\n",
              "      <th>[{'iso_3166_1': 'RU', 'name': 'Russia'}]</th>\n",
              "      <td>591</td>\n",
              "      <td>6.685956</td>\n",
              "    </tr>\n",
              "    <tr>\n",
              "      <th>[{'iso_3166_1': 'GB', 'name': 'United Kingdom'}, {'iso_3166_1': 'US', 'name': 'United States of America'}]</th>\n",
              "      <td>566</td>\n",
              "      <td>6.678799</td>\n",
              "    </tr>\n",
              "    <tr>\n",
              "      <th>[{'iso_3166_1': 'FR', 'name': 'France'}, {'iso_3166_1': 'IT', 'name': 'Italy'}]</th>\n",
              "      <td>232</td>\n",
              "      <td>6.668966</td>\n",
              "    </tr>\n",
              "    <tr>\n",
              "      <th>[{'iso_3166_1': 'KR', 'name': 'South Korea'}]</th>\n",
              "      <td>337</td>\n",
              "      <td>6.644510</td>\n",
              "    </tr>\n",
              "    <tr>\n",
              "      <th>[{'iso_3166_1': 'MX', 'name': 'Mexico'}]</th>\n",
              "      <td>128</td>\n",
              "      <td>6.602344</td>\n",
              "    </tr>\n",
              "    <tr>\n",
              "      <th>[{'iso_3166_1': 'FR', 'name': 'France'}]</th>\n",
              "      <td>1364</td>\n",
              "      <td>6.537683</td>\n",
              "    </tr>\n",
              "    <tr>\n",
              "      <th>[{'iso_3166_1': 'FR', 'name': 'France'}, {'iso_3166_1': 'US', 'name': 'United States of America'}]</th>\n",
              "      <td>119</td>\n",
              "      <td>6.536975</td>\n",
              "    </tr>\n",
              "    <tr>\n",
              "      <th>[{'iso_3166_1': 'HK', 'name': 'Hong Kong'}]</th>\n",
              "      <td>340</td>\n",
              "      <td>6.498235</td>\n",
              "    </tr>\n",
              "    <tr>\n",
              "      <th>[{'iso_3166_1': 'NL', 'name': 'Netherlands'}]</th>\n",
              "      <td>130</td>\n",
              "      <td>6.483077</td>\n",
              "    </tr>\n",
              "    <tr>\n",
              "      <th>[{'iso_3166_1': 'GB', 'name': 'United Kingdom'}]</th>\n",
              "      <td>1786</td>\n",
              "      <td>6.481523</td>\n",
              "    </tr>\n",
              "    <tr>\n",
              "      <th>[{'iso_3166_1': 'DE', 'name': 'Germany'}]</th>\n",
              "      <td>590</td>\n",
              "      <td>6.474407</td>\n",
              "    </tr>\n",
              "    <tr>\n",
              "      <th>[{'iso_3166_1': 'DK', 'name': 'Denmark'}]</th>\n",
              "      <td>128</td>\n",
              "      <td>6.403125</td>\n",
              "    </tr>\n",
              "    <tr>\n",
              "      <th>[{'iso_3166_1': 'CN', 'name': 'China'}]</th>\n",
              "      <td>120</td>\n",
              "      <td>6.375000</td>\n",
              "    </tr>\n",
              "    <tr>\n",
              "      <th>[{'iso_3166_1': 'SE', 'name': 'Sweden'}]</th>\n",
              "      <td>258</td>\n",
              "      <td>6.270155</td>\n",
              "    </tr>\n",
              "    <tr>\n",
              "      <th>[]</th>\n",
              "      <td>5341</td>\n",
              "      <td>6.233215</td>\n",
              "    </tr>\n",
              "    <tr>\n",
              "      <th>[{'iso_3166_1': 'ES', 'name': 'Spain'}]</th>\n",
              "      <td>314</td>\n",
              "      <td>6.185987</td>\n",
              "    </tr>\n",
              "    <tr>\n",
              "      <th>[{'iso_3166_1': 'AU', 'name': 'Australia'}]</th>\n",
              "      <td>272</td>\n",
              "      <td>6.159926</td>\n",
              "    </tr>\n",
              "    <tr>\n",
              "      <th>[{'iso_3166_1': 'FI', 'name': 'Finland'}]</th>\n",
              "      <td>203</td>\n",
              "      <td>6.147783</td>\n",
              "    </tr>\n",
              "    <tr>\n",
              "      <th>[{'iso_3166_1': 'US', 'name': 'United States of America'}]</th>\n",
              "      <td>20140</td>\n",
              "      <td>6.121028</td>\n",
              "    </tr>\n",
              "    <tr>\n",
              "      <th>[{'iso_3166_1': 'DE', 'name': 'Germany'}, {'iso_3166_1': 'US', 'name': 'United States of America'}]</th>\n",
              "      <td>263</td>\n",
              "      <td>6.109886</td>\n",
              "    </tr>\n",
              "    <tr>\n",
              "      <th>[{'iso_3166_1': 'IT', 'name': 'Italy'}]</th>\n",
              "      <td>975</td>\n",
              "      <td>6.099590</td>\n",
              "    </tr>\n",
              "    <tr>\n",
              "      <th>[{'iso_3166_1': 'JP', 'name': 'Japan'}, {'iso_3166_1': 'US', 'name': 'United States of America'}]</th>\n",
              "      <td>105</td>\n",
              "      <td>6.071429</td>\n",
              "    </tr>\n",
              "    <tr>\n",
              "      <th>[{'iso_3166_1': 'CA', 'name': 'Canada'}]</th>\n",
              "      <td>656</td>\n",
              "      <td>5.897409</td>\n",
              "    </tr>\n",
              "    <tr>\n",
              "      <th>[{'iso_3166_1': 'CA', 'name': 'Canada'}, {'iso_3166_1': 'US', 'name': 'United States of America'}]</th>\n",
              "      <td>367</td>\n",
              "      <td>5.835967</td>\n",
              "    </tr>\n",
              "    <tr>\n",
              "      <th>[{'iso_3166_1': 'US', 'name': 'United States of America'}, {'iso_3166_1': 'CA', 'name': 'Canada'}]</th>\n",
              "      <td>126</td>\n",
              "      <td>5.589683</td>\n",
              "    </tr>\n",
              "  </tbody>\n",
              "</table>\n",
              "</div>"
            ],
            "text/plain": [
              "                                                    averageRating_count  averageRating_mean\n",
              "production_countries                                                                       \n",
              "[{'iso_3166_1': 'IN', 'name': 'India'}]                             579            6.843696\n",
              "[{'iso_3166_1': 'JP', 'name': 'Japan'}]                            1212            6.816419\n",
              "[{'iso_3166_1': 'PL', 'name': 'Poland'}]                            157            6.813376\n",
              "[{'iso_3166_1': 'BR', 'name': 'Brazil'}]                            167            6.800599\n",
              "[{'iso_3166_1': 'IT', 'name': 'Italy'}, {'iso_3...                  115            6.790435\n",
              "[{'iso_3166_1': 'RU', 'name': 'Russia'}]                            591            6.685956\n",
              "[{'iso_3166_1': 'GB', 'name': 'United Kingdom'}...                  566            6.678799\n",
              "[{'iso_3166_1': 'FR', 'name': 'France'}, {'iso_...                  232            6.668966\n",
              "[{'iso_3166_1': 'KR', 'name': 'South Korea'}]                       337            6.644510\n",
              "[{'iso_3166_1': 'MX', 'name': 'Mexico'}]                            128            6.602344\n",
              "[{'iso_3166_1': 'FR', 'name': 'France'}]                           1364            6.537683\n",
              "[{'iso_3166_1': 'FR', 'name': 'France'}, {'iso_...                  119            6.536975\n",
              "[{'iso_3166_1': 'HK', 'name': 'Hong Kong'}]                         340            6.498235\n",
              "[{'iso_3166_1': 'NL', 'name': 'Netherlands'}]                       130            6.483077\n",
              "[{'iso_3166_1': 'GB', 'name': 'United Kingdom'}]                   1786            6.481523\n",
              "[{'iso_3166_1': 'DE', 'name': 'Germany'}]                           590            6.474407\n",
              "[{'iso_3166_1': 'DK', 'name': 'Denmark'}]                           128            6.403125\n",
              "[{'iso_3166_1': 'CN', 'name': 'China'}]                             120            6.375000\n",
              "[{'iso_3166_1': 'SE', 'name': 'Sweden'}]                            258            6.270155\n",
              "[]                                                                 5341            6.233215\n",
              "[{'iso_3166_1': 'ES', 'name': 'Spain'}]                             314            6.185987\n",
              "[{'iso_3166_1': 'AU', 'name': 'Australia'}]                         272            6.159926\n",
              "[{'iso_3166_1': 'FI', 'name': 'Finland'}]                           203            6.147783\n",
              "[{'iso_3166_1': 'US', 'name': 'United States of...                20140            6.121028\n",
              "[{'iso_3166_1': 'DE', 'name': 'Germany'}, {'iso...                  263            6.109886\n",
              "[{'iso_3166_1': 'IT', 'name': 'Italy'}]                             975            6.099590\n",
              "[{'iso_3166_1': 'JP', 'name': 'Japan'}, {'iso_3...                  105            6.071429\n",
              "[{'iso_3166_1': 'CA', 'name': 'Canada'}]                            656            5.897409\n",
              "[{'iso_3166_1': 'CA', 'name': 'Canada'}, {'iso_...                  367            5.835967\n",
              "[{'iso_3166_1': 'US', 'name': 'United States of...                  126            5.589683"
            ]
          },
          "metadata": {},
          "execution_count": 47
        }
      ]
    },
    {
      "cell_type": "markdown",
      "metadata": {
        "id": "F1WsXQmt-Zow"
      },
      "source": [
        "#status"
      ]
    },
    {
      "cell_type": "code",
      "metadata": {
        "id": "qWfdPoCOlB9N"
      },
      "source": [
        "f=df_train['status'].value_counts()[0:5].index.tolist()\n",
        "df_train['status_f'] = df_train.apply (lambda row: label_race(row,'status'), axis=1)"
      ],
      "execution_count": null,
      "outputs": []
    },
    {
      "cell_type": "code",
      "metadata": {
        "colab": {
          "base_uri": "https://localhost:8080/"
        },
        "id": "FIqsyKQjAEsr",
        "outputId": "b8351a45-6b57-49c2-d140-9c2c50c47cbd"
      },
      "source": [
        "status_mean = df_train.groupby([ \"status\" ])[[ \"averageRating\" ]].mean()\n",
        "status_mean.sort_values(by=['averageRating'],ascending=False)\n",
        "\n",
        "status_count = df_train.groupby([\"status\"])[[\"averageRating\"]].count()\n",
        "status_count.sort_values(by= ['averageRating'],ascending=False)\n",
        "\n",
        "status = status_count.join(status_mean, on = 'status', lsuffix= '_count', rsuffix= '_mean')\n",
        "status = status[status[\"averageRating_count\"] > 100]\n",
        "status.sort_values(by= 'averageRating_mean', ascending = False)"
      ],
      "execution_count": null,
      "outputs": [
        {
          "output_type": "execute_result",
          "data": {
            "text/html": [
              "<div>\n",
              "<style scoped>\n",
              "    .dataframe tbody tr th:only-of-type {\n",
              "        vertical-align: middle;\n",
              "    }\n",
              "\n",
              "    .dataframe tbody tr th {\n",
              "        vertical-align: top;\n",
              "    }\n",
              "\n",
              "    .dataframe thead th {\n",
              "        text-align: right;\n",
              "    }\n",
              "</style>\n",
              "<table border=\"1\" class=\"dataframe\">\n",
              "  <thead>\n",
              "    <tr style=\"text-align: right;\">\n",
              "      <th></th>\n",
              "      <th>averageRating_count</th>\n",
              "      <th>averageRating_mean</th>\n",
              "    </tr>\n",
              "    <tr>\n",
              "      <th>status</th>\n",
              "      <th></th>\n",
              "      <th></th>\n",
              "    </tr>\n",
              "  </thead>\n",
              "  <tbody>\n",
              "    <tr>\n",
              "      <th>Rumored</th>\n",
              "      <td>187</td>\n",
              "      <td>6.331016</td>\n",
              "    </tr>\n",
              "    <tr>\n",
              "      <th>Released</th>\n",
              "      <td>43297</td>\n",
              "      <td>6.271737</td>\n",
              "    </tr>\n",
              "  </tbody>\n",
              "</table>\n",
              "</div>"
            ],
            "text/plain": [
              "          averageRating_count  averageRating_mean\n",
              "status                                           \n",
              "Rumored                   187            6.331016\n",
              "Released                43297            6.271737"
            ]
          },
          "metadata": {},
          "execution_count": 49
        }
      ]
    },
    {
      "cell_type": "markdown",
      "metadata": {
        "id": "86_KaafoABw9"
      },
      "source": [
        "# generos"
      ]
    },
    {
      "cell_type": "code",
      "metadata": {
        "id": "Yuq6oAXCyxXi"
      },
      "source": [
        "f = df_train['genres_x'].value_counts()[1:6].index.tolist()\n",
        "df_train['genres_f'] = df_train.apply (lambda row: label_race(row,'genres_x'), axis=1)"
      ],
      "execution_count": null,
      "outputs": []
    },
    {
      "cell_type": "code",
      "metadata": {
        "colab": {
          "base_uri": "https://localhost:8080/",
          "height": 450
        },
        "id": "yrGnIRiFBDuJ",
        "outputId": "241b6a89-8d52-4eaf-ddd2-f44aa03cb2ea"
      },
      "source": [
        "generos_mean = df_train.groupby([ \"genres_x\" ])[[ \"averageRating\" ]].mean()\n",
        "generos_mean.sort_values(by=['averageRating'],ascending=False)\n",
        "\n",
        "generos_count = df_train.groupby([\"genres_x\"])[[\"averageRating\"]].count()\n",
        "generos_count.sort_values(by= ['averageRating'],ascending=False)\n",
        "\n",
        "generos = generos_count.join(generos_mean, on = 'genres_x', lsuffix= '_count', rsuffix= '_mean')\n",
        "generos = generos[generos[\"averageRating_count\"] > 100]\n",
        "generos.sort_values(by= 'averageRating_mean', ascending = False)"
      ],
      "execution_count": null,
      "outputs": [
        {
          "output_type": "execute_result",
          "data": {
            "text/html": [
              "<div>\n",
              "<style scoped>\n",
              "    .dataframe tbody tr th:only-of-type {\n",
              "        vertical-align: middle;\n",
              "    }\n",
              "\n",
              "    .dataframe tbody tr th {\n",
              "        vertical-align: top;\n",
              "    }\n",
              "\n",
              "    .dataframe thead th {\n",
              "        text-align: right;\n",
              "    }\n",
              "</style>\n",
              "<table border=\"1\" class=\"dataframe\">\n",
              "  <thead>\n",
              "    <tr style=\"text-align: right;\">\n",
              "      <th></th>\n",
              "      <th>averageRating_count</th>\n",
              "      <th>averageRating_mean</th>\n",
              "    </tr>\n",
              "    <tr>\n",
              "      <th>genres_x</th>\n",
              "      <th></th>\n",
              "      <th></th>\n",
              "    </tr>\n",
              "  </thead>\n",
              "  <tbody>\n",
              "    <tr>\n",
              "      <th>Comedy,Horror,Reality-TV</th>\n",
              "      <td>105</td>\n",
              "      <td>8.609524</td>\n",
              "    </tr>\n",
              "    <tr>\n",
              "      <th>Horror,Reality-TV,Sci-Fi</th>\n",
              "      <td>134</td>\n",
              "      <td>8.517164</td>\n",
              "    </tr>\n",
              "    <tr>\n",
              "      <th>Action,Drama,Music</th>\n",
              "      <td>157</td>\n",
              "      <td>8.444586</td>\n",
              "    </tr>\n",
              "    <tr>\n",
              "      <th>Family,Fantasy,Music</th>\n",
              "      <td>429</td>\n",
              "      <td>8.278089</td>\n",
              "    </tr>\n",
              "    <tr>\n",
              "      <th>Adventure,Biography,Crime</th>\n",
              "      <td>175</td>\n",
              "      <td>8.225714</td>\n",
              "    </tr>\n",
              "    <tr>\n",
              "      <th>...</th>\n",
              "      <td>...</td>\n",
              "      <td>...</td>\n",
              "    </tr>\n",
              "    <tr>\n",
              "      <th>Horror,Thriller</th>\n",
              "      <td>2308</td>\n",
              "      <td>4.834705</td>\n",
              "    </tr>\n",
              "    <tr>\n",
              "      <th>Action,Horror</th>\n",
              "      <td>214</td>\n",
              "      <td>4.740187</td>\n",
              "    </tr>\n",
              "    <tr>\n",
              "      <th>Horror,Sci-Fi</th>\n",
              "      <td>713</td>\n",
              "      <td>4.711921</td>\n",
              "    </tr>\n",
              "    <tr>\n",
              "      <th>Action,Horror,Thriller</th>\n",
              "      <td>245</td>\n",
              "      <td>4.561224</td>\n",
              "    </tr>\n",
              "    <tr>\n",
              "      <th>Drama,Family,Reality-TV</th>\n",
              "      <td>243</td>\n",
              "      <td>4.337860</td>\n",
              "    </tr>\n",
              "  </tbody>\n",
              "</table>\n",
              "<p>524 rows × 2 columns</p>\n",
              "</div>"
            ],
            "text/plain": [
              "                           averageRating_count  averageRating_mean\n",
              "genres_x                                                          \n",
              "Comedy,Horror,Reality-TV                   105            8.609524\n",
              "Horror,Reality-TV,Sci-Fi                   134            8.517164\n",
              "Action,Drama,Music                         157            8.444586\n",
              "Family,Fantasy,Music                       429            8.278089\n",
              "Adventure,Biography,Crime                  175            8.225714\n",
              "...                                        ...                 ...\n",
              "Horror,Thriller                           2308            4.834705\n",
              "Action,Horror                              214            4.740187\n",
              "Horror,Sci-Fi                              713            4.711921\n",
              "Action,Horror,Thriller                     245            4.561224\n",
              "Drama,Family,Reality-TV                    243            4.337860\n",
              "\n",
              "[524 rows x 2 columns]"
            ]
          },
          "metadata": {},
          "execution_count": 51
        }
      ]
    },
    {
      "cell_type": "code",
      "metadata": {
        "id": "_-PmcQpgBen5"
      },
      "source": [
        "df_train = df_train.join(generos, on = 'genres_x', how= 'left')"
      ],
      "execution_count": null,
      "outputs": []
    },
    {
      "cell_type": "code",
      "metadata": {
        "id": "ceX4Tp3qBykp"
      },
      "source": [
        "df_train['genres_p'] = np.where(df_train['averageRating_count'].isnull(), 0,1)\n",
        "df_train['genres_p'] = [100 if (x> 8) else 70 if (x> 6) else 40 if (x> 4) else 10 if (x> 2) else 0 for x in df_train['averageRating_mean']]\n"
      ],
      "execution_count": null,
      "outputs": []
    },
    {
      "cell_type": "code",
      "metadata": {
        "id": "kTXnMRKjB-Gy"
      },
      "source": [
        "df_train = df_train[['averageRating', 'numVotes', 'titleType', 'isAdult', 'startYear',\n",
        "       'endYear', 'runtimeMinutes', 'genres_x', 'directors', 'writers',\n",
        "       'seasonNumber', 'episodeNumber', 'ordering', 'language', 'types',\n",
        "       'attributes', 'isOriginalTitle', 'adult', 'budget', 'genres_y',\n",
        "       'original_language', 'overview', 'popularity', 'production_companies',\n",
        "       'production_countries', 'release_date', 'revenue', 'runtime', 'status',\n",
        "       'tagline', 'video', 'id', 'prod', 'director_f', 'directors_p',\n",
        "       'writers_f', 'writers_p', 'production_companies_f',\n",
        "       'production_countries_f', 'status_f', 'genres_f', 'genres_p']]\n"
      ],
      "execution_count": null,
      "outputs": []
    },
    {
      "cell_type": "markdown",
      "metadata": {
        "id": "HutpRG8pKSLg"
      },
      "source": [
        "#Title type"
      ]
    },
    {
      "cell_type": "code",
      "metadata": {
        "colab": {
          "base_uri": "https://localhost:8080/",
          "height": 390
        },
        "id": "Eq1WUxXlKUhr",
        "outputId": "ca4fd61d-b1f8-476d-e0e7-03d74134d3e5"
      },
      "source": [
        "titulos_mean = df_train.groupby([ \"titleType\" ])[[ \"averageRating\" ]].mean()\n",
        "titulos_mean.sort_values(by=['averageRating'],ascending=False)\n",
        "\n",
        "titulos_count = df_train.groupby([\"titleType\"])[[\"averageRating\"]].count()\n",
        "titulos_count.sort_values(by= ['averageRating'],ascending=False)\n",
        "\n",
        "titulos = titulos_count.join(titulos_mean, on = 'titleType', lsuffix= '_count', rsuffix= '_mean')\n",
        "titulos = titulos[titulos[\"averageRating_count\"] > 100]\n",
        "titulos.sort_values(by= 'averageRating_mean', ascending = False)"
      ],
      "execution_count": null,
      "outputs": [
        {
          "output_type": "execute_result",
          "data": {
            "text/html": [
              "<div>\n",
              "<style scoped>\n",
              "    .dataframe tbody tr th:only-of-type {\n",
              "        vertical-align: middle;\n",
              "    }\n",
              "\n",
              "    .dataframe tbody tr th {\n",
              "        vertical-align: top;\n",
              "    }\n",
              "\n",
              "    .dataframe thead th {\n",
              "        text-align: right;\n",
              "    }\n",
              "</style>\n",
              "<table border=\"1\" class=\"dataframe\">\n",
              "  <thead>\n",
              "    <tr style=\"text-align: right;\">\n",
              "      <th></th>\n",
              "      <th>averageRating_count</th>\n",
              "      <th>averageRating_mean</th>\n",
              "    </tr>\n",
              "    <tr>\n",
              "      <th>titleType</th>\n",
              "      <th></th>\n",
              "      <th></th>\n",
              "    </tr>\n",
              "  </thead>\n",
              "  <tbody>\n",
              "    <tr>\n",
              "      <th>tvEpisode</th>\n",
              "      <td>403690</td>\n",
              "      <td>7.392150</td>\n",
              "    </tr>\n",
              "    <tr>\n",
              "      <th>tvMiniSeries</th>\n",
              "      <td>9091</td>\n",
              "      <td>7.088109</td>\n",
              "    </tr>\n",
              "    <tr>\n",
              "      <th>videoGame</th>\n",
              "      <td>9944</td>\n",
              "      <td>7.019660</td>\n",
              "    </tr>\n",
              "    <tr>\n",
              "      <th>tvShort</th>\n",
              "      <td>1727</td>\n",
              "      <td>6.855646</td>\n",
              "    </tr>\n",
              "    <tr>\n",
              "      <th>tvSeries</th>\n",
              "      <td>59710</td>\n",
              "      <td>6.802765</td>\n",
              "    </tr>\n",
              "    <tr>\n",
              "      <th>short</th>\n",
              "      <td>102830</td>\n",
              "      <td>6.781752</td>\n",
              "    </tr>\n",
              "    <tr>\n",
              "      <th>tvSpecial</th>\n",
              "      <td>8124</td>\n",
              "      <td>6.759183</td>\n",
              "    </tr>\n",
              "    <tr>\n",
              "      <th>tvMovie</th>\n",
              "      <td>36964</td>\n",
              "      <td>6.611189</td>\n",
              "    </tr>\n",
              "    <tr>\n",
              "      <th>video</th>\n",
              "      <td>50568</td>\n",
              "      <td>6.568889</td>\n",
              "    </tr>\n",
              "    <tr>\n",
              "      <th>movie</th>\n",
              "      <td>217350</td>\n",
              "      <td>6.106495</td>\n",
              "    </tr>\n",
              "  </tbody>\n",
              "</table>\n",
              "</div>"
            ],
            "text/plain": [
              "              averageRating_count  averageRating_mean\n",
              "titleType                                            \n",
              "tvEpisode                  403690            7.392150\n",
              "tvMiniSeries                 9091            7.088109\n",
              "videoGame                    9944            7.019660\n",
              "tvShort                      1727            6.855646\n",
              "tvSeries                    59710            6.802765\n",
              "short                      102830            6.781752\n",
              "tvSpecial                    8124            6.759183\n",
              "tvMovie                     36964            6.611189\n",
              "video                       50568            6.568889\n",
              "movie                      217350            6.106495"
            ]
          },
          "metadata": {},
          "execution_count": 55
        }
      ]
    },
    {
      "cell_type": "code",
      "metadata": {
        "colab": {
          "base_uri": "https://localhost:8080/",
          "height": 279
        },
        "id": "4NfSF8Y-vCwe",
        "outputId": "3afceab4-b333-46f5-af3e-aa2a9b2ac70a"
      },
      "source": [
        "ax = sns.boxplot(x=df_train['averageRating'], y= df_train['titleType'])"
      ],
      "execution_count": null,
      "outputs": [
        {
          "output_type": "display_data",
          "data": {
            "image/png": "[encoded data removed]",
            "text/plain": [
              "<Figure size 432x288 with 1 Axes>"
            ]
          },
          "metadata": {
            "needs_background": "light"
          }
        }
      ]
    },
    {
      "cell_type": "markdown",
      "metadata": {
        "id": "vruHAs9gLYk5"
      },
      "source": [
        "#lenguaje"
      ]
    },
    {
      "cell_type": "code",
      "metadata": {
        "colab": {
          "base_uri": "https://localhost:8080/",
          "height": 297
        },
        "id": "Juh3MpuBLaK4",
        "outputId": "05ceb390-3b4a-4728-9725-c17002c9225a"
      },
      "source": [
        "idiomas_mean = df_train.groupby([ \"language\" ])[[ \"averageRating\" ]].mean()\n",
        "idiomas_mean.sort_values(by=['averageRating'],ascending=False)\n",
        "\n",
        "idiomas_count = df_train.groupby([\"language\"])[[\"averageRating\"]].count()\n",
        "idiomas_count.sort_values(by= ['averageRating'],ascending=False)\n",
        "\n",
        "idiomas = idiomas_count.join(idiomas_mean, on = 'language', lsuffix= '_count', rsuffix= '_mean')\n",
        "#idiomas = idiomas[idiomas[\"averageRating_count\"] > 100]\n",
        "idiomas.sort_values(by= 'averageRating_mean', ascending = False)"
      ],
      "execution_count": null,
      "outputs": [
        {
          "output_type": "execute_result",
          "data": {
            "text/html": [
              "<div>\n",
              "<style scoped>\n",
              "    .dataframe tbody tr th:only-of-type {\n",
              "        vertical-align: middle;\n",
              "    }\n",
              "\n",
              "    .dataframe tbody tr th {\n",
              "        vertical-align: top;\n",
              "    }\n",
              "\n",
              "    .dataframe thead th {\n",
              "        text-align: right;\n",
              "    }\n",
              "</style>\n",
              "<table border=\"1\" class=\"dataframe\">\n",
              "  <thead>\n",
              "    <tr style=\"text-align: right;\">\n",
              "      <th></th>\n",
              "      <th>averageRating_count</th>\n",
              "      <th>averageRating_mean</th>\n",
              "    </tr>\n",
              "    <tr>\n",
              "      <th>language</th>\n",
              "      <th></th>\n",
              "      <th></th>\n",
              "    </tr>\n",
              "  </thead>\n",
              "  <tbody>\n",
              "    <tr>\n",
              "      <th>fr</th>\n",
              "      <td>1</td>\n",
              "      <td>7.700000</td>\n",
              "    </tr>\n",
              "    <tr>\n",
              "      <th>haw</th>\n",
              "      <td>1</td>\n",
              "      <td>7.400000</td>\n",
              "    </tr>\n",
              "    <tr>\n",
              "      <th>myv</th>\n",
              "      <td>1</td>\n",
              "      <td>7.400000</td>\n",
              "    </tr>\n",
              "    <tr>\n",
              "      <th>0</th>\n",
              "      <td>339803</td>\n",
              "      <td>6.696597</td>\n",
              "    </tr>\n",
              "    <tr>\n",
              "      <th>es</th>\n",
              "      <td>256</td>\n",
              "      <td>6.483203</td>\n",
              "    </tr>\n",
              "    <tr>\n",
              "      <th>yi</th>\n",
              "      <td>17</td>\n",
              "      <td>6.405882</td>\n",
              "    </tr>\n",
              "    <tr>\n",
              "      <th>en</th>\n",
              "      <td>1213</td>\n",
              "      <td>6.296043</td>\n",
              "    </tr>\n",
              "  </tbody>\n",
              "</table>\n",
              "</div>"
            ],
            "text/plain": [
              "          averageRating_count  averageRating_mean\n",
              "language                                         \n",
              "fr                          1            7.700000\n",
              "haw                         1            7.400000\n",
              "myv                         1            7.400000\n",
              "0                      339803            6.696597\n",
              "es                        256            6.483203\n",
              "yi                         17            6.405882\n",
              "en                       1213            6.296043"
            ]
          },
          "metadata": {},
          "execution_count": 56
        }
      ]
    },
    {
      "cell_type": "code",
      "metadata": {
        "colab": {
          "base_uri": "https://localhost:8080/",
          "height": 279
        },
        "id": "IRaLyOXA1Oy1",
        "outputId": "864aa1fa-9e8e-480e-8eda-d3515a7375d4"
      },
      "source": [
        "ax = sns.boxplot(x=df_train['averageRating'], y= df_train['language'])"
      ],
      "execution_count": null,
      "outputs": [
        {
          "output_type": "display_data",
          "data": {
            "image/png": "[encoded data removed]",
            "text/plain": [
              "<Figure size 432x288 with 1 Axes>"
            ]
          },
          "metadata": {
            "needs_background": "light"
          }
        }
      ]
    },
    {
      "cell_type": "markdown",
      "metadata": {
        "id": "8Ka0RgBzA-lJ"
      },
      "source": [
        "#datos para el modelo"
      ]
    },
    {
      "cell_type": "code",
      "metadata": {
        "id": "7bRzCCzOpJhb"
      },
      "source": [
        "#Clasifico en categóricas y continuas\n",
        "cat_vars = ['language','titleType'] \n",
        "contin_vars = ['startYear','endYear','prod', 'numVotes', 'runtimeMinutes', 'directors_p', 'production_companies_f', 'production_countries_f','status_f','popularity','genres_p', 'writers_p']"
      ],
      "execution_count": null,
      "outputs": []
    },
    {
      "cell_type": "code",
      "metadata": {
        "id": "ZR1sZUD_pOki"
      },
      "source": [
        "# Genero variables dummys con las categóricas\n",
        "for v in cat_vars: df_train=df_train.join(pd.get_dummies(df_train[v], drop_first=True), lsuffix = '_left', rsuffix = '_right')"
      ],
      "execution_count": null,
      "outputs": []
    },
    {
      "cell_type": "code",
      "metadata": {
        "colab": {
          "base_uri": "https://localhost:8080/"
        },
        "id": "prGyw2R91_PV",
        "outputId": "d6c5d90a-3e76-4ced-e27f-21b37f731e25"
      },
      "source": [
        "df_train.info()"
      ],
      "execution_count": null,
      "outputs": [
        {
          "output_type": "stream",
          "name": "stdout",
          "text": [
            "<class 'pandas.core.frame.DataFrame'>\n",
            "RangeIndex: 900000 entries, 0 to 899999\n",
            "Data columns (total 57 columns):\n",
            " #   Column                  Non-Null Count   Dtype  \n",
            "---  ------                  --------------   -----  \n",
            " 0   averageRating           900000 non-null  float64\n",
            " 1   numVotes                900000 non-null  int64  \n",
            " 2   titleType               899998 non-null  object \n",
            " 3   isAdult                 899998 non-null  float64\n",
            " 4   startYear               900000 non-null  int16  \n",
            " 5   endYear                 900000 non-null  int16  \n",
            " 6   runtimeMinutes          900000 non-null  float64\n",
            " 7   genres_x                899997 non-null  object \n",
            " 8   directors               899998 non-null  object \n",
            " 9   writers                 899998 non-null  object \n",
            " 10  seasonNumber            403675 non-null  object \n",
            " 11  episodeNumber           403675 non-null  object \n",
            " 12  ordering                341292 non-null  float64\n",
            " 13  language                341292 non-null  object \n",
            " 14  types                   341292 non-null  object \n",
            " 15  attributes              341292 non-null  object \n",
            " 16  isOriginalTitle         341292 non-null  float64\n",
            " 17  adult                   43668 non-null   object \n",
            " 18  budget                  900000 non-null  float64\n",
            " 19  genres_y                43668 non-null   object \n",
            " 20  original_language       43655 non-null   object \n",
            " 21  overview                42941 non-null   object \n",
            " 22  popularity              900000 non-null  float64\n",
            " 23  production_companies    43665 non-null   object \n",
            " 24  production_countries    43665 non-null   object \n",
            " 25  release_date            43601 non-null   object \n",
            " 26  revenue                 900000 non-null  float64\n",
            " 27  runtime                 900000 non-null  float64\n",
            " 28  status                  43589 non-null   object \n",
            " 29  tagline                 22126 non-null   object \n",
            " 30  video_left              43665 non-null   object \n",
            " 31  id                      900000 non-null  int64  \n",
            " 32  prod                    900000 non-null  int16  \n",
            " 33  director_f              900000 non-null  int64  \n",
            " 34  directors_p             900000 non-null  int64  \n",
            " 35  writers_f               900000 non-null  int64  \n",
            " 36  writers_p               900000 non-null  int64  \n",
            " 37  production_companies_f  900000 non-null  int64  \n",
            " 38  production_countries_f  900000 non-null  int64  \n",
            " 39  status_f                900000 non-null  int64  \n",
            " 40  genres_f                900000 non-null  int64  \n",
            " 41  genres_p                900000 non-null  int64  \n",
            " 42  en                      900000 non-null  uint8  \n",
            " 43  es                      900000 non-null  uint8  \n",
            " 44  fr                      900000 non-null  uint8  \n",
            " 45  haw                     900000 non-null  uint8  \n",
            " 46  myv                     900000 non-null  uint8  \n",
            " 47  yi                      900000 non-null  uint8  \n",
            " 48  short                   900000 non-null  uint8  \n",
            " 49  tvEpisode               900000 non-null  uint8  \n",
            " 50  tvMiniSeries            900000 non-null  uint8  \n",
            " 51  tvMovie                 900000 non-null  uint8  \n",
            " 52  tvSeries                900000 non-null  uint8  \n",
            " 53  tvShort                 900000 non-null  uint8  \n",
            " 54  tvSpecial               900000 non-null  uint8  \n",
            " 55  video_right             900000 non-null  uint8  \n",
            " 56  videoGame               900000 non-null  uint8  \n",
            "dtypes: float64(9), int16(3), int64(11), object(19), uint8(15)\n",
            "memory usage: 285.8+ MB\n"
          ]
        }
      ]
    },
    {
      "cell_type": "code",
      "metadata": {
        "id": "qHpkoOX46NVq"
      },
      "source": [
        "#Selección de variables para el modelo\n",
        "algunas=contin_vars+['en', 'es','short', 'tvEpisode', 'tvMiniSeries',\n",
        "       'tvMovie', 'tvSeries', 'tvShort', 'tvSpecial', 'video_right', 'videoGame']\n"
      ],
      "execution_count": null,
      "outputs": []
    },
    {
      "cell_type": "code",
      "metadata": {
        "colab": {
          "base_uri": "https://localhost:8080/"
        },
        "id": "Mo0UZYHoMREq",
        "outputId": "987ca426-cfb9-49d0-c0fa-0cfb772d7327"
      },
      "source": [
        "df_train.columns"
      ],
      "execution_count": null,
      "outputs": [
        {
          "output_type": "execute_result",
          "data": {
            "text/plain": [
              "Index(['averageRating', 'numVotes', 'titleType', 'isAdult', 'startYear',\n",
              "       'endYear', 'runtimeMinutes', 'genres_x', 'directors', 'writers',\n",
              "       'seasonNumber', 'episodeNumber', 'ordering', 'language', 'types',\n",
              "       'attributes', 'isOriginalTitle', 'adult', 'budget', 'genres_y',\n",
              "       'original_language', 'overview', 'popularity', 'production_companies',\n",
              "       'production_countries', 'release_date', 'revenue', 'runtime', 'status',\n",
              "       'tagline', 'video', 'id', 'prod', 'director_f', 'directors_p',\n",
              "       'writers_f', 'writers_p', 'production_companies_f',\n",
              "       'production_countries_f', 'status_f', 'genres_f', 'genres_p', 'en',\n",
              "       'es', 'fr', 'haw', 'myv', 'yi'],\n",
              "      dtype='object')"
            ]
          },
          "metadata": {},
          "execution_count": 66
        }
      ]
    },
    {
      "cell_type": "code",
      "metadata": {
        "colab": {
          "base_uri": "https://localhost:8080/"
        },
        "id": "aLZIsdQQMGSI",
        "outputId": "02b863cf-0e13-493a-c348-b2fcb4d8cac7"
      },
      "source": [
        "algunas"
      ],
      "execution_count": null,
      "outputs": [
        {
          "output_type": "execute_result",
          "data": {
            "text/plain": [
              "['startYear',\n",
              " 'endYear',\n",
              " 'prod',\n",
              " 'numVotes',\n",
              " 'runtimeMinutes',\n",
              " 'directors_p',\n",
              " 'production_companies_f',\n",
              " 'production_countries_f',\n",
              " 'status_f',\n",
              " 'popularity',\n",
              " 'genres_p',\n",
              " 'writers_p',\n",
              " 'en',\n",
              " 'es',\n",
              " 'short',\n",
              " 'tvEpisode',\n",
              " 'tvMiniSeries',\n",
              " 'tvMovie',\n",
              " 'tvSeries',\n",
              " 'tvShort',\n",
              " 'tvSpecial',\n",
              " 'video_right',\n",
              " 'videoGame']"
            ]
          },
          "metadata": {},
          "execution_count": 140
        }
      ]
    },
    {
      "cell_type": "markdown",
      "metadata": {
        "id": "IATsYvDDMmro"
      },
      "source": [
        "##modelo arboles"
      ]
    },
    {
      "cell_type": "code",
      "metadata": {
        "id": "BdTeSCf1MDGq"
      },
      "source": [
        "X = np.array(df_train[algunas])\n",
        "Y = df_train['averageRating']"
      ],
      "execution_count": null,
      "outputs": []
    },
    {
      "cell_type": "code",
      "metadata": {
        "id": "NOlUz9axMxFf"
      },
      "source": [
        "X_train, X_test, y_train, y_test = train_test_split(X,Y, train_size=0.75)"
      ],
      "execution_count": null,
      "outputs": []
    },
    {
      "cell_type": "code",
      "metadata": {
        "colab": {
          "base_uri": "https://localhost:8080/"
        },
        "id": "UfjDsxIVNhVh",
        "outputId": "04c490eb-5594-4df0-e7cf-2cefbe7f29fd"
      },
      "source": [
        "print(X_train.shape), print(y_train.shape)\n",
        "print(X_test.shape), print(y_test.shape)\n"
      ],
      "execution_count": null,
      "outputs": [
        {
          "output_type": "stream",
          "name": "stdout",
          "text": [
            "(675000, 23)\n",
            "(675000,)\n",
            "(225000, 23)\n",
            "(225000,)\n"
          ]
        },
        {
          "output_type": "execute_result",
          "data": {
            "text/plain": [
              "(None, None)"
            ]
          },
          "metadata": {},
          "execution_count": 143
        }
      ]
    },
    {
      "cell_type": "code",
      "metadata": {
        "id": "vPsGp5swQmGj"
      },
      "source": [
        "resultados=[]"
      ],
      "execution_count": null,
      "outputs": []
    },
    {
      "cell_type": "code",
      "metadata": {
        "colab": {
          "base_uri": "https://localhost:8080/"
        },
        "id": "EiiwoM7jfWXU",
        "outputId": "c3c538c4-3762-4f69-a92c-0f2b13e3595b"
      },
      "source": [
        "list(range(25,100,25))"
      ],
      "execution_count": null,
      "outputs": [
        {
          "output_type": "execute_result",
          "data": {
            "text/plain": [
              "[25, 50, 75]"
            ]
          },
          "metadata": {},
          "execution_count": 111
        }
      ]
    },
    {
      "cell_type": "code",
      "metadata": {
        "id": "ptoF4B4bWxWv"
      },
      "source": [
        "for x in range(25,100,25):\n",
        " ETreg=ExtraTreesRegressor(n_estimators = x, max_depth=34)\n",
        " ETres=ETreg.fit(X_train, y_train)\n",
        " r2_1 = ETres.score(X_train,y_train)\n",
        " r2_2 = ETres.score(X_test, y_test)\n",
        " resultados.append([x,r2_1,r2_2])"
      ],
      "execution_count": null,
      "outputs": []
    },
    {
      "cell_type": "code",
      "metadata": {
        "colab": {
          "base_uri": "https://localhost:8080/",
          "height": 142
        },
        "id": "Ru7R5i85e70F",
        "outputId": "50bdc4d3-47c9-4b50-b290-03e75b187715"
      },
      "source": [
        "resultados = pd.DataFrame(resultados, columns=[\"x\",\"r2_1\",\"r2_2\"])\n",
        "resultados"
      ],
      "execution_count": null,
      "outputs": [
        {
          "output_type": "execute_result",
          "data": {
            "text/html": [
              "<div>\n",
              "<style scoped>\n",
              "    .dataframe tbody tr th:only-of-type {\n",
              "        vertical-align: middle;\n",
              "    }\n",
              "\n",
              "    .dataframe tbody tr th {\n",
              "        vertical-align: top;\n",
              "    }\n",
              "\n",
              "    .dataframe thead th {\n",
              "        text-align: right;\n",
              "    }\n",
              "</style>\n",
              "<table border=\"1\" class=\"dataframe\">\n",
              "  <thead>\n",
              "    <tr style=\"text-align: right;\">\n",
              "      <th></th>\n",
              "      <th>x</th>\n",
              "      <th>r2_1</th>\n",
              "      <th>r2_2</th>\n",
              "    </tr>\n",
              "  </thead>\n",
              "  <tbody>\n",
              "    <tr>\n",
              "      <th>0</th>\n",
              "      <td>25</td>\n",
              "      <td>0.595934</td>\n",
              "      <td>0.257648</td>\n",
              "    </tr>\n",
              "    <tr>\n",
              "      <th>1</th>\n",
              "      <td>50</td>\n",
              "      <td>0.591909</td>\n",
              "      <td>0.261557</td>\n",
              "    </tr>\n",
              "    <tr>\n",
              "      <th>2</th>\n",
              "      <td>75</td>\n",
              "      <td>0.607283</td>\n",
              "      <td>0.261193</td>\n",
              "    </tr>\n",
              "  </tbody>\n",
              "</table>\n",
              "</div>"
            ],
            "text/plain": [
              "    x      r2_1      r2_2\n",
              "0  25  0.595934  0.257648\n",
              "1  50  0.591909  0.261557\n",
              "2  75  0.607283  0.261193"
            ]
          },
          "metadata": {},
          "execution_count": 114
        }
      ]
    },
    {
      "cell_type": "code",
      "metadata": {
        "id": "qVg72OSSh-iH"
      },
      "source": [
        "depth = []"
      ],
      "execution_count": null,
      "outputs": []
    },
    {
      "cell_type": "code",
      "metadata": {
        "id": "dZwPlaAihr1R"
      },
      "source": [
        "for x in range(15,40,5):\n",
        " ETreg=ExtraTreesRegressor(n_estimators = 50, max_depth=x, bootstrap = True)\n",
        " ETres=ETreg.fit(X_train, y_train)\n",
        " r2_1 = ETres.score(X_train,y_train)\n",
        " r2_2 = ETres.score(X_test, y_test)\n",
        " depth.append([x,r2_1,r2_2])"
      ],
      "execution_count": null,
      "outputs": []
    },
    {
      "cell_type": "code",
      "metadata": {
        "colab": {
          "base_uri": "https://localhost:8080/",
          "height": 204
        },
        "id": "sBxeorcjjv3W",
        "outputId": "9b56897f-9131-48e9-d95e-0d618710e34e"
      },
      "source": [
        "depth_ideal = pd.DataFrame(depth, columns=[\"x\",\"r2_1\",\"r2_2\"])\n",
        "depth_ideal"
      ],
      "execution_count": null,
      "outputs": [
        {
          "output_type": "execute_result",
          "data": {
            "text/html": [
              "<div>\n",
              "<style scoped>\n",
              "    .dataframe tbody tr th:only-of-type {\n",
              "        vertical-align: middle;\n",
              "    }\n",
              "\n",
              "    .dataframe tbody tr th {\n",
              "        vertical-align: top;\n",
              "    }\n",
              "\n",
              "    .dataframe thead th {\n",
              "        text-align: right;\n",
              "    }\n",
              "</style>\n",
              "<table border=\"1\" class=\"dataframe\">\n",
              "  <thead>\n",
              "    <tr style=\"text-align: right;\">\n",
              "      <th></th>\n",
              "      <th>x</th>\n",
              "      <th>r2_1</th>\n",
              "      <th>r2_2</th>\n",
              "    </tr>\n",
              "  </thead>\n",
              "  <tbody>\n",
              "    <tr>\n",
              "      <th>0</th>\n",
              "      <td>15</td>\n",
              "      <td>0.183409</td>\n",
              "      <td>0.174982</td>\n",
              "    </tr>\n",
              "    <tr>\n",
              "      <th>1</th>\n",
              "      <td>20</td>\n",
              "      <td>0.249087</td>\n",
              "      <td>0.216431</td>\n",
              "    </tr>\n",
              "    <tr>\n",
              "      <th>2</th>\n",
              "      <td>25</td>\n",
              "      <td>0.340206</td>\n",
              "      <td>0.254151</td>\n",
              "    </tr>\n",
              "    <tr>\n",
              "      <th>3</th>\n",
              "      <td>30</td>\n",
              "      <td>0.453895</td>\n",
              "      <td>0.276424</td>\n",
              "    </tr>\n",
              "    <tr>\n",
              "      <th>4</th>\n",
              "      <td>35</td>\n",
              "      <td>0.589236</td>\n",
              "      <td>0.268847</td>\n",
              "    </tr>\n",
              "  </tbody>\n",
              "</table>\n",
              "</div>"
            ],
            "text/plain": [
              "    x      r2_1      r2_2\n",
              "0  15  0.183409  0.174982\n",
              "1  20  0.249087  0.216431\n",
              "2  25  0.340206  0.254151\n",
              "3  30  0.453895  0.276424\n",
              "4  35  0.589236  0.268847"
            ]
          },
          "metadata": {},
          "execution_count": 122
        }
      ]
    },
    {
      "cell_type": "code",
      "metadata": {
        "id": "oRjSnAze6qlT"
      },
      "source": [
        "# Extra trees regressor\n",
        "\n",
        "ETreg=ExtraTreesRegressor(n_estimators = 50, max_depth=30, bootstrap = True)\n",
        "\n",
        "ETres=ETreg.fit(X_train, y_train)"
      ],
      "execution_count": null,
      "outputs": []
    },
    {
      "cell_type": "code",
      "metadata": {
        "id": "3joW9TN5ncid"
      },
      "source": [
        "# random forest regressor\n",
        "\n",
        "ETreg=RandomForestRegressor(n_estimators = 50, max_depth=30, bootstrap = True)\n",
        "\n",
        "ETres=ETreg.fit(X_train, y_train)"
      ],
      "execution_count": null,
      "outputs": []
    },
    {
      "cell_type": "code",
      "metadata": {
        "colab": {
          "base_uri": "https://localhost:8080/"
        },
        "id": "BBRWbkGd8klS",
        "outputId": "818363ba-fc2b-4867-8484-c67f795a4846"
      },
      "source": [
        "ETres.score(X_train,y_train)"
      ],
      "execution_count": null,
      "outputs": [
        {
          "output_type": "execute_result",
          "data": {
            "text/plain": [
              "0.5728543512046598"
            ]
          },
          "metadata": {},
          "execution_count": 145
        }
      ]
    },
    {
      "cell_type": "code",
      "metadata": {
        "colab": {
          "base_uri": "https://localhost:8080/"
        },
        "id": "XJr4-T3sOXNm",
        "outputId": "8b4c0d2b-31a8-4e68-97c0-0436a78427c3"
      },
      "source": [
        "ETres.score(X_test, y_test)"
      ],
      "execution_count": null,
      "outputs": [
        {
          "output_type": "execute_result",
          "data": {
            "text/plain": [
              "0.3155163028141993"
            ]
          },
          "metadata": {},
          "execution_count": 146
        }
      ]
    },
    {
      "cell_type": "code",
      "metadata": {
        "id": "wTZIiRG9WIsT"
      },
      "source": [
        "RFres.score(X_train,y_train)"
      ],
      "execution_count": null,
      "outputs": []
    },
    {
      "cell_type": "code",
      "metadata": {
        "colab": {
          "base_uri": "https://localhost:8080/"
        },
        "id": "lLjVZEpMtBDw",
        "outputId": "43194d28-d1b1-42a9-b5bf-939346c460dc"
      },
      "source": [
        "RFres.score(X_test, y_test)\n"
      ],
      "execution_count": null,
      "outputs": [
        {
          "output_type": "execute_result",
          "data": {
            "text/plain": [
              "0.5781835281382448"
            ]
          },
          "metadata": {},
          "execution_count": 156
        }
      ]
    },
    {
      "cell_type": "code",
      "metadata": {
        "id": "dSW-5eqrOQP5"
      },
      "source": [
        "X=np.array(df_test[algunas])\n",
        "resultado= RFreg.predict(X)"
      ],
      "execution_count": null,
      "outputs": []
    },
    {
      "cell_type": "code",
      "metadata": {
        "id": "oc-NmFHrg-jW"
      },
      "source": [
        "salida = pd.DataFrame(data={\"averageRating\": resultado}).astype(str)\n",
        "salida.index = df_test.id\n",
        "salida.to_csv(\"AB.csv\", sep=',',index=True,  index_label='id')"
      ],
      "execution_count": null,
      "outputs": []
    },
    {
      "cell_type": "markdown",
      "metadata": {
        "id": "JJx6hnHOmrPo"
      },
      "source": [
        "# limpio testing"
      ]
    },
    {
      "cell_type": "code",
      "metadata": {
        "id": "_Dm5bwhamupi"
      },
      "source": [
        "#Elimino los NA de las variables continuas\n",
        "contin_vars = df_test[['numVotes', 'runtimeMinutes', 'budget', 'revenue', 'startYear','endYear','popularity','runtime']]\n",
        "for v in contin_vars: df_test.loc[df_test[v].isnull(), v] = 0\n",
        "for v in contin_vars: df_test.loc[(df_test[v].isna()), v] = 0"
      ],
      "execution_count": null,
      "outputs": []
    },
    {
      "cell_type": "code",
      "metadata": {
        "id": "08C7qsicm7Ns"
      },
      "source": [
        "df_test=df_test.replace('\\\\N',0)\n",
        "df_test['endYear']=df_test['endYear'].astype('int16')\n",
        "df_test['startYear']=df_test['startYear'].astype('int16')\n",
        "df_test['prod']=df_test['endYear']-df_test['startYear']"
      ],
      "execution_count": null,
      "outputs": []
    },
    {
      "cell_type": "code",
      "metadata": {
        "id": "ai-8prhKny2J"
      },
      "source": [
        "df_test['runtimeMinutes']=df_test['runtimeMinutes'].replace('Reality-TV',0)\n",
        "df_test['runtimeMinutes']=df_test['runtimeMinutes'].astype('int16')"
      ],
      "execution_count": null,
      "outputs": []
    },
    {
      "cell_type": "code",
      "metadata": {
        "id": "BUNUOjesnz8A"
      },
      "source": [
        "f=df_test['directors'].value_counts()[1:6].index.tolist()\n",
        "df_test['director_f'] = df_test.apply (lambda row: label_race(row,'directors'), axis=1)"
      ],
      "execution_count": null,
      "outputs": []
    },
    {
      "cell_type": "code",
      "metadata": {
        "id": "dP_LZQcnn3vf"
      },
      "source": [
        "f=df_test['writers'].value_counts()[1:6].index.tolist()\n",
        "df_test['writers_f'] = df_test.apply (lambda row: label_race(row,'writers'), axis=1)"
      ],
      "execution_count": null,
      "outputs": []
    },
    {
      "cell_type": "markdown",
      "metadata": {
        "id": "Bw84e-z3ObwE"
      },
      "source": [
        ""
      ]
    },
    {
      "cell_type": "code",
      "metadata": {
        "id": "0Bvuj_fvn9af"
      },
      "source": [
        "f=df_test['production_companies'].value_counts()[1:6].index.tolist()\n",
        "df_test['production_companies_f'] = df_test.apply (lambda row: label_race(row,'production_companies'), axis=1)"
      ],
      "execution_count": null,
      "outputs": []
    },
    {
      "cell_type": "code",
      "metadata": {
        "id": "QU2T1Gtbn_Yp"
      },
      "source": [
        "f=df_test['production_countries'].value_counts()[1:6].index.tolist()\n",
        "df_test['production_countries_f'] = df_test.apply (lambda row: label_race(row,'production_countries'), axis=1)"
      ],
      "execution_count": null,
      "outputs": []
    },
    {
      "cell_type": "code",
      "metadata": {
        "id": "5ydgQe4JoDKT"
      },
      "source": [
        "f=df_test['status'].value_counts()[0:5].index.tolist()\n",
        "df_test['status_f'] = df_test.apply (lambda row: label_race(row,'status'), axis=1)"
      ],
      "execution_count": null,
      "outputs": []
    },
    {
      "cell_type": "markdown",
      "metadata": {
        "id": "eTMj6GD0EmU6"
      },
      "source": [
        "#minutos"
      ]
    },
    {
      "cell_type": "code",
      "metadata": {
        "colab": {
          "base_uri": "https://localhost:8080/",
          "height": 450
        },
        "id": "N-ynniP3EoHV",
        "outputId": "10a6f1c9-97e1-451b-de23-7e8dea802e2c"
      },
      "source": [
        "minutosDirector = df_train[df_train['runtimeMinutes'] > 0]\n",
        "minutosDirector = minutosDirector.groupby([ \"directors\" ])[[ \"runtimeMinutes\" ]].mean()\n",
        "minutosDirector.sort_values(by=['runtimeMinutes'],ascending=False)"
      ],
      "execution_count": null,
      "outputs": [
        {
          "output_type": "execute_result",
          "data": {
            "text/html": [
              "<div>\n",
              "<style scoped>\n",
              "    .dataframe tbody tr th:only-of-type {\n",
              "        vertical-align: middle;\n",
              "    }\n",
              "\n",
              "    .dataframe tbody tr th {\n",
              "        vertical-align: top;\n",
              "    }\n",
              "\n",
              "    .dataframe thead th {\n",
              "        text-align: right;\n",
              "    }\n",
              "</style>\n",
              "<table border=\"1\" class=\"dataframe\">\n",
              "  <thead>\n",
              "    <tr style=\"text-align: right;\">\n",
              "      <th></th>\n",
              "      <th>runtimeMinutes</th>\n",
              "    </tr>\n",
              "    <tr>\n",
              "      <th>directors</th>\n",
              "      <th></th>\n",
              "    </tr>\n",
              "  </thead>\n",
              "  <tbody>\n",
              "    <tr>\n",
              "      <th>nm5492599,nm5492495,nm5492891,nm1432536</th>\n",
              "      <td>14400.0</td>\n",
              "    </tr>\n",
              "    <tr>\n",
              "      <th>nm4246748</th>\n",
              "      <td>5700.0</td>\n",
              "    </tr>\n",
              "    <tr>\n",
              "      <th>nm1267224</th>\n",
              "      <td>5220.0</td>\n",
              "    </tr>\n",
              "    <tr>\n",
              "      <th>nm0248119,nm0227486,nm0192463,nm0942185,nm0324426</th>\n",
              "      <td>3900.0</td>\n",
              "    </tr>\n",
              "    <tr>\n",
              "      <th>nm0631590,nm1374337,nm0007071,nm1005906,nm1785712,nm1376792</th>\n",
              "      <td>3900.0</td>\n",
              "    </tr>\n",
              "    <tr>\n",
              "      <th>...</th>\n",
              "      <td>...</td>\n",
              "    </tr>\n",
              "    <tr>\n",
              "      <th>nm1299757</th>\n",
              "      <td>1.0</td>\n",
              "    </tr>\n",
              "    <tr>\n",
              "      <th>nm2669534,nm2696049</th>\n",
              "      <td>1.0</td>\n",
              "    </tr>\n",
              "    <tr>\n",
              "      <th>nm2144889</th>\n",
              "      <td>1.0</td>\n",
              "    </tr>\n",
              "    <tr>\n",
              "      <th>nm0797216,nm0283687</th>\n",
              "      <td>1.0</td>\n",
              "    </tr>\n",
              "    <tr>\n",
              "      <th>nm4321429</th>\n",
              "      <td>1.0</td>\n",
              "    </tr>\n",
              "  </tbody>\n",
              "</table>\n",
              "<p>190060 rows × 1 columns</p>\n",
              "</div>"
            ],
            "text/plain": [
              "                                                    runtimeMinutes\n",
              "directors                                                         \n",
              "nm5492599,nm5492495,nm5492891,nm1432536                    14400.0\n",
              "nm4246748                                                   5700.0\n",
              "nm1267224                                                   5220.0\n",
              "nm0248119,nm0227486,nm0192463,nm0942185,nm0324426           3900.0\n",
              "nm0631590,nm1374337,nm0007071,nm1005906,nm17857...          3900.0\n",
              "...                                                            ...\n",
              "nm1299757                                                      1.0\n",
              "nm2669534,nm2696049                                            1.0\n",
              "nm2144889                                                      1.0\n",
              "nm0797216,nm0283687                                            1.0\n",
              "nm4321429                                                      1.0\n",
              "\n",
              "[190060 rows x 1 columns]"
            ]
          },
          "metadata": {},
          "execution_count": 182
        }
      ]
    },
    {
      "cell_type": "code",
      "metadata": {
        "id": "lNQGO1EQErjo"
      },
      "source": [
        "df_test = df_test.join(minutosDirector, on = 'directors', how = 'left', rsuffix='_aux' )\n"
      ],
      "execution_count": null,
      "outputs": []
    },
    {
      "cell_type": "code",
      "metadata": {
        "id": "sD2VhlRTE5BE"
      },
      "source": [
        "df_test['runtimeMinutes'] = np.where(df_test[\"runtimeMinutes\"]==0,df_test[\"runtimeMinutes_aux\"],df_test[\"runtimeMinutes\"])"
      ],
      "execution_count": null,
      "outputs": []
    },
    {
      "cell_type": "markdown",
      "metadata": {
        "id": "lElUV4YTUNFT"
      },
      "source": [
        "#directores"
      ]
    },
    {
      "cell_type": "code",
      "metadata": {
        "colab": {
          "base_uri": "https://localhost:8080/",
          "height": 450
        },
        "id": "UWvcy1ioUUvC",
        "outputId": "f747cc9f-c222-471a-b912-a0b763aaf585"
      },
      "source": [
        "directores_mean = df_train.groupby([ \"directors\" ])[[ \"averageRating\" ]].mean()\n",
        "directores_mean.sort_values(by=['averageRating'],ascending=False)\n",
        "\n",
        "directores_count = df_train.groupby([\"directors\"])[[\"averageRating\"]].count()\n",
        "directores_count.sort_values(by= ['averageRating'],ascending=False)\n",
        "\n",
        "directores = directores_count.join(directores_mean, on = 'directors', lsuffix= '_count', rsuffix= '_mean')\n",
        "directores = directores[directores[\"averageRating_count\"] > 100]\n",
        "directores.sort_values(by= 'averageRating_mean', ascending = False)\n",
        "#directores.sort_values(by= 'averageRating_count', ascending = False)"
      ],
      "execution_count": null,
      "outputs": [
        {
          "output_type": "execute_result",
          "data": {
            "text/html": [
              "<div>\n",
              "<style scoped>\n",
              "    .dataframe tbody tr th:only-of-type {\n",
              "        vertical-align: middle;\n",
              "    }\n",
              "\n",
              "    .dataframe tbody tr th {\n",
              "        vertical-align: top;\n",
              "    }\n",
              "\n",
              "    .dataframe thead th {\n",
              "        text-align: right;\n",
              "    }\n",
              "</style>\n",
              "<table border=\"1\" class=\"dataframe\">\n",
              "  <thead>\n",
              "    <tr style=\"text-align: right;\">\n",
              "      <th></th>\n",
              "      <th>averageRating_count</th>\n",
              "      <th>averageRating_mean</th>\n",
              "    </tr>\n",
              "    <tr>\n",
              "      <th>directors</th>\n",
              "      <th></th>\n",
              "      <th></th>\n",
              "    </tr>\n",
              "  </thead>\n",
              "  <tbody>\n",
              "    <tr>\n",
              "      <th>nm1475126</th>\n",
              "      <td>369</td>\n",
              "      <td>9.785908</td>\n",
              "    </tr>\n",
              "    <tr>\n",
              "      <th>nm4355606</th>\n",
              "      <td>249</td>\n",
              "      <td>9.685542</td>\n",
              "    </tr>\n",
              "    <tr>\n",
              "      <th>nm4492923</th>\n",
              "      <td>253</td>\n",
              "      <td>9.537154</td>\n",
              "    </tr>\n",
              "    <tr>\n",
              "      <th>nm7870411,nm7477059</th>\n",
              "      <td>117</td>\n",
              "      <td>9.429060</td>\n",
              "    </tr>\n",
              "    <tr>\n",
              "      <th>nm7477059,nm7870411</th>\n",
              "      <td>139</td>\n",
              "      <td>9.418705</td>\n",
              "    </tr>\n",
              "    <tr>\n",
              "      <th>...</th>\n",
              "      <td>...</td>\n",
              "      <td>...</td>\n",
              "    </tr>\n",
              "    <tr>\n",
              "      <th>nm0644861</th>\n",
              "      <td>101</td>\n",
              "      <td>4.635644</td>\n",
              "    </tr>\n",
              "    <tr>\n",
              "      <th>nm0924920</th>\n",
              "      <td>340</td>\n",
              "      <td>4.527941</td>\n",
              "    </tr>\n",
              "    <tr>\n",
              "      <th>nm0676248</th>\n",
              "      <td>176</td>\n",
              "      <td>4.472727</td>\n",
              "    </tr>\n",
              "    <tr>\n",
              "      <th>nm0213983</th>\n",
              "      <td>141</td>\n",
              "      <td>3.909929</td>\n",
              "    </tr>\n",
              "    <tr>\n",
              "      <th>nm2043336,nm0279371</th>\n",
              "      <td>104</td>\n",
              "      <td>3.865385</td>\n",
              "    </tr>\n",
              "  </tbody>\n",
              "</table>\n",
              "<p>521 rows × 2 columns</p>\n",
              "</div>"
            ],
            "text/plain": [
              "                     averageRating_count  averageRating_mean\n",
              "directors                                                   \n",
              "nm1475126                            369            9.785908\n",
              "nm4355606                            249            9.685542\n",
              "nm4492923                            253            9.537154\n",
              "nm7870411,nm7477059                  117            9.429060\n",
              "nm7477059,nm7870411                  139            9.418705\n",
              "...                                  ...                 ...\n",
              "nm0644861                            101            4.635644\n",
              "nm0924920                            340            4.527941\n",
              "nm0676248                            176            4.472727\n",
              "nm0213983                            141            3.909929\n",
              "nm2043336,nm0279371                  104            3.865385\n",
              "\n",
              "[521 rows x 2 columns]"
            ]
          },
          "metadata": {},
          "execution_count": 186
        }
      ]
    },
    {
      "cell_type": "code",
      "metadata": {
        "id": "Bhh15eYbUtNK"
      },
      "source": [
        "df_test = df_test.join(directores, on = 'directors', how= 'left')"
      ],
      "execution_count": null,
      "outputs": []
    },
    {
      "cell_type": "code",
      "metadata": {
        "id": "RSCrMd8VU4Xj"
      },
      "source": [
        "df_test['directors_p'] = np.where(df_test['averageRating_count'].isnull(), 0,1)\n",
        "df_test['directors_p'] = [100 if (x> 8) else 70 if (x> 6) else 40 if (x> 4) else 10 if (x> 2) else 0 for x in df_test['averageRating_mean']]"
      ],
      "execution_count": null,
      "outputs": []
    },
    {
      "cell_type": "code",
      "metadata": {
        "id": "yvE0Fo7aPk36"
      },
      "source": [
        "df_test.head(5)\n",
        "df_test.columns\n",
        "df_test = df_test[['numVotes', 'titleType', 'isAdult', 'startYear', 'endYear',\n",
        "       'runtimeMinutes', 'genres_x', 'directors', 'writers', 'seasonNumber',\n",
        "       'episodeNumber', 'ordering', 'language', 'types', 'attributes',\n",
        "       'isOriginalTitle', 'adult', 'budget', 'genres_y', 'original_language',\n",
        "       'overview', 'popularity', 'production_companies',\n",
        "       'production_countries', 'release_date', 'revenue', 'runtime', 'status',\n",
        "       'tagline', 'video', 'id', 'prod', 'director_f', 'writers_f',\n",
        "       'production_companies_f', 'production_countries_f', 'status_f',\n",
        "        'directors_p']]\n"
      ],
      "execution_count": null,
      "outputs": []
    },
    {
      "cell_type": "markdown",
      "metadata": {
        "id": "nTPFD9IpVlF7"
      },
      "source": [
        "#writers"
      ]
    },
    {
      "cell_type": "code",
      "metadata": {
        "colab": {
          "base_uri": "https://localhost:8080/",
          "height": 470
        },
        "id": "JozYrGkCVzyj",
        "outputId": "7fe2d7f9-2ddf-413c-f840-99ff24725aa8"
      },
      "source": [
        "escritores_mean = df_train.groupby([ \"writers\" ])[[ \"averageRating\" ]].mean()\n",
        "escritores_mean.sort_values(by=['averageRating'],ascending=False)\n",
        "\n",
        "escritores_count = df_train.groupby([\"writers\"])[[\"averageRating\"]].count()\n",
        "escritores_count.sort_values(by= ['averageRating'],ascending=False)\n",
        "\n",
        "escritores = escritores_count.join(escritores_mean, on = 'writers', lsuffix= '_count', rsuffix= '_mean')\n",
        "escritores = escritores[escritores[\"averageRating_count\"] > 100]\n",
        "escritores.sort_values(by= 'averageRating_mean', ascending = False)"
      ],
      "execution_count": null,
      "outputs": [
        {
          "output_type": "execute_result",
          "data": {
            "text/html": [
              "<div>\n",
              "<style scoped>\n",
              "    .dataframe tbody tr th:only-of-type {\n",
              "        vertical-align: middle;\n",
              "    }\n",
              "\n",
              "    .dataframe tbody tr th {\n",
              "        vertical-align: top;\n",
              "    }\n",
              "\n",
              "    .dataframe thead th {\n",
              "        text-align: right;\n",
              "    }\n",
              "</style>\n",
              "<table border=\"1\" class=\"dataframe\">\n",
              "  <thead>\n",
              "    <tr style=\"text-align: right;\">\n",
              "      <th></th>\n",
              "      <th>averageRating_count</th>\n",
              "      <th>averageRating_mean</th>\n",
              "    </tr>\n",
              "    <tr>\n",
              "      <th>writers</th>\n",
              "      <th></th>\n",
              "      <th></th>\n",
              "    </tr>\n",
              "  </thead>\n",
              "  <tbody>\n",
              "    <tr>\n",
              "      <th>nm1974030</th>\n",
              "      <td>315</td>\n",
              "      <td>9.828254</td>\n",
              "    </tr>\n",
              "    <tr>\n",
              "      <th>nm3815573,nm6750552</th>\n",
              "      <td>213</td>\n",
              "      <td>9.773709</td>\n",
              "    </tr>\n",
              "    <tr>\n",
              "      <th>nm1475126</th>\n",
              "      <td>154</td>\n",
              "      <td>9.755195</td>\n",
              "    </tr>\n",
              "    <tr>\n",
              "      <th>nm11871999</th>\n",
              "      <td>102</td>\n",
              "      <td>9.639216</td>\n",
              "    </tr>\n",
              "    <tr>\n",
              "      <th>nm7477076,nm9925322,nm1939626,nm8457565,nm3204856</th>\n",
              "      <td>249</td>\n",
              "      <td>9.426104</td>\n",
              "    </tr>\n",
              "    <tr>\n",
              "      <th>...</th>\n",
              "      <td>...</td>\n",
              "      <td>...</td>\n",
              "    </tr>\n",
              "    <tr>\n",
              "      <th>nm3454839,nm2452107,nm2807724</th>\n",
              "      <td>102</td>\n",
              "      <td>4.847059</td>\n",
              "    </tr>\n",
              "    <tr>\n",
              "      <th>nm0112944,nm0247243,nm0369870,nm0416853,nm0426351,nm0428568,nm0452929,nm0580528,nm0630497,nm2154640,nm0810431,nm0935540</th>\n",
              "      <td>112</td>\n",
              "      <td>4.720536</td>\n",
              "    </tr>\n",
              "    <tr>\n",
              "      <th>nm0298350</th>\n",
              "      <td>325</td>\n",
              "      <td>4.523692</td>\n",
              "    </tr>\n",
              "    <tr>\n",
              "      <th>nm0856056</th>\n",
              "      <td>112</td>\n",
              "      <td>4.417857</td>\n",
              "    </tr>\n",
              "    <tr>\n",
              "      <th>nm0971123</th>\n",
              "      <td>113</td>\n",
              "      <td>2.370796</td>\n",
              "    </tr>\n",
              "  </tbody>\n",
              "</table>\n",
              "<p>137 rows × 2 columns</p>\n",
              "</div>"
            ],
            "text/plain": [
              "                                                    averageRating_count  averageRating_mean\n",
              "writers                                                                                    \n",
              "nm1974030                                                           315            9.828254\n",
              "nm3815573,nm6750552                                                 213            9.773709\n",
              "nm1475126                                                           154            9.755195\n",
              "nm11871999                                                          102            9.639216\n",
              "nm7477076,nm9925322,nm1939626,nm8457565,nm3204856                   249            9.426104\n",
              "...                                                                 ...                 ...\n",
              "nm3454839,nm2452107,nm2807724                                       102            4.847059\n",
              "nm0112944,nm0247243,nm0369870,nm0416853,nm04263...                  112            4.720536\n",
              "nm0298350                                                           325            4.523692\n",
              "nm0856056                                                           112            4.417857\n",
              "nm0971123                                                           113            2.370796\n",
              "\n",
              "[137 rows x 2 columns]"
            ]
          },
          "metadata": {},
          "execution_count": 190
        }
      ]
    },
    {
      "cell_type": "code",
      "metadata": {
        "id": "YeafRcM5V27D"
      },
      "source": [
        "df_test = df_test.join(escritores, on = 'writers', how= 'left')"
      ],
      "execution_count": null,
      "outputs": []
    },
    {
      "cell_type": "code",
      "metadata": {
        "id": "mD-NK7FrWCVi"
      },
      "source": [
        "df_test['writers_p'] = np.where(df_test['averageRating_count'].isnull(), 0,1)\n",
        "df_test['writers_p'] = [100 if (x> 8) else 70 if (x> 6) else 40 if (x> 4) else 10 if (x> 2) else 0 for x in df_test['averageRating_mean']]"
      ],
      "execution_count": null,
      "outputs": []
    },
    {
      "cell_type": "code",
      "metadata": {
        "id": "vRMgTICGWQXr"
      },
      "source": [
        "df_test.head(5)\n",
        "df_test.columns\n",
        "df_test = df_test[['numVotes', 'titleType', 'isAdult', 'startYear', 'endYear',\n",
        "       'runtimeMinutes', 'genres_x', 'directors', 'writers', 'seasonNumber',\n",
        "       'episodeNumber', 'ordering', 'language', 'types', 'attributes',\n",
        "       'isOriginalTitle', 'adult', 'budget', 'genres_y', 'original_language',\n",
        "       'overview', 'popularity', 'production_companies',\n",
        "       'production_countries', 'release_date', 'revenue', 'runtime', 'status',\n",
        "       'tagline', 'video', 'id', 'prod', 'director_f', 'writers_f',\n",
        "       'production_companies_f', 'production_countries_f', 'status_f',\n",
        "       'directors_p', 'writers_p']]"
      ],
      "execution_count": null,
      "outputs": []
    },
    {
      "cell_type": "markdown",
      "metadata": {
        "id": "aFhLMkBaWmHT"
      },
      "source": [
        "#generos"
      ]
    },
    {
      "cell_type": "code",
      "metadata": {
        "colab": {
          "base_uri": "https://localhost:8080/",
          "height": 450
        },
        "id": "M-C-71y9WoUj",
        "outputId": "d2de4527-f746-4d1d-9a1f-8d3ba5cb34a1"
      },
      "source": [
        "generos_mean = df_train.groupby([ \"genres_x\" ])[[ \"averageRating\" ]].mean()\n",
        "generos_mean.sort_values(by=['averageRating'],ascending=False)\n",
        "\n",
        "generos_count = df_train.groupby([\"genres_x\"])[[\"averageRating\"]].count()\n",
        "generos_count.sort_values(by= ['averageRating'],ascending=False)\n",
        "\n",
        "generos = generos_count.join(generos_mean, on = 'genres_x', lsuffix= '_count', rsuffix= '_mean')\n",
        "generos = generos[generos[\"averageRating_count\"] > 100]\n",
        "generos.sort_values(by= 'averageRating_mean', ascending = False)"
      ],
      "execution_count": null,
      "outputs": [
        {
          "output_type": "execute_result",
          "data": {
            "text/html": [
              "<div>\n",
              "<style scoped>\n",
              "    .dataframe tbody tr th:only-of-type {\n",
              "        vertical-align: middle;\n",
              "    }\n",
              "\n",
              "    .dataframe tbody tr th {\n",
              "        vertical-align: top;\n",
              "    }\n",
              "\n",
              "    .dataframe thead th {\n",
              "        text-align: right;\n",
              "    }\n",
              "</style>\n",
              "<table border=\"1\" class=\"dataframe\">\n",
              "  <thead>\n",
              "    <tr style=\"text-align: right;\">\n",
              "      <th></th>\n",
              "      <th>averageRating_count</th>\n",
              "      <th>averageRating_mean</th>\n",
              "    </tr>\n",
              "    <tr>\n",
              "      <th>genres_x</th>\n",
              "      <th></th>\n",
              "      <th></th>\n",
              "    </tr>\n",
              "  </thead>\n",
              "  <tbody>\n",
              "    <tr>\n",
              "      <th>Comedy,Horror,Reality-TV</th>\n",
              "      <td>105</td>\n",
              "      <td>8.609524</td>\n",
              "    </tr>\n",
              "    <tr>\n",
              "      <th>Horror,Reality-TV,Sci-Fi</th>\n",
              "      <td>134</td>\n",
              "      <td>8.517164</td>\n",
              "    </tr>\n",
              "    <tr>\n",
              "      <th>Action,Drama,Music</th>\n",
              "      <td>157</td>\n",
              "      <td>8.444586</td>\n",
              "    </tr>\n",
              "    <tr>\n",
              "      <th>Family,Fantasy,Music</th>\n",
              "      <td>429</td>\n",
              "      <td>8.278089</td>\n",
              "    </tr>\n",
              "    <tr>\n",
              "      <th>Adventure,Biography,Crime</th>\n",
              "      <td>175</td>\n",
              "      <td>8.225714</td>\n",
              "    </tr>\n",
              "    <tr>\n",
              "      <th>...</th>\n",
              "      <td>...</td>\n",
              "      <td>...</td>\n",
              "    </tr>\n",
              "    <tr>\n",
              "      <th>Horror,Thriller</th>\n",
              "      <td>2308</td>\n",
              "      <td>4.834705</td>\n",
              "    </tr>\n",
              "    <tr>\n",
              "      <th>Action,Horror</th>\n",
              "      <td>214</td>\n",
              "      <td>4.740187</td>\n",
              "    </tr>\n",
              "    <tr>\n",
              "      <th>Horror,Sci-Fi</th>\n",
              "      <td>713</td>\n",
              "      <td>4.711921</td>\n",
              "    </tr>\n",
              "    <tr>\n",
              "      <th>Action,Horror,Thriller</th>\n",
              "      <td>245</td>\n",
              "      <td>4.561224</td>\n",
              "    </tr>\n",
              "    <tr>\n",
              "      <th>Drama,Family,Reality-TV</th>\n",
              "      <td>243</td>\n",
              "      <td>4.337860</td>\n",
              "    </tr>\n",
              "  </tbody>\n",
              "</table>\n",
              "<p>524 rows × 2 columns</p>\n",
              "</div>"
            ],
            "text/plain": [
              "                           averageRating_count  averageRating_mean\n",
              "genres_x                                                          \n",
              "Comedy,Horror,Reality-TV                   105            8.609524\n",
              "Horror,Reality-TV,Sci-Fi                   134            8.517164\n",
              "Action,Drama,Music                         157            8.444586\n",
              "Family,Fantasy,Music                       429            8.278089\n",
              "Adventure,Biography,Crime                  175            8.225714\n",
              "...                                        ...                 ...\n",
              "Horror,Thriller                           2308            4.834705\n",
              "Action,Horror                              214            4.740187\n",
              "Horror,Sci-Fi                              713            4.711921\n",
              "Action,Horror,Thriller                     245            4.561224\n",
              "Drama,Family,Reality-TV                    243            4.337860\n",
              "\n",
              "[524 rows x 2 columns]"
            ]
          },
          "metadata": {},
          "execution_count": 194
        }
      ]
    },
    {
      "cell_type": "code",
      "metadata": {
        "id": "f89njHdAW1Rq"
      },
      "source": [
        "df_test = df_test.join(generos, on = 'genres_x', how= 'left')"
      ],
      "execution_count": null,
      "outputs": []
    },
    {
      "cell_type": "code",
      "metadata": {
        "id": "0tqmmCpnW8z6"
      },
      "source": [
        "df_test['genres_p'] = np.where(df_test['averageRating_count'].isnull(), 0,1)\n",
        "df_test['genres_p'] = [100 if (x> 8) else 70 if (x> 6) else 40 if (x> 4) else 10 if (x> 2) else 0 for x in df_test['averageRating_mean']]\n"
      ],
      "execution_count": null,
      "outputs": []
    },
    {
      "cell_type": "code",
      "metadata": {
        "id": "e7nkGondXGRb"
      },
      "source": [
        "df_test.head(5)\n",
        "df_test.columns\n",
        "df_test = df_test[['numVotes', 'titleType', 'isAdult', 'startYear', 'endYear',\n",
        "       'runtimeMinutes', 'genres_x', 'directors', 'writers', 'seasonNumber',\n",
        "       'episodeNumber', 'ordering', 'language', 'types', 'attributes',\n",
        "       'isOriginalTitle', 'adult', 'budget', 'genres_y', 'original_language',\n",
        "       'overview', 'popularity', 'production_companies',\n",
        "       'production_countries', 'release_date', 'revenue', 'runtime', 'status',\n",
        "       'tagline', 'video', 'id', 'prod', 'director_f', 'writers_f',\n",
        "       'production_companies_f', 'production_countries_f', 'status_f',\n",
        "       'directors_p', 'writers_p', 'genres_p']]"
      ],
      "execution_count": null,
      "outputs": []
    },
    {
      "cell_type": "markdown",
      "metadata": {
        "id": "-kSSAlTkXcCL"
      },
      "source": [
        "#preparo modelo test"
      ]
    },
    {
      "cell_type": "code",
      "metadata": {
        "id": "sk2Cybw5Rf5C"
      },
      "source": [
        "for v in cat_vars: df_test=df_test.join(pd.get_dummies(df_test[v], drop_first=True), lsuffix = '_left', rsuffix = '_right')\n"
      ],
      "execution_count": null,
      "outputs": []
    },
    {
      "cell_type": "code",
      "metadata": {
        "colab": {
          "base_uri": "https://localhost:8080/"
        },
        "id": "Lc3hsLTZRz-V",
        "outputId": "326bb652-ae51-4ef7-bc5b-e462b84fc7f1"
      },
      "source": [
        "df_test.info()"
      ],
      "execution_count": null,
      "outputs": [
        {
          "output_type": "stream",
          "name": "stdout",
          "text": [
            "<class 'pandas.core.frame.DataFrame'>\n",
            "RangeIndex: 321932 entries, 0 to 321931\n",
            "Data columns (total 53 columns):\n",
            " #   Column                  Non-Null Count   Dtype  \n",
            "---  ------                  --------------   -----  \n",
            " 0   numVotes                321932 non-null  int64  \n",
            " 1   titleType               321929 non-null  object \n",
            " 2   isAdult                 321929 non-null  float64\n",
            " 3   startYear               321932 non-null  int16  \n",
            " 4   endYear                 321932 non-null  int16  \n",
            " 5   runtimeMinutes          302354 non-null  float64\n",
            " 6   genres_x                321928 non-null  object \n",
            " 7   directors               321929 non-null  object \n",
            " 8   writers                 321929 non-null  object \n",
            " 9   seasonNumber            143956 non-null  object \n",
            " 10  episodeNumber           143956 non-null  object \n",
            " 11  ordering                122148 non-null  float64\n",
            " 12  language                122148 non-null  object \n",
            " 13  types                   122148 non-null  object \n",
            " 14  attributes              122148 non-null  object \n",
            " 15  isOriginalTitle         122148 non-null  float64\n",
            " 16  adult                   15479 non-null   object \n",
            " 17  budget                  321932 non-null  float64\n",
            " 18  genres_y                15479 non-null   object \n",
            " 19  original_language       15478 non-null   object \n",
            " 20  overview                15224 non-null   object \n",
            " 21  popularity              321932 non-null  float64\n",
            " 22  production_companies    15479 non-null   object \n",
            " 23  production_countries    15479 non-null   object \n",
            " 24  release_date            15459 non-null   object \n",
            " 25  revenue                 321932 non-null  float64\n",
            " 26  runtime                 321932 non-null  float64\n",
            " 27  status                  15467 non-null   object \n",
            " 28  tagline                 7725 non-null    object \n",
            " 29  video_left              15479 non-null   object \n",
            " 30  id                      321932 non-null  int64  \n",
            " 31  prod                    321932 non-null  int16  \n",
            " 32  director_f              321932 non-null  int64  \n",
            " 33  writers_f               321932 non-null  int64  \n",
            " 34  production_companies_f  321932 non-null  int64  \n",
            " 35  production_countries_f  321932 non-null  int64  \n",
            " 36  status_f                321932 non-null  int64  \n",
            " 37  directors_p             321932 non-null  int64  \n",
            " 38  writers_p               321932 non-null  int64  \n",
            " 39  genres_p                321932 non-null  int64  \n",
            " 40  en                      321932 non-null  uint8  \n",
            " 41  es                      321932 non-null  uint8  \n",
            " 42  hi                      321932 non-null  uint8  \n",
            " 43  yi                      321932 non-null  uint8  \n",
            " 44  short                   321932 non-null  uint8  \n",
            " 45  tvEpisode               321932 non-null  uint8  \n",
            " 46  tvMiniSeries            321932 non-null  uint8  \n",
            " 47  tvMovie                 321932 non-null  uint8  \n",
            " 48  tvSeries                321932 non-null  uint8  \n",
            " 49  tvShort                 321932 non-null  uint8  \n",
            " 50  tvSpecial               321932 non-null  uint8  \n",
            " 51  video_right             321932 non-null  uint8  \n",
            " 52  videoGame               321932 non-null  uint8  \n",
            "dtypes: float64(8), int16(3), int64(10), object(19), uint8(13)\n",
            "memory usage: 96.7+ MB\n"
          ]
        }
      ]
    },
    {
      "cell_type": "code",
      "metadata": {
        "colab": {
          "base_uri": "https://localhost:8080/"
        },
        "id": "s6Ev9OxUSPvj",
        "outputId": "0ea45d75-0d9d-4c7c-d0cf-53db8a274244"
      },
      "source": [
        "algunas"
      ],
      "execution_count": null,
      "outputs": [
        {
          "output_type": "execute_result",
          "data": {
            "text/plain": [
              "['startYear',\n",
              " 'endYear',\n",
              " 'prod',\n",
              " 'numVotes',\n",
              " 'runtimeMinutes',\n",
              " 'directors_p',\n",
              " 'production_companies_f',\n",
              " 'production_countries_f',\n",
              " 'status_f',\n",
              " 'popularity',\n",
              " 'genres_p',\n",
              " 'writers_p',\n",
              " 'en',\n",
              " 'es',\n",
              " 'short',\n",
              " 'tvEpisode',\n",
              " 'tvMiniSeries',\n",
              " 'tvMovie',\n",
              " 'tvSeries',\n",
              " 'tvShort',\n",
              " 'tvSpecial',\n",
              " 'video_right',\n",
              " 'videoGame']"
            ]
          },
          "metadata": {},
          "execution_count": 200
        }
      ]
    },
    {
      "cell_type": "code",
      "metadata": {
        "id": "jWq_SGMXSUTS"
      },
      "source": [
        "X=np.array(df_test[algunas])\n",
        "resultado= ETreg.predict(X)"
      ],
      "execution_count": null,
      "outputs": []
    },
    {
      "cell_type": "code",
      "metadata": {
        "colab": {
          "base_uri": "https://localhost:8080/"
        },
        "id": "ZMinSgOtbgJl",
        "outputId": "1deb7973-83ee-4ac0-f283-84e4e3df7c15"
      },
      "source": [
        "resultado"
      ],
      "execution_count": null,
      "outputs": [
        {
          "output_type": "execute_result",
          "data": {
            "text/plain": [
              "array([6.43141954, 8.37160606, 8.07407101, ..., 5.80344038, 5.3740379 ,\n",
              "       7.97672445])"
            ]
          },
          "metadata": {},
          "execution_count": 204
        }
      ]
    },
    {
      "cell_type": "code",
      "metadata": {
        "id": "GKYEeUcVX8n7"
      },
      "source": [
        "# Finalmente generar un CSV con los resultados aplicados al CSV de resultados que no contiene la columna target\n",
        "\n",
        "salida = pd.DataFrame(data={\"averageRating\": resultado}).astype(str)\n",
        "salida.index = df_test.id\n",
        "salida.to_csv(\"ojala.csv\", sep=',',index=True,  index_label='id')"
      ],
      "execution_count": null,
      "outputs": []
    }
  ]
}