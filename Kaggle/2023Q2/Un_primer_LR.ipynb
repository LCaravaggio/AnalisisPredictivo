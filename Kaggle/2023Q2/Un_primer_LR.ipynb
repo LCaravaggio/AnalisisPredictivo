{
  "nbformat": 4,
  "nbformat_minor": 0,
  "metadata": {
    "colab": {
      "provenance": [],
      "authorship_tag": "ABX9TyOWrEHZs9zDfmtIg+jWBoNC",
      "include_colab_link": true
    },
    "kernelspec": {
      "name": "python3",
      "display_name": "Python 3"
    },
    "language_info": {
      "name": "python"
    }
  },
  "cells": [
    {
      "cell_type": "markdown",
      "metadata": {
        "id": "view-in-github",
        "colab_type": "text"
      },
      "source": [
        "<a href=\"https://colab.research.google.com/github/LCaravaggio/AnalisisPredictivo/blob/master/Kaggle/2023Q2/Un_primer_LR.ipynb\" target=\"_parent\"><img src=\"https://colab.research.google.com/assets/colab-badge.svg\" alt=\"Open In Colab\"/></a>"
      ]
    },
    {
      "cell_type": "code",
      "source": [
        "import pandas as pd\n",
        "df_train=pd.read_csv('/content/origen.csv')"
      ],
      "metadata": {
        "id": "uK-5cdUyNiQ3"
      },
      "execution_count": 2,
      "outputs": []
    },
    {
      "cell_type": "code",
      "source": [
        "df_train.columns"
      ],
      "metadata": {
        "colab": {
          "base_uri": "https://localhost:8080/"
        },
        "id": "msD7pN_BNomw",
        "outputId": "363052f7-d351-4790-f0b5-e90789c9e25c"
      },
      "execution_count": 3,
      "outputs": [
        {
          "output_type": "execute_result",
          "data": {
            "text/plain": [
              "Index(['Unnamed: 0', 'averageRating', 'numVotes', 'titleType', 'isAdult',\n",
              "       'startYear', 'endYear', 'runtimeMinutes', 'genres_x', 'directors',\n",
              "       'writers', 'seasonNumber', 'episodeNumber', 'ordering', 'language',\n",
              "       'attributes', 'isOriginalTitle', 'adult', 'budget', 'genres_y',\n",
              "       'original_language', 'popularity', 'production_companies',\n",
              "       'production_countries', 'release_date', 'revenue', 'runtime', 'status',\n",
              "       'tagline', 'video'],\n",
              "      dtype='object')"
            ]
          },
          "metadata": {},
          "execution_count": 3
        }
      ]
    },
    {
      "cell_type": "code",
      "source": [
        "df_val=pd.read_csv('/content/testear.csv')"
      ],
      "metadata": {
        "id": "DP11tcaGOEfg"
      },
      "execution_count": 4,
      "outputs": []
    },
    {
      "cell_type": "code",
      "source": [
        "df_train.shape"
      ],
      "metadata": {
        "colab": {
          "base_uri": "https://localhost:8080/"
        },
        "id": "uRfvJaLeOOlg",
        "outputId": "772a3528-d157-46b2-9208-dfa0461fc6f1"
      },
      "execution_count": 5,
      "outputs": [
        {
          "output_type": "execute_result",
          "data": {
            "text/plain": [
              "(977541, 30)"
            ]
          },
          "metadata": {},
          "execution_count": 5
        }
      ]
    },
    {
      "cell_type": "code",
      "source": [
        "df_val.shape"
      ],
      "metadata": {
        "colab": {
          "base_uri": "https://localhost:8080/"
        },
        "id": "gobvSHIpOIot",
        "outputId": "485a1de5-1f45-4c95-ffda-3d3e280d8855"
      },
      "execution_count": 6,
      "outputs": [
        {
          "output_type": "execute_result",
          "data": {
            "text/plain": [
              "(244386, 29)"
            ]
          },
          "metadata": {},
          "execution_count": 6
        }
      ]
    },
    {
      "cell_type": "code",
      "source": [
        "y=df_train.averageRating\n",
        "vars=['startYear', 'endYear', 'runtimeMinutes']"
      ],
      "metadata": {
        "id": "K2cfK0WTjylW"
      },
      "execution_count": 7,
      "outputs": []
    },
    {
      "cell_type": "code",
      "source": [
        "X=df_train[vars]"
      ],
      "metadata": {
        "id": "zNqtvSa3j_Hu"
      },
      "execution_count": 8,
      "outputs": []
    },
    {
      "cell_type": "code",
      "source": [
        "from sklearn import linear_model\n",
        "lr = linear_model.LinearRegression()\n",
        "lr.fit(X, y)\n",
        "Yest = lr.predict(X)"
      ],
      "metadata": {
        "id": "HUq4xLhvjnGv"
      },
      "execution_count": 9,
      "outputs": []
    },
    {
      "cell_type": "code",
      "source": [
        "lr.score(X,y)"
      ],
      "metadata": {
        "colab": {
          "base_uri": "https://localhost:8080/"
        },
        "id": "Tkm6fycykW10",
        "outputId": "bf2faf1f-1878-48ae-8c53-285d6589786b"
      },
      "execution_count": 10,
      "outputs": [
        {
          "output_type": "execute_result",
          "data": {
            "text/plain": [
              "0.027410670188090847"
            ]
          },
          "metadata": {},
          "execution_count": 10
        }
      ]
    },
    {
      "cell_type": "code",
      "source": [
        "Yest = lr.predict(df_val[vars])"
      ],
      "metadata": {
        "id": "3CR_Z_9Xpt_u"
      },
      "execution_count": 13,
      "outputs": []
    },
    {
      "cell_type": "code",
      "source": [
        "salida = pd.DataFrame(data={\"averageRating\": Yest}).astype(str)\n",
        "salida.index = df_val.index\n",
        "salida.to_csv(\"baseline.csv\", sep=',',index=True,  index_label='Id')"
      ],
      "metadata": {
        "id": "f3USDelPp-Df"
      },
      "execution_count": 16,
      "outputs": []
    }
  ]
}