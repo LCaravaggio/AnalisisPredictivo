{
  "nbformat": 4,
  "nbformat_minor": 0,
  "metadata": {
    "kernelspec": {
      "display_name": "Python 3",
      "language": "python",
      "name": "python3"
    },
    "language_info": {
      "codemirror_mode": {
        "name": "ipython",
        "version": 3
      },
      "file_extension": ".py",
      "mimetype": "text/x-python",
      "name": "python",
      "nbconvert_exporter": "python",
      "pygments_lexer": "ipython3",
      "version": "3.7.6"
    },
    "colab": {
      "name": "Sin Browser.ipynb",
      "provenance": [],
      "include_colab_link": true
    }
  },
  "cells": [
    {
      "cell_type": "markdown",
      "metadata": {
        "id": "view-in-github",
        "colab_type": "text"
      },
      "source": [
        "<a href=\"https://colab.research.google.com/github/LCaravaggio/AnalisisPredictivo/blob/master/Sin_Browser.ipynb\" target=\"_parent\"><img src=\"https://colab.research.google.com/assets/colab-badge.svg\" alt=\"Open In Colab\"/></a>"
      ]
    },
    {
      "cell_type": "code",
      "metadata": {
        "id": "xpntM-8sj7-9"
      },
      "source": [
        "from bs4 import BeautifulSoup\n",
        "import requests\n",
        "import time\n",
        "import datetime "
      ],
      "execution_count": 1,
      "outputs": []
    },
    {
      "cell_type": "code",
      "metadata": {
        "id": "jTrAfUEAj7_E"
      },
      "source": [
        "lista={\n",
        "\"https://www.cotodigital3.com.ar/sitios/cdigi/producto/-arveja-enteros-ciudad-del-lago-lata-350-gr/_/A-00126282-00126282-200\", \n",
        "\"https://www.cotodigital3.com.ar/sitios/cdigi/producto/-galldulces-chocolat-lincoln-paq-153-grm/_/A-00182769-00182769-200\"}"
      ],
      "execution_count": 4,
      "outputs": []
    },
    {
      "cell_type": "code",
      "metadata": {
        "colab": {
          "base_uri": "https://localhost:8080/"
        },
        "id": "4qa2pplPj7_F",
        "outputId": "1185663e-f8e3-438a-ef86-f044a04973f7"
      },
      "source": [
        "a=\"\"\n",
        "for l in lista: \n",
        "\ttry:\n",
        "\t\tr = requests.get(l)\n",
        "\t\tsoup = BeautifulSoup(r.content, 'html.parser')\n",
        "\t\tprint(l)\n",
        "\t\ta = a + l + \";\"\n",
        "\t\ta = a + soup.find_all('h1', {'class':'product_page'})[0].text.replace(\" \",\"\").replace(\"\\n\",\"\").replace(\"\\r\",\"\") + \";\" \n",
        "\t\ta = a + soup.find_all('span', {'class':'atg_store_newPrice'})[1].text.replace(\"$\",\"\").replace(\" \",\"\").replace(\"\\n\",\"\").replace(\"\\r\",\"\").replace(\"PRECIOCONTADO\",\"\") + \"\\n\" \n",
        "\texcept:\n",
        "\t\tprint(\"error\")\n",
        "\t\ta = a +  \"\\n\" "
      ],
      "execution_count": 5,
      "outputs": [
        {
          "output_type": "stream",
          "text": [
            "https://www.cotodigital3.com.ar/sitios/cdigi/producto/-arveja-enteros-ciudad-del-lago-lata-350-gr/_/A-00126282-00126282-200\n",
            "https://www.cotodigital3.com.ar/sitios/cdigi/producto/-galldulces-chocolat-lincoln-paq-153-grm/_/A-00182769-00182769-200\n"
          ],
          "name": "stdout"
        }
      ]
    },
    {
      "cell_type": "code",
      "metadata": {
        "colab": {
          "base_uri": "https://localhost:8080/"
        },
        "id": "UhUZEAjOj7_I",
        "outputId": "f20fe5b8-5382-407e-87e5-8c0d4bc3a5cd"
      },
      "source": [
        "now = datetime.datetime.now()\n",
        "nw=str(now.strftime(\"%Y-%m-%d %H-%M-%S\"))\n",
        "#print(nw)\n",
        "with open('Coto ' + nw + '.csv', 'w', newline=\"\\n\", encoding='ISO-8859-1') as f:\n",
        "\tf.write(a)\n",
        "f.close"
      ],
      "execution_count": 6,
      "outputs": [
        {
          "output_type": "execute_result",
          "data": {
            "text/plain": [
              "<function TextIOWrapper.close>"
            ]
          },
          "metadata": {
            "tags": []
          },
          "execution_count": 6
        }
      ]
    }
  ]
}
