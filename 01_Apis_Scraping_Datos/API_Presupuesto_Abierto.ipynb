{
  "nbformat": 4,
  "nbformat_minor": 0,
  "metadata": {
    "colab": {
      "name": "API Presupuesto Abierto.ipynb",
      "provenance": [],
      "authorship_tag": "ABX9TyO7gkUQ5ZLb5rtoiVVf7BF4",
      "include_colab_link": true
    },
    "kernelspec": {
      "name": "python3",
      "display_name": "Python 3"
    },
    "language_info": {
      "name": "python"
    }
  },
  "cells": [
    {
      "cell_type": "markdown",
      "metadata": {
        "id": "view-in-github",
        "colab_type": "text"
      },
      "source": [
        "<a href=\"https://colab.research.google.com/github/LCaravaggio/AnalisisPredictivo/blob/master/01_Apis_Scraping_Datos/API_Presupuesto_Abierto.ipynb\" target=\"_parent\"><img src=\"https://colab.research.google.com/assets/colab-badge.svg\" alt=\"Open In Colab\"/></a>"
      ]
    },
    {
      "cell_type": "code",
      "execution_count": 1,
      "metadata": {
        "id": "Gz5NdBhYCNd0"
      },
      "outputs": [],
      "source": [
        "from google.colab import drive\n",
        "import json\n",
        "\n",
        "import requests\n",
        "from requests.auth import HTTPBasicAuth\n",
        "\n",
        "import pandas as pd\n",
        "\n",
        "import seaborn as sns"
      ]
    },
    {
      "cell_type": "code",
      "source": [
        "drive.mount('/content/drive', force_remount=True)\n",
        "with open(\"/content/drive/My Drive/presupuestoabierto.json\", 'r') as f:\n",
        "    api_token= json.load(f)"
      ],
      "metadata": {
        "colab": {
          "base_uri": "https://localhost:8080/"
        },
        "id": "IqkHovl1DHLu",
        "outputId": "4f966095-61b9-4fea-cf45-43d8fa8f81c0"
      },
      "execution_count": 2,
      "outputs": [
        {
          "output_type": "stream",
          "name": "stdout",
          "text": [
            "Mounted at /content/drive\n"
          ]
        }
      ]
    },
    {
      "cell_type": "code",
      "source": [
        "# Definir user key para la API\n",
        "user_key = api_token[\"key\"]"
      ],
      "metadata": {
        "id": "A_2x7lzLDSE6"
      },
      "execution_count": 3,
      "outputs": []
    },
    {
      "cell_type": "code",
      "source": [
        "url= 'https://www.presupuestoabierto.gob.ar/api/v1/credito'\n",
        "\n",
        "headers = {\"Authorization\": user_key, 'Content-Type': 'application/json'}\n",
        " \n",
        "data = {\n",
        "    \"title\": \"Credito vigente por jurisdiccion\",\n",
        "    \"columns\": [\n",
        "        \"jurisdiccion_id\",\n",
        "        \"jurisdiccion_desc\",\n",
        "        \"credito_vigente\"\n",
        "    ]\n",
        "}\n",
        " \n",
        "response = requests.post(url, headers=headers, json=data)"
      ],
      "metadata": {
        "id": "nCzJGqAFGIYi"
      },
      "execution_count": 12,
      "outputs": []
    },
    {
      "cell_type": "code",
      "source": [
        "print(response.text)"
      ],
      "metadata": {
        "colab": {
          "base_uri": "https://localhost:8080/"
        },
        "id": "SlSQLe9vGf-2",
        "outputId": "01602fdb-474c-479c-90d6-14b810484b00"
      },
      "execution_count": 13,
      "outputs": [
        {
          "output_type": "stream",
          "name": "stdout",
          "text": [
            "﻿jurisdiccion_id,jurisdiccion_desc,credito_vigente\n",
            "1,Poder Legislativo Nacional,59134.80997\n",
            "5,Poder Judicial de la Nación,129100.643649\n",
            "10,Ministerio Público,49052.203717\n",
            "20,Presidencia de la Nación,321567.344943\n",
            "25,Jefatura de Gabinete de Ministros,30106.179254\n",
            "30,Ministerio del Interior,72497.694601\n",
            "35,\"Ministerio de Relaciones Exteriores, Comercio Internacional y Culto\",45414.5421\n",
            "40,Ministerio de Justicia y Derechos Humanos,43475.873108\n",
            "41,Ministerio de Seguridad,389500.108879\n",
            "45,Ministerio de Defensa,338941.491944\n",
            "50,Ministerio de Economía,948632.365745\n",
            "51,Ministerio de Desarrollo Productivo,139449.135295\n",
            "52,\"Ministerio de Agricultura, Ganadería y Pesca\",59952.62812\n",
            "53,Ministerio de Turismo y Deportes,46093.574281\n",
            "57,Ministerio de Transporte,158878.550758\n",
            "64,Ministerio de Obras Públicas,351477.551384\n",
            "65,Ministerio de Desarrollo Territorial y Hábitat,303820.287011\n",
            "70,Ministerio de Educación,498462.353872\n",
            "71,\"Ministerio de Ciencia, Tecnología e Innovación\",60852.773561\n",
            "72,Ministerio de Cultura,23102.907235\n",
            "75,\"Ministerio de Trabajo, Empleo y Seguridad Social\",4203403.211358\n",
            "80,Ministerio de Salud,305674.852937\n",
            "81,Ministerio de Ambiente y Desarrollo Sostenible,21252.232322\n",
            "85,Ministerio de Desarrollo Social,531071.003366\n",
            "86,\"Ministerio de las Mujeres, Géneros y Diversidad\",17582.865594\n",
            "90,Servicio de la Deuda Pública,774959\n",
            "91,Obligaciones a Cargo del Tesoro,853148.977446\n",
            "\n"
          ]
        }
      ]
    }
  ]
}