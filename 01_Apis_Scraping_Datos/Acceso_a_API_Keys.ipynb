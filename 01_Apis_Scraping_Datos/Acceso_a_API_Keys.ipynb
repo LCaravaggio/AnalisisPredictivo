{
  "nbformat": 4,
  "nbformat_minor": 0,
  "metadata": {
    "colab": {
      "provenance": [],
      "authorship_tag": "ABX9TyOmt1qFfYlY1i2I047/YVck",
      "include_colab_link": true
    },
    "kernelspec": {
      "name": "python3",
      "display_name": "Python 3"
    },
    "language_info": {
      "name": "python"
    }
  },
  "cells": [
    {
      "cell_type": "markdown",
      "metadata": {
        "id": "view-in-github",
        "colab_type": "text"
      },
      "source": [
        "<a href=\"https://colab.research.google.com/github/LCaravaggio/AnalisisPredictivo/blob/master/01_Apis_Scraping_Datos/Acceso_a_API_Keys.ipynb\" target=\"_parent\"><img src=\"https://colab.research.google.com/assets/colab-badge.svg\" alt=\"Open In Colab\"/></a>"
      ]
    },
    {
      "cell_type": "markdown",
      "source": [
        "# Maneras de acceder a las API keys"
      ],
      "metadata": {
        "id": "qLoJV1oTdmiN"
      }
    },
    {
      "cell_type": "markdown",
      "source": [
        "### Usando Colab Secrets"
      ],
      "metadata": {
        "id": "hIuGnZfYddFZ"
      }
    },
    {
      "cell_type": "code",
      "execution_count": 1,
      "metadata": {
        "id": "AARm4nr5bGLH",
        "outputId": "c0c1ea30-691e-45ce-ae3b-ac5913389ec9",
        "colab": {
          "base_uri": "https://localhost:8080/"
        }
      },
      "outputs": [
        {
          "output_type": "stream",
          "name": "stdout",
          "text": [
            "Downloading personal-key-indicators-of-heart-disease.zip to /content\n",
            " 93% 20.0M/21.4M [00:00<00:00, 112MB/s] \n",
            "100% 21.4M/21.4M [00:00<00:00, 107MB/s]\n"
          ]
        }
      ],
      "source": [
        "from google.colab import userdata\n",
        "import json\n",
        "\n",
        "!mkdir ~/.kaggle\n",
        "!touch ~/.kaggle/kaggle.json\n",
        "\n",
        "api_token = {\n",
        "    'username': userdata.get('KAGGLE_USER'),\n",
        "    'key': userdata.get('KAGGLE_KEY')}\n",
        "with open('/root/.kaggle/kaggle.json', 'w') as file:\n",
        "    json.dump(api_token, file)\n",
        "\n",
        "!chmod 600 ~/.kaggle/kaggle.json\n",
        "\n",
        "!kaggle datasets download kamilpytlak/personal-key-indicators-of-heart-disease"
      ]
    },
    {
      "cell_type": "markdown",
      "source": [
        "### Usando el Drive"
      ],
      "metadata": {
        "id": "8KbLbttOdis5"
      }
    },
    {
      "cell_type": "code",
      "source": [
        "import pandas as pd\n",
        "import numpy as np\n",
        "import json\n",
        "from google.colab import drive\n",
        "\n",
        "!mkdir ~/.kaggle\n",
        "!touch ~/.kaggle/kaggle.json\n",
        "\n",
        "drive.mount('/content/drive', force_remount=True)\n",
        "with open(\"/content/drive/My Drive/kaggle.json\", 'r') as f:\n",
        "    api_token= json.load(f)\n",
        "\n",
        "with open('/root/.kaggle/kaggle.json', 'w') as file:\n",
        "    json.dump(api_token, file)\n",
        "\n",
        "!chmod 600 ~/.kaggle/kaggle.json\n",
        "\n",
        "!kaggle datasets download kamilpytlak/personal-key-indicators-of-heart-disease"
      ],
      "metadata": {
        "colab": {
          "base_uri": "https://localhost:8080/"
        },
        "id": "gxuUGd2VbacB",
        "outputId": "80a3b834-05ec-4042-c5f5-f7780dcd3ed2"
      },
      "execution_count": 2,
      "outputs": [
        {
          "output_type": "stream",
          "name": "stdout",
          "text": [
            "mkdir: cannot create directory ‘/root/.kaggle’: File exists\n",
            "Mounted at /content/drive\n",
            "personal-key-indicators-of-heart-disease.zip: Skipping, found more recently modified local copy (use --force to force download)\n"
          ]
        }
      ]
    }
  ]
}