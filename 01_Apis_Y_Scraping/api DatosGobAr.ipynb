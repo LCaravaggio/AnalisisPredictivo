{
  "nbformat": 4,
  "nbformat_minor": 0,
  "metadata": {
    "kernelspec": {
      "display_name": "Python 3",
      "language": "python",
      "name": "python3"
    },
    "language_info": {
      "codemirror_mode": {
        "name": "ipython",
        "version": 3
      },
      "file_extension": ".py",
      "mimetype": "text/x-python",
      "name": "python",
      "nbconvert_exporter": "python",
      "pygments_lexer": "ipython3",
      "version": "3.7.6"
    },
    "colab": {
      "name": "api.ipynb",
      "provenance": [],
      "include_colab_link": true
    }
  },
  "cells": [
    {
      "cell_type": "markdown",
      "metadata": {
        "id": "view-in-github",
        "colab_type": "text"
      },
      "source": [
        "<a href=\"https://colab.research.google.com/github/LCaravaggio/AnalisisPredictivo/blob/master/api.ipynb\" target=\"_parent\"><img src=\"https://colab.research.google.com/assets/colab-badge.svg\" alt=\"Open In Colab\"/></a>"
      ]
    },
    {
      "cell_type": "markdown",
      "metadata": {
        "id": "Y5W2lpiHhYpn"
      },
      "source": [
        "# Bajar de API"
      ]
    },
    {
      "cell_type": "code",
      "metadata": {
        "id": "eeUJwdd9hYpq"
      },
      "source": [
        "import requests\n",
        "import urllib.parse"
      ],
      "execution_count": 1,
      "outputs": []
    },
    {
      "cell_type": "code",
      "metadata": {
        "id": "3VKDP2zRhYpr"
      },
      "source": [
        "API_BASE_URL = \"http://apis.datos.gob.ar/series/api/\""
      ],
      "execution_count": 2,
      "outputs": []
    },
    {
      "cell_type": "code",
      "metadata": {
        "id": "7abmZd1NhYpr"
      },
      "source": [
        "def get_api_call(ids, **kwargs):\n",
        "    kwargs[\"ids\"] = \",\".join(ids)\n",
        "    return \"{}{}?{}\".format(API_BASE_URL, \"series\", urllib.parse.urlencode(kwargs))"
      ],
      "execution_count": 3,
      "outputs": []
    },
    {
      "cell_type": "code",
      "metadata": {
        "colab": {
          "base_uri": "https://localhost:8080/"
        },
        "id": "yYp-OE1MhYpr",
        "outputId": "701b492c-ec12-48b8-ddba-e448b65a21d4"
      },
      "source": [
        "api_call = get_api_call([\"116.4_TCRZE_2015_D_36_4\"], start_date=\"2020-05\")\n",
        "print(api_call)"
      ],
      "execution_count": 4,
      "outputs": [
        {
          "output_type": "stream",
          "text": [
            "http://apis.datos.gob.ar/series/api/series?start_date=2020-05&ids=116.4_TCRZE_2015_D_36_4\n"
          ],
          "name": "stdout"
        }
      ]
    },
    {
      "cell_type": "code",
      "metadata": {
        "colab": {
          "base_uri": "https://localhost:8080/"
        },
        "id": "YSo47440hYps",
        "outputId": "57ec2db2-3b5d-4643-e987-34ec81d1fbe1"
      },
      "source": [
        "requests.get(api_call).json()"
      ],
      "execution_count": 5,
      "outputs": [
        {
          "output_type": "execute_result",
          "data": {
            "text/plain": [
              "{'count': 445,\n",
              " 'data': [['2020-05-01', 113.11234589928377],\n",
              "  ['2020-05-02', 113.0514658722108],\n",
              "  ['2020-05-03', 112.99061861236292],\n",
              "  ['2020-05-04', 112.21002983245108],\n",
              "  ['2020-05-05', 112.0716492155335],\n",
              "  ['2020-05-06', 111.33422104334925],\n",
              "  ['2020-05-07', 110.75292955000178],\n",
              "  ['2020-05-08', 111.34859884581894],\n",
              "  ['2020-05-09', 111.2886681136042],\n",
              "  ['2020-05-10', 111.22876963767918],\n",
              "  ['2020-05-11', 110.875841334721],\n",
              "  ['2020-05-12', 111.03689295231682],\n",
              "  ['2020-05-13', 110.54475997363686],\n",
              "  ['2020-05-14', 110.7013235426833],\n",
              "  ['2020-05-15', 111.02337915974384],\n",
              "  ['2020-05-16', 110.96362346928194],\n",
              "  ['2020-05-17', 110.90389994089772],\n",
              "  ['2020-05-18', 111.92285740110276],\n",
              "  ['2020-05-19', 112.05323659736617],\n",
              "  ['2020-05-20', 112.56213466703],\n",
              "  ['2020-05-21', 113.20171362932496],\n",
              "  ['2020-05-22', 113.25347053422192],\n",
              "  ['2020-05-23', 113.19251455017424],\n",
              "  ['2020-05-24', 113.1315913742337],\n",
              "  ['2020-05-25', 113.07070098874206],\n",
              "  ['2020-05-26', 114.57785091864436],\n",
              "  ['2020-05-27', 114.80385935934014],\n",
              "  ['2020-05-28', 115.07345805210583],\n",
              "  ['2020-05-29', 114.68740875239584],\n",
              "  ['2020-05-30', 114.62568098524306],\n",
              "  ['2020-05-31', 114.56398644159128],\n",
              "  ['2020-06-01', 114.94852904199576],\n",
              "  ['2020-06-02', 116.4227449642712],\n",
              "  ['2020-06-03', 117.54244520570364],\n",
              "  ['2020-06-04', 117.67650391457217],\n",
              "  ['2020-06-05', 118.58363998524806],\n",
              "  ['2020-06-06', 118.51038235055482],\n",
              "  ['2020-06-07', 118.43716997236616],\n",
              "  ['2020-06-08', 119.1607536675872],\n",
              "  ['2020-06-09', 119.17752254679412],\n",
              "  ['2020-06-10', 119.30574925236932],\n",
              "  ['2020-06-11', 118.59256731533674],\n",
              "  ['2020-06-12', 117.59396971918194],\n",
              "  ['2020-06-13', 117.52132347492024],\n",
              "  ['2020-06-14', 117.44872210946322],\n",
              "  ['2020-06-15', 117.37616559508608],\n",
              "  ['2020-06-16', 117.28617148937457],\n",
              "  ['2020-06-17', 116.931973476868],\n",
              "  ['2020-06-18', 116.01250285614984],\n",
              "  ['2020-06-19', 116.34806501579912],\n",
              "  ['2020-06-20', 116.2761884563913],\n",
              "  ['2020-06-21', 116.20435630029864],\n",
              "  ['2020-06-22', 116.94135069100292],\n",
              "  ['2020-06-23', 117.82736819753868],\n",
              "  ['2020-06-24', 116.62650175515346],\n",
              "  ['2020-06-25', 116.32204343958684],\n",
              "  ['2020-06-26', 115.91865845547866],\n",
              "  ['2020-06-27', 115.8470471713562],\n",
              "  ['2020-06-28', 115.77548012666922],\n",
              "  ['2020-06-29', 115.87354012032354],\n",
              "  ['2020-06-30', 116.0349081587487],\n",
              "  ['2020-07-01', 116.74815892011014],\n",
              "  ['2020-07-02', 116.84398896859936],\n",
              "  ['2020-07-03', 117.0707871212432],\n",
              "  ['2020-07-04', 117.0236437026319],\n",
              "  ['2020-07-05', 116.97651926827766],\n",
              "  ['2020-07-06', 117.41131182751369],\n",
              "  ['2020-07-07', 117.30260263106452],\n",
              "  ['2020-07-08', 117.49487539584833],\n",
              "  ['2020-07-09', 117.44756120046556],\n",
              "  ['2020-07-10', 117.40026605811023],\n",
              "  ['2020-07-11', 117.35298996110988],\n",
              "  ['2020-07-12', 117.30573290179504],\n",
              "  ['2020-07-13', 117.91436179946236],\n",
              "  ['2020-07-14', 117.98982570366078],\n",
              "  ['2020-07-15', 118.03173774727594],\n",
              "  ['2020-07-16', 118.22774171054536],\n",
              "  ['2020-07-17', 118.1685745141875],\n",
              "  ['2020-07-18', 118.12098902585169],\n",
              "  ['2020-07-19', 118.07342269979073],\n",
              "  ['2020-07-20', 118.59695040962114],\n",
              "  ['2020-07-21', 119.9907257158296],\n",
              "  ['2020-07-22', 120.44714428388066],\n",
              "  ['2020-07-23', 120.17782627960266],\n",
              "  ['2020-07-24', 120.36451516863733],\n",
              "  ['2020-07-25', 120.3160453935203],\n",
              "  ['2020-07-26', 120.2675951367729],\n",
              "  ['2020-07-27', 120.93691039688689],\n",
              "  ['2020-07-28', 121.12804618222113],\n",
              "  ['2020-07-29', 121.35076995953804],\n",
              "  ['2020-07-30', 121.42178903780032],\n",
              "  ['2020-07-31', 121.12830709222771],\n",
              "  ['2020-08-01', 121.03834816023928],\n",
              "  ['2020-08-02', 120.94638293954232],\n",
              "  ['2020-08-03', 120.36371106144846],\n",
              "  ['2020-08-04', 120.4353713631194],\n",
              "  ['2020-08-05', 120.72301637238805],\n",
              "  ['2020-08-06', 120.51298807033352],\n",
              "  ['2020-08-07', 119.80257850892824],\n",
              "  ['2020-08-08', 119.71155222890954]],\n",
              " 'meta': [{'end_date': '2020-08-08',\n",
              "   'frequency': 'day',\n",
              "   'start_date': '2020-05-01'},\n",
              "  {'catalog': {'title': 'Datos Programación Macroeconómica'},\n",
              "   'dataset': {'description': 'Índice de Tipo de Cambio Real Multilateral Base 17 de Diciembre de 2015 = 100',\n",
              "    'issued': '2017-09-28',\n",
              "    'source': 'Banco Central de la República Argentina (BCRA)',\n",
              "    'title': 'Índice de Tipo de Cambio Real Multilateral Base 17 de Diciembre de 2015 = 100'},\n",
              "   'distribution': {'downloadURL': 'https://infra.datos.gob.ar/catalog/sspm/dataset/116/distribution/116.4/download/indice-tipo-cambio-real-multilateral-diario-base-2015.csv',\n",
              "    'title': 'Índice de Tipo de Cambio Real Multilateral. Valores diarios Base 2015'},\n",
              "   'field': {'description': 'Índice de Tipo de Cambio Real Multilateral',\n",
              "    'id': '116.4_TCRZE_2015_D_36_4',\n",
              "    'representation_mode': 'value',\n",
              "    'representation_mode_units': 'Índice 17-Dic-2015=100',\n",
              "    'units': 'Índice 17-Dic-2015=100'}}],\n",
              " 'params': {'identifiers': [{'dataset': '116',\n",
              "    'distribution': '116.4',\n",
              "    'id': '116.4_TCRZE_2015_D_36_4'}],\n",
              "  'ids': '116.4_TCRZE_2015_D_36_4',\n",
              "  'start_date': '2020-05'}}"
            ]
          },
          "metadata": {
            "tags": []
          },
          "execution_count": 5
        }
      ]
    },
    {
      "cell_type": "markdown",
      "metadata": {
        "id": "YiO5FqVFhYpt"
      },
      "source": [
        "# Con Pandas"
      ]
    },
    {
      "cell_type": "code",
      "metadata": {
        "id": "DuvWgk9thYpt"
      },
      "source": [
        "import pandas as pd"
      ],
      "execution_count": 6,
      "outputs": []
    },
    {
      "cell_type": "code",
      "metadata": {
        "id": "ZR7zW2bphYpu"
      },
      "source": [
        "df = pd.read_csv(get_api_call(\n",
        "    [\"168.1_T_CAMBIOR_D_0_0_26\", \"101.1_I2NG_2016_M_22\", \"116.3_TCRMA_0_M_36\", \"143.3_NO_PR_2004_A_21\",\n",
        "     \"11.3_VMATC_2004_M_12\"], \n",
        "    format=\"csv\", start_date=2016\n",
        "))"
      ],
      "execution_count": 7,
      "outputs": []
    },
    {
      "cell_type": "code",
      "metadata": {
        "colab": {
          "base_uri": "https://localhost:8080/",
          "height": 439
        },
        "id": "cAMaYLr_hYpu",
        "outputId": "ef6654cd-6857-4a6d-850c-3724976864d6"
      },
      "source": [
        "df"
      ],
      "execution_count": 8,
      "outputs": [
        {
          "output_type": "execute_result",
          "data": {
            "text/html": [
              "<div>\n",
              "<style scoped>\n",
              "    .dataframe tbody tr th:only-of-type {\n",
              "        vertical-align: middle;\n",
              "    }\n",
              "\n",
              "    .dataframe tbody tr th {\n",
              "        vertical-align: top;\n",
              "    }\n",
              "\n",
              "    .dataframe thead th {\n",
              "        text-align: right;\n",
              "    }\n",
              "</style>\n",
              "<table border=\"1\" class=\"dataframe\">\n",
              "  <thead>\n",
              "    <tr style=\"text-align: right;\">\n",
              "      <th></th>\n",
              "      <th>indice_tiempo</th>\n",
              "      <th>tipo_cambio_bna_vendedor</th>\n",
              "      <th>ipc_2016_nivel_general</th>\n",
              "      <th>tipo_cambio_real_multilateral_actual</th>\n",
              "      <th>emae_original</th>\n",
              "      <th>construccion</th>\n",
              "    </tr>\n",
              "  </thead>\n",
              "  <tbody>\n",
              "    <tr>\n",
              "      <th>0</th>\n",
              "      <td>2016-01-01</td>\n",
              "      <td>13.770968</td>\n",
              "      <td>NaN</td>\n",
              "      <td>96.031136</td>\n",
              "      <td>134.746450</td>\n",
              "      <td>141.661542</td>\n",
              "    </tr>\n",
              "    <tr>\n",
              "      <th>1</th>\n",
              "      <td>2016-02-01</td>\n",
              "      <td>14.927586</td>\n",
              "      <td>NaN</td>\n",
              "      <td>102.516379</td>\n",
              "      <td>134.232361</td>\n",
              "      <td>138.962002</td>\n",
              "    </tr>\n",
              "    <tr>\n",
              "      <th>2</th>\n",
              "      <td>2016-03-01</td>\n",
              "      <td>15.117742</td>\n",
              "      <td>NaN</td>\n",
              "      <td>103.073277</td>\n",
              "      <td>150.087894</td>\n",
              "      <td>140.638700</td>\n",
              "    </tr>\n",
              "    <tr>\n",
              "      <th>3</th>\n",
              "      <td>2016-04-01</td>\n",
              "      <td>14.623333</td>\n",
              "      <td>85.5254</td>\n",
              "      <td>97.452567</td>\n",
              "      <td>153.250674</td>\n",
              "      <td>126.026755</td>\n",
              "    </tr>\n",
              "    <tr>\n",
              "      <th>4</th>\n",
              "      <td>2016-05-01</td>\n",
              "      <td>14.329032</td>\n",
              "      <td>89.1118</td>\n",
              "      <td>91.498158</td>\n",
              "      <td>163.513608</td>\n",
              "      <td>134.224906</td>\n",
              "    </tr>\n",
              "    <tr>\n",
              "      <th>...</th>\n",
              "      <td>...</td>\n",
              "      <td>...</td>\n",
              "      <td>...</td>\n",
              "      <td>...</td>\n",
              "      <td>...</td>\n",
              "      <td>...</td>\n",
              "    </tr>\n",
              "    <tr>\n",
              "      <th>62</th>\n",
              "      <td>2021-03-01</td>\n",
              "      <td>96.129032</td>\n",
              "      <td>424.4539</td>\n",
              "      <td>120.183663</td>\n",
              "      <td>144.483879</td>\n",
              "      <td>148.217613</td>\n",
              "    </tr>\n",
              "    <tr>\n",
              "      <th>63</th>\n",
              "      <td>2021-04-01</td>\n",
              "      <td>98.100000</td>\n",
              "      <td>441.8955</td>\n",
              "      <td>117.827179</td>\n",
              "      <td>144.791807</td>\n",
              "      <td>127.848283</td>\n",
              "    </tr>\n",
              "    <tr>\n",
              "      <th>64</th>\n",
              "      <td>2021-05-01</td>\n",
              "      <td>99.177419</td>\n",
              "      <td>456.7856</td>\n",
              "      <td>118.332436</td>\n",
              "      <td>149.094575</td>\n",
              "      <td>114.053308</td>\n",
              "    </tr>\n",
              "    <tr>\n",
              "      <th>65</th>\n",
              "      <td>2021-06-01</td>\n",
              "      <td>100.225000</td>\n",
              "      <td>470.7840</td>\n",
              "      <td>117.728626</td>\n",
              "      <td>NaN</td>\n",
              "      <td>NaN</td>\n",
              "    </tr>\n",
              "    <tr>\n",
              "      <th>66</th>\n",
              "      <td>2021-07-01</td>\n",
              "      <td>101.266129</td>\n",
              "      <td>NaN</td>\n",
              "      <td>NaN</td>\n",
              "      <td>NaN</td>\n",
              "      <td>NaN</td>\n",
              "    </tr>\n",
              "  </tbody>\n",
              "</table>\n",
              "<p>67 rows × 6 columns</p>\n",
              "</div>"
            ],
            "text/plain": [
              "   indice_tiempo  tipo_cambio_bna_vendedor  ...  emae_original  construccion\n",
              "0     2016-01-01                 13.770968  ...     134.746450    141.661542\n",
              "1     2016-02-01                 14.927586  ...     134.232361    138.962002\n",
              "2     2016-03-01                 15.117742  ...     150.087894    140.638700\n",
              "3     2016-04-01                 14.623333  ...     153.250674    126.026755\n",
              "4     2016-05-01                 14.329032  ...     163.513608    134.224906\n",
              "..           ...                       ...  ...            ...           ...\n",
              "62    2021-03-01                 96.129032  ...     144.483879    148.217613\n",
              "63    2021-04-01                 98.100000  ...     144.791807    127.848283\n",
              "64    2021-05-01                 99.177419  ...     149.094575    114.053308\n",
              "65    2021-06-01                100.225000  ...            NaN           NaN\n",
              "66    2021-07-01                101.266129  ...            NaN           NaN\n",
              "\n",
              "[67 rows x 6 columns]"
            ]
          },
          "metadata": {
            "tags": []
          },
          "execution_count": 8
        }
      ]
    },
    {
      "cell_type": "code",
      "metadata": {
        "id": "MpKBWcSGhYpu"
      },
      "source": [
        "import matplotlib.pyplot as plt\n",
        "plt.style.use('ggplot')"
      ],
      "execution_count": 9,
      "outputs": []
    },
    {
      "cell_type": "code",
      "metadata": {
        "colab": {
          "base_uri": "https://localhost:8080/",
          "height": 445
        },
        "id": "v4aSp3x1hYpv",
        "outputId": "0484e55c-9257-44a8-8aba-bc6ae10f4c1d"
      },
      "source": [
        "df[[\"emae_original\", \"construccion\"]].plot(figsize=(15,7))"
      ],
      "execution_count": 10,
      "outputs": [
        {
          "output_type": "execute_result",
          "data": {
            "text/plain": [
              "<matplotlib.axes._subplots.AxesSubplot at 0x7f21220c7f90>"
            ]
          },
          "metadata": {
            "tags": []
          },
          "execution_count": 10
        },
        {
          "output_type": "display_data",
          "data": {
            "image/png": "[encoded data removed]",
            "text/plain": [
              "<Figure size 1080x504 with 1 Axes>"
            ]
          },
          "metadata": {
            "tags": []
          }
        }
      ]
    },
    {
      "cell_type": "markdown",
      "metadata": {
        "id": "owDlEXCPhYpv"
      },
      "source": [
        "# Con Markdown y PDFkit"
      ]
    },
    {
      "cell_type": "code",
      "metadata": {
        "id": "T-X6Zrb8hYpv"
      },
      "source": [
        "#!pip install pdfkit\n",
        "import markdown\n",
        "import pdfkit"
      ],
      "execution_count": 31,
      "outputs": []
    },
    {
      "cell_type": "code",
      "metadata": {
        "id": "-QfH7Y89ju45"
      },
      "source": [
        "#Bajar de https://wkhtmltopdf.org/\n",
        "path_wkhtmltopdf = r'C:\\Program Files\\wkhtmltopdf\\bin\\wkhtmltopdf.exe'\n",
        "config = pdfkit.configuration(wkhtmltopdf=path_wkhtmltopdf)"
      ],
      "execution_count": null,
      "outputs": []
    },
    {
      "cell_type": "code",
      "metadata": {
        "id": "1zF1qzC4hYpw"
      },
      "source": [
        "tipo_cambio = requests.get(get_api_call(\n",
        "    [\"168.1_T_CAMBIOR_D_0_0_26:avg\", \"168.1_T_CAMBIOR_D_0_0_26:max\", \"168.1_T_CAMBIOR_D_0_0_26:min\"], \n",
        "    sort=\"desc\", collapse=\"month\", limit=13\n",
        ")).json()[\"data\"]"
      ],
      "execution_count": 20,
      "outputs": []
    },
    {
      "cell_type": "code",
      "metadata": {
        "id": "lJy18wcXhYpw"
      },
      "source": [
        "ipc = requests.get(get_api_call(\n",
        "    [\"101.1_I2NG_2016_M_22\"], \n",
        "    sort=\"desc\", collapse=\"month\", limit=13\n",
        ")).json()[\"data\"]"
      ],
      "execution_count": 21,
      "outputs": []
    },
    {
      "cell_type": "code",
      "metadata": {
        "id": "2GDhUKAahYpw"
      },
      "source": [
        "emaese = requests.get(get_api_call(\n",
        "    [\"143.3_NO_PR_2004_A_31\"], \n",
        "    sort=\"desc\", collapse=\"month\", limit=13\n",
        ")).json()[\"data\"]"
      ],
      "execution_count": 22,
      "outputs": []
    },
    {
      "cell_type": "code",
      "metadata": {
        "id": "IlaMZSjkhYpw"
      },
      "source": [
        "emae = requests.get(get_api_call(\n",
        "    [\"143.3_NO_PR_2004_A_21\"], \n",
        "    sort=\"desc\", collapse=\"month\", limit=13\n",
        ")).json()[\"data\"]"
      ],
      "execution_count": 23,
      "outputs": []
    },
    {
      "cell_type": "code",
      "metadata": {
        "id": "xCGXeblnhYpx"
      },
      "source": [
        "varia=emae[0][1] / emae[12][1] - 1\n",
        "varse=emaese[0][1] /emaese[1][1]-1\n",
        "ipcm=ipc[0][1]/ipc[1][1]-1\n",
        "ipcia=ipc[0][1]/ipc[12][1]-1"
      ],
      "execution_count": 24,
      "outputs": []
    },
    {
      "cell_type": "code",
      "metadata": {
        "colab": {
          "base_uri": "https://localhost:8080/"
        },
        "id": "kWnw82uJhYpx",
        "outputId": "b51c59c5-e350-482f-d2c4-0057d63f151a"
      },
      "source": [
        "!pip install arrow\n",
        "import arrow"
      ],
      "execution_count": 26,
      "outputs": [
        {
          "output_type": "stream",
          "text": [
            "Collecting arrow\n",
            "  Downloading arrow-1.1.1-py3-none-any.whl (60 kB)\n",
            "\u001b[?25l\r\u001b[K     |█████▍                          | 10 kB 19.8 MB/s eta 0:00:01\r\u001b[K     |██████████▉                     | 20 kB 25.5 MB/s eta 0:00:01\r\u001b[K     |████████████████▎               | 30 kB 13.1 MB/s eta 0:00:01\r\u001b[K     |█████████████████████▊          | 40 kB 9.7 MB/s eta 0:00:01\r\u001b[K     |███████████████████████████▏    | 51 kB 5.2 MB/s eta 0:00:01\r\u001b[K     |████████████████████████████████| 60 kB 2.9 MB/s \n",
            "\u001b[?25hRequirement already satisfied: python-dateutil>=2.7.0 in /usr/local/lib/python3.7/dist-packages (from arrow) (2.8.1)\n",
            "Requirement already satisfied: typing-extensions in /usr/local/lib/python3.7/dist-packages (from arrow) (3.7.4.3)\n",
            "Requirement already satisfied: six>=1.5 in /usr/local/lib/python3.7/dist-packages (from python-dateutil>=2.7.0->arrow) (1.15.0)\n",
            "Installing collected packages: arrow\n",
            "Successfully installed arrow-1.1.1\n"
          ],
          "name": "stdout"
        }
      ]
    },
    {
      "cell_type": "code",
      "metadata": {
        "id": "RWuXoHH7hYpx"
      },
      "source": [
        "reporte = \"\"\"\n",
        "# Seguimiento de coyuntura\n",
        "\n",
        "## Tipo de cambio\n",
        "\n",
        "El tipo de cambio promedio del mes de {mes_tc:%Y-%m} fue {mes_tc_promedio:.2f} con un máximo de {mes_tc_max:.2f} \n",
        "y un mínimo de {mes_tc_min:.2f}.\n",
        "\n",
        "## Inflación\n",
        "\n",
        "La inflación de {mes_ipc:%Y-%m} respecto de {mes_ipc_anterior:%Y-%m} fue de {mes_ipc_var:.2%}, mientras que la inflación interanual\n",
        "{mes_ipc:%Y-%m}/{mes_ipc_anio_anterior:%Y-%m} fue de {mes_ipc_var_interanual:.2%}.\n",
        "\n",
        "## Nivel de actividad\n",
        "\n",
        "El EMAE de {mes_emae:%Y-%m} muestra {alza_o_caida_mensual} respecto del mes anterior de {mes_emae_var:.2%}, y un \n",
        "{alza_o_caida_interanual} interanual de {mes_emae_var_interanual:.2%}.\"\"\".format(\n",
        "mes_tc=arrow.get(tipo_cambio[2][0]).datetime,\n",
        "mes_tc_promedio=tipo_cambio[2][1],\n",
        "mes_tc_max=tipo_cambio[2][2],\n",
        "mes_tc_min=tipo_cambio[2][3],\n",
        "mes_ipc=arrow.get(ipc[0][0]).datetime,\n",
        "mes_ipc_anterior=arrow.get(ipc[1][0]).datetime,\n",
        "mes_ipc_var=ipcm,\n",
        "mes_ipc_anio_anterior=arrow.get(ipc[12][0]).datetime,\n",
        "mes_ipc_var_interanual=ipcia,\n",
        "mes_emae=arrow.get(emae[0][0]).datetime, \n",
        "alza_o_caida_mensual=\"alza\" if varse >= 0 else \"caída\",\n",
        "mes_emae_var=varse,\n",
        "alza_o_caida_interanual=\"alza\" if varia >= 0 else \"caída\",\n",
        "mes_emae_var_interanual = varia\n",
        ")\n"
      ],
      "execution_count": 27,
      "outputs": []
    },
    {
      "cell_type": "code",
      "metadata": {
        "colab": {
          "base_uri": "https://localhost:8080/",
          "height": 275
        },
        "id": "G-kSZA0IhYpy",
        "outputId": "cc4b0076-95c8-4dcd-82c5-e90c6cbd5e7e"
      },
      "source": [
        "from IPython.core.display import display, HTML\n",
        "\n",
        "# genera un HTML a partir del markdown\n",
        "html = markdown.markdown(reporte)\n",
        "display(HTML(html))"
      ],
      "execution_count": 28,
      "outputs": [
        {
          "output_type": "display_data",
          "data": {
            "text/html": [
              "<h1>Seguimiento de coyuntura</h1>\n",
              "<h2>Tipo de cambio</h2>\n",
              "<p>El tipo de cambio promedio del mes de 2021-05 fue 99.18 con un máximo de 99.75 \n",
              "y un mínimo de 98.50.</p>\n",
              "<h2>Inflación</h2>\n",
              "<p>La inflación de 2021-06 respecto de 2021-05 fue de 3.06%, mientras que la inflación interanual\n",
              "2021-06/2020-06 fue de 48.29%.</p>\n",
              "<h2>Nivel de actividad</h2>\n",
              "<p>El EMAE de 2021-05 muestra caída respecto del mes anterior de -2.05%, y un \n",
              "alza interanual de 13.56%.</p>"
            ],
            "text/plain": [
              "<IPython.core.display.HTML object>"
            ]
          },
          "metadata": {
            "tags": []
          }
        }
      ]
    },
    {
      "cell_type": "code",
      "metadata": {
        "id": "BZtYA2Y_jscp"
      },
      "source": [
        "# genera un PDF a partir del HTML\n",
        "pdfkit.from_string(html,'reporte-series-tiempo.pdf', options={\"encoding\": \"utf8\"})"
      ],
      "execution_count": null,
      "outputs": []
    }
  ]
}
