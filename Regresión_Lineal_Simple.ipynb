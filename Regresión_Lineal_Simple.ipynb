{
  "nbformat": 4,
  "nbformat_minor": 0,
  "metadata": {
    "colab": {
      "name": "Regresión Lineal Simple",
      "provenance": [],
      "authorship_tag": "ABX9TyP2FE4ndIcekA0YzSg06rhB",
      "include_colab_link": true
    },
    "kernelspec": {
      "name": "python3",
      "display_name": "Python 3"
    }
  },
  "cells": [
    {
      "cell_type": "markdown",
      "metadata": {
        "id": "view-in-github",
        "colab_type": "text"
      },
      "source": [
        "<a href=\"https://colab.research.google.com/github/LCaravaggio/cursoitba/blob/master/Regresi%C3%B3n_Lineal_Simple.ipynb\" target=\"_parent\"><img src=\"https://colab.research.google.com/assets/colab-badge.svg\" alt=\"Open In Colab\"/></a>"
      ]
    },
    {
      "cell_type": "code",
      "metadata": {
        "id": "H2KnFPlzaQiJ",
        "colab_type": "code",
        "colab": {}
      },
      "source": [
        "########## LIBRERÍAS A UTILIZAR ##########\n",
        "#Se importan la librerias a utilizar\n",
        "import numpy as np\n",
        "from sklearn import datasets, linear_model\n",
        "import matplotlib.pyplot as plt"
      ],
      "execution_count": 1,
      "outputs": []
    },
    {
      "cell_type": "code",
      "metadata": {
        "id": "knc-vI09bz5f",
        "colab_type": "code",
        "colab": {}
      },
      "source": [
        "########## PREPARAR LA DATA ##########\n",
        "#Importamos los datos de la misma librería de scikit-learn\n",
        "boston = datasets.load_boston()\n",
        "print(boston)\n",
        "print()"
      ],
      "execution_count": null,
      "outputs": []
    },
    {
      "cell_type": "code",
      "metadata": {
        "id": "nRrqQq6vb21p",
        "colab_type": "code",
        "colab": {}
      },
      "source": [
        "########## ENTENDIMIENTO DE LA DATA ##########\n",
        "#Verifico la información contenida en el dataset\n",
        "print('Información en el dataset:')\n",
        "print(boston.keys())\n",
        "print()\n",
        "#Verifico las características del dataset\n",
        "print('Características del dataset:')\n",
        "print(boston.DESCR)\n",
        "#Verifico la cantidad de datos que hay en los dataset\n",
        "print('Cantidad de datos:')\n",
        "print(boston.data.shape)\n",
        "print()\n",
        "#Verifico la información de las columnas\n",
        "print('Nombres columnas:')\n",
        "print(boston.feature_names)"
      ],
      "execution_count": null,
      "outputs": []
    },
    {
      "cell_type": "code",
      "metadata": {
        "id": "pcAxBmmvb6fn",
        "colab_type": "code",
        "colab": {}
      },
      "source": [
        "########## PREPARAR LA DATA REGRESIÓN LINEAL SIMPLE ##########\n",
        "#Seleccionamos solamente la columna 5 del dataset\n",
        "X = boston.data[:, np.newaxis, 5]\n",
        "#Defino los datos correspondientes a las etiquetas\n",
        "y = boston.target\n",
        "#Graficamos los datos correspondientes\n",
        "plt.scatter(X, y)\n",
        "plt.xlabel('Número de habitaciones')\n",
        "plt.ylabel('Valor medio')\n",
        "plt.show()\n",
        "########## IMPLEMENTACIÓN DE REGRESIÓN LINEAL SIMPLE ##########\n",
        "from sklearn.model_selection import train_test_split\n",
        "#Separo los datos de \"train\" en entrenamiento y prueba para probar los algoritmos\n",
        "X_train, X_test, y_train, y_test = train_test_split(X, y, test_size=0.2)\n",
        "#Defino el algoritmo a utilizar\n",
        "lr = linear_model.LinearRegression()\n",
        "#Entreno el modelo\n",
        "lr.fit(X_train, y_train)\n",
        "#Realizo una predicción\n",
        "Y_pred = lr.predict(X_test)\n",
        "#Graficamos los datos junto con el modelo\n",
        "plt.scatter(X_test, y_test)\n",
        "plt.plot(X_test, Y_pred, color='red', linewidth=3)\n",
        "plt.title('Regresión Lineal Simple')\n",
        "plt.xlabel('Número de habitaciones')\n",
        "plt.ylabel('Valor medio')\n",
        "plt.show()\n",
        "print()\n",
        "print('DATOS DEL MODELO REGRESIÓN LINEAL SIMPLE')\n",
        "print()\n",
        "print('Valor de la pendiente o coeficiente \"a\":')\n",
        "print(lr.coef_)\n",
        "print('Valor de la intersección o coeficiente \"b\":')\n",
        "print(lr.intercept_)\n",
        "print()\n",
        "print('La ecuación del modelo es igual a:')\n",
        "print('y = ', lr.coef_, 'x ', lr.intercept_)\n",
        "print()\n",
        "print('Precisión del modelo:')\n",
        "print(lr.score(X_train, y_train))"
      ],
      "execution_count": null,
      "outputs": []
    }
  ]
}