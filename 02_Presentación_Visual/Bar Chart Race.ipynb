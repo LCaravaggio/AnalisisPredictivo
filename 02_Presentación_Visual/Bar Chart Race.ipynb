{
 "cells": [
  {
   "cell_type": "code",
   "execution_count": 3,
   "metadata": {},
   "outputs": [
    {
     "name": "stdout",
     "output_type": "stream",
     "text": [
      "Collecting bar_chart_race\n",
      "  Using cached bar_chart_race-0.1.0-py3-none-any.whl (156 kB)\n",
      "Requirement already satisfied: matplotlib>=3.1 in c:\\users\\pc\\anaconda3\\lib\\site-packages (from bar_chart_race) (3.1.3)\n",
      "Requirement already satisfied: pandas>=0.24 in c:\\users\\pc\\anaconda3\\lib\\site-packages (from bar_chart_race) (1.0.1)\n",
      "Requirement already satisfied: kiwisolver>=1.0.1 in c:\\users\\pc\\anaconda3\\lib\\site-packages (from matplotlib>=3.1->bar_chart_race) (1.1.0)\n",
      "Requirement already satisfied: numpy>=1.11 in c:\\users\\pc\\anaconda3\\lib\\site-packages (from matplotlib>=3.1->bar_chart_race) (1.18.1)\n",
      "Requirement already satisfied: python-dateutil>=2.1 in c:\\users\\pc\\anaconda3\\lib\\site-packages (from matplotlib>=3.1->bar_chart_race) (2.8.1)\n",
      "Requirement already satisfied: cycler>=0.10 in c:\\users\\pc\\anaconda3\\lib\\site-packages (from matplotlib>=3.1->bar_chart_race) (0.10.0)\n",
      "Requirement already satisfied: pyparsing!=2.0.4,!=2.1.2,!=2.1.6,>=2.0.1 in c:\\users\\pc\\anaconda3\\lib\\site-packages (from matplotlib>=3.1->bar_chart_race) (2.4.6)\n",
      "Requirement already satisfied: pytz>=2017.2 in c:\\users\\pc\\anaconda3\\lib\\site-packages (from pandas>=0.24->bar_chart_race) (2019.3)\n",
      "Requirement already satisfied: setuptools in c:\\users\\pc\\anaconda3\\lib\\site-packages (from kiwisolver>=1.0.1->matplotlib>=3.1->bar_chart_race) (45.2.0.post20200210)\n",
      "Requirement already satisfied: six>=1.5 in c:\\users\\pc\\anaconda3\\lib\\site-packages (from python-dateutil>=2.1->matplotlib>=3.1->bar_chart_race) (1.14.0)\n",
      "Installing collected packages: bar-chart-race\n",
      "Successfully installed bar-chart-race-0.1.0\n"
     ]
    }
   ],
   "source": [
    "!pip install bar_chart_race"
   ]
  },
  {
   "cell_type": "code",
   "execution_count": 1,
   "metadata": {},
   "outputs": [
    {
     "ename": "ModuleNotFoundError",
     "evalue": "No module named 'bar_chart_race'",
     "output_type": "error",
     "traceback": [
      "\u001b[1;31m---------------------------------------------------------------------------\u001b[0m",
      "\u001b[1;31mModuleNotFoundError\u001b[0m                       Traceback (most recent call last)",
      "\u001b[1;32m<ipython-input-1-6a25a523e3f7>\u001b[0m in \u001b[0;36m<module>\u001b[1;34m\u001b[0m\n\u001b[1;32m----> 1\u001b[1;33m \u001b[1;32mimport\u001b[0m \u001b[0mbar_chart_race\u001b[0m \u001b[1;32mas\u001b[0m \u001b[0mbcr\u001b[0m\u001b[1;33m\u001b[0m\u001b[1;33m\u001b[0m\u001b[0m\n\u001b[0m\u001b[0;32m      2\u001b[0m \u001b[0mdf\u001b[0m \u001b[1;33m=\u001b[0m \u001b[0mbcr\u001b[0m\u001b[1;33m.\u001b[0m\u001b[0mload_dataset\u001b[0m\u001b[1;33m(\u001b[0m\u001b[1;34m'covid19_tutorial'\u001b[0m\u001b[1;33m)\u001b[0m\u001b[1;33m\u001b[0m\u001b[1;33m\u001b[0m\u001b[0m\n",
      "\u001b[1;31mModuleNotFoundError\u001b[0m: No module named 'bar_chart_race'"
     ]
    }
   ],
   "source": [
    "import bar_chart_race as bcr\n",
    "df = bcr.load_dataset('covid19_tutorial')"
   ]
  },
  {
   "cell_type": "code",
   "execution_count": null,
   "metadata": {},
   "outputs": [],
   "source": [
    "bcr.bar_chart_race(\n",
    "    df=df,\n",
    "    filename='covid19_horiz.mp4',\n",
    "    orientation='h',\n",
    "    sort='desc',\n",
    "    n_bars=6,\n",
    "    fixed_order=False,\n",
    "    fixed_max=True,\n",
    "    steps_per_period=10,\n",
    "    interpolate_period=False,\n",
    "    label_bars=True,\n",
    "    bar_size=.95,\n",
    "    period_label={'x': .99, 'y': .25, 'ha': 'right', 'va': 'center'},\n",
    "    period_fmt='%B %d, %Y',\n",
    "    period_summary_func=lambda v, r: {'x': .99, 'y': .18,\n",
    "                                      's': f'Total deaths: {v.nlargest(6).sum():,.0f}',\n",
    "                                      'ha': 'right', 'size': 8, 'family': 'Courier New'},\n",
    "    perpendicular_bar_func='median',\n",
    "    period_length=500,\n",
    "    figsize=(5, 3),\n",
    "    dpi=144,\n",
    "    cmap='dark12',\n",
    "    title='COVID-19 Deaths by Country',\n",
    "    title_size='',\n",
    "    bar_label_size=7,\n",
    "    tick_label_size=7,\n",
    "    shared_fontdict={'family' : 'Helvetica', 'color' : '.1'},\n",
    "    scale='linear',\n",
    "    writer=None,\n",
    "    fig=None,\n",
    "    bar_kwargs={'alpha': .7},\n",
    "    filter_column_colors=False)  "
   ]
  }
 ],
 "metadata": {
  "kernelspec": {
   "display_name": "Python 3",
   "language": "python",
   "name": "python3"
  },
  "language_info": {
   "codemirror_mode": {
    "name": "ipython",
    "version": 3
   },
   "file_extension": ".py",
   "mimetype": "text/x-python",
   "name": "python",
   "nbconvert_exporter": "python",
   "pygments_lexer": "ipython3",
   "version": "3.7.6"
  }
 },
 "nbformat": 4,
 "nbformat_minor": 4
}
