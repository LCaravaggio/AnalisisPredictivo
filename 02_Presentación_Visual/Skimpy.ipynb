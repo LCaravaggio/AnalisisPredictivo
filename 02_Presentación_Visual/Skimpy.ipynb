{
  "nbformat": 4,
  "nbformat_minor": 0,
  "metadata": {
    "colab": {
      "name": "Skimpy.ipynb",
      "provenance": [],
      "authorship_tag": "ABX9TyNrpKy95Woj3ygppYEGd/Ee",
      "include_colab_link": true
    },
    "kernelspec": {
      "name": "python3",
      "display_name": "Python 3"
    },
    "language_info": {
      "name": "python"
    }
  },
  "cells": [
    {
      "cell_type": "markdown",
      "metadata": {
        "id": "view-in-github",
        "colab_type": "text"
      },
      "source": [
        "<a href=\"https://colab.research.google.com/github/LCaravaggio/AnalisisPredictivo/blob/master/02_Presentaci%C3%B3n_Visual/Skimpy.ipynb\" target=\"_parent\"><img src=\"https://colab.research.google.com/assets/colab-badge.svg\" alt=\"Open In Colab\"/></a>"
      ]
    },
    {
      "cell_type": "code",
      "source": [
        "import pandas as pd"
      ],
      "metadata": {
        "id": "5V3m4KR_Eb4y"
      },
      "execution_count": 8,
      "outputs": []
    },
    {
      "cell_type": "code",
      "execution_count": 1,
      "metadata": {
        "colab": {
          "base_uri": "https://localhost:8080/"
        },
        "id": "nsMRa_DdDwH6",
        "outputId": "55e74b95-2a7c-432f-9133-27993d07d022"
      },
      "outputs": [
        {
          "output_type": "stream",
          "name": "stdout",
          "text": [
            "Mounted at /content/drive\n",
            "Downloading ap-2022q1.zip to /content\n",
            " 90% 65.0M/71.8M [00:00<00:00, 129MB/s]\n",
            "100% 71.8M/71.8M [00:00<00:00, 113MB/s]\n"
          ]
        }
      ],
      "source": [
        "import json\n",
        "from google.colab import drive\n",
        "\n",
        "!mkdir ~/.kaggle\n",
        "!touch ~/.kaggle/kaggle.json\n",
        "\n",
        "drive.mount('/content/drive', force_remount=True)\n",
        "with open(\"/content/drive/My Drive/kaggle.json\", 'r') as f:\n",
        "    api_token= json.load(f)\n",
        "\n",
        "with open('/root/.kaggle/kaggle.json', 'w') as file:\n",
        "    json.dump(api_token, file)\n",
        "\n",
        "!chmod 600 ~/.kaggle/kaggle.json\n",
        "\n",
        "!kaggle competitions download -c ap-2022q1\n",
        "\n",
        "\n",
        "import zipfile\n",
        "import os\n",
        "\n",
        "os.listdir()\n",
        "\n",
        "for file in os.listdir():\n",
        "    if file.endswith('.zip'):\n",
        "      zip_ref = zipfile.ZipFile(file, 'r')\n",
        "      zip_ref.extractall()\n",
        "      zip_ref.close()"
      ]
    },
    {
      "cell_type": "code",
      "source": [
        "!pip install folium==0.2.1\n",
        "!pip install skimpy"
      ],
      "metadata": {
        "colab": {
          "base_uri": "https://localhost:8080/"
        },
        "id": "tm4qm5gaD2D4",
        "outputId": "3496550e-3865-413b-f3a9-4d04366c0235"
      },
      "execution_count": 4,
      "outputs": [
        {
          "output_type": "stream",
          "name": "stdout",
          "text": [
            "Collecting folium==0.2.1\n",
            "  Downloading folium-0.2.1.tar.gz (69 kB)\n",
            "\u001b[K     |████████████████████████████████| 69 kB 4.5 MB/s \n",
            "\u001b[?25hRequirement already satisfied: Jinja2 in /usr/local/lib/python3.7/dist-packages (from folium==0.2.1) (2.11.3)\n",
            "Requirement already satisfied: MarkupSafe>=0.23 in /usr/local/lib/python3.7/dist-packages (from Jinja2->folium==0.2.1) (2.0.1)\n",
            "Building wheels for collected packages: folium\n",
            "  Building wheel for folium (setup.py) ... \u001b[?25l\u001b[?25hdone\n",
            "  Created wheel for folium: filename=folium-0.2.1-py3-none-any.whl size=79808 sha256=7eb536c661ff711c227a1d089c83140b356df3d22eb37329b416fd9d8dfdea32\n",
            "  Stored in directory: /root/.cache/pip/wheels/9a/f0/3a/3f79a6914ff5affaf50cabad60c9f4d565283283c97f0bdccf\n",
            "Successfully built folium\n",
            "Installing collected packages: folium\n",
            "  Attempting uninstall: folium\n",
            "    Found existing installation: folium 0.8.3\n",
            "    Uninstalling folium-0.8.3:\n",
            "      Successfully uninstalled folium-0.8.3\n",
            "Successfully installed folium-0.2.1\n",
            "Requirement already satisfied: skimpy in /usr/local/lib/python3.7/dist-packages (0.0.5)\n",
            "Requirement already satisfied: Pygments<3.0.0,>=2.10.0 in /usr/local/lib/python3.7/dist-packages (from skimpy) (2.11.2)\n",
            "Requirement already satisfied: typeguard<3.0.0,>=2.12.1 in /usr/local/lib/python3.7/dist-packages (from skimpy) (2.13.3)\n",
            "Requirement already satisfied: click==7.1.2 in /usr/local/lib/python3.7/dist-packages (from skimpy) (7.1.2)\n",
            "Requirement already satisfied: rich<11.0.0,>=10.9.0 in /usr/local/lib/python3.7/dist-packages (from skimpy) (10.16.2)\n",
            "Requirement already satisfied: pandas<2.0.0,>=1.3.2 in /usr/local/lib/python3.7/dist-packages (from skimpy) (1.3.5)\n",
            "Requirement already satisfied: pytz>=2017.3 in /usr/local/lib/python3.7/dist-packages (from pandas<2.0.0,>=1.3.2->skimpy) (2018.9)\n",
            "Requirement already satisfied: python-dateutil>=2.7.3 in /usr/local/lib/python3.7/dist-packages (from pandas<2.0.0,>=1.3.2->skimpy) (2.8.2)\n",
            "Requirement already satisfied: numpy>=1.17.3 in /usr/local/lib/python3.7/dist-packages (from pandas<2.0.0,>=1.3.2->skimpy) (1.21.5)\n",
            "Requirement already satisfied: six>=1.5 in /usr/local/lib/python3.7/dist-packages (from python-dateutil>=2.7.3->pandas<2.0.0,>=1.3.2->skimpy) (1.15.0)\n",
            "Requirement already satisfied: commonmark<0.10.0,>=0.9.0 in /usr/local/lib/python3.7/dist-packages (from rich<11.0.0,>=10.9.0->skimpy) (0.9.1)\n",
            "Requirement already satisfied: colorama<0.5.0,>=0.4.0 in /usr/local/lib/python3.7/dist-packages (from rich<11.0.0,>=10.9.0->skimpy) (0.4.4)\n",
            "Requirement already satisfied: typing-extensions<5.0,>=3.7.4 in /usr/local/lib/python3.7/dist-packages (from rich<11.0.0,>=10.9.0->skimpy) (3.10.0.2)\n"
          ]
        }
      ]
    },
    {
      "cell_type": "code",
      "source": [
        "from skimpy import skim"
      ],
      "metadata": {
        "id": "JEnC1baMER1p"
      },
      "execution_count": 6,
      "outputs": []
    },
    {
      "cell_type": "code",
      "source": [
        "df_train=pd.read_csv(\"base_train.csv\", sep=\",\")"
      ],
      "metadata": {
        "id": "nH3LNSB_EWMY"
      },
      "execution_count": 9,
      "outputs": []
    },
    {
      "cell_type": "code",
      "source": [
        "skim(df_train)"
      ],
      "metadata": {
        "colab": {
          "base_uri": "https://localhost:8080/",
          "height": 835
        },
        "id": "OCRx7pe1EhFS",
        "outputId": "bac7a921-a5e8-42dd-e12f-c1883483bb58"
      },
      "execution_count": 10,
      "outputs": [
        {
          "output_type": "display_data",
          "data": {
            "text/plain": [
              "╭───────────────────────────────────── skimpy summary ──────────────────────────────────────╮\n",
              "│ \u001b[3m         Data Summary         \u001b[0m \u001b[3m      Data Types       \u001b[0m                                    │\n",
              "│ ┏━━━━━━━━━━━━━━━━━━━┳━━━━━━━━┓ ┏━━━━━━━━━━━━━┳━━━━━━━┓                                    │\n",
              "│ ┃\u001b[1;36m \u001b[0m\u001b[1;36mdataframe        \u001b[0m\u001b[1;36m \u001b[0m┃\u001b[1;36m \u001b[0m\u001b[1;36mValues\u001b[0m\u001b[1;36m \u001b[0m┃ ┃\u001b[1;36m \u001b[0m\u001b[1;36mColumn Type\u001b[0m\u001b[1;36m \u001b[0m┃\u001b[1;36m \u001b[0m\u001b[1;36mCount\u001b[0m\u001b[1;36m \u001b[0m┃                                    │\n",
              "│ ┡━━━━━━━━━━━━━━━━━━━╇━━━━━━━━┩ ┡━━━━━━━━━━━━━╇━━━━━━━┩                                    │\n",
              "│ │ Number of rows    │ 800000 │ │ float64     │ 15    │                                    │\n",
              "│ │ Number of columns │ 17     │ │ int64       │ 2     │                                    │\n",
              "│ └───────────────────┴────────┘ └─────────────┴───────┘                                    │\n",
              "│ \u001b[3m                                         number                                         \u001b[0m  │\n",
              "│ ┏━━━━━━━━┳━━━━━━━━┳━━━━━━━━┳━━━━━━━━┳━━━━━━━━┳━━━━━━┳━━━━━━━━┳━━━━━━━━┳━━━━━━━━┳━━━━━━━┓  │\n",
              "│ ┃\u001b[1m \u001b[0m\u001b[1m      \u001b[0m\u001b[1m \u001b[0m┃\u001b[1m \u001b[0m\u001b[1mmissin\u001b[0m\u001b[1m \u001b[0m┃\u001b[1m \u001b[0m\u001b[1mcomple\u001b[0m\u001b[1m \u001b[0m┃\u001b[1m \u001b[0m\u001b[1mmean  \u001b[0m\u001b[1m \u001b[0m┃\u001b[1m \u001b[0m\u001b[1msd    \u001b[0m\u001b[1m \u001b[0m┃\u001b[1m \u001b[0m\u001b[1mp0  \u001b[0m\u001b[1m \u001b[0m┃\u001b[1m \u001b[0m\u001b[1mp25   \u001b[0m\u001b[1m \u001b[0m┃\u001b[1m \u001b[0m\u001b[1mp75   \u001b[0m\u001b[1m \u001b[0m┃\u001b[1m \u001b[0m\u001b[1mp100  \u001b[0m\u001b[1m \u001b[0m┃\u001b[1m \u001b[0m\u001b[1mhist \u001b[0m\u001b[1m \u001b[0m┃  │\n",
              "│ ┃        ┃\u001b[1m \u001b[0m\u001b[1mg     \u001b[0m\u001b[1m \u001b[0m┃\u001b[1m \u001b[0m\u001b[1mte    \u001b[0m\u001b[1m \u001b[0m┃        ┃        ┃      ┃        ┃        ┃        ┃       ┃  │\n",
              "│ ┃        ┃        ┃\u001b[1m \u001b[0m\u001b[1mrate  \u001b[0m\u001b[1m \u001b[0m┃        ┃        ┃      ┃        ┃        ┃        ┃       ┃  │\n",
              "│ ┡━━━━━━━━╇━━━━━━━━╇━━━━━━━━╇━━━━━━━━╇━━━━━━━━╇━━━━━━╇━━━━━━━━╇━━━━━━━━╇━━━━━━━━╇━━━━━━━┩  │\n",
              "│ │ \u001b[38;5;141mUnname\u001b[0m │ \u001b[36m     0\u001b[0m │ \u001b[36m     1\u001b[0m │ \u001b[36m400000\u001b[0m │ \u001b[36m230000\u001b[0m │ \u001b[36m   0\u001b[0m │ \u001b[36m200000\u001b[0m │ \u001b[36m600000\u001b[0m │ \u001b[36m800000\u001b[0m │ \u001b[32m█████\u001b[0m │  │\n",
              "│ │ \u001b[38;5;141md: 0  \u001b[0m │        │        │        │        │      │        │        │        │ \u001b[32m  █  \u001b[0m │  │\n",
              "│ │ \u001b[38;5;141msymbol\u001b[0m │ \u001b[36m     0\u001b[0m │ \u001b[36m     1\u001b[0m │ \u001b[36m  0.67\u001b[0m │ \u001b[36m   1.3\u001b[0m │ \u001b[36m  -3\u001b[0m │ \u001b[36m     0\u001b[0m │ \u001b[36m     2\u001b[0m │ \u001b[36m     3\u001b[0m │ \u001b[32m ▁▃██\u001b[0m │  │\n",
              "│ │ \u001b[38;5;141ming   \u001b[0m │        │        │        │        │      │        │        │        │ \u001b[32m  ▇  \u001b[0m │  │\n",
              "│ │ \u001b[38;5;141mnormal\u001b[0m │ \u001b[36m     0\u001b[0m │ \u001b[36m     1\u001b[0m │ \u001b[36m   120\u001b[0m │ \u001b[36m    35\u001b[0m │ \u001b[36m  41\u001b[0m │ \u001b[36m    95\u001b[0m │ \u001b[36m   140\u001b[0m │ \u001b[36m   280\u001b[0m │ \u001b[32m▂█▄▂ \u001b[0m │  │\n",
              "│ │ \u001b[38;5;141mized-l\u001b[0m │        │        │        │        │      │        │        │        │       │  │\n",
              "│ │ \u001b[38;5;141mosses \u001b[0m │        │        │        │        │      │        │        │        │       │  │\n",
              "│ │ \u001b[38;5;141mwheel-\u001b[0m │ \u001b[36m     0\u001b[0m │ \u001b[36m     1\u001b[0m │ \u001b[36m    98\u001b[0m │ \u001b[36m   5.1\u001b[0m │ \u001b[36m  83\u001b[0m │ \u001b[36m    95\u001b[0m │ \u001b[36m   100\u001b[0m │ \u001b[36m   120\u001b[0m │ \u001b[32m ▆█▂▁\u001b[0m │  │\n",
              "│ │ \u001b[38;5;141mbase  \u001b[0m │        │        │        │        │      │        │        │        │       │  │\n",
              "│ │ \u001b[38;5;141mlength\u001b[0m │ \u001b[36m     0\u001b[0m │ \u001b[36m     1\u001b[0m │ \u001b[36m   170\u001b[0m │ \u001b[36m    11\u001b[0m │ \u001b[36m 140\u001b[0m │ \u001b[36m   170\u001b[0m │ \u001b[36m   180\u001b[0m │ \u001b[36m   210\u001b[0m │ \u001b[32m ▃▆█▄\u001b[0m │  │\n",
              "│ │ \u001b[38;5;141mwidth \u001b[0m │ \u001b[36m     0\u001b[0m │ \u001b[36m     1\u001b[0m │ \u001b[36m    66\u001b[0m │ \u001b[36m   1.9\u001b[0m │ \u001b[36m  61\u001b[0m │ \u001b[36m    64\u001b[0m │ \u001b[36m    66\u001b[0m │ \u001b[36m    75\u001b[0m │ \u001b[32m▁█▃▂ \u001b[0m │  │\n",
              "│ │ \u001b[38;5;141mheight\u001b[0m │ \u001b[36m     0\u001b[0m │ \u001b[36m     1\u001b[0m │ \u001b[36m    54\u001b[0m │ \u001b[36m   2.3\u001b[0m │ \u001b[36m  48\u001b[0m │ \u001b[36m    52\u001b[0m │ \u001b[36m    55\u001b[0m │ \u001b[36m    62\u001b[0m │ \u001b[32m▁▆█▅▂\u001b[0m │  │\n",
              "│ │ \u001b[38;5;141mcurb-w\u001b[0m │ \u001b[36m     0\u001b[0m │ \u001b[36m     1\u001b[0m │ \u001b[36m  2500\u001b[0m │ \u001b[36m   470\u001b[0m │ \u001b[36m1500\u001b[0m │ \u001b[36m  2100\u001b[0m │ \u001b[36m  2700\u001b[0m │ \u001b[36m  4300\u001b[0m │ \u001b[32m▂█▃▂▁\u001b[0m │  │\n",
              "│ │ \u001b[38;5;141meight \u001b[0m │        │        │        │        │      │        │        │        │       │  │\n",
              "│ │ \u001b[38;5;141mengine\u001b[0m │ \u001b[36m     0\u001b[0m │ \u001b[36m     1\u001b[0m │ \u001b[36m   120\u001b[0m │ \u001b[36m    30\u001b[0m │ \u001b[36m  47\u001b[0m │ \u001b[36m    97\u001b[0m │ \u001b[36m   130\u001b[0m │ \u001b[36m   270\u001b[0m │ \u001b[32m █▃▁ \u001b[0m │  │\n",
              "│ │ \u001b[38;5;141m-size \u001b[0m │        │        │        │        │      │        │        │        │       │  │\n",
              "│ │ \u001b[38;5;141mbore  \u001b[0m │ \u001b[36m     0\u001b[0m │ \u001b[36m     1\u001b[0m │ \u001b[36m   3.3\u001b[0m │ \u001b[36m  0.26\u001b[0m │ \u001b[36m 2.6\u001b[0m │ \u001b[36m   3.1\u001b[0m │ \u001b[36m   3.5\u001b[0m │ \u001b[36m   4.1\u001b[0m │ \u001b[32m ▄█▄▄\u001b[0m │  │\n",
              "│ │ \u001b[38;5;141mstroke\u001b[0m │ \u001b[36m     0\u001b[0m │ \u001b[36m     1\u001b[0m │ \u001b[36m   3.2\u001b[0m │ \u001b[36m   0.3\u001b[0m │ \u001b[36m 1.7\u001b[0m │ \u001b[36m   3.1\u001b[0m │ \u001b[36m   3.4\u001b[0m │ \u001b[36m   4.2\u001b[0m │ \u001b[32m ▁▂█▆\u001b[0m │  │\n",
              "│ │ \u001b[38;5;141mcompre\u001b[0m │ \u001b[36m     0\u001b[0m │ \u001b[36m     1\u001b[0m │ \u001b[36m    10\u001b[0m │ \u001b[36m   3.9\u001b[0m │ \u001b[36m -12\u001b[0m │ \u001b[36m   8.6\u001b[0m │ \u001b[36m   9.4\u001b[0m │ \u001b[36m    43\u001b[0m │ \u001b[32m  █▁ \u001b[0m │  │\n",
              "│ │ \u001b[38;5;141mssion-\u001b[0m │        │        │        │        │      │        │        │        │       │  │\n",
              "│ │ \u001b[38;5;141mratio \u001b[0m │        │        │        │        │      │        │        │        │       │  │\n",
              "│ │ \u001b[38;5;141mhorsep\u001b[0m │ \u001b[36m     0\u001b[0m │ \u001b[36m     1\u001b[0m │ \u001b[36m    95\u001b[0m │ \u001b[36m    30\u001b[0m │ \u001b[36m  37\u001b[0m │ \u001b[36m    71\u001b[0m │ \u001b[36m   110\u001b[0m │ \u001b[36m   230\u001b[0m │ \u001b[32m▄█▄▂ \u001b[0m │  │\n",
              "│ │ \u001b[38;5;141mower  \u001b[0m │        │        │        │        │      │        │        │        │       │  │\n",
              "│ │ \u001b[38;5;141mpeak-r\u001b[0m │ \u001b[36m     0\u001b[0m │ \u001b[36m     1\u001b[0m │ \u001b[36m  5100\u001b[0m │ \u001b[36m   470\u001b[0m │ \u001b[36m3600\u001b[0m │ \u001b[36m  4800\u001b[0m │ \u001b[36m  5400\u001b[0m │ \u001b[36m  7000\u001b[0m │ \u001b[32m ▂█▄▁\u001b[0m │  │\n",
              "│ │ \u001b[38;5;141mpm    \u001b[0m │        │        │        │        │      │        │        │        │       │  │\n",
              "│ │ \u001b[38;5;141mcity-m\u001b[0m │ \u001b[36m     0\u001b[0m │ \u001b[36m     1\u001b[0m │ \u001b[36m    27\u001b[0m │ \u001b[36m   5.9\u001b[0m │ \u001b[36m 9.2\u001b[0m │ \u001b[36m    23\u001b[0m │ \u001b[36m    30\u001b[0m │ \u001b[36m    59\u001b[0m │ \u001b[32m▁██▂ \u001b[0m │  │\n",
              "│ │ \u001b[38;5;141mpg    \u001b[0m │        │        │        │        │      │        │        │        │       │  │\n",
              "│ │ \u001b[38;5;141mhighwa\u001b[0m │ \u001b[36m     0\u001b[0m │ \u001b[36m     1\u001b[0m │ \u001b[36m    32\u001b[0m │ \u001b[36m   6.2\u001b[0m │ \u001b[36m  14\u001b[0m │ \u001b[36m    28\u001b[0m │ \u001b[36m    35\u001b[0m │ \u001b[36m    61\u001b[0m │ \u001b[32m▁▆█▂▁\u001b[0m │  │\n",
              "│ │ \u001b[38;5;141my-mpg \u001b[0m │        │        │        │        │      │        │        │        │       │  │\n",
              "│ │ \u001b[38;5;141mprice \u001b[0m │ \u001b[36m     0\u001b[0m │ \u001b[36m     1\u001b[0m │ \u001b[36m 11000\u001b[0m │ \u001b[36m  5900\u001b[0m │ \u001b[36m-820\u001b[0m │ \u001b[36m  7500\u001b[0m │ \u001b[36m 14000\u001b[0m │ \u001b[36m 43000\u001b[0m │ \u001b[32m▂█▂▁ \u001b[0m │  │\n",
              "│ └────────┴────────┴────────┴────────┴────────┴──────┴────────┴────────┴────────┴───────┘  │\n",
              "╰─────────────────────────────────────────── End ───────────────────────────────────────────╯\n"
            ],
            "text/html": [
              "<pre style=\"white-space:pre;overflow-x:auto;line-height:normal;font-family:Menlo,'DejaVu Sans Mono',consolas,'Courier New',monospace\">╭───────────────────────────────────── skimpy summary ──────────────────────────────────────╮\n",
              "│ <span style=\"font-style: italic\">         Data Summary         </span> <span style=\"font-style: italic\">      Data Types       </span>                                    │\n",
              "│ ┏━━━━━━━━━━━━━━━━━━━┳━━━━━━━━┓ ┏━━━━━━━━━━━━━┳━━━━━━━┓                                    │\n",
              "│ ┃<span style=\"color: #008080; text-decoration-color: #008080; font-weight: bold\"> dataframe         </span>┃<span style=\"color: #008080; text-decoration-color: #008080; font-weight: bold\"> Values </span>┃ ┃<span style=\"color: #008080; text-decoration-color: #008080; font-weight: bold\"> Column Type </span>┃<span style=\"color: #008080; text-decoration-color: #008080; font-weight: bold\"> Count </span>┃                                    │\n",
              "│ ┡━━━━━━━━━━━━━━━━━━━╇━━━━━━━━┩ ┡━━━━━━━━━━━━━╇━━━━━━━┩                                    │\n",
              "│ │ Number of rows    │ 800000 │ │ float64     │ 15    │                                    │\n",
              "│ │ Number of columns │ 17     │ │ int64       │ 2     │                                    │\n",
              "│ └───────────────────┴────────┘ └─────────────┴───────┘                                    │\n",
              "│ <span style=\"font-style: italic\">                                         number                                         </span>  │\n",
              "│ ┏━━━━━━━━┳━━━━━━━━┳━━━━━━━━┳━━━━━━━━┳━━━━━━━━┳━━━━━━┳━━━━━━━━┳━━━━━━━━┳━━━━━━━━┳━━━━━━━┓  │\n",
              "│ ┃<span style=\"font-weight: bold\">        </span>┃<span style=\"font-weight: bold\"> missin </span>┃<span style=\"font-weight: bold\"> comple </span>┃<span style=\"font-weight: bold\"> mean   </span>┃<span style=\"font-weight: bold\"> sd     </span>┃<span style=\"font-weight: bold\"> p0   </span>┃<span style=\"font-weight: bold\"> p25    </span>┃<span style=\"font-weight: bold\"> p75    </span>┃<span style=\"font-weight: bold\"> p100   </span>┃<span style=\"font-weight: bold\"> hist  </span>┃  │\n",
              "│ ┃        ┃<span style=\"font-weight: bold\"> g      </span>┃<span style=\"font-weight: bold\"> te     </span>┃        ┃        ┃      ┃        ┃        ┃        ┃       ┃  │\n",
              "│ ┃        ┃        ┃<span style=\"font-weight: bold\"> rate   </span>┃        ┃        ┃      ┃        ┃        ┃        ┃       ┃  │\n",
              "│ ┡━━━━━━━━╇━━━━━━━━╇━━━━━━━━╇━━━━━━━━╇━━━━━━━━╇━━━━━━╇━━━━━━━━╇━━━━━━━━╇━━━━━━━━╇━━━━━━━┩  │\n",
              "│ │ <span style=\"color: #af87ff; text-decoration-color: #af87ff\">Unname</span> │ <span style=\"color: #008080; text-decoration-color: #008080\">     0</span> │ <span style=\"color: #008080; text-decoration-color: #008080\">     1</span> │ <span style=\"color: #008080; text-decoration-color: #008080\">400000</span> │ <span style=\"color: #008080; text-decoration-color: #008080\">230000</span> │ <span style=\"color: #008080; text-decoration-color: #008080\">   0</span> │ <span style=\"color: #008080; text-decoration-color: #008080\">200000</span> │ <span style=\"color: #008080; text-decoration-color: #008080\">600000</span> │ <span style=\"color: #008080; text-decoration-color: #008080\">800000</span> │ <span style=\"color: #008000; text-decoration-color: #008000\">█████</span> │  │\n",
              "│ │ <span style=\"color: #af87ff; text-decoration-color: #af87ff\">d: 0  </span> │        │        │        │        │      │        │        │        │ <span style=\"color: #008000; text-decoration-color: #008000\">  █  </span> │  │\n",
              "│ │ <span style=\"color: #af87ff; text-decoration-color: #af87ff\">symbol</span> │ <span style=\"color: #008080; text-decoration-color: #008080\">     0</span> │ <span style=\"color: #008080; text-decoration-color: #008080\">     1</span> │ <span style=\"color: #008080; text-decoration-color: #008080\">  0.67</span> │ <span style=\"color: #008080; text-decoration-color: #008080\">   1.3</span> │ <span style=\"color: #008080; text-decoration-color: #008080\">  -3</span> │ <span style=\"color: #008080; text-decoration-color: #008080\">     0</span> │ <span style=\"color: #008080; text-decoration-color: #008080\">     2</span> │ <span style=\"color: #008080; text-decoration-color: #008080\">     3</span> │ <span style=\"color: #008000; text-decoration-color: #008000\"> ▁▃██</span> │  │\n",
              "│ │ <span style=\"color: #af87ff; text-decoration-color: #af87ff\">ing   </span> │        │        │        │        │      │        │        │        │ <span style=\"color: #008000; text-decoration-color: #008000\">  ▇  </span> │  │\n",
              "│ │ <span style=\"color: #af87ff; text-decoration-color: #af87ff\">normal</span> │ <span style=\"color: #008080; text-decoration-color: #008080\">     0</span> │ <span style=\"color: #008080; text-decoration-color: #008080\">     1</span> │ <span style=\"color: #008080; text-decoration-color: #008080\">   120</span> │ <span style=\"color: #008080; text-decoration-color: #008080\">    35</span> │ <span style=\"color: #008080; text-decoration-color: #008080\">  41</span> │ <span style=\"color: #008080; text-decoration-color: #008080\">    95</span> │ <span style=\"color: #008080; text-decoration-color: #008080\">   140</span> │ <span style=\"color: #008080; text-decoration-color: #008080\">   280</span> │ <span style=\"color: #008000; text-decoration-color: #008000\">▂█▄▂ </span> │  │\n",
              "│ │ <span style=\"color: #af87ff; text-decoration-color: #af87ff\">ized-l</span> │        │        │        │        │      │        │        │        │       │  │\n",
              "│ │ <span style=\"color: #af87ff; text-decoration-color: #af87ff\">osses </span> │        │        │        │        │      │        │        │        │       │  │\n",
              "│ │ <span style=\"color: #af87ff; text-decoration-color: #af87ff\">wheel-</span> │ <span style=\"color: #008080; text-decoration-color: #008080\">     0</span> │ <span style=\"color: #008080; text-decoration-color: #008080\">     1</span> │ <span style=\"color: #008080; text-decoration-color: #008080\">    98</span> │ <span style=\"color: #008080; text-decoration-color: #008080\">   5.1</span> │ <span style=\"color: #008080; text-decoration-color: #008080\">  83</span> │ <span style=\"color: #008080; text-decoration-color: #008080\">    95</span> │ <span style=\"color: #008080; text-decoration-color: #008080\">   100</span> │ <span style=\"color: #008080; text-decoration-color: #008080\">   120</span> │ <span style=\"color: #008000; text-decoration-color: #008000\"> ▆█▂▁</span> │  │\n",
              "│ │ <span style=\"color: #af87ff; text-decoration-color: #af87ff\">base  </span> │        │        │        │        │      │        │        │        │       │  │\n",
              "│ │ <span style=\"color: #af87ff; text-decoration-color: #af87ff\">length</span> │ <span style=\"color: #008080; text-decoration-color: #008080\">     0</span> │ <span style=\"color: #008080; text-decoration-color: #008080\">     1</span> │ <span style=\"color: #008080; text-decoration-color: #008080\">   170</span> │ <span style=\"color: #008080; text-decoration-color: #008080\">    11</span> │ <span style=\"color: #008080; text-decoration-color: #008080\"> 140</span> │ <span style=\"color: #008080; text-decoration-color: #008080\">   170</span> │ <span style=\"color: #008080; text-decoration-color: #008080\">   180</span> │ <span style=\"color: #008080; text-decoration-color: #008080\">   210</span> │ <span style=\"color: #008000; text-decoration-color: #008000\"> ▃▆█▄</span> │  │\n",
              "│ │ <span style=\"color: #af87ff; text-decoration-color: #af87ff\">width </span> │ <span style=\"color: #008080; text-decoration-color: #008080\">     0</span> │ <span style=\"color: #008080; text-decoration-color: #008080\">     1</span> │ <span style=\"color: #008080; text-decoration-color: #008080\">    66</span> │ <span style=\"color: #008080; text-decoration-color: #008080\">   1.9</span> │ <span style=\"color: #008080; text-decoration-color: #008080\">  61</span> │ <span style=\"color: #008080; text-decoration-color: #008080\">    64</span> │ <span style=\"color: #008080; text-decoration-color: #008080\">    66</span> │ <span style=\"color: #008080; text-decoration-color: #008080\">    75</span> │ <span style=\"color: #008000; text-decoration-color: #008000\">▁█▃▂ </span> │  │\n",
              "│ │ <span style=\"color: #af87ff; text-decoration-color: #af87ff\">height</span> │ <span style=\"color: #008080; text-decoration-color: #008080\">     0</span> │ <span style=\"color: #008080; text-decoration-color: #008080\">     1</span> │ <span style=\"color: #008080; text-decoration-color: #008080\">    54</span> │ <span style=\"color: #008080; text-decoration-color: #008080\">   2.3</span> │ <span style=\"color: #008080; text-decoration-color: #008080\">  48</span> │ <span style=\"color: #008080; text-decoration-color: #008080\">    52</span> │ <span style=\"color: #008080; text-decoration-color: #008080\">    55</span> │ <span style=\"color: #008080; text-decoration-color: #008080\">    62</span> │ <span style=\"color: #008000; text-decoration-color: #008000\">▁▆█▅▂</span> │  │\n",
              "│ │ <span style=\"color: #af87ff; text-decoration-color: #af87ff\">curb-w</span> │ <span style=\"color: #008080; text-decoration-color: #008080\">     0</span> │ <span style=\"color: #008080; text-decoration-color: #008080\">     1</span> │ <span style=\"color: #008080; text-decoration-color: #008080\">  2500</span> │ <span style=\"color: #008080; text-decoration-color: #008080\">   470</span> │ <span style=\"color: #008080; text-decoration-color: #008080\">1500</span> │ <span style=\"color: #008080; text-decoration-color: #008080\">  2100</span> │ <span style=\"color: #008080; text-decoration-color: #008080\">  2700</span> │ <span style=\"color: #008080; text-decoration-color: #008080\">  4300</span> │ <span style=\"color: #008000; text-decoration-color: #008000\">▂█▃▂▁</span> │  │\n",
              "│ │ <span style=\"color: #af87ff; text-decoration-color: #af87ff\">eight </span> │        │        │        │        │      │        │        │        │       │  │\n",
              "│ │ <span style=\"color: #af87ff; text-decoration-color: #af87ff\">engine</span> │ <span style=\"color: #008080; text-decoration-color: #008080\">     0</span> │ <span style=\"color: #008080; text-decoration-color: #008080\">     1</span> │ <span style=\"color: #008080; text-decoration-color: #008080\">   120</span> │ <span style=\"color: #008080; text-decoration-color: #008080\">    30</span> │ <span style=\"color: #008080; text-decoration-color: #008080\">  47</span> │ <span style=\"color: #008080; text-decoration-color: #008080\">    97</span> │ <span style=\"color: #008080; text-decoration-color: #008080\">   130</span> │ <span style=\"color: #008080; text-decoration-color: #008080\">   270</span> │ <span style=\"color: #008000; text-decoration-color: #008000\"> █▃▁ </span> │  │\n",
              "│ │ <span style=\"color: #af87ff; text-decoration-color: #af87ff\">-size </span> │        │        │        │        │      │        │        │        │       │  │\n",
              "│ │ <span style=\"color: #af87ff; text-decoration-color: #af87ff\">bore  </span> │ <span style=\"color: #008080; text-decoration-color: #008080\">     0</span> │ <span style=\"color: #008080; text-decoration-color: #008080\">     1</span> │ <span style=\"color: #008080; text-decoration-color: #008080\">   3.3</span> │ <span style=\"color: #008080; text-decoration-color: #008080\">  0.26</span> │ <span style=\"color: #008080; text-decoration-color: #008080\"> 2.6</span> │ <span style=\"color: #008080; text-decoration-color: #008080\">   3.1</span> │ <span style=\"color: #008080; text-decoration-color: #008080\">   3.5</span> │ <span style=\"color: #008080; text-decoration-color: #008080\">   4.1</span> │ <span style=\"color: #008000; text-decoration-color: #008000\"> ▄█▄▄</span> │  │\n",
              "│ │ <span style=\"color: #af87ff; text-decoration-color: #af87ff\">stroke</span> │ <span style=\"color: #008080; text-decoration-color: #008080\">     0</span> │ <span style=\"color: #008080; text-decoration-color: #008080\">     1</span> │ <span style=\"color: #008080; text-decoration-color: #008080\">   3.2</span> │ <span style=\"color: #008080; text-decoration-color: #008080\">   0.3</span> │ <span style=\"color: #008080; text-decoration-color: #008080\"> 1.7</span> │ <span style=\"color: #008080; text-decoration-color: #008080\">   3.1</span> │ <span style=\"color: #008080; text-decoration-color: #008080\">   3.4</span> │ <span style=\"color: #008080; text-decoration-color: #008080\">   4.2</span> │ <span style=\"color: #008000; text-decoration-color: #008000\"> ▁▂█▆</span> │  │\n",
              "│ │ <span style=\"color: #af87ff; text-decoration-color: #af87ff\">compre</span> │ <span style=\"color: #008080; text-decoration-color: #008080\">     0</span> │ <span style=\"color: #008080; text-decoration-color: #008080\">     1</span> │ <span style=\"color: #008080; text-decoration-color: #008080\">    10</span> │ <span style=\"color: #008080; text-decoration-color: #008080\">   3.9</span> │ <span style=\"color: #008080; text-decoration-color: #008080\"> -12</span> │ <span style=\"color: #008080; text-decoration-color: #008080\">   8.6</span> │ <span style=\"color: #008080; text-decoration-color: #008080\">   9.4</span> │ <span style=\"color: #008080; text-decoration-color: #008080\">    43</span> │ <span style=\"color: #008000; text-decoration-color: #008000\">  █▁ </span> │  │\n",
              "│ │ <span style=\"color: #af87ff; text-decoration-color: #af87ff\">ssion-</span> │        │        │        │        │      │        │        │        │       │  │\n",
              "│ │ <span style=\"color: #af87ff; text-decoration-color: #af87ff\">ratio </span> │        │        │        │        │      │        │        │        │       │  │\n",
              "│ │ <span style=\"color: #af87ff; text-decoration-color: #af87ff\">horsep</span> │ <span style=\"color: #008080; text-decoration-color: #008080\">     0</span> │ <span style=\"color: #008080; text-decoration-color: #008080\">     1</span> │ <span style=\"color: #008080; text-decoration-color: #008080\">    95</span> │ <span style=\"color: #008080; text-decoration-color: #008080\">    30</span> │ <span style=\"color: #008080; text-decoration-color: #008080\">  37</span> │ <span style=\"color: #008080; text-decoration-color: #008080\">    71</span> │ <span style=\"color: #008080; text-decoration-color: #008080\">   110</span> │ <span style=\"color: #008080; text-decoration-color: #008080\">   230</span> │ <span style=\"color: #008000; text-decoration-color: #008000\">▄█▄▂ </span> │  │\n",
              "│ │ <span style=\"color: #af87ff; text-decoration-color: #af87ff\">ower  </span> │        │        │        │        │      │        │        │        │       │  │\n",
              "│ │ <span style=\"color: #af87ff; text-decoration-color: #af87ff\">peak-r</span> │ <span style=\"color: #008080; text-decoration-color: #008080\">     0</span> │ <span style=\"color: #008080; text-decoration-color: #008080\">     1</span> │ <span style=\"color: #008080; text-decoration-color: #008080\">  5100</span> │ <span style=\"color: #008080; text-decoration-color: #008080\">   470</span> │ <span style=\"color: #008080; text-decoration-color: #008080\">3600</span> │ <span style=\"color: #008080; text-decoration-color: #008080\">  4800</span> │ <span style=\"color: #008080; text-decoration-color: #008080\">  5400</span> │ <span style=\"color: #008080; text-decoration-color: #008080\">  7000</span> │ <span style=\"color: #008000; text-decoration-color: #008000\"> ▂█▄▁</span> │  │\n",
              "│ │ <span style=\"color: #af87ff; text-decoration-color: #af87ff\">pm    </span> │        │        │        │        │      │        │        │        │       │  │\n",
              "│ │ <span style=\"color: #af87ff; text-decoration-color: #af87ff\">city-m</span> │ <span style=\"color: #008080; text-decoration-color: #008080\">     0</span> │ <span style=\"color: #008080; text-decoration-color: #008080\">     1</span> │ <span style=\"color: #008080; text-decoration-color: #008080\">    27</span> │ <span style=\"color: #008080; text-decoration-color: #008080\">   5.9</span> │ <span style=\"color: #008080; text-decoration-color: #008080\"> 9.2</span> │ <span style=\"color: #008080; text-decoration-color: #008080\">    23</span> │ <span style=\"color: #008080; text-decoration-color: #008080\">    30</span> │ <span style=\"color: #008080; text-decoration-color: #008080\">    59</span> │ <span style=\"color: #008000; text-decoration-color: #008000\">▁██▂ </span> │  │\n",
              "│ │ <span style=\"color: #af87ff; text-decoration-color: #af87ff\">pg    </span> │        │        │        │        │      │        │        │        │       │  │\n",
              "│ │ <span style=\"color: #af87ff; text-decoration-color: #af87ff\">highwa</span> │ <span style=\"color: #008080; text-decoration-color: #008080\">     0</span> │ <span style=\"color: #008080; text-decoration-color: #008080\">     1</span> │ <span style=\"color: #008080; text-decoration-color: #008080\">    32</span> │ <span style=\"color: #008080; text-decoration-color: #008080\">   6.2</span> │ <span style=\"color: #008080; text-decoration-color: #008080\">  14</span> │ <span style=\"color: #008080; text-decoration-color: #008080\">    28</span> │ <span style=\"color: #008080; text-decoration-color: #008080\">    35</span> │ <span style=\"color: #008080; text-decoration-color: #008080\">    61</span> │ <span style=\"color: #008000; text-decoration-color: #008000\">▁▆█▂▁</span> │  │\n",
              "│ │ <span style=\"color: #af87ff; text-decoration-color: #af87ff\">y-mpg </span> │        │        │        │        │      │        │        │        │       │  │\n",
              "│ │ <span style=\"color: #af87ff; text-decoration-color: #af87ff\">price </span> │ <span style=\"color: #008080; text-decoration-color: #008080\">     0</span> │ <span style=\"color: #008080; text-decoration-color: #008080\">     1</span> │ <span style=\"color: #008080; text-decoration-color: #008080\"> 11000</span> │ <span style=\"color: #008080; text-decoration-color: #008080\">  5900</span> │ <span style=\"color: #008080; text-decoration-color: #008080\">-820</span> │ <span style=\"color: #008080; text-decoration-color: #008080\">  7500</span> │ <span style=\"color: #008080; text-decoration-color: #008080\"> 14000</span> │ <span style=\"color: #008080; text-decoration-color: #008080\"> 43000</span> │ <span style=\"color: #008000; text-decoration-color: #008000\">▂█▂▁ </span> │  │\n",
              "│ └────────┴────────┴────────┴────────┴────────┴──────┴────────┴────────┴────────┴───────┘  │\n",
              "╰─────────────────────────────────────────── End ───────────────────────────────────────────╯\n",
              "</pre>\n"
            ]
          },
          "metadata": {}
        }
      ]
    }
  ]
}