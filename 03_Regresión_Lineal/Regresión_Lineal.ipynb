{
  "nbformat": 4,
  "nbformat_minor": 0,
  "metadata": {
    "kernelspec": {
      "display_name": "Python 3",
      "language": "python",
      "name": "python3"
    },
    "language_info": {
      "codemirror_mode": {
        "name": "ipython",
        "version": 3
      },
      "file_extension": ".py",
      "mimetype": "text/x-python",
      "name": "python",
      "nbconvert_exporter": "python",
      "pygments_lexer": "ipython3",
      "version": "3.7.6"
    },
    "colab": {
      "name": "Regresión Lineal.ipynb",
      "provenance": [],
      "include_colab_link": true
    }
  },
  "cells": [
    {
      "cell_type": "markdown",
      "metadata": {
        "id": "view-in-github",
        "colab_type": "text"
      },
      "source": [
        "<a href=\"https://colab.research.google.com/github/LCaravaggio/AnalisisPredictivo/blob/master/03_Regresi%C3%B3n_Lineal/Regresi%C3%B3n_Lineal.ipynb\" target=\"_parent\"><img src=\"https://colab.research.google.com/assets/colab-badge.svg\" alt=\"Open In Colab\"/></a>"
      ]
    },
    {
      "cell_type": "markdown",
      "metadata": {
        "id": "JdqwRATaQi4p"
      },
      "source": [
        "#Librerías\n",
        "###Se importan la librerias a utilizar"
      ]
    },
    {
      "cell_type": "code",
      "metadata": {
        "id": "HlpqXc0bQLG5"
      },
      "source": [
        "import numpy as np\n",
        "import pandas as pd\n",
        "from sklearn import linear_model\n",
        "import matplotlib.pyplot as plt"
      ],
      "execution_count": 1,
      "outputs": []
    },
    {
      "cell_type": "markdown",
      "metadata": {
        "id": "tNtPnoKrQraT"
      },
      "source": [
        "#Preparar la data\n",
        "###Importamos los datos de Kaggle\n",
        "\n",
        "https://www.kaggle.com/datasets/budincsevity/szeged-weather"
      ]
    },
    {
      "cell_type": "code",
      "metadata": {
        "colab": {
          "base_uri": "https://localhost:8080/"
        },
        "id": "O9JvKBmuQLG-",
        "outputId": "71182ec6-499e-433b-c31c-5ffad2876093"
      },
      "source": [
        "from google.colab import userdata\n",
        "import json\n",
        "\n",
        "!mkdir ~/.kaggle\n",
        "!touch ~/.kaggle/kaggle.json\n",
        "\n",
        "api_token = {\n",
        "    'username': userdata.get('KAGGLE_USER'),\n",
        "    'key': userdata.get('KAGGLE_KEY')}\n",
        "with open('/root/.kaggle/kaggle.json', 'w') as file:\n",
        "    json.dump(api_token, file)\n",
        "\n",
        "!chmod 600 ~/.kaggle/kaggle.json\n",
        "\n",
        "!kaggle datasets download budincsevity/szeged-weather\n",
        "\n",
        "\n",
        "import zipfile\n",
        "import os\n",
        "\n",
        "os.listdir()\n",
        "\n",
        "for file in os.listdir():\n",
        "    if file.endswith('.zip'):\n",
        "      zip_ref = zipfile.ZipFile(file, 'r')\n",
        "      zip_ref.extractall()\n",
        "      zip_ref.close()"
      ],
      "execution_count": 2,
      "outputs": [
        {
          "output_type": "stream",
          "name": "stdout",
          "text": [
            "Downloading szeged-weather.zip to /content\n",
            "\r  0% 0.00/2.23M [00:00<?, ?B/s]\n",
            "\r100% 2.23M/2.23M [00:00<00:00, 28.6MB/s]\n"
          ]
        }
      ]
    },
    {
      "cell_type": "markdown",
      "metadata": {
        "id": "OAH8F3OcQ6EJ"
      },
      "source": [
        "###Entendimiento del dataset"
      ]
    },
    {
      "cell_type": "code",
      "metadata": {
        "id": "l0BxXPLfQLHA"
      },
      "source": [
        "df=pd.read_csv('/content/weatherHistory.csv')"
      ],
      "execution_count": 3,
      "outputs": []
    },
    {
      "cell_type": "code",
      "metadata": {
        "colab": {
          "base_uri": "https://localhost:8080/",
          "height": 213
        },
        "id": "kmxGkE08QLHC",
        "outputId": "434c7a65-95c1-4256-fc76-30f56bc011de"
      },
      "source": [
        "df.head(3)"
      ],
      "execution_count": 4,
      "outputs": [
        {
          "output_type": "execute_result",
          "data": {
            "text/plain": [
              "                  Formatted Date        Summary Precip Type  Temperature (C)  \\\n",
              "0  2006-04-01 00:00:00.000 +0200  Partly Cloudy        rain         9.472222   \n",
              "1  2006-04-01 01:00:00.000 +0200  Partly Cloudy        rain         9.355556   \n",
              "2  2006-04-01 02:00:00.000 +0200  Mostly Cloudy        rain         9.377778   \n",
              "\n",
              "   Apparent Temperature (C)  Humidity  Wind Speed (km/h)  \\\n",
              "0                  7.388889      0.89            14.1197   \n",
              "1                  7.227778      0.86            14.2646   \n",
              "2                  9.377778      0.89             3.9284   \n",
              "\n",
              "   Wind Bearing (degrees)  Visibility (km)  Loud Cover  Pressure (millibars)  \\\n",
              "0                   251.0          15.8263         0.0               1015.13   \n",
              "1                   259.0          15.8263         0.0               1015.63   \n",
              "2                   204.0          14.9569         0.0               1015.94   \n",
              "\n",
              "                       Daily Summary  \n",
              "0  Partly cloudy throughout the day.  \n",
              "1  Partly cloudy throughout the day.  \n",
              "2  Partly cloudy throughout the day.  "
            ],
            "text/html": [
              "\n",
              "  <div id=\"df-81990c3e-634d-428b-8000-46ef157e8e9b\" class=\"colab-df-container\">\n",
              "    <div>\n",
              "<style scoped>\n",
              "    .dataframe tbody tr th:only-of-type {\n",
              "        vertical-align: middle;\n",
              "    }\n",
              "\n",
              "    .dataframe tbody tr th {\n",
              "        vertical-align: top;\n",
              "    }\n",
              "\n",
              "    .dataframe thead th {\n",
              "        text-align: right;\n",
              "    }\n",
              "</style>\n",
              "<table border=\"1\" class=\"dataframe\">\n",
              "  <thead>\n",
              "    <tr style=\"text-align: right;\">\n",
              "      <th></th>\n",
              "      <th>Formatted Date</th>\n",
              "      <th>Summary</th>\n",
              "      <th>Precip Type</th>\n",
              "      <th>Temperature (C)</th>\n",
              "      <th>Apparent Temperature (C)</th>\n",
              "      <th>Humidity</th>\n",
              "      <th>Wind Speed (km/h)</th>\n",
              "      <th>Wind Bearing (degrees)</th>\n",
              "      <th>Visibility (km)</th>\n",
              "      <th>Loud Cover</th>\n",
              "      <th>Pressure (millibars)</th>\n",
              "      <th>Daily Summary</th>\n",
              "    </tr>\n",
              "  </thead>\n",
              "  <tbody>\n",
              "    <tr>\n",
              "      <th>0</th>\n",
              "      <td>2006-04-01 00:00:00.000 +0200</td>\n",
              "      <td>Partly Cloudy</td>\n",
              "      <td>rain</td>\n",
              "      <td>9.472222</td>\n",
              "      <td>7.388889</td>\n",
              "      <td>0.89</td>\n",
              "      <td>14.1197</td>\n",
              "      <td>251.0</td>\n",
              "      <td>15.8263</td>\n",
              "      <td>0.0</td>\n",
              "      <td>1015.13</td>\n",
              "      <td>Partly cloudy throughout the day.</td>\n",
              "    </tr>\n",
              "    <tr>\n",
              "      <th>1</th>\n",
              "      <td>2006-04-01 01:00:00.000 +0200</td>\n",
              "      <td>Partly Cloudy</td>\n",
              "      <td>rain</td>\n",
              "      <td>9.355556</td>\n",
              "      <td>7.227778</td>\n",
              "      <td>0.86</td>\n",
              "      <td>14.2646</td>\n",
              "      <td>259.0</td>\n",
              "      <td>15.8263</td>\n",
              "      <td>0.0</td>\n",
              "      <td>1015.63</td>\n",
              "      <td>Partly cloudy throughout the day.</td>\n",
              "    </tr>\n",
              "    <tr>\n",
              "      <th>2</th>\n",
              "      <td>2006-04-01 02:00:00.000 +0200</td>\n",
              "      <td>Mostly Cloudy</td>\n",
              "      <td>rain</td>\n",
              "      <td>9.377778</td>\n",
              "      <td>9.377778</td>\n",
              "      <td>0.89</td>\n",
              "      <td>3.9284</td>\n",
              "      <td>204.0</td>\n",
              "      <td>14.9569</td>\n",
              "      <td>0.0</td>\n",
              "      <td>1015.94</td>\n",
              "      <td>Partly cloudy throughout the day.</td>\n",
              "    </tr>\n",
              "  </tbody>\n",
              "</table>\n",
              "</div>\n",
              "    <div class=\"colab-df-buttons\">\n",
              "\n",
              "  <div class=\"colab-df-container\">\n",
              "    <button class=\"colab-df-convert\" onclick=\"convertToInteractive('df-81990c3e-634d-428b-8000-46ef157e8e9b')\"\n",
              "            title=\"Convert this dataframe to an interactive table.\"\n",
              "            style=\"display:none;\">\n",
              "\n",
              "  <svg xmlns=\"http://www.w3.org/2000/svg\" height=\"24px\" viewBox=\"0 -960 960 960\">\n",
              "    <path d=\"M120-120v-720h720v720H120Zm60-500h600v-160H180v160Zm220 220h160v-160H400v160Zm0 220h160v-160H400v160ZM180-400h160v-160H180v160Zm440 0h160v-160H620v160ZM180-180h160v-160H180v160Zm440 0h160v-160H620v160Z\"/>\n",
              "  </svg>\n",
              "    </button>\n",
              "\n",
              "  <style>\n",
              "    .colab-df-container {\n",
              "      display:flex;\n",
              "      gap: 12px;\n",
              "    }\n",
              "\n",
              "    .colab-df-convert {\n",
              "      background-color: #E8F0FE;\n",
              "      border: none;\n",
              "      border-radius: 50%;\n",
              "      cursor: pointer;\n",
              "      display: none;\n",
              "      fill: #1967D2;\n",
              "      height: 32px;\n",
              "      padding: 0 0 0 0;\n",
              "      width: 32px;\n",
              "    }\n",
              "\n",
              "    .colab-df-convert:hover {\n",
              "      background-color: #E2EBFA;\n",
              "      box-shadow: 0px 1px 2px rgba(60, 64, 67, 0.3), 0px 1px 3px 1px rgba(60, 64, 67, 0.15);\n",
              "      fill: #174EA6;\n",
              "    }\n",
              "\n",
              "    .colab-df-buttons div {\n",
              "      margin-bottom: 4px;\n",
              "    }\n",
              "\n",
              "    [theme=dark] .colab-df-convert {\n",
              "      background-color: #3B4455;\n",
              "      fill: #D2E3FC;\n",
              "    }\n",
              "\n",
              "    [theme=dark] .colab-df-convert:hover {\n",
              "      background-color: #434B5C;\n",
              "      box-shadow: 0px 1px 3px 1px rgba(0, 0, 0, 0.15);\n",
              "      filter: drop-shadow(0px 1px 2px rgba(0, 0, 0, 0.3));\n",
              "      fill: #FFFFFF;\n",
              "    }\n",
              "  </style>\n",
              "\n",
              "    <script>\n",
              "      const buttonEl =\n",
              "        document.querySelector('#df-81990c3e-634d-428b-8000-46ef157e8e9b button.colab-df-convert');\n",
              "      buttonEl.style.display =\n",
              "        google.colab.kernel.accessAllowed ? 'block' : 'none';\n",
              "\n",
              "      async function convertToInteractive(key) {\n",
              "        const element = document.querySelector('#df-81990c3e-634d-428b-8000-46ef157e8e9b');\n",
              "        const dataTable =\n",
              "          await google.colab.kernel.invokeFunction('convertToInteractive',\n",
              "                                                    [key], {});\n",
              "        if (!dataTable) return;\n",
              "\n",
              "        const docLinkHtml = 'Like what you see? Visit the ' +\n",
              "          '<a target=\"_blank\" href=https://colab.research.google.com/notebooks/data_table.ipynb>data table notebook</a>'\n",
              "          + ' to learn more about interactive tables.';\n",
              "        element.innerHTML = '';\n",
              "        dataTable['output_type'] = 'display_data';\n",
              "        await google.colab.output.renderOutput(dataTable, element);\n",
              "        const docLink = document.createElement('div');\n",
              "        docLink.innerHTML = docLinkHtml;\n",
              "        element.appendChild(docLink);\n",
              "      }\n",
              "    </script>\n",
              "  </div>\n",
              "\n",
              "\n",
              "<div id=\"df-8573753e-8f11-4ae8-8422-cb48e48d1290\">\n",
              "  <button class=\"colab-df-quickchart\" onclick=\"quickchart('df-8573753e-8f11-4ae8-8422-cb48e48d1290')\"\n",
              "            title=\"Suggest charts\"\n",
              "            style=\"display:none;\">\n",
              "\n",
              "<svg xmlns=\"http://www.w3.org/2000/svg\" height=\"24px\"viewBox=\"0 0 24 24\"\n",
              "     width=\"24px\">\n",
              "    <g>\n",
              "        <path d=\"M19 3H5c-1.1 0-2 .9-2 2v14c0 1.1.9 2 2 2h14c1.1 0 2-.9 2-2V5c0-1.1-.9-2-2-2zM9 17H7v-7h2v7zm4 0h-2V7h2v10zm4 0h-2v-4h2v4z\"/>\n",
              "    </g>\n",
              "</svg>\n",
              "  </button>\n",
              "\n",
              "<style>\n",
              "  .colab-df-quickchart {\n",
              "      --bg-color: #E8F0FE;\n",
              "      --fill-color: #1967D2;\n",
              "      --hover-bg-color: #E2EBFA;\n",
              "      --hover-fill-color: #174EA6;\n",
              "      --disabled-fill-color: #AAA;\n",
              "      --disabled-bg-color: #DDD;\n",
              "  }\n",
              "\n",
              "  [theme=dark] .colab-df-quickchart {\n",
              "      --bg-color: #3B4455;\n",
              "      --fill-color: #D2E3FC;\n",
              "      --hover-bg-color: #434B5C;\n",
              "      --hover-fill-color: #FFFFFF;\n",
              "      --disabled-bg-color: #3B4455;\n",
              "      --disabled-fill-color: #666;\n",
              "  }\n",
              "\n",
              "  .colab-df-quickchart {\n",
              "    background-color: var(--bg-color);\n",
              "    border: none;\n",
              "    border-radius: 50%;\n",
              "    cursor: pointer;\n",
              "    display: none;\n",
              "    fill: var(--fill-color);\n",
              "    height: 32px;\n",
              "    padding: 0;\n",
              "    width: 32px;\n",
              "  }\n",
              "\n",
              "  .colab-df-quickchart:hover {\n",
              "    background-color: var(--hover-bg-color);\n",
              "    box-shadow: 0 1px 2px rgba(60, 64, 67, 0.3), 0 1px 3px 1px rgba(60, 64, 67, 0.15);\n",
              "    fill: var(--button-hover-fill-color);\n",
              "  }\n",
              "\n",
              "  .colab-df-quickchart-complete:disabled,\n",
              "  .colab-df-quickchart-complete:disabled:hover {\n",
              "    background-color: var(--disabled-bg-color);\n",
              "    fill: var(--disabled-fill-color);\n",
              "    box-shadow: none;\n",
              "  }\n",
              "\n",
              "  .colab-df-spinner {\n",
              "    border: 2px solid var(--fill-color);\n",
              "    border-color: transparent;\n",
              "    border-bottom-color: var(--fill-color);\n",
              "    animation:\n",
              "      spin 1s steps(1) infinite;\n",
              "  }\n",
              "\n",
              "  @keyframes spin {\n",
              "    0% {\n",
              "      border-color: transparent;\n",
              "      border-bottom-color: var(--fill-color);\n",
              "      border-left-color: var(--fill-color);\n",
              "    }\n",
              "    20% {\n",
              "      border-color: transparent;\n",
              "      border-left-color: var(--fill-color);\n",
              "      border-top-color: var(--fill-color);\n",
              "    }\n",
              "    30% {\n",
              "      border-color: transparent;\n",
              "      border-left-color: var(--fill-color);\n",
              "      border-top-color: var(--fill-color);\n",
              "      border-right-color: var(--fill-color);\n",
              "    }\n",
              "    40% {\n",
              "      border-color: transparent;\n",
              "      border-right-color: var(--fill-color);\n",
              "      border-top-color: var(--fill-color);\n",
              "    }\n",
              "    60% {\n",
              "      border-color: transparent;\n",
              "      border-right-color: var(--fill-color);\n",
              "    }\n",
              "    80% {\n",
              "      border-color: transparent;\n",
              "      border-right-color: var(--fill-color);\n",
              "      border-bottom-color: var(--fill-color);\n",
              "    }\n",
              "    90% {\n",
              "      border-color: transparent;\n",
              "      border-bottom-color: var(--fill-color);\n",
              "    }\n",
              "  }\n",
              "</style>\n",
              "\n",
              "  <script>\n",
              "    async function quickchart(key) {\n",
              "      const quickchartButtonEl =\n",
              "        document.querySelector('#' + key + ' button');\n",
              "      quickchartButtonEl.disabled = true;  // To prevent multiple clicks.\n",
              "      quickchartButtonEl.classList.add('colab-df-spinner');\n",
              "      try {\n",
              "        const charts = await google.colab.kernel.invokeFunction(\n",
              "            'suggestCharts', [key], {});\n",
              "      } catch (error) {\n",
              "        console.error('Error during call to suggestCharts:', error);\n",
              "      }\n",
              "      quickchartButtonEl.classList.remove('colab-df-spinner');\n",
              "      quickchartButtonEl.classList.add('colab-df-quickchart-complete');\n",
              "    }\n",
              "    (() => {\n",
              "      let quickchartButtonEl =\n",
              "        document.querySelector('#df-8573753e-8f11-4ae8-8422-cb48e48d1290 button');\n",
              "      quickchartButtonEl.style.display =\n",
              "        google.colab.kernel.accessAllowed ? 'block' : 'none';\n",
              "    })();\n",
              "  </script>\n",
              "</div>\n",
              "\n",
              "    </div>\n",
              "  </div>\n"
            ],
            "application/vnd.google.colaboratory.intrinsic+json": {
              "type": "dataframe",
              "variable_name": "df",
              "summary": "{\n  \"name\": \"df\",\n  \"rows\": 96453,\n  \"fields\": [\n    {\n      \"column\": \"Formatted Date\",\n      \"properties\": {\n        \"dtype\": \"object\",\n        \"num_unique_values\": 96429,\n        \"samples\": [\n          \"2008-10-17 17:00:00.000 +0200\",\n          \"2014-11-02 03:00:00.000 +0100\",\n          \"2008-06-18 01:00:00.000 +0200\"\n        ],\n        \"semantic_type\": \"\",\n        \"description\": \"\"\n      }\n    },\n    {\n      \"column\": \"Summary\",\n      \"properties\": {\n        \"dtype\": \"category\",\n        \"num_unique_values\": 27,\n        \"samples\": [\n          \"Humid and Mostly Cloudy\",\n          \"Windy and Partly Cloudy\",\n          \"Humid and Partly Cloudy\"\n        ],\n        \"semantic_type\": \"\",\n        \"description\": \"\"\n      }\n    },\n    {\n      \"column\": \"Precip Type\",\n      \"properties\": {\n        \"dtype\": \"category\",\n        \"num_unique_values\": 2,\n        \"samples\": [\n          \"snow\",\n          \"rain\"\n        ],\n        \"semantic_type\": \"\",\n        \"description\": \"\"\n      }\n    },\n    {\n      \"column\": \"Temperature (C)\",\n      \"properties\": {\n        \"dtype\": \"number\",\n        \"std\": 9.551546320657026,\n        \"min\": -21.822222222222223,\n        \"max\": 39.90555555555555,\n        \"num_unique_values\": 7574,\n        \"samples\": [\n          34.8111111111111,\n          14.955555555555556\n        ],\n        \"semantic_type\": \"\",\n        \"description\": \"\"\n      }\n    },\n    {\n      \"column\": \"Apparent Temperature (C)\",\n      \"properties\": {\n        \"dtype\": \"number\",\n        \"std\": 10.696847392119196,\n        \"min\": -27.716666666666665,\n        \"max\": 39.34444444444444,\n        \"num_unique_values\": 8984,\n        \"samples\": [\n          32.01111111111111,\n          3.1611111111111097\n        ],\n        \"semantic_type\": \"\",\n        \"description\": \"\"\n      }\n    },\n    {\n      \"column\": \"Humidity\",\n      \"properties\": {\n        \"dtype\": \"number\",\n        \"std\": 0.1954727390672154,\n        \"min\": 0.0,\n        \"max\": 1.0,\n        \"num_unique_values\": 90,\n        \"samples\": [\n          0.81,\n          0.8\n        ],\n        \"semantic_type\": \"\",\n        \"description\": \"\"\n      }\n    },\n    {\n      \"column\": \"Wind Speed (km/h)\",\n      \"properties\": {\n        \"dtype\": \"number\",\n        \"std\": 6.913571012591992,\n        \"min\": 0.0,\n        \"max\": 63.8526,\n        \"num_unique_values\": 2484,\n        \"samples\": [\n          23.3611,\n          33.1016\n        ],\n        \"semantic_type\": \"\",\n        \"description\": \"\"\n      }\n    },\n    {\n      \"column\": \"Wind Bearing (degrees)\",\n      \"properties\": {\n        \"dtype\": \"number\",\n        \"std\": 107.38342838070584,\n        \"min\": 0.0,\n        \"max\": 359.0,\n        \"num_unique_values\": 360,\n        \"samples\": [\n          128.0,\n          15.0\n        ],\n        \"semantic_type\": \"\",\n        \"description\": \"\"\n      }\n    },\n    {\n      \"column\": \"Visibility (km)\",\n      \"properties\": {\n        \"dtype\": \"number\",\n        \"std\": 4.192123191422782,\n        \"min\": 0.0,\n        \"max\": 16.1,\n        \"num_unique_values\": 949,\n        \"samples\": [\n          4.395300000000001,\n          6.6332\n        ],\n        \"semantic_type\": \"\",\n        \"description\": \"\"\n      }\n    },\n    {\n      \"column\": \"Loud Cover\",\n      \"properties\": {\n        \"dtype\": \"number\",\n        \"std\": 0.0,\n        \"min\": 0.0,\n        \"max\": 0.0,\n        \"num_unique_values\": 1,\n        \"samples\": [\n          0.0\n        ],\n        \"semantic_type\": \"\",\n        \"description\": \"\"\n      }\n    },\n    {\n      \"column\": \"Pressure (millibars)\",\n      \"properties\": {\n        \"dtype\": \"number\",\n        \"std\": 116.96990568258018,\n        \"min\": 0.0,\n        \"max\": 1046.38,\n        \"num_unique_values\": 4979,\n        \"samples\": [\n          987.38\n        ],\n        \"semantic_type\": \"\",\n        \"description\": \"\"\n      }\n    },\n    {\n      \"column\": \"Daily Summary\",\n      \"properties\": {\n        \"dtype\": \"category\",\n        \"num_unique_values\": 214,\n        \"samples\": [\n          \"Partly cloudy until evening.\"\n        ],\n        \"semantic_type\": \"\",\n        \"description\": \"\"\n      }\n    }\n  ]\n}"
            }
          },
          "metadata": {},
          "execution_count": 4
        }
      ]
    },
    {
      "cell_type": "code",
      "metadata": {
        "colab": {
          "base_uri": "https://localhost:8080/"
        },
        "id": "2qQALcGeQLHD",
        "outputId": "ede51e58-c662-4915-d00d-a768aeede98d"
      },
      "source": [
        "df.shape"
      ],
      "execution_count": 5,
      "outputs": [
        {
          "output_type": "execute_result",
          "data": {
            "text/plain": [
              "(96453, 12)"
            ]
          },
          "metadata": {},
          "execution_count": 5
        }
      ]
    },
    {
      "cell_type": "code",
      "source": [
        "df=df.dropna(subset=['Temperature (C)', 'Humidity'])"
      ],
      "metadata": {
        "id": "50cgKROZp9hm"
      },
      "execution_count": 6,
      "outputs": []
    },
    {
      "cell_type": "code",
      "source": [
        "df.shape"
      ],
      "metadata": {
        "colab": {
          "base_uri": "https://localhost:8080/"
        },
        "id": "LvwYlGQcqD0M",
        "outputId": "4c078cbd-3092-4cc9-9059-cbca16f5fd25"
      },
      "execution_count": 7,
      "outputs": [
        {
          "output_type": "execute_result",
          "data": {
            "text/plain": [
              "(96453, 12)"
            ]
          },
          "metadata": {},
          "execution_count": 7
        }
      ]
    },
    {
      "cell_type": "markdown",
      "metadata": {
        "id": "neovVRnBRKwR"
      },
      "source": [
        "#Regresión Lineal Simple"
      ]
    },
    {
      "cell_type": "code",
      "metadata": {
        "colab": {
          "base_uri": "https://localhost:8080/",
          "height": 449
        },
        "id": "o_UNtWKxQLHF",
        "outputId": "db84d70a-708b-43bf-bb2d-1cb788298a28"
      },
      "source": [
        "#Seleccionamos solamente la columna 5 del dataset\n",
        "X = df.Humidity\n",
        "#Defino los datos correspondientes a las etiquetas\n",
        "y = df['Temperature (C)']\n",
        "#Graficamos los datos correspondientes\n",
        "plt.scatter(X, y)\n",
        "plt.xlabel('Humedad')\n",
        "plt.ylabel('Temperatura (C)')\n",
        "plt.show()"
      ],
      "execution_count": 8,
      "outputs": [
        {
          "output_type": "display_data",
          "data": {
            "text/plain": [
              "<Figure size 640x480 with 1 Axes>"
            ],
            "image/png": "[encoded data removed]"
          },
          "metadata": {}
        }
      ]
    },
    {
      "cell_type": "code",
      "metadata": {
        "colab": {
          "base_uri": "https://localhost:8080/",
          "height": 680
        },
        "id": "7Cj3dUXQQLHG",
        "outputId": "7353542d-b713-4d2b-8d44-3f6068ef1a8f"
      },
      "source": [
        "X=X.values.reshape(-1,1)\n",
        "lr = linear_model.LinearRegression()\n",
        "lr.fit(X, y)\n",
        "Yest = lr.predict(X)\n",
        "\n",
        "plt.scatter(X, y)\n",
        "plt.plot(X, Yest, color='red', linewidth=3)\n",
        "plt.title('Regresión Lineal Simple')\n",
        "plt.xlabel('Humedad')\n",
        "plt.ylabel('Temperatura (C)')\n",
        "plt.show()\n",
        "\n",
        "print('DATOS DEL MODELO REGRESIÓN LINEAL SIMPLE')\n",
        "print()\n",
        "print('Valor de la pendiente o coeficiente \"a\":')\n",
        "print(lr.coef_)\n",
        "print('Valor de la intersección o coeficiente \"b\":')\n",
        "print(lr.intercept_)\n",
        "print()\n",
        "print('La ecuación del modelo es igual a:')\n",
        "print('y = ', lr.coef_, 'x +', lr.intercept_)\n",
        "print()\n",
        "print('Precisión del modelo:')\n",
        "print(lr.score(X, y))"
      ],
      "execution_count": 9,
      "outputs": [
        {
          "output_type": "display_data",
          "data": {
            "text/plain": [
              "<Figure size 640x480 with 1 Axes>"
            ],
            "image/png": "[encoded data removed]"
          },
          "metadata": {}
        },
        {
          "output_type": "stream",
          "name": "stdout",
          "text": [
            "DATOS DEL MODELO REGRESIÓN LINEAL SIMPLE\n",
            "\n",
            "Valor de la pendiente o coeficiente \"a\":\n",
            "[-30.89438376]\n",
            "Valor de la intersección o coeficiente \"b\":\n",
            "34.63692912688962\n",
            "\n",
            "La ecuación del modelo es igual a:\n",
            "y =  [-30.89438376] x + 34.63692912688962\n",
            "\n",
            "Precisión del modelo:\n",
            "0.3997459740945124\n"
          ]
        }
      ]
    },
    {
      "cell_type": "markdown",
      "metadata": {
        "id": "K3FvKBVvRTyf"
      },
      "source": [
        "#Implementación con Split de Datos"
      ]
    },
    {
      "cell_type": "code",
      "metadata": {
        "id": "bhAcgPwsQLHH"
      },
      "source": [
        "from sklearn.model_selection import train_test_split\n",
        "#Separo los datos de \"train\" en entrenamiento y prueba para probar los algoritmos\n",
        "X_train, X_test, y_train, y_test = train_test_split(X, y, test_size=0.2)\n",
        "#Defino el algoritmo a utilizar\n",
        "lr = linear_model.LinearRegression()\n",
        "#Entreno el modelo\n",
        "lr.fit(X_train, y_train)\n",
        "#Realizo una predicción\n",
        "Y_pred = lr.predict(X_test)"
      ],
      "execution_count": 10,
      "outputs": []
    },
    {
      "cell_type": "code",
      "metadata": {
        "colab": {
          "base_uri": "https://localhost:8080/",
          "height": 732
        },
        "id": "F1NJyqwwQLHI",
        "outputId": "be9318bf-3a6f-497a-dba5-0f89d3feacc3"
      },
      "source": [
        "#Graficamos los datos junto con el modelo\n",
        "plt.scatter(X, y)\n",
        "plt.plot(X_test, Y_pred, color='red', linewidth=3)\n",
        "plt.title('Regresión Lineal Simple')\n",
        "plt.xlabel('Humedad')\n",
        "plt.ylabel('Temperatura (C)')\n",
        "plt.show()\n",
        "print()\n",
        "print('DATOS DEL MODELO REGRESIÓN LINEAL SIMPLE')\n",
        "print()\n",
        "print('Valor de la pendiente o coeficiente \"a\":')\n",
        "print(lr.coef_)\n",
        "print('Valor de la intersección o coeficiente \"b\":')\n",
        "print(lr.intercept_)\n",
        "print()\n",
        "print('La ecuación del modelo es igual a:')\n",
        "print('y = ', lr.coef_, 'x +', lr.intercept_)\n",
        "print()\n",
        "print('Precisión del modelo en train:')\n",
        "print(lr.score(X_train, y_train))\n",
        "print('Precisión del modelo en test:')\n",
        "print(lr.score(X_test, y_test))"
      ],
      "execution_count": 11,
      "outputs": [
        {
          "output_type": "display_data",
          "data": {
            "text/plain": [
              "<Figure size 640x480 with 1 Axes>"
            ],
            "image/png": "[encoded data removed]"
          },
          "metadata": {}
        },
        {
          "output_type": "stream",
          "name": "stdout",
          "text": [
            "\n",
            "DATOS DEL MODELO REGRESIÓN LINEAL SIMPLE\n",
            "\n",
            "Valor de la pendiente o coeficiente \"a\":\n",
            "[-30.92963811]\n",
            "Valor de la intersección o coeficiente \"b\":\n",
            "34.66070365006988\n",
            "\n",
            "La ecuación del modelo es igual a:\n",
            "y =  [-30.92963811] x + 34.66070365006988\n",
            "\n",
            "Precisión del modelo en train:\n",
            "0.3999126878976833\n",
            "Precisión del modelo en test:\n",
            "0.39908086750512173\n"
          ]
        }
      ]
    },
    {
      "cell_type": "code",
      "source": [
        "# Score de testeo\n",
        "print(lr.score(X_test, y_test))"
      ],
      "metadata": {
        "id": "2xVFhzE9w3gO",
        "outputId": "a1be9ea0-7480-4295-dc1d-a01b2431bb80",
        "colab": {
          "base_uri": "https://localhost:8080/"
        }
      },
      "execution_count": 12,
      "outputs": [
        {
          "output_type": "stream",
          "name": "stdout",
          "text": [
            "0.39908086750512173\n"
          ]
        }
      ]
    },
    {
      "cell_type": "markdown",
      "metadata": {
        "id": "F9kXvs6UmWZS"
      },
      "source": [
        "#Implementación con StatsModel"
      ]
    },
    {
      "cell_type": "code",
      "metadata": {
        "id": "Padfel4_UNk2"
      },
      "source": [
        "import pandas as pd\n",
        "import statsmodels.formula.api as smf"
      ],
      "execution_count": 13,
      "outputs": []
    },
    {
      "cell_type": "code",
      "metadata": {
        "colab": {
          "base_uri": "https://localhost:8080/"
        },
        "id": "5KWSAhQnXzJo",
        "outputId": "84869e6a-f9ef-4421-d919-20b41719dd5d"
      },
      "source": [
        "df=pd.DataFrame(data=np.column_stack((X,y)),columns=['X','y'])\n",
        "\n",
        "formula = 'y ~ X'\n",
        "\n",
        "lm = smf.ols(formula=formula, data=df).fit()\n",
        "print(lm.params)\n",
        "\n",
        "lm.rsquared"
      ],
      "execution_count": 14,
      "outputs": [
        {
          "output_type": "stream",
          "name": "stdout",
          "text": [
            "Intercept    34.636929\n",
            "X           -30.894384\n",
            "dtype: float64\n"
          ]
        },
        {
          "output_type": "execute_result",
          "data": {
            "text/plain": [
              "0.3997459740945124"
            ]
          },
          "metadata": {},
          "execution_count": 14
        }
      ]
    },
    {
      "cell_type": "code",
      "metadata": {
        "colab": {
          "base_uri": "https://localhost:8080/",
          "height": 452
        },
        "id": "JeiUqyRiZl1z",
        "outputId": "fc68a0a6-7c18-4598-9767-c628a930804a"
      },
      "source": [
        "lm.summary()"
      ],
      "execution_count": 15,
      "outputs": [
        {
          "output_type": "execute_result",
          "data": {
            "text/plain": [
              "<class 'statsmodels.iolib.summary.Summary'>\n",
              "\"\"\"\n",
              "                            OLS Regression Results                            \n",
              "==============================================================================\n",
              "Dep. Variable:                      y   R-squared:                       0.400\n",
              "Model:                            OLS   Adj. R-squared:                  0.400\n",
              "Method:                 Least Squares   F-statistic:                 6.423e+04\n",
              "Date:                Mon, 18 Mar 2024   Prob (F-statistic):               0.00\n",
              "Time:                        18:19:39   Log-Likelihood:            -3.2991e+05\n",
              "No. Observations:               96453   AIC:                         6.598e+05\n",
              "Df Residuals:                   96451   BIC:                         6.598e+05\n",
              "Df Model:                           1                                         \n",
              "Covariance Type:            nonrobust                                         \n",
              "==============================================================================\n",
              "                 coef    std err          t      P>|t|      [0.025      0.975]\n",
              "------------------------------------------------------------------------------\n",
              "Intercept     34.6369      0.093    373.651      0.000      34.455      34.819\n",
              "X            -30.8944      0.122   -253.442      0.000     -31.133     -30.655\n",
              "==============================================================================\n",
              "Omnibus:                     2385.781   Durbin-Watson:                   0.043\n",
              "Prob(Omnibus):                  0.000   Jarque-Bera (JB):             2566.298\n",
              "Skew:                          -0.394   Prob(JB):                         0.00\n",
              "Kurtosis:                       3.131   Cond. No.                         7.95\n",
              "==============================================================================\n",
              "\n",
              "Notes:\n",
              "[1] Standard Errors assume that the covariance matrix of the errors is correctly specified.\n",
              "\"\"\""
            ],
            "text/html": [
              "<table class=\"simpletable\">\n",
              "<caption>OLS Regression Results</caption>\n",
              "<tr>\n",
              "  <th>Dep. Variable:</th>            <td>y</td>        <th>  R-squared:         </th>  <td>   0.400</td>  \n",
              "</tr>\n",
              "<tr>\n",
              "  <th>Model:</th>                   <td>OLS</td>       <th>  Adj. R-squared:    </th>  <td>   0.400</td>  \n",
              "</tr>\n",
              "<tr>\n",
              "  <th>Method:</th>             <td>Least Squares</td>  <th>  F-statistic:       </th>  <td>6.423e+04</td> \n",
              "</tr>\n",
              "<tr>\n",
              "  <th>Date:</th>             <td>Mon, 18 Mar 2024</td> <th>  Prob (F-statistic):</th>   <td>  0.00</td>   \n",
              "</tr>\n",
              "<tr>\n",
              "  <th>Time:</th>                 <td>18:19:39</td>     <th>  Log-Likelihood:    </th> <td>-3.2991e+05</td>\n",
              "</tr>\n",
              "<tr>\n",
              "  <th>No. Observations:</th>      <td> 96453</td>      <th>  AIC:               </th>  <td>6.598e+05</td> \n",
              "</tr>\n",
              "<tr>\n",
              "  <th>Df Residuals:</th>          <td> 96451</td>      <th>  BIC:               </th>  <td>6.598e+05</td> \n",
              "</tr>\n",
              "<tr>\n",
              "  <th>Df Model:</th>              <td>     1</td>      <th>                     </th>      <td> </td>     \n",
              "</tr>\n",
              "<tr>\n",
              "  <th>Covariance Type:</th>      <td>nonrobust</td>    <th>                     </th>      <td> </td>     \n",
              "</tr>\n",
              "</table>\n",
              "<table class=\"simpletable\">\n",
              "<tr>\n",
              "      <td></td>         <th>coef</th>     <th>std err</th>      <th>t</th>      <th>P>|t|</th>  <th>[0.025</th>    <th>0.975]</th>  \n",
              "</tr>\n",
              "<tr>\n",
              "  <th>Intercept</th> <td>   34.6369</td> <td>    0.093</td> <td>  373.651</td> <td> 0.000</td> <td>   34.455</td> <td>   34.819</td>\n",
              "</tr>\n",
              "<tr>\n",
              "  <th>X</th>         <td>  -30.8944</td> <td>    0.122</td> <td> -253.442</td> <td> 0.000</td> <td>  -31.133</td> <td>  -30.655</td>\n",
              "</tr>\n",
              "</table>\n",
              "<table class=\"simpletable\">\n",
              "<tr>\n",
              "  <th>Omnibus:</th>       <td>2385.781</td> <th>  Durbin-Watson:     </th> <td>   0.043</td>\n",
              "</tr>\n",
              "<tr>\n",
              "  <th>Prob(Omnibus):</th>  <td> 0.000</td>  <th>  Jarque-Bera (JB):  </th> <td>2566.298</td>\n",
              "</tr>\n",
              "<tr>\n",
              "  <th>Skew:</th>           <td>-0.394</td>  <th>  Prob(JB):          </th> <td>    0.00</td>\n",
              "</tr>\n",
              "<tr>\n",
              "  <th>Kurtosis:</th>       <td> 3.131</td>  <th>  Cond. No.          </th> <td>    7.95</td>\n",
              "</tr>\n",
              "</table><br/><br/>Notes:<br/>[1] Standard Errors assume that the covariance matrix of the errors is correctly specified."
            ],
            "text/latex": "\\begin{center}\n\\begin{tabular}{lclc}\n\\toprule\n\\textbf{Dep. Variable:}    &        y         & \\textbf{  R-squared:         } &      0.400   \\\\\n\\textbf{Model:}            &       OLS        & \\textbf{  Adj. R-squared:    } &      0.400   \\\\\n\\textbf{Method:}           &  Least Squares   & \\textbf{  F-statistic:       } &  6.423e+04   \\\\\n\\textbf{Date:}             & Mon, 18 Mar 2024 & \\textbf{  Prob (F-statistic):} &      0.00    \\\\\n\\textbf{Time:}             &     18:19:39     & \\textbf{  Log-Likelihood:    } & -3.2991e+05  \\\\\n\\textbf{No. Observations:} &       96453      & \\textbf{  AIC:               } &  6.598e+05   \\\\\n\\textbf{Df Residuals:}     &       96451      & \\textbf{  BIC:               } &  6.598e+05   \\\\\n\\textbf{Df Model:}         &           1      & \\textbf{                     } &              \\\\\n\\textbf{Covariance Type:}  &    nonrobust     & \\textbf{                     } &              \\\\\n\\bottomrule\n\\end{tabular}\n\\begin{tabular}{lcccccc}\n                   & \\textbf{coef} & \\textbf{std err} & \\textbf{t} & \\textbf{P$> |$t$|$} & \\textbf{[0.025} & \\textbf{0.975]}  \\\\\n\\midrule\n\\textbf{Intercept} &      34.6369  &        0.093     &   373.651  &         0.000        &       34.455    &       34.819     \\\\\n\\textbf{X}         &     -30.8944  &        0.122     &  -253.442  &         0.000        &      -31.133    &      -30.655     \\\\\n\\bottomrule\n\\end{tabular}\n\\begin{tabular}{lclc}\n\\textbf{Omnibus:}       & 2385.781 & \\textbf{  Durbin-Watson:     } &    0.043  \\\\\n\\textbf{Prob(Omnibus):} &   0.000  & \\textbf{  Jarque-Bera (JB):  } & 2566.298  \\\\\n\\textbf{Skew:}          &  -0.394  & \\textbf{  Prob(JB):          } &     0.00  \\\\\n\\textbf{Kurtosis:}      &   3.131  & \\textbf{  Cond. No.          } &     7.95  \\\\\n\\bottomrule\n\\end{tabular}\n%\\caption{OLS Regression Results}\n\\end{center}\n\nNotes: \\newline\n [1] Standard Errors assume that the covariance matrix of the errors is correctly specified."
          },
          "metadata": {},
          "execution_count": 15
        }
      ]
    },
    {
      "cell_type": "code",
      "metadata": {
        "id": "MKioPCoraLoj"
      },
      "source": [
        "lm.predict()\n",
        "predictions = lm.params['X'] * df['X'] + lm.params['Intercept']\n",
        "error = predictions - df['y']"
      ],
      "execution_count": 16,
      "outputs": []
    },
    {
      "cell_type": "code",
      "metadata": {
        "colab": {
          "base_uri": "https://localhost:8080/"
        },
        "id": "XyRWnNvLfVwJ",
        "outputId": "913cbce6-fdc8-4985-dbe2-72f9b2306eeb"
      },
      "source": [
        "A=pow(df['y']-predictions,2).sum()\n",
        "B=pow(df['y']-df['y'].mean(),2).sum()\n",
        "R=1-(A/B)\n",
        "\n",
        "R"
      ],
      "execution_count": 17,
      "outputs": [
        {
          "output_type": "execute_result",
          "data": {
            "text/plain": [
              "0.3997459740945124"
            ]
          },
          "metadata": {},
          "execution_count": 17
        }
      ]
    },
    {
      "cell_type": "code",
      "metadata": {
        "colab": {
          "base_uri": "https://localhost:8080/"
        },
        "id": "sETRr-_XgT7w",
        "outputId": "05da3379-0ad0-4f59-96cd-ca7cb21534c6"
      },
      "source": [
        "R_square = (df['y'].var()-error.var())/df['y'].var()\n",
        "R_square"
      ],
      "execution_count": 18,
      "outputs": [
        {
          "output_type": "execute_result",
          "data": {
            "text/plain": [
              "0.3997459740945124"
            ]
          },
          "metadata": {},
          "execution_count": 18
        }
      ]
    },
    {
      "cell_type": "markdown",
      "source": [
        "# Regresión Múltiple"
      ],
      "metadata": {
        "id": "j_lQYckIrRq0"
      }
    },
    {
      "cell_type": "code",
      "source": [
        "df=pd.read_csv('/content/weatherHistory.csv')"
      ],
      "metadata": {
        "id": "un5GGIkFrYL_"
      },
      "execution_count": 19,
      "outputs": []
    },
    {
      "cell_type": "code",
      "source": [
        "df.columns"
      ],
      "metadata": {
        "id": "zUwodlverTQR",
        "outputId": "cf72fdcf-672b-4cb5-b009-f034bf940339",
        "colab": {
          "base_uri": "https://localhost:8080/"
        }
      },
      "execution_count": 20,
      "outputs": [
        {
          "output_type": "execute_result",
          "data": {
            "text/plain": [
              "Index(['Formatted Date', 'Summary', 'Precip Type', 'Temperature (C)',\n",
              "       'Apparent Temperature (C)', 'Humidity', 'Wind Speed (km/h)',\n",
              "       'Wind Bearing (degrees)', 'Visibility (km)', 'Loud Cover',\n",
              "       'Pressure (millibars)', 'Daily Summary'],\n",
              "      dtype='object')"
            ]
          },
          "metadata": {},
          "execution_count": 20
        }
      ]
    },
    {
      "cell_type": "code",
      "source": [
        "vars=['Apparent Temperature (C)', 'Humidity', 'Wind Speed (km/h)',\n",
        "       'Wind Bearing (degrees)', 'Visibility (km)', 'Loud Cover',\n",
        "       'Pressure (millibars)']"
      ],
      "metadata": {
        "id": "Lia-NfsHrdRn"
      },
      "execution_count": 21,
      "outputs": []
    },
    {
      "cell_type": "code",
      "source": [
        "X=df[vars]\n",
        "lr = linear_model.LinearRegression()\n",
        "lr.fit(X, y)\n",
        "Yest = lr.predict(X)"
      ],
      "metadata": {
        "id": "JFYDioJkrkOu"
      },
      "execution_count": 22,
      "outputs": []
    },
    {
      "cell_type": "code",
      "source": [
        "print('DATOS DEL MODELO REGRESIÓN LINEAL SIMPLE')\n",
        "print()\n",
        "print('Valor de la pendiente o coeficiente \"a\":')\n",
        "print(lr.coef_)\n",
        "print('Valor de la intersección o coeficiente \"b\":')\n",
        "print(lr.intercept_)\n",
        "print()\n",
        "print('La ecuación del modelo es igual a:')\n",
        "print('y = ', lr.coef_, 'x ', lr.intercept_)\n",
        "print()\n",
        "print('Precisión del modelo:')\n",
        "print(lr.score(X, y))"
      ],
      "metadata": {
        "id": "yD4_fj5dse1e",
        "outputId": "72116650-5ab5-4f29-c01e-c961842db2d9",
        "colab": {
          "base_uri": "https://localhost:8080/"
        }
      },
      "execution_count": 23,
      "outputs": [
        {
          "output_type": "stream",
          "name": "stdout",
          "text": [
            "DATOS DEL MODELO REGRESIÓN LINEAL SIMPLE\n",
            "\n",
            "Valor de la pendiente o coeficiente \"a\":\n",
            "[ 8.72454852e-01 -1.42397264e+00  7.97597828e-02 -4.04975848e-04\n",
            "  8.36906228e-03  0.00000000e+00 -2.04384991e-04]\n",
            "Valor de la intersección o coeficiente \"b\":\n",
            "2.8407632156753273\n",
            "\n",
            "La ecuación del modelo es igual a:\n",
            "y =  [ 8.72454852e-01 -1.42397264e+00  7.97597828e-02 -4.04975848e-04\n",
            "  8.36906228e-03  0.00000000e+00 -2.04384991e-04] x  2.8407632156753273\n",
            "\n",
            "Precisión del modelo:\n",
            "0.9901283672803095\n"
          ]
        }
      ]
    },
    {
      "cell_type": "markdown",
      "source": [
        "# Regresión múltiple con partición train test"
      ],
      "metadata": {
        "id": "BNGheTLnjZDu"
      }
    },
    {
      "cell_type": "code",
      "source": [
        "from sklearn.model_selection import train_test_split\n",
        "#Separo los datos de \"train\" en entrenamiento y prueba para probar los algoritmos\n",
        "X=df[vars]\n",
        "X_train, X_test, y_train, y_test = train_test_split(X, y, test_size=0.2)"
      ],
      "metadata": {
        "id": "8HCuxfwWieKU"
      },
      "execution_count": 24,
      "outputs": []
    },
    {
      "cell_type": "code",
      "source": [
        "lr = linear_model.LinearRegression()\n",
        "lr.fit(X_train, y_train)\n",
        "Yest = lr.predict(X_test)"
      ],
      "metadata": {
        "id": "uevlndx_igne"
      },
      "execution_count": 25,
      "outputs": []
    },
    {
      "cell_type": "code",
      "source": [
        "print(lr.score(X_train, y_train))"
      ],
      "metadata": {
        "id": "PPlC5M71i06n",
        "outputId": "4d8ed446-8ad5-439f-8c66-d460f55a95e3",
        "colab": {
          "base_uri": "https://localhost:8080/"
        }
      },
      "execution_count": 26,
      "outputs": [
        {
          "output_type": "stream",
          "name": "stdout",
          "text": [
            "0.9901275882734941\n"
          ]
        }
      ]
    },
    {
      "cell_type": "code",
      "source": [
        "print(lr.score(X_test, y_test))"
      ],
      "metadata": {
        "id": "n-KDpX66i2-F",
        "outputId": "c8b49c9e-00b1-4ef2-9646-e1f8a0d6911f",
        "colab": {
          "base_uri": "https://localhost:8080/"
        }
      },
      "execution_count": 27,
      "outputs": [
        {
          "output_type": "stream",
          "name": "stdout",
          "text": [
            "0.9901309308638092\n"
          ]
        }
      ]
    }
  ]
}