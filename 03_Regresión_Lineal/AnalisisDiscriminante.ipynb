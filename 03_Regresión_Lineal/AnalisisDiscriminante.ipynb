{
  "nbformat": 4,
  "nbformat_minor": 0,
  "metadata": {
    "colab": {
      "provenance": [],
      "authorship_tag": "ABX9TyPssh+j+eguMalaAR082YPJ",
      "include_colab_link": true
    },
    "kernelspec": {
      "name": "python3",
      "display_name": "Python 3"
    },
    "language_info": {
      "name": "python"
    }
  },
  "cells": [
    {
      "cell_type": "markdown",
      "metadata": {
        "id": "view-in-github",
        "colab_type": "text"
      },
      "source": [
        "<a href=\"https://colab.research.google.com/github/LCaravaggio/AnalisisPredictivo/blob/master/03_Regresi%C3%B3n_Lineal/AnalisisDiscriminante.ipynb\" target=\"_parent\"><img src=\"https://colab.research.google.com/assets/colab-badge.svg\" alt=\"Open In Colab\"/></a>"
      ]
    },
    {
      "cell_type": "markdown",
      "source": [
        "# Análisis del Discriminante"
      ],
      "metadata": {
        "id": "yk9g3CL8Ij8i"
      }
    },
    {
      "cell_type": "markdown",
      "source": [
        "# Data\n",
        "\n",
        "Se trata de un dataset con información de enfermedad del corazón.\n",
        "\n",
        "\n",
        "https://www.kaggle.com/datasets/ambujdevsingh/key-indicators-of-heart-disease"
      ],
      "metadata": {
        "id": "-yw9JdXqI68k"
      }
    },
    {
      "cell_type": "code",
      "execution_count": 94,
      "metadata": {
        "colab": {
          "base_uri": "https://localhost:8080/"
        },
        "id": "Jclhs3tp7lMd",
        "outputId": "f3a30284-0f5f-4b06-ed6b-2e2aae619623"
      },
      "outputs": [
        {
          "output_type": "stream",
          "name": "stdout",
          "text": [
            "mkdir: cannot create directory ‘/root/.kaggle’: File exists\n",
            "Mounted at /content/drive\n",
            "key-indicators-of-heart-disease.zip: Skipping, found more recently modified local copy (use --force to force download)\n"
          ]
        }
      ],
      "source": [
        "import pandas as pd\n",
        "import numpy as np\n",
        "import json\n",
        "from google.colab import drive\n",
        "\n",
        "!mkdir ~/.kaggle\n",
        "!touch ~/.kaggle/kaggle.json\n",
        "\n",
        "drive.mount('/content/drive', force_remount=True)\n",
        "with open(\"/content/drive/My Drive/kaggle.json\", 'r') as f:\n",
        "    api_token= json.load(f)\n",
        "\n",
        "with open('/root/.kaggle/kaggle.json', 'w') as file:\n",
        "    json.dump(api_token, file)\n",
        "\n",
        "!chmod 600 ~/.kaggle/kaggle.json\n",
        "\n",
        "!kaggle datasets download ambujdevsingh/key-indicators-of-heart-disease\n",
        "\n",
        "\n",
        "import zipfile\n",
        "import os\n",
        "\n",
        "os.listdir()\n",
        "\n",
        "for file in os.listdir():\n",
        "    if file.endswith('.zip'):\n",
        "      zip_ref = zipfile.ZipFile(file, 'r')\n",
        "      zip_ref.extractall()\n",
        "      zip_ref.close()"
      ]
    },
    {
      "cell_type": "code",
      "source": [
        "df=pd.read_csv('/content/heart_2022_Key_indicators.csv')"
      ],
      "metadata": {
        "id": "lm49IvwQ8Izl"
      },
      "execution_count": 95,
      "outputs": []
    },
    {
      "cell_type": "code",
      "source": [
        "df"
      ],
      "metadata": {
        "colab": {
          "base_uri": "https://localhost:8080/",
          "height": 488
        },
        "id": "jm7y1nLy8Lfr",
        "outputId": "c83b15b0-51c5-49d1-8ec1-77acac0e2280"
      },
      "execution_count": 96,
      "outputs": [
        {
          "output_type": "execute_result",
          "data": {
            "text/plain": [
              "       HeartDisease    BMI Smoking AlcoholDrinking Stroke  PhysicalHealth  \\\n",
              "0                No  16.60     Yes              No     No             3.0   \n",
              "1                No  20.34      No              No    Yes             0.0   \n",
              "2                No  26.58     Yes              No     No            20.0   \n",
              "3                No  24.21      No              No     No             0.0   \n",
              "4                No  23.71      No              No     No            28.0   \n",
              "...             ...    ...     ...             ...    ...             ...   \n",
              "319790          Yes  27.41     Yes              No     No             7.0   \n",
              "319791           No  29.84     Yes              No     No             0.0   \n",
              "319792           No  24.24      No              No     No             0.0   \n",
              "319793           No  32.81      No              No     No             0.0   \n",
              "319794           No  46.56      No              No     No             0.0   \n",
              "\n",
              "        MentalHealth DiffWalking     Sex  AgeCategory      Race Diabetic  \\\n",
              "0               30.0          No  Female        55-59     White      Yes   \n",
              "1                0.0          No  Female  80 or older     White       No   \n",
              "2               30.0          No    Male        65-69     White      Yes   \n",
              "3                0.0          No  Female        75-79     White       No   \n",
              "4                0.0         Yes  Female        40-44     White       No   \n",
              "...              ...         ...     ...          ...       ...      ...   \n",
              "319790           0.0         Yes    Male        60-64  Hispanic      Yes   \n",
              "319791           0.0          No    Male        35-39  Hispanic       No   \n",
              "319792           0.0          No  Female        45-49  Hispanic       No   \n",
              "319793           0.0          No  Female        25-29  Hispanic       No   \n",
              "319794           0.0          No  Female  80 or older  Hispanic       No   \n",
              "\n",
              "       PhysicalActivity  GenHealth  SleepTime Asthma KidneyDisease SkinCancer  \n",
              "0                   Yes  Very good        5.0    Yes            No        Yes  \n",
              "1                   Yes  Very good        7.0     No            No         No  \n",
              "2                   Yes       Fair        8.0    Yes            No         No  \n",
              "3                    No       Good        6.0     No            No        Yes  \n",
              "4                   Yes  Very good        8.0     No            No         No  \n",
              "...                 ...        ...        ...    ...           ...        ...  \n",
              "319790               No       Fair        6.0    Yes            No         No  \n",
              "319791              Yes  Very good        5.0    Yes            No         No  \n",
              "319792              Yes       Good        6.0     No            No         No  \n",
              "319793               No       Good       12.0     No            No         No  \n",
              "319794              Yes       Good        8.0     No            No         No  \n",
              "\n",
              "[319795 rows x 18 columns]"
            ],
            "text/html": [
              "\n",
              "  <div id=\"df-af7930c3-b5b4-4fb3-83c5-34edd1301feb\">\n",
              "    <div class=\"colab-df-container\">\n",
              "      <div>\n",
              "<style scoped>\n",
              "    .dataframe tbody tr th:only-of-type {\n",
              "        vertical-align: middle;\n",
              "    }\n",
              "\n",
              "    .dataframe tbody tr th {\n",
              "        vertical-align: top;\n",
              "    }\n",
              "\n",
              "    .dataframe thead th {\n",
              "        text-align: right;\n",
              "    }\n",
              "</style>\n",
              "<table border=\"1\" class=\"dataframe\">\n",
              "  <thead>\n",
              "    <tr style=\"text-align: right;\">\n",
              "      <th></th>\n",
              "      <th>HeartDisease</th>\n",
              "      <th>BMI</th>\n",
              "      <th>Smoking</th>\n",
              "      <th>AlcoholDrinking</th>\n",
              "      <th>Stroke</th>\n",
              "      <th>PhysicalHealth</th>\n",
              "      <th>MentalHealth</th>\n",
              "      <th>DiffWalking</th>\n",
              "      <th>Sex</th>\n",
              "      <th>AgeCategory</th>\n",
              "      <th>Race</th>\n",
              "      <th>Diabetic</th>\n",
              "      <th>PhysicalActivity</th>\n",
              "      <th>GenHealth</th>\n",
              "      <th>SleepTime</th>\n",
              "      <th>Asthma</th>\n",
              "      <th>KidneyDisease</th>\n",
              "      <th>SkinCancer</th>\n",
              "    </tr>\n",
              "  </thead>\n",
              "  <tbody>\n",
              "    <tr>\n",
              "      <th>0</th>\n",
              "      <td>No</td>\n",
              "      <td>16.60</td>\n",
              "      <td>Yes</td>\n",
              "      <td>No</td>\n",
              "      <td>No</td>\n",
              "      <td>3.0</td>\n",
              "      <td>30.0</td>\n",
              "      <td>No</td>\n",
              "      <td>Female</td>\n",
              "      <td>55-59</td>\n",
              "      <td>White</td>\n",
              "      <td>Yes</td>\n",
              "      <td>Yes</td>\n",
              "      <td>Very good</td>\n",
              "      <td>5.0</td>\n",
              "      <td>Yes</td>\n",
              "      <td>No</td>\n",
              "      <td>Yes</td>\n",
              "    </tr>\n",
              "    <tr>\n",
              "      <th>1</th>\n",
              "      <td>No</td>\n",
              "      <td>20.34</td>\n",
              "      <td>No</td>\n",
              "      <td>No</td>\n",
              "      <td>Yes</td>\n",
              "      <td>0.0</td>\n",
              "      <td>0.0</td>\n",
              "      <td>No</td>\n",
              "      <td>Female</td>\n",
              "      <td>80 or older</td>\n",
              "      <td>White</td>\n",
              "      <td>No</td>\n",
              "      <td>Yes</td>\n",
              "      <td>Very good</td>\n",
              "      <td>7.0</td>\n",
              "      <td>No</td>\n",
              "      <td>No</td>\n",
              "      <td>No</td>\n",
              "    </tr>\n",
              "    <tr>\n",
              "      <th>2</th>\n",
              "      <td>No</td>\n",
              "      <td>26.58</td>\n",
              "      <td>Yes</td>\n",
              "      <td>No</td>\n",
              "      <td>No</td>\n",
              "      <td>20.0</td>\n",
              "      <td>30.0</td>\n",
              "      <td>No</td>\n",
              "      <td>Male</td>\n",
              "      <td>65-69</td>\n",
              "      <td>White</td>\n",
              "      <td>Yes</td>\n",
              "      <td>Yes</td>\n",
              "      <td>Fair</td>\n",
              "      <td>8.0</td>\n",
              "      <td>Yes</td>\n",
              "      <td>No</td>\n",
              "      <td>No</td>\n",
              "    </tr>\n",
              "    <tr>\n",
              "      <th>3</th>\n",
              "      <td>No</td>\n",
              "      <td>24.21</td>\n",
              "      <td>No</td>\n",
              "      <td>No</td>\n",
              "      <td>No</td>\n",
              "      <td>0.0</td>\n",
              "      <td>0.0</td>\n",
              "      <td>No</td>\n",
              "      <td>Female</td>\n",
              "      <td>75-79</td>\n",
              "      <td>White</td>\n",
              "      <td>No</td>\n",
              "      <td>No</td>\n",
              "      <td>Good</td>\n",
              "      <td>6.0</td>\n",
              "      <td>No</td>\n",
              "      <td>No</td>\n",
              "      <td>Yes</td>\n",
              "    </tr>\n",
              "    <tr>\n",
              "      <th>4</th>\n",
              "      <td>No</td>\n",
              "      <td>23.71</td>\n",
              "      <td>No</td>\n",
              "      <td>No</td>\n",
              "      <td>No</td>\n",
              "      <td>28.0</td>\n",
              "      <td>0.0</td>\n",
              "      <td>Yes</td>\n",
              "      <td>Female</td>\n",
              "      <td>40-44</td>\n",
              "      <td>White</td>\n",
              "      <td>No</td>\n",
              "      <td>Yes</td>\n",
              "      <td>Very good</td>\n",
              "      <td>8.0</td>\n",
              "      <td>No</td>\n",
              "      <td>No</td>\n",
              "      <td>No</td>\n",
              "    </tr>\n",
              "    <tr>\n",
              "      <th>...</th>\n",
              "      <td>...</td>\n",
              "      <td>...</td>\n",
              "      <td>...</td>\n",
              "      <td>...</td>\n",
              "      <td>...</td>\n",
              "      <td>...</td>\n",
              "      <td>...</td>\n",
              "      <td>...</td>\n",
              "      <td>...</td>\n",
              "      <td>...</td>\n",
              "      <td>...</td>\n",
              "      <td>...</td>\n",
              "      <td>...</td>\n",
              "      <td>...</td>\n",
              "      <td>...</td>\n",
              "      <td>...</td>\n",
              "      <td>...</td>\n",
              "      <td>...</td>\n",
              "    </tr>\n",
              "    <tr>\n",
              "      <th>319790</th>\n",
              "      <td>Yes</td>\n",
              "      <td>27.41</td>\n",
              "      <td>Yes</td>\n",
              "      <td>No</td>\n",
              "      <td>No</td>\n",
              "      <td>7.0</td>\n",
              "      <td>0.0</td>\n",
              "      <td>Yes</td>\n",
              "      <td>Male</td>\n",
              "      <td>60-64</td>\n",
              "      <td>Hispanic</td>\n",
              "      <td>Yes</td>\n",
              "      <td>No</td>\n",
              "      <td>Fair</td>\n",
              "      <td>6.0</td>\n",
              "      <td>Yes</td>\n",
              "      <td>No</td>\n",
              "      <td>No</td>\n",
              "    </tr>\n",
              "    <tr>\n",
              "      <th>319791</th>\n",
              "      <td>No</td>\n",
              "      <td>29.84</td>\n",
              "      <td>Yes</td>\n",
              "      <td>No</td>\n",
              "      <td>No</td>\n",
              "      <td>0.0</td>\n",
              "      <td>0.0</td>\n",
              "      <td>No</td>\n",
              "      <td>Male</td>\n",
              "      <td>35-39</td>\n",
              "      <td>Hispanic</td>\n",
              "      <td>No</td>\n",
              "      <td>Yes</td>\n",
              "      <td>Very good</td>\n",
              "      <td>5.0</td>\n",
              "      <td>Yes</td>\n",
              "      <td>No</td>\n",
              "      <td>No</td>\n",
              "    </tr>\n",
              "    <tr>\n",
              "      <th>319792</th>\n",
              "      <td>No</td>\n",
              "      <td>24.24</td>\n",
              "      <td>No</td>\n",
              "      <td>No</td>\n",
              "      <td>No</td>\n",
              "      <td>0.0</td>\n",
              "      <td>0.0</td>\n",
              "      <td>No</td>\n",
              "      <td>Female</td>\n",
              "      <td>45-49</td>\n",
              "      <td>Hispanic</td>\n",
              "      <td>No</td>\n",
              "      <td>Yes</td>\n",
              "      <td>Good</td>\n",
              "      <td>6.0</td>\n",
              "      <td>No</td>\n",
              "      <td>No</td>\n",
              "      <td>No</td>\n",
              "    </tr>\n",
              "    <tr>\n",
              "      <th>319793</th>\n",
              "      <td>No</td>\n",
              "      <td>32.81</td>\n",
              "      <td>No</td>\n",
              "      <td>No</td>\n",
              "      <td>No</td>\n",
              "      <td>0.0</td>\n",
              "      <td>0.0</td>\n",
              "      <td>No</td>\n",
              "      <td>Female</td>\n",
              "      <td>25-29</td>\n",
              "      <td>Hispanic</td>\n",
              "      <td>No</td>\n",
              "      <td>No</td>\n",
              "      <td>Good</td>\n",
              "      <td>12.0</td>\n",
              "      <td>No</td>\n",
              "      <td>No</td>\n",
              "      <td>No</td>\n",
              "    </tr>\n",
              "    <tr>\n",
              "      <th>319794</th>\n",
              "      <td>No</td>\n",
              "      <td>46.56</td>\n",
              "      <td>No</td>\n",
              "      <td>No</td>\n",
              "      <td>No</td>\n",
              "      <td>0.0</td>\n",
              "      <td>0.0</td>\n",
              "      <td>No</td>\n",
              "      <td>Female</td>\n",
              "      <td>80 or older</td>\n",
              "      <td>Hispanic</td>\n",
              "      <td>No</td>\n",
              "      <td>Yes</td>\n",
              "      <td>Good</td>\n",
              "      <td>8.0</td>\n",
              "      <td>No</td>\n",
              "      <td>No</td>\n",
              "      <td>No</td>\n",
              "    </tr>\n",
              "  </tbody>\n",
              "</table>\n",
              "<p>319795 rows × 18 columns</p>\n",
              "</div>\n",
              "      <button class=\"colab-df-convert\" onclick=\"convertToInteractive('df-af7930c3-b5b4-4fb3-83c5-34edd1301feb')\"\n",
              "              title=\"Convert this dataframe to an interactive table.\"\n",
              "              style=\"display:none;\">\n",
              "        \n",
              "  <svg xmlns=\"http://www.w3.org/2000/svg\" height=\"24px\"viewBox=\"0 0 24 24\"\n",
              "       width=\"24px\">\n",
              "    <path d=\"M0 0h24v24H0V0z\" fill=\"none\"/>\n",
              "    <path d=\"M18.56 5.44l.94 2.06.94-2.06 2.06-.94-2.06-.94-.94-2.06-.94 2.06-2.06.94zm-11 1L8.5 8.5l.94-2.06 2.06-.94-2.06-.94L8.5 2.5l-.94 2.06-2.06.94zm10 10l.94 2.06.94-2.06 2.06-.94-2.06-.94-.94-2.06-.94 2.06-2.06.94z\"/><path d=\"M17.41 7.96l-1.37-1.37c-.4-.4-.92-.59-1.43-.59-.52 0-1.04.2-1.43.59L10.3 9.45l-7.72 7.72c-.78.78-.78 2.05 0 2.83L4 21.41c.39.39.9.59 1.41.59.51 0 1.02-.2 1.41-.59l7.78-7.78 2.81-2.81c.8-.78.8-2.07 0-2.86zM5.41 20L4 18.59l7.72-7.72 1.47 1.35L5.41 20z\"/>\n",
              "  </svg>\n",
              "      </button>\n",
              "      \n",
              "  <style>\n",
              "    .colab-df-container {\n",
              "      display:flex;\n",
              "      flex-wrap:wrap;\n",
              "      gap: 12px;\n",
              "    }\n",
              "\n",
              "    .colab-df-convert {\n",
              "      background-color: #E8F0FE;\n",
              "      border: none;\n",
              "      border-radius: 50%;\n",
              "      cursor: pointer;\n",
              "      display: none;\n",
              "      fill: #1967D2;\n",
              "      height: 32px;\n",
              "      padding: 0 0 0 0;\n",
              "      width: 32px;\n",
              "    }\n",
              "\n",
              "    .colab-df-convert:hover {\n",
              "      background-color: #E2EBFA;\n",
              "      box-shadow: 0px 1px 2px rgba(60, 64, 67, 0.3), 0px 1px 3px 1px rgba(60, 64, 67, 0.15);\n",
              "      fill: #174EA6;\n",
              "    }\n",
              "\n",
              "    [theme=dark] .colab-df-convert {\n",
              "      background-color: #3B4455;\n",
              "      fill: #D2E3FC;\n",
              "    }\n",
              "\n",
              "    [theme=dark] .colab-df-convert:hover {\n",
              "      background-color: #434B5C;\n",
              "      box-shadow: 0px 1px 3px 1px rgba(0, 0, 0, 0.15);\n",
              "      filter: drop-shadow(0px 1px 2px rgba(0, 0, 0, 0.3));\n",
              "      fill: #FFFFFF;\n",
              "    }\n",
              "  </style>\n",
              "\n",
              "      <script>\n",
              "        const buttonEl =\n",
              "          document.querySelector('#df-af7930c3-b5b4-4fb3-83c5-34edd1301feb button.colab-df-convert');\n",
              "        buttonEl.style.display =\n",
              "          google.colab.kernel.accessAllowed ? 'block' : 'none';\n",
              "\n",
              "        async function convertToInteractive(key) {\n",
              "          const element = document.querySelector('#df-af7930c3-b5b4-4fb3-83c5-34edd1301feb');\n",
              "          const dataTable =\n",
              "            await google.colab.kernel.invokeFunction('convertToInteractive',\n",
              "                                                     [key], {});\n",
              "          if (!dataTable) return;\n",
              "\n",
              "          const docLinkHtml = 'Like what you see? Visit the ' +\n",
              "            '<a target=\"_blank\" href=https://colab.research.google.com/notebooks/data_table.ipynb>data table notebook</a>'\n",
              "            + ' to learn more about interactive tables.';\n",
              "          element.innerHTML = '';\n",
              "          dataTable['output_type'] = 'display_data';\n",
              "          await google.colab.output.renderOutput(dataTable, element);\n",
              "          const docLink = document.createElement('div');\n",
              "          docLink.innerHTML = docLinkHtml;\n",
              "          element.appendChild(docLink);\n",
              "        }\n",
              "      </script>\n",
              "    </div>\n",
              "  </div>\n",
              "  "
            ]
          },
          "metadata": {},
          "execution_count": 96
        }
      ]
    },
    {
      "cell_type": "markdown",
      "source": [
        "# Análisis del Discriminante Lineal (LDA)"
      ],
      "metadata": {
        "id": "5bsfcOhPItXf"
      }
    },
    {
      "cell_type": "code",
      "source": [
        "from sklearn.discriminant_analysis import LinearDiscriminantAnalysis\n",
        "\n",
        "vars=['BMI', 'SleepTime']\n",
        "X=df[vars]\n",
        "y=df['HeartDisease']\n",
        "\n",
        "lda = LinearDiscriminantAnalysis(solver=\"svd\", store_covariance=True)\n",
        "y_pred = lda.fit(X, y).predict(X)"
      ],
      "metadata": {
        "id": "eyxjJamA8qKn"
      },
      "execution_count": 97,
      "outputs": []
    },
    {
      "cell_type": "code",
      "source": [
        "lda.score(X,y)"
      ],
      "metadata": {
        "colab": {
          "base_uri": "https://localhost:8080/"
        },
        "id": "eHCtQm3KADY3",
        "outputId": "1dd273f0-f906-4b97-fe06-5838cc450295"
      },
      "execution_count": 98,
      "outputs": [
        {
          "output_type": "execute_result",
          "data": {
            "text/plain": [
              "0.9144045404086993"
            ]
          },
          "metadata": {},
          "execution_count": 98
        }
      ]
    },
    {
      "cell_type": "code",
      "source": [
        "plt.scatter(X['SleepTime'], X['BMI'], c=pd.get_dummies(y)['Yes']*255)\n",
        "plt.show()"
      ],
      "metadata": {
        "colab": {
          "base_uri": "https://localhost:8080/",
          "height": 430
        },
        "id": "FddNpaoZAa1h",
        "outputId": "f6965ee3-1379-4b66-fd53-81fefd1020df"
      },
      "execution_count": 99,
      "outputs": [
        {
          "output_type": "display_data",
          "data": {
            "text/plain": [
              "<Figure size 640x480 with 1 Axes>"
            ],
            "image/png": "[encoded data removed]"
          },
          "metadata": {}
        }
      ]
    },
    {
      "cell_type": "code",
      "source": [
        "val=np.array([5,120]).reshape(1, -1)\n",
        "lda.predict(val)"
      ],
      "metadata": {
        "colab": {
          "base_uri": "https://localhost:8080/"
        },
        "id": "WBXi0rM1Fb0T",
        "outputId": "7d684970-5356-477b-bf55-05c1e3ca79d8"
      },
      "execution_count": 100,
      "outputs": [
        {
          "output_type": "stream",
          "name": "stderr",
          "text": [
            "/usr/local/lib/python3.9/dist-packages/sklearn/base.py:439: UserWarning: X does not have valid feature names, but LinearDiscriminantAnalysis was fitted with feature names\n",
            "  warnings.warn(\n"
          ]
        },
        {
          "output_type": "execute_result",
          "data": {
            "text/plain": [
              "array(['Yes'], dtype='<U3')"
            ]
          },
          "metadata": {},
          "execution_count": 100
        }
      ]
    },
    {
      "cell_type": "code",
      "source": [
        "from sklearn.metrics import confusion_matrix\n",
        "confusion_matrix = confusion_matrix(y, y_pred)\n",
        "print('True Negatives: ', confusion_matrix[0][0])\n",
        "print('False Positives: ', confusion_matrix[0][1])\n",
        "print('False Negatives: ', confusion_matrix[1][0])\n",
        "print('True Positives: ', confusion_matrix[1][1])"
      ],
      "metadata": {
        "colab": {
          "base_uri": "https://localhost:8080/"
        },
        "id": "TCW2MF-VHt-8",
        "outputId": "8ae068b2-e3ea-4005-c852-21c76e50d9fa"
      },
      "execution_count": 101,
      "outputs": [
        {
          "output_type": "stream",
          "name": "stdout",
          "text": [
            "True Negatives:  292422\n",
            "False Positives:  0\n",
            "False Negatives:  27373\n",
            "True Positives:  0\n"
          ]
        }
      ]
    },
    {
      "cell_type": "markdown",
      "source": [
        "# Análisis de Discriminante Cuadrático (QDA)"
      ],
      "metadata": {
        "id": "IDMBldYZIqJI"
      }
    },
    {
      "cell_type": "code",
      "source": [
        "from sklearn.discriminant_analysis import QuadraticDiscriminantAnalysis\n",
        "qda = QuadraticDiscriminantAnalysis(store_covariance=True)\n",
        "y_pred = qda.fit(X, y).predict(X)"
      ],
      "metadata": {
        "id": "BYeyB7WEEmLG"
      },
      "execution_count": 102,
      "outputs": []
    },
    {
      "cell_type": "code",
      "source": [
        "qda.score(X,y)"
      ],
      "metadata": {
        "colab": {
          "base_uri": "https://localhost:8080/"
        },
        "id": "xbJseTB3Esrj",
        "outputId": "86ced09a-c524-4ff6-d681-35efb8c6968d"
      },
      "execution_count": 103,
      "outputs": [
        {
          "output_type": "execute_result",
          "data": {
            "text/plain": [
              "0.9091042699229194"
            ]
          },
          "metadata": {},
          "execution_count": 103
        }
      ]
    },
    {
      "cell_type": "code",
      "source": [
        "from sklearn.metrics import confusion_matrix\n",
        "confusion_matrix = confusion_matrix(y, y_pred)\n",
        "print('True Negatives: ', confusion_matrix[0][0])\n",
        "print('False Positives: ', confusion_matrix[0][1])\n",
        "print('False Negatives: ', confusion_matrix[1][0])\n",
        "print('True Positives: ', confusion_matrix[1][1])"
      ],
      "metadata": {
        "colab": {
          "base_uri": "https://localhost:8080/"
        },
        "id": "PRAbEyo0H4VG",
        "outputId": "3442f849-50a3-43e4-b6c7-a7c8f6f4ff28"
      },
      "execution_count": 104,
      "outputs": [
        {
          "output_type": "stream",
          "name": "stdout",
          "text": [
            "True Negatives:  290359\n",
            "False Positives:  2063\n",
            "False Negatives:  27005\n",
            "True Positives:  368\n"
          ]
        }
      ]
    },
    {
      "cell_type": "markdown",
      "source": [
        "# Resto de las variables"
      ],
      "metadata": {
        "id": "BRk7uZkuI3-s"
      }
    },
    {
      "cell_type": "code",
      "source": [
        "df['HeartDisease'] = df['HeartDisease'].map({'Yes': 1, 'No': 0})\n",
        "df['Smoking'] = df['Smoking'].map({'Yes': 1, 'No': 0})\n",
        "df['AlcoholDrinking'] = df['AlcoholDrinking'].map({'Yes': 1, 'No': 0})\n",
        "df['Stroke'] = df['Stroke'].map({'Yes': 1, 'No': 0})\n",
        "df = pd.concat([df, pd.get_dummies(df['DiffWalking'], prefix='DifficultyWalking')], axis=1)\n",
        "df['Sex'] = df['Sex'].map({'Male': 1, 'Female':0})\n",
        "df = pd.concat([df, pd.get_dummies(df['AgeCategory'], prefix='AgeCategory')], axis=1)\n",
        "df = pd.concat([df, pd.get_dummies(df['Race'], prefix='Race')], axis=1)\n",
        "df = pd.concat([df, pd.get_dummies(df['Diabetic'], prefix='Diabetic')], axis=1)\n",
        "df['PhysicalActivity'] = df['PhysicalActivity'].map({'Yes': 1, 'No': 0})\n",
        "df = pd.concat([df, pd.get_dummies(df['GenHealth'], prefix='GenHealth')], axis=1)\n",
        "df['Asthma'] = df['Asthma'].map({'Yes': 1, 'No': 0})\n",
        "df['KidneyDisease'] = df['KidneyDisease'].map({'Yes': 1, 'No': 0})\n",
        "df['SkinCancer'] = df['SkinCancer'].map({'Yes': 1, 'No': 0})\n",
        "df = df.drop(['DiffWalking'], axis=1)\n",
        "df = df.drop(['AgeCategory'], axis=1)\n",
        "df = df.drop(['Race'], axis=1)\n",
        "df = df.drop(['GenHealth'], axis=1)\n",
        "df = df.drop(['Diabetic'], axis=1)"
      ],
      "metadata": {
        "id": "5iSyOZAtG8eB"
      },
      "execution_count": 105,
      "outputs": []
    },
    {
      "cell_type": "code",
      "source": [
        "vars=list(df.columns)\n",
        "vars.remove('HeartDisease')"
      ],
      "metadata": {
        "id": "1P7B0QmPHIOy"
      },
      "execution_count": 106,
      "outputs": []
    },
    {
      "cell_type": "code",
      "source": [
        "lda = LinearDiscriminantAnalysis(solver=\"svd\", store_covariance=True)\n",
        "X=df[vars]\n",
        "y_pred = lda.fit(X, y).predict(X)"
      ],
      "metadata": {
        "id": "cJykVxfpHbMs"
      },
      "execution_count": 107,
      "outputs": []
    },
    {
      "cell_type": "code",
      "source": [
        "lda.score(X,y)"
      ],
      "metadata": {
        "colab": {
          "base_uri": "https://localhost:8080/"
        },
        "id": "nKm7B9XNHksX",
        "outputId": "8b40e72c-9f61-4834-aec0-0055fab2fc67"
      },
      "execution_count": 108,
      "outputs": [
        {
          "output_type": "execute_result",
          "data": {
            "text/plain": [
              "0.9078440876186307"
            ]
          },
          "metadata": {},
          "execution_count": 108
        }
      ]
    },
    {
      "cell_type": "code",
      "source": [
        "from sklearn.metrics import confusion_matrix\n",
        "confusion_matrix = confusion_matrix(y, y_pred)\n",
        "print('True Negatives: ', confusion_matrix[0][0])\n",
        "print('False Positives: ', confusion_matrix[0][1])\n",
        "print('False Negatives: ', confusion_matrix[1][0])\n",
        "print('True Positives: ', confusion_matrix[1][1])"
      ],
      "metadata": {
        "colab": {
          "base_uri": "https://localhost:8080/"
        },
        "id": "Ii-gddJoH5-V",
        "outputId": "991d2425-6eff-4c1f-ccb2-370e5ddbd5b5"
      },
      "execution_count": 109,
      "outputs": [
        {
          "output_type": "stream",
          "name": "stdout",
          "text": [
            "True Negatives:  283442\n",
            "False Positives:  8980\n",
            "False Negatives:  20491\n",
            "True Positives:  6882\n"
          ]
        }
      ]
    }
  ]
}