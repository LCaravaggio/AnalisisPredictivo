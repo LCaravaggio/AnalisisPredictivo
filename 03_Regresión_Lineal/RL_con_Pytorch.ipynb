{
  "nbformat": 4,
  "nbformat_minor": 0,
  "metadata": {
    "colab": {
      "name": "RL con Pytorch.ipynb",
      "provenance": [],
      "authorship_tag": "ABX9TyPuun/PLmD1zSnHCv9+dd53",
      "include_colab_link": true
    },
    "kernelspec": {
      "name": "python3",
      "display_name": "Python 3"
    },
    "language_info": {
      "name": "python"
    }
  },
  "cells": [
    {
      "cell_type": "markdown",
      "metadata": {
        "id": "view-in-github",
        "colab_type": "text"
      },
      "source": [
        "<a href=\"https://colab.research.google.com/github/LCaravaggio/AnalisisPredictivo/blob/master/03_Regresi%C3%B3n_Lineal/RL_con_Pytorch.ipynb\" target=\"_parent\"><img src=\"https://colab.research.google.com/assets/colab-badge.svg\" alt=\"Open In Colab\"/></a>"
      ]
    },
    {
      "cell_type": "markdown",
      "metadata": {
        "id": "iy6ZTn67Zmdi"
      },
      "source": [
        "# RL con Pytorch"
      ]
    },
    {
      "cell_type": "markdown",
      "metadata": {
        "id": "aACkjRdSbN-2"
      },
      "source": [
        "Si bien esta librería (al igual que Tensorflow) no tiene mucho sentido usarla para RL porque es una librería más típica de DeepLearning, puede tener sentido presentarla en este ejemplo sencillo como introducción. "
      ]
    },
    {
      "cell_type": "code",
      "metadata": {
        "id": "RwyT-OdjVsfM"
      },
      "source": [
        "from sklearn import datasets\n",
        "import numpy as np\n",
        "\n",
        "import torch"
      ],
      "execution_count": 1,
      "outputs": []
    },
    {
      "cell_type": "markdown",
      "metadata": {
        "id": "8gZYgbLWZgYQ"
      },
      "source": [
        "Tomamos los mismos datos del dataset de Boston que usamos para la regresión simple. "
      ]
    },
    {
      "cell_type": "code",
      "metadata": {
        "colab": {
          "base_uri": "https://localhost:8080/"
        },
        "id": "_FuGpnzQXFnp",
        "outputId": "a7003a2b-e735-463f-d43c-f5735381963a"
      },
      "source": [
        "boston = datasets.load_boston()"
      ],
      "execution_count": 2,
      "outputs": [
        {
          "output_type": "stream",
          "name": "stderr",
          "text": [
            "/usr/local/lib/python3.7/dist-packages/sklearn/utils/deprecation.py:87: FutureWarning: Function load_boston is deprecated; `load_boston` is deprecated in 1.0 and will be removed in 1.2.\n",
            "\n",
            "    The Boston housing prices dataset has an ethical problem. You can refer to\n",
            "    the documentation of this function for further details.\n",
            "\n",
            "    The scikit-learn maintainers therefore strongly discourage the use of this\n",
            "    dataset unless the purpose of the code is to study and educate about\n",
            "    ethical issues in data science and machine learning.\n",
            "\n",
            "    In this special case, you can fetch the dataset from the original\n",
            "    source::\n",
            "\n",
            "        import pandas as pd\n",
            "        import numpy as np\n",
            "\n",
            "\n",
            "        data_url = \"http://lib.stat.cmu.edu/datasets/boston\"\n",
            "        raw_df = pd.read_csv(data_url, sep=\"\\s+\", skiprows=22, header=None)\n",
            "        data = np.hstack([raw_df.values[::2, :], raw_df.values[1::2, :2]])\n",
            "        target = raw_df.values[1::2, 2]\n",
            "\n",
            "    Alternative datasets include the California housing dataset (i.e.\n",
            "    :func:`~sklearn.datasets.fetch_california_housing`) and the Ames housing\n",
            "    dataset. You can load the datasets as follows::\n",
            "\n",
            "        from sklearn.datasets import fetch_california_housing\n",
            "        housing = fetch_california_housing()\n",
            "\n",
            "    for the California housing dataset and::\n",
            "\n",
            "        from sklearn.datasets import fetch_openml\n",
            "        housing = fetch_openml(name=\"house_prices\", as_frame=True)\n",
            "\n",
            "    for the Ames housing dataset.\n",
            "    \n",
            "  warnings.warn(msg, category=FutureWarning)\n"
          ]
        }
      ]
    },
    {
      "cell_type": "code",
      "metadata": {
        "id": "dd1tuPQdV959"
      },
      "source": [
        "X = boston.data[:, np.newaxis, 5]\n",
        "y = boston.target"
      ],
      "execution_count": 3,
      "outputs": []
    },
    {
      "cell_type": "markdown",
      "metadata": {
        "id": "fPN-Sdiib6NT"
      },
      "source": [
        "Pytorch trabaja directamente sobre tensores. Veamos un poco que es un tensor y como lo trabaja Pytorch"
      ]
    },
    {
      "cell_type": "code",
      "metadata": {
        "colab": {
          "base_uri": "https://localhost:8080/",
          "height": 35
        },
        "id": "hTGvMMj7TRW7",
        "outputId": "bae0f01a-04cb-429d-90bc-cea738095d71"
      },
      "source": [
        "torch.__version__"
      ],
      "execution_count": 4,
      "outputs": [
        {
          "output_type": "execute_result",
          "data": {
            "application/vnd.google.colaboratory.intrinsic+json": {
              "type": "string"
            },
            "text/plain": [
              "'1.10.0+cu111'"
            ]
          },
          "metadata": {},
          "execution_count": 4
        }
      ]
    },
    {
      "cell_type": "code",
      "metadata": {
        "id": "OXhI567HTXA6"
      },
      "source": [
        "# empty genera un tensor vacío\n",
        "tensor=torch.empty(2,2)"
      ],
      "execution_count": 16,
      "outputs": []
    },
    {
      "cell_type": "code",
      "metadata": {
        "id": "eu3P6lEZTuC_"
      },
      "source": [
        "# Rand genera un tensor aleatorio\n",
        "tensor=torch.rand(2,2)"
      ],
      "execution_count": 17,
      "outputs": []
    },
    {
      "cell_type": "code",
      "metadata": {
        "colab": {
          "base_uri": "https://localhost:8080/"
        },
        "id": "gFtc8KDddRm-",
        "outputId": "60be2bfb-d312-41e6-8d04-c6290c144241"
      },
      "source": [
        "tensor"
      ],
      "execution_count": 18,
      "outputs": [
        {
          "output_type": "execute_result",
          "data": {
            "text/plain": [
              "tensor([[0.2486, 0.6910],\n",
              "        [0.3756, 0.6126]])"
            ]
          },
          "metadata": {},
          "execution_count": 18
        }
      ]
    },
    {
      "cell_type": "code",
      "metadata": {
        "colab": {
          "base_uri": "https://localhost:8080/"
        },
        "id": "5maMedF1dTuW",
        "outputId": "47890d26-5b5f-42ce-f4eb-d71a9c8cdf40"
      },
      "source": [
        "# Fíjense que si suman un número a un tensor, se suma elemento a elemento como si el número fuera un tensor del mismo tamaño\n",
        "tensor+1"
      ],
      "execution_count": 19,
      "outputs": [
        {
          "output_type": "execute_result",
          "data": {
            "text/plain": [
              "tensor([[1.2486, 1.6910],\n",
              "        [1.3756, 1.6126]])"
            ]
          },
          "metadata": {},
          "execution_count": 19
        }
      ]
    },
    {
      "cell_type": "code",
      "metadata": {
        "colab": {
          "base_uri": "https://localhost:8080/"
        },
        "id": "811cxipreJE-",
        "outputId": "58d1dd1f-bd31-4344-bb29-4c5f0c5581c9"
      },
      "source": [
        "# Se genera la multiplicación elemento a elemento (y no la multiplicación matricial)\n",
        "tensor*tensor"
      ],
      "execution_count": 20,
      "outputs": [
        {
          "output_type": "execute_result",
          "data": {
            "text/plain": [
              "tensor([[0.0618, 0.4774],\n",
              "        [0.1411, 0.3753]])"
            ]
          },
          "metadata": {},
          "execution_count": 20
        }
      ]
    },
    {
      "cell_type": "code",
      "metadata": {
        "colab": {
          "base_uri": "https://localhost:8080/"
        },
        "id": "ebeJpr7Wd-JD",
        "outputId": "2b883696-2876-4892-dfba-168c1aded126"
      },
      "source": [
        "# Mean devuelve la media de todos los elementos del tensor\n",
        "tensor.mean()"
      ],
      "execution_count": 14,
      "outputs": [
        {
          "output_type": "execute_result",
          "data": {
            "text/plain": [
              "tensor(0.5233)"
            ]
          },
          "metadata": {},
          "execution_count": 14
        }
      ]
    },
    {
      "cell_type": "markdown",
      "metadata": {
        "id": "B2IFpn-LcMPE"
      },
      "source": [
        "Definimos una clase para regresión lineal, que hereda torch.nn.Module, que es el módulo básico de la red neuronal que contiene todas las funciones requeridas. Nuestro modelo de regresión lineal solo contiene una función lineal simple."
      ]
    },
    {
      "cell_type": "code",
      "metadata": {
        "id": "gXqXhr9WUPZS"
      },
      "source": [
        "from torch.autograd import Variable\n",
        "class linearRegression(torch.nn.Module):\n",
        "    def __init__(self, inputSize, outputSize):\n",
        "        super(linearRegression, self).__init__()\n",
        "        self.linear = torch.nn.Linear(inputSize, outputSize)\n",
        "\n",
        "    def forward(self, x):\n",
        "        out = self.linear(x)\n",
        "        return out"
      ],
      "execution_count": 7,
      "outputs": []
    },
    {
      "cell_type": "code",
      "metadata": {
        "id": "4BbPChOVWfak"
      },
      "source": [
        "inputDim = 1        # takes variable 'x' \n",
        "outputDim = 1       # takes variable 'y'\n",
        "learningRate = 0.001 \n",
        "epochs = 100\n",
        "\n",
        "model = linearRegression(inputDim, outputDim)\n",
        "##### For GPU #######\n",
        "if torch.cuda.is_available():\n",
        "    model.cuda()"
      ],
      "execution_count": 8,
      "outputs": []
    },
    {
      "cell_type": "code",
      "metadata": {
        "id": "VtepNPASWlBi"
      },
      "source": [
        "criterion = torch.nn.MSELoss() \n",
        "optimizer = torch.optim.SGD(model.parameters(), lr=learningRate)"
      ],
      "execution_count": 9,
      "outputs": []
    },
    {
      "cell_type": "code",
      "metadata": {
        "colab": {
          "base_uri": "https://localhost:8080/"
        },
        "id": "jy6qn0FQWpmC",
        "outputId": "7bfc904b-4bff-4c13-b85e-09dc01990d9e"
      },
      "source": [
        "for epoch in range(epochs):\n",
        "    # Converting inputs and labels to Variable\n",
        "    if torch.cuda.is_available():\n",
        "        inputs = Variable(torch.from_numpy(X).cuda()).to(torch.float)\n",
        "        labels = Variable(torch.from_numpy(y).cuda()).to(torch.float)\n",
        "    else:\n",
        "        inputs = Variable(torch.from_numpy(X)).to(torch.float)\n",
        "        labels = Variable(torch.from_numpy(y)).to(torch.float)\n",
        "\n",
        "    # Clear gradient buffers because we don't want any gradient from previous epoch to carry forward, dont want to cummulate gradients\n",
        "    optimizer.zero_grad()\n",
        "\n",
        "    # get output from the model, given the inputs\n",
        "    outputs = model(inputs)\n",
        "\n",
        "    # get loss for the predicted output\n",
        "    loss = criterion(outputs, labels)\n",
        "    print(loss)\n",
        "    # get gradients w.r.t to parameters\n",
        "    loss.backward()\n",
        "\n",
        "    # update parameters\n",
        "    optimizer.step()\n",
        "\n",
        "    print('epoch {}, loss {}'.format(epoch, loss.item()))"
      ],
      "execution_count": 10,
      "outputs": [
        {
          "output_type": "stream",
          "name": "stderr",
          "text": [
            "/usr/local/lib/python3.7/dist-packages/torch/nn/modules/loss.py:520: UserWarning: Using a target size (torch.Size([506])) that is different to the input size (torch.Size([506, 1])). This will likely lead to incorrect results due to broadcasting. Please ensure they have the same size.\n",
            "  return F.mse_loss(input, target, reduction=self.reduction)\n"
          ]
        },
        {
          "output_type": "stream",
          "name": "stdout",
          "text": [
            "tensor(590.3024, grad_fn=<MseLossBackward0>)\n",
            "epoch 0, loss 590.3023681640625\n",
            "tensor(511.7299, grad_fn=<MseLossBackward0>)\n",
            "epoch 1, loss 511.7298583984375\n",
            "tensor(445.5084, grad_fn=<MseLossBackward0>)\n",
            "epoch 2, loss 445.5084228515625\n",
            "tensor(389.6965, grad_fn=<MseLossBackward0>)\n",
            "epoch 3, loss 389.69647216796875\n",
            "tensor(342.6577, grad_fn=<MseLossBackward0>)\n",
            "epoch 4, loss 342.6576843261719\n",
            "tensor(303.0130, grad_fn=<MseLossBackward0>)\n",
            "epoch 5, loss 303.01300048828125\n",
            "tensor(269.6002, grad_fn=<MseLossBackward0>)\n",
            "epoch 6, loss 269.60015869140625\n",
            "tensor(241.4395, grad_fn=<MseLossBackward0>)\n",
            "epoch 7, loss 241.4394989013672\n",
            "tensor(217.7054, grad_fn=<MseLossBackward0>)\n",
            "epoch 8, loss 217.7054443359375\n",
            "tensor(197.7021, grad_fn=<MseLossBackward0>)\n",
            "epoch 9, loss 197.70213317871094\n",
            "tensor(180.8432, grad_fn=<MseLossBackward0>)\n",
            "epoch 10, loss 180.84317016601562\n",
            "tensor(166.6343, grad_fn=<MseLossBackward0>)\n",
            "epoch 11, loss 166.63426208496094\n",
            "tensor(154.6589, grad_fn=<MseLossBackward0>)\n",
            "epoch 12, loss 154.65887451171875\n",
            "tensor(144.5658, grad_fn=<MseLossBackward0>)\n",
            "epoch 13, loss 144.56582641601562\n",
            "tensor(136.0593, grad_fn=<MseLossBackward0>)\n",
            "epoch 14, loss 136.05934143066406\n",
            "tensor(128.8900, grad_fn=<MseLossBackward0>)\n",
            "epoch 15, loss 128.88995361328125\n",
            "tensor(122.8475, grad_fn=<MseLossBackward0>)\n",
            "epoch 16, loss 122.84747314453125\n",
            "tensor(117.7548, grad_fn=<MseLossBackward0>)\n",
            "epoch 17, loss 117.75481414794922\n",
            "tensor(113.4626, grad_fn=<MseLossBackward0>)\n",
            "epoch 18, loss 113.46261596679688\n",
            "tensor(109.8451, grad_fn=<MseLossBackward0>)\n",
            "epoch 19, loss 109.8450698852539\n",
            "tensor(106.7962, grad_fn=<MseLossBackward0>)\n",
            "epoch 20, loss 106.79615020751953\n",
            "tensor(104.2264, grad_fn=<MseLossBackward0>)\n",
            "epoch 21, loss 104.2264404296875\n",
            "tensor(102.0606, grad_fn=<MseLossBackward0>)\n",
            "epoch 22, loss 102.06062316894531\n",
            "tensor(100.2352, grad_fn=<MseLossBackward0>)\n",
            "epoch 23, loss 100.2352294921875\n",
            "tensor(98.6967, grad_fn=<MseLossBackward0>)\n",
            "epoch 24, loss 98.69670867919922\n",
            "tensor(97.4000, grad_fn=<MseLossBackward0>)\n",
            "epoch 25, loss 97.39998626708984\n",
            "tensor(96.3071, grad_fn=<MseLossBackward0>)\n",
            "epoch 26, loss 96.30706787109375\n",
            "tensor(95.3859, grad_fn=<MseLossBackward0>)\n",
            "epoch 27, loss 95.38587951660156\n",
            "tensor(94.6095, grad_fn=<MseLossBackward0>)\n",
            "epoch 28, loss 94.60945892333984\n",
            "tensor(93.9551, grad_fn=<MseLossBackward0>)\n",
            "epoch 29, loss 93.9550552368164\n",
            "tensor(93.4035, grad_fn=<MseLossBackward0>)\n",
            "epoch 30, loss 93.40345764160156\n",
            "tensor(92.9385, grad_fn=<MseLossBackward0>)\n",
            "epoch 31, loss 92.93852996826172\n",
            "tensor(92.5466, grad_fn=<MseLossBackward0>)\n",
            "epoch 32, loss 92.54662322998047\n",
            "tensor(92.2163, grad_fn=<MseLossBackward0>)\n",
            "epoch 33, loss 92.21630096435547\n",
            "tensor(91.9378, grad_fn=<MseLossBackward0>)\n",
            "epoch 34, loss 91.93783569335938\n",
            "tensor(91.7031, grad_fn=<MseLossBackward0>)\n",
            "epoch 35, loss 91.70310974121094\n",
            "tensor(91.5052, grad_fn=<MseLossBackward0>)\n",
            "epoch 36, loss 91.50524139404297\n",
            "tensor(91.3384, grad_fn=<MseLossBackward0>)\n",
            "epoch 37, loss 91.33841705322266\n",
            "tensor(91.1978, grad_fn=<MseLossBackward0>)\n",
            "epoch 38, loss 91.19779205322266\n",
            "tensor(91.0792, grad_fn=<MseLossBackward0>)\n",
            "epoch 39, loss 91.0792007446289\n",
            "tensor(90.9792, grad_fn=<MseLossBackward0>)\n",
            "epoch 40, loss 90.97921752929688\n",
            "tensor(90.8949, grad_fn=<MseLossBackward0>)\n",
            "epoch 41, loss 90.89490509033203\n",
            "tensor(90.8238, grad_fn=<MseLossBackward0>)\n",
            "epoch 42, loss 90.82379150390625\n",
            "tensor(90.7638, grad_fn=<MseLossBackward0>)\n",
            "epoch 43, loss 90.76382446289062\n",
            "tensor(90.7132, grad_fn=<MseLossBackward0>)\n",
            "epoch 44, loss 90.7132339477539\n",
            "tensor(90.6705, grad_fn=<MseLossBackward0>)\n",
            "epoch 45, loss 90.67054748535156\n",
            "tensor(90.6345, grad_fn=<MseLossBackward0>)\n",
            "epoch 46, loss 90.63452911376953\n",
            "tensor(90.6041, grad_fn=<MseLossBackward0>)\n",
            "epoch 47, loss 90.6041259765625\n",
            "tensor(90.5785, grad_fn=<MseLossBackward0>)\n",
            "epoch 48, loss 90.57845306396484\n",
            "tensor(90.5568, grad_fn=<MseLossBackward0>)\n",
            "epoch 49, loss 90.55677032470703\n",
            "tensor(90.5385, grad_fn=<MseLossBackward0>)\n",
            "epoch 50, loss 90.53845977783203\n",
            "tensor(90.5230, grad_fn=<MseLossBackward0>)\n",
            "epoch 51, loss 90.52296447753906\n",
            "tensor(90.5099, grad_fn=<MseLossBackward0>)\n",
            "epoch 52, loss 90.50987243652344\n",
            "tensor(90.4988, grad_fn=<MseLossBackward0>)\n",
            "epoch 53, loss 90.49878692626953\n",
            "tensor(90.4894, grad_fn=<MseLossBackward0>)\n",
            "epoch 54, loss 90.48941802978516\n",
            "tensor(90.4814, grad_fn=<MseLossBackward0>)\n",
            "epoch 55, loss 90.4814453125\n",
            "tensor(90.4747, grad_fn=<MseLossBackward0>)\n",
            "epoch 56, loss 90.47470092773438\n",
            "tensor(90.4690, grad_fn=<MseLossBackward0>)\n",
            "epoch 57, loss 90.46896362304688\n",
            "tensor(90.4641, grad_fn=<MseLossBackward0>)\n",
            "epoch 58, loss 90.46408081054688\n",
            "tensor(90.4599, grad_fn=<MseLossBackward0>)\n",
            "epoch 59, loss 90.4599380493164\n",
            "tensor(90.4564, grad_fn=<MseLossBackward0>)\n",
            "epoch 60, loss 90.45637512207031\n",
            "tensor(90.4533, grad_fn=<MseLossBackward0>)\n",
            "epoch 61, loss 90.4533462524414\n",
            "tensor(90.4507, grad_fn=<MseLossBackward0>)\n",
            "epoch 62, loss 90.45074462890625\n",
            "tensor(90.4485, grad_fn=<MseLossBackward0>)\n",
            "epoch 63, loss 90.44850158691406\n",
            "tensor(90.4466, grad_fn=<MseLossBackward0>)\n",
            "epoch 64, loss 90.44656372070312\n",
            "tensor(90.4449, grad_fn=<MseLossBackward0>)\n",
            "epoch 65, loss 90.44488525390625\n",
            "tensor(90.4434, grad_fn=<MseLossBackward0>)\n",
            "epoch 66, loss 90.44342041015625\n",
            "tensor(90.4422, grad_fn=<MseLossBackward0>)\n",
            "epoch 67, loss 90.44215393066406\n",
            "tensor(90.4410, grad_fn=<MseLossBackward0>)\n",
            "epoch 68, loss 90.44103240966797\n",
            "tensor(90.4400, grad_fn=<MseLossBackward0>)\n",
            "epoch 69, loss 90.4400405883789\n",
            "tensor(90.4392, grad_fn=<MseLossBackward0>)\n",
            "epoch 70, loss 90.43916320800781\n",
            "tensor(90.4384, grad_fn=<MseLossBackward0>)\n",
            "epoch 71, loss 90.4383773803711\n",
            "tensor(90.4377, grad_fn=<MseLossBackward0>)\n",
            "epoch 72, loss 90.43767547607422\n",
            "tensor(90.4370, grad_fn=<MseLossBackward0>)\n",
            "epoch 73, loss 90.4370346069336\n",
            "tensor(90.4364, grad_fn=<MseLossBackward0>)\n",
            "epoch 74, loss 90.43643951416016\n",
            "tensor(90.4359, grad_fn=<MseLossBackward0>)\n",
            "epoch 75, loss 90.43590545654297\n",
            "tensor(90.4354, grad_fn=<MseLossBackward0>)\n",
            "epoch 76, loss 90.4354019165039\n",
            "tensor(90.4349, grad_fn=<MseLossBackward0>)\n",
            "epoch 77, loss 90.4349365234375\n",
            "tensor(90.4345, grad_fn=<MseLossBackward0>)\n",
            "epoch 78, loss 90.43449401855469\n",
            "tensor(90.4341, grad_fn=<MseLossBackward0>)\n",
            "epoch 79, loss 90.43408203125\n",
            "tensor(90.4337, grad_fn=<MseLossBackward0>)\n",
            "epoch 80, loss 90.43368530273438\n",
            "tensor(90.4333, grad_fn=<MseLossBackward0>)\n",
            "epoch 81, loss 90.43330383300781\n",
            "tensor(90.4329, grad_fn=<MseLossBackward0>)\n",
            "epoch 82, loss 90.43293762207031\n",
            "tensor(90.4326, grad_fn=<MseLossBackward0>)\n",
            "epoch 83, loss 90.43257904052734\n",
            "tensor(90.4322, grad_fn=<MseLossBackward0>)\n",
            "epoch 84, loss 90.43223571777344\n",
            "tensor(90.4319, grad_fn=<MseLossBackward0>)\n",
            "epoch 85, loss 90.4319076538086\n",
            "tensor(90.4316, grad_fn=<MseLossBackward0>)\n",
            "epoch 86, loss 90.43158721923828\n",
            "tensor(90.4313, grad_fn=<MseLossBackward0>)\n",
            "epoch 87, loss 90.43125915527344\n",
            "tensor(90.4310, grad_fn=<MseLossBackward0>)\n",
            "epoch 88, loss 90.43095397949219\n",
            "tensor(90.4306, grad_fn=<MseLossBackward0>)\n",
            "epoch 89, loss 90.4306411743164\n",
            "tensor(90.4303, grad_fn=<MseLossBackward0>)\n",
            "epoch 90, loss 90.43031311035156\n",
            "tensor(90.4300, grad_fn=<MseLossBackward0>)\n",
            "epoch 91, loss 90.43001556396484\n",
            "tensor(90.4297, grad_fn=<MseLossBackward0>)\n",
            "epoch 92, loss 90.42971801757812\n",
            "tensor(90.4294, grad_fn=<MseLossBackward0>)\n",
            "epoch 93, loss 90.42941284179688\n",
            "tensor(90.4291, grad_fn=<MseLossBackward0>)\n",
            "epoch 94, loss 90.42911529541016\n",
            "tensor(90.4288, grad_fn=<MseLossBackward0>)\n",
            "epoch 95, loss 90.42882537841797\n",
            "tensor(90.4285, grad_fn=<MseLossBackward0>)\n",
            "epoch 96, loss 90.42852783203125\n",
            "tensor(90.4282, grad_fn=<MseLossBackward0>)\n",
            "epoch 97, loss 90.42823028564453\n",
            "tensor(90.4279, grad_fn=<MseLossBackward0>)\n",
            "epoch 98, loss 90.42792510986328\n",
            "tensor(90.4276, grad_fn=<MseLossBackward0>)\n",
            "epoch 99, loss 90.42764282226562\n"
          ]
        }
      ]
    },
    {
      "cell_type": "markdown",
      "metadata": {
        "id": "HfzgoCWPcj_I"
      },
      "source": [
        "Vemos en el gráfico que la recta no termina de ajustar bien a los datos. Probablemente porque no terminó de entrenar."
      ]
    },
    {
      "cell_type": "code",
      "metadata": {
        "colab": {
          "base_uri": "https://localhost:8080/",
          "height": 265
        },
        "id": "4ybyhyGQXgxR",
        "outputId": "b70d2d0f-e002-4eb8-fb03-1f46c91b6e0a"
      },
      "source": [
        "from matplotlib import pyplot as plt\n",
        "\n",
        "with torch.no_grad(): # we don't need gradients in the testing phase\n",
        "    if torch.cuda.is_available():\n",
        "        predicted = model(Variable(torch.from_numpy(X).cuda())).cpu().data.numpy()\n",
        "    else:\n",
        "        predicted = model(Variable(torch.from_numpy(X).to(torch.float))).data.numpy()\n",
        "    #print(predicted)\n",
        "\n",
        "plt.clf()\n",
        "plt.plot(X, y, 'go', label='True data', alpha=0.5)\n",
        "plt.plot(X, predicted, '--', label='Predictions', alpha=0.5)\n",
        "plt.legend(loc='best')\n",
        "plt.show()"
      ],
      "execution_count": 11,
      "outputs": [
        {
          "output_type": "display_data",
          "data": {
            "image/png": "[encoded data removed]",
            "text/plain": [
              "<Figure size 432x288 with 1 Axes>"
            ]
          },
          "metadata": {
            "needs_background": "light"
          }
        }
      ]
    }
  ]
}