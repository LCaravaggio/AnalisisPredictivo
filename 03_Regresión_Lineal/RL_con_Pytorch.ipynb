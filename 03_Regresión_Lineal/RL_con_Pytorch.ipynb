{
  "nbformat": 4,
  "nbformat_minor": 0,
  "metadata": {
    "colab": {
      "name": "RL con Pytorch.ipynb",
      "provenance": [],
      "authorship_tag": "ABX9TyO05grE1cKRsp69+MIgizZs",
      "include_colab_link": true
    },
    "kernelspec": {
      "name": "python3",
      "display_name": "Python 3"
    },
    "language_info": {
      "name": "python"
    }
  },
  "cells": [
    {
      "cell_type": "markdown",
      "metadata": {
        "id": "view-in-github",
        "colab_type": "text"
      },
      "source": [
        "<a href=\"https://colab.research.google.com/github/LCaravaggio/AnalisisPredictivo/blob/master/03_Regresi%C3%B3n_Lineal/RL_con_Pytorch.ipynb\" target=\"_parent\"><img src=\"https://colab.research.google.com/assets/colab-badge.svg\" alt=\"Open In Colab\"/></a>"
      ]
    },
    {
      "cell_type": "markdown",
      "metadata": {
        "id": "iy6ZTn67Zmdi"
      },
      "source": [
        "# RL con Pytorch"
      ]
    },
    {
      "cell_type": "markdown",
      "metadata": {
        "id": "aACkjRdSbN-2"
      },
      "source": [
        "Si bien esta librería (al igual que Tensorflow) no tiene mucho sentido usarla para RL porque es una librería más típica de DeepLearning, puede tener sentido presentarla en este ejemplo sencillo como introducción. "
      ]
    },
    {
      "cell_type": "code",
      "metadata": {
        "id": "RwyT-OdjVsfM"
      },
      "source": [
        "from sklearn import datasets\n",
        "import numpy as np\n",
        "\n",
        "import torch"
      ],
      "execution_count": 2075,
      "outputs": []
    },
    {
      "cell_type": "markdown",
      "metadata": {
        "id": "8gZYgbLWZgYQ"
      },
      "source": [
        "Tomamos los mismos datos del dataset de Boston que usamos para la regresión simple. "
      ]
    },
    {
      "cell_type": "code",
      "metadata": {
        "id": "_FuGpnzQXFnp"
      },
      "source": [
        "from sklearn.datasets import make_regression\n",
        "X, y = make_regression(n_samples=1000, n_features=1, noise=0.75, random_state=42)"
      ],
      "execution_count": 2076,
      "outputs": []
    },
    {
      "cell_type": "code",
      "source": [
        "X = np.float32(X)\n",
        "y = np.float32(y).reshape(-1, 1)"
      ],
      "metadata": {
        "id": "3fRygcBGY26r"
      },
      "execution_count": 2077,
      "outputs": []
    },
    {
      "cell_type": "code",
      "source": [
        "from sklearn.preprocessing import MinMaxScaler\n",
        "# Normalize the data\n",
        "scaler = MinMaxScaler()\n",
        "X = scaler.fit_transform(X)\n",
        "y = scaler.fit_transform(y)"
      ],
      "metadata": {
        "id": "HFbe_Zh2nayj"
      },
      "execution_count": 2078,
      "outputs": []
    },
    {
      "cell_type": "code",
      "source": [
        "from matplotlib import pyplot as plt\n",
        "\n",
        "plt.clf()\n",
        "plt.plot(X, y, 'go', label='True data', alpha=0.5)\n",
        "plt.legend(loc='best')\n",
        "plt.show()"
      ],
      "metadata": {
        "id": "DTgxErZRbmLB",
        "outputId": "09e3e812-de45-4577-9a77-cadbc48c1cd2",
        "colab": {
          "base_uri": "https://localhost:8080/",
          "height": 430
        }
      },
      "execution_count": 2079,
      "outputs": [
        {
          "output_type": "display_data",
          "data": {
            "text/plain": [
              "<Figure size 640x480 with 1 Axes>"
            ],
            "image/png": "[encoded data removed]"
          },
          "metadata": {}
        }
      ]
    },
    {
      "cell_type": "markdown",
      "metadata": {
        "id": "fPN-Sdiib6NT"
      },
      "source": [
        "Pytorch trabaja directamente sobre tensores. Veamos un poco que es un tensor y como lo trabaja Pytorch"
      ]
    },
    {
      "cell_type": "code",
      "metadata": {
        "colab": {
          "base_uri": "https://localhost:8080/",
          "height": 35
        },
        "id": "hTGvMMj7TRW7",
        "outputId": "4ede0850-ff05-4fa2-c830-b6650bd45c5e"
      },
      "source": [
        "torch.__version__"
      ],
      "execution_count": 2080,
      "outputs": [
        {
          "output_type": "execute_result",
          "data": {
            "text/plain": [
              "'2.0.0+cu118'"
            ],
            "application/vnd.google.colaboratory.intrinsic+json": {
              "type": "string"
            }
          },
          "metadata": {},
          "execution_count": 2080
        }
      ]
    },
    {
      "cell_type": "code",
      "metadata": {
        "id": "OXhI567HTXA6"
      },
      "source": [
        "# empty genera un tensor vacío\n",
        "tensor=torch.empty(2,2)"
      ],
      "execution_count": 2081,
      "outputs": []
    },
    {
      "cell_type": "code",
      "metadata": {
        "id": "eu3P6lEZTuC_"
      },
      "source": [
        "# Rand genera un tensor aleatorio\n",
        "tensor=torch.rand(2,2)"
      ],
      "execution_count": 2082,
      "outputs": []
    },
    {
      "cell_type": "code",
      "metadata": {
        "colab": {
          "base_uri": "https://localhost:8080/"
        },
        "id": "gFtc8KDddRm-",
        "outputId": "e8aed94e-8bd6-45b3-8ea6-f04ddcfcd5ad"
      },
      "source": [
        "tensor"
      ],
      "execution_count": 2083,
      "outputs": [
        {
          "output_type": "execute_result",
          "data": {
            "text/plain": [
              "tensor([[0.3285, 0.2548],\n",
              "        [0.6762, 0.5680]])"
            ]
          },
          "metadata": {},
          "execution_count": 2083
        }
      ]
    },
    {
      "cell_type": "code",
      "metadata": {
        "colab": {
          "base_uri": "https://localhost:8080/"
        },
        "id": "5maMedF1dTuW",
        "outputId": "d625b2a3-2ab1-40b4-dd44-29e66dbe902a"
      },
      "source": [
        "# Fíjense que si suman un número a un tensor, se suma elemento a elemento como si el número fuera un tensor del mismo tamaño\n",
        "tensor+1"
      ],
      "execution_count": 2084,
      "outputs": [
        {
          "output_type": "execute_result",
          "data": {
            "text/plain": [
              "tensor([[1.3285, 1.2548],\n",
              "        [1.6762, 1.5680]])"
            ]
          },
          "metadata": {},
          "execution_count": 2084
        }
      ]
    },
    {
      "cell_type": "code",
      "metadata": {
        "colab": {
          "base_uri": "https://localhost:8080/"
        },
        "id": "811cxipreJE-",
        "outputId": "d1c7fc6c-5e40-44d6-84ef-8cc6026bf38e"
      },
      "source": [
        "# Se genera la multiplicación elemento a elemento (y no la multiplicación matricial)\n",
        "tensor*tensor"
      ],
      "execution_count": 2085,
      "outputs": [
        {
          "output_type": "execute_result",
          "data": {
            "text/plain": [
              "tensor([[0.1079, 0.0649],\n",
              "        [0.4572, 0.3226]])"
            ]
          },
          "metadata": {},
          "execution_count": 2085
        }
      ]
    },
    {
      "cell_type": "code",
      "metadata": {
        "colab": {
          "base_uri": "https://localhost:8080/"
        },
        "id": "ebeJpr7Wd-JD",
        "outputId": "a0e076b6-8294-42c8-80c9-517d950da960"
      },
      "source": [
        "# Mean devuelve la media de todos los elementos del tensor\n",
        "tensor.mean()"
      ],
      "execution_count": 2086,
      "outputs": [
        {
          "output_type": "execute_result",
          "data": {
            "text/plain": [
              "tensor(0.4569)"
            ]
          },
          "metadata": {},
          "execution_count": 2086
        }
      ]
    },
    {
      "cell_type": "markdown",
      "metadata": {
        "id": "B2IFpn-LcMPE"
      },
      "source": [
        "Definimos una clase para regresión lineal, que hereda torch.nn.Module, que es el módulo básico de la red neuronal que contiene todas las funciones requeridas. Nuestro modelo de regresión lineal solo contiene una función lineal simple."
      ]
    },
    {
      "cell_type": "code",
      "source": [
        "import torch.nn as nn\n",
        " \n",
        "l = nn.L1Loss()\n",
        "#l = nn.MSELoss()\n",
        "\n",
        "# MSE loss\n",
        "#def l(t1, t2):\n",
        "#    diff = t1 - t2\n",
        "#    return torch.sum(diff * diff) / diff.numel()"
      ],
      "metadata": {
        "id": "Rebt6Kg3X_Tm"
      },
      "execution_count": 2087,
      "outputs": []
    },
    {
      "cell_type": "code",
      "source": [
        "def model(x):\n",
        "    return x @ w.t() + b"
      ],
      "metadata": {
        "id": "e3tCZ7VfYIIm"
      },
      "execution_count": 2088,
      "outputs": []
    },
    {
      "cell_type": "code",
      "source": [
        "# Weights and biases\n",
        "#w = torch.randn(1, 1, requires_grad=True)\n",
        "#b = torch.randn(1, requires_grad=True)\n",
        "w=torch.tensor([[1.]], requires_grad=True)\n",
        "b=torch.tensor([[0.]], requires_grad=True)"
      ],
      "metadata": {
        "id": "klcmL9P7YPwA"
      },
      "execution_count": 2089,
      "outputs": []
    },
    {
      "cell_type": "code",
      "source": [
        "w"
      ],
      "metadata": {
        "id": "ZLks10ASl9O2",
        "outputId": "ec1426f0-c807-4819-ef5a-323d5ffc1b2f",
        "colab": {
          "base_uri": "https://localhost:8080/"
        }
      },
      "execution_count": 2090,
      "outputs": [
        {
          "output_type": "execute_result",
          "data": {
            "text/plain": [
              "tensor([[1.]], requires_grad=True)"
            ]
          },
          "metadata": {},
          "execution_count": 2090
        }
      ]
    },
    {
      "cell_type": "code",
      "source": [
        "b"
      ],
      "metadata": {
        "id": "LWQA7ASml94j",
        "outputId": "4b33080e-e59d-4450-cb82-6bc0605f4a53",
        "colab": {
          "base_uri": "https://localhost:8080/"
        }
      },
      "execution_count": 2091,
      "outputs": [
        {
          "output_type": "execute_result",
          "data": {
            "text/plain": [
              "tensor([[0.]], requires_grad=True)"
            ]
          },
          "metadata": {},
          "execution_count": 2091
        }
      ]
    },
    {
      "cell_type": "code",
      "source": [
        "inputs = torch.from_numpy(X)\n",
        "targets = torch.from_numpy(y)"
      ],
      "metadata": {
        "id": "0q9AAy5CYTud"
      },
      "execution_count": 2092,
      "outputs": []
    },
    {
      "cell_type": "code",
      "source": [
        "# Generate predictions\n",
        "preds = model(inputs)\n",
        "print(preds)"
      ],
      "metadata": {
        "id": "LMd37keAYKDd",
        "outputId": "0addfd29-c227-4187-9fbd-b1486d5d4a22",
        "colab": {
          "base_uri": "https://localhost:8080/"
        }
      },
      "execution_count": 2093,
      "outputs": [
        {
          "output_type": "stream",
          "name": "stdout",
          "text": [
            "tensor([[0.2090],\n",
            "        [0.6024],\n",
            "        [0.3882],\n",
            "        [0.4832],\n",
            "        [0.5592],\n",
            "        [0.5940],\n",
            "        [0.5479],\n",
            "        [0.5530],\n",
            "        [0.2553],\n",
            "        [0.6073],\n",
            "        [0.6755],\n",
            "        [0.4350],\n",
            "        [0.4189],\n",
            "        [0.1324],\n",
            "        [0.1937],\n",
            "        [0.4464],\n",
            "        [0.5398],\n",
            "        [0.6270],\n",
            "        [0.4298],\n",
            "        [0.6147],\n",
            "        [0.4133],\n",
            "        [0.2764],\n",
            "        [0.6412],\n",
            "        [0.6232],\n",
            "        [0.4691],\n",
            "        [0.5237],\n",
            "        [0.5175],\n",
            "        [0.5259],\n",
            "        [0.2585],\n",
            "        [0.3859],\n",
            "        [0.3791],\n",
            "        [0.3410],\n",
            "        [0.6754],\n",
            "        [0.5382],\n",
            "        [0.4896],\n",
            "        [0.5046],\n",
            "        [0.4516],\n",
            "        [0.3419],\n",
            "        [0.2561],\n",
            "        [0.3908],\n",
            "        [0.3894],\n",
            "        [0.5026],\n",
            "        [0.5859],\n",
            "        [0.5571],\n",
            "        [0.3916],\n",
            "        [0.5927],\n",
            "        [0.3504],\n",
            "        [0.7099],\n",
            "        [0.5382],\n",
            "        [0.3290],\n",
            "        [0.3949],\n",
            "        [0.3921],\n",
            "        [0.5086],\n",
            "        [0.4599],\n",
            "        [0.3705],\n",
            "        [0.3803],\n",
            "        [0.6737],\n",
            "        [0.5073],\n",
            "        [0.4520],\n",
            "        [0.2883],\n",
            "        [0.5455],\n",
            "        [0.1634],\n",
            "        [0.4589],\n",
            "        [0.3688],\n",
            "        [0.2977],\n",
            "        [0.5374],\n",
            "        [0.6481],\n",
            "        [0.4220],\n",
            "        [0.3190],\n",
            "        [0.7039],\n",
            "        [0.3072],\n",
            "        [0.6571],\n",
            "        [0.5988],\n",
            "        [0.5057],\n",
            "        [0.7172],\n",
            "        [0.5740],\n",
            "        [0.5447],\n",
            "        [0.4389],\n",
            "        [0.6750],\n",
            "        [0.8280],\n",
            "        [0.6314],\n",
            "        [0.6370],\n",
            "        [0.4811],\n",
            "        [0.4928],\n",
            "        [0.7604],\n",
            "        [0.7576],\n",
            "        [0.4950],\n",
            "        [0.4829],\n",
            "        [0.6776],\n",
            "        [0.3845],\n",
            "        [0.4523],\n",
            "        [0.5837],\n",
            "        [0.4416],\n",
            "        [0.3416],\n",
            "        [0.3718],\n",
            "        [0.5729],\n",
            "        [0.2848],\n",
            "        [0.5216],\n",
            "        [0.4218],\n",
            "        [0.2598],\n",
            "        [0.5281],\n",
            "        [0.4098],\n",
            "        [0.4520],\n",
            "        [0.6096],\n",
            "        [0.4116],\n",
            "        [0.4026],\n",
            "        [0.4684],\n",
            "        [0.2764],\n",
            "        [0.4232],\n",
            "        [0.5195],\n",
            "        [0.3539],\n",
            "        [0.5656],\n",
            "        [0.5789],\n",
            "        [0.5108],\n",
            "        [0.5944],\n",
            "        [0.4606],\n",
            "        [0.5112],\n",
            "        [0.4470],\n",
            "        [0.3671],\n",
            "        [0.5671],\n",
            "        [0.5729],\n",
            "        [0.3967],\n",
            "        [0.5220],\n",
            "        [0.5003],\n",
            "        [0.3503],\n",
            "        [0.4468],\n",
            "        [0.1691],\n",
            "        [0.3356],\n",
            "        [0.6635],\n",
            "        [0.7172],\n",
            "        [0.3473],\n",
            "        [0.7103],\n",
            "        [0.2958],\n",
            "        [0.5576],\n",
            "        [0.3487],\n",
            "        [0.4756],\n",
            "        [0.2664],\n",
            "        [0.2406],\n",
            "        [0.6355],\n",
            "        [0.5152],\n",
            "        [0.4866],\n",
            "        [0.3616],\n",
            "        [0.2652],\n",
            "        [0.3273],\n",
            "        [0.5335],\n",
            "        [0.3244],\n",
            "        [0.5909],\n",
            "        [0.5195],\n",
            "        [0.5012],\n",
            "        [0.3107],\n",
            "        [0.7810],\n",
            "        [0.3430],\n",
            "        [0.3561],\n",
            "        [0.5799],\n",
            "        [0.2296],\n",
            "        [0.5457],\n",
            "        [0.4604],\n",
            "        [0.2216],\n",
            "        [0.4874],\n",
            "        [0.5882],\n",
            "        [0.2433],\n",
            "        [0.5426],\n",
            "        [0.4863],\n",
            "        [0.2432],\n",
            "        [0.5726],\n",
            "        [0.3931],\n",
            "        [0.2528],\n",
            "        [0.6326],\n",
            "        [0.7228],\n",
            "        [0.3185],\n",
            "        [0.5234],\n",
            "        [0.2062],\n",
            "        [0.5530],\n",
            "        [0.5629],\n",
            "        [0.2730],\n",
            "        [0.4523],\n",
            "        [0.2383],\n",
            "        [0.5050],\n",
            "        [0.4692],\n",
            "        [0.3592],\n",
            "        [0.3896],\n",
            "        [0.1085],\n",
            "        [0.5677],\n",
            "        [0.5812],\n",
            "        [0.4732],\n",
            "        [0.5140],\n",
            "        [0.3262],\n",
            "        [0.4107],\n",
            "        [0.5715],\n",
            "        [0.5189],\n",
            "        [0.2422],\n",
            "        [0.4203],\n",
            "        [0.6203],\n",
            "        [0.3222],\n",
            "        [0.4595],\n",
            "        [0.4871],\n",
            "        [0.3894],\n",
            "        [0.6054],\n",
            "        [0.3078],\n",
            "        [0.5469],\n",
            "        [0.1694],\n",
            "        [0.4096],\n",
            "        [0.4464],\n",
            "        [0.3724],\n",
            "        [0.4443],\n",
            "        [0.8403],\n",
            "        [0.5637],\n",
            "        [0.4162],\n",
            "        [0.3854],\n",
            "        [0.5435],\n",
            "        [0.3758],\n",
            "        [0.5738],\n",
            "        [0.3651],\n",
            "        [0.3371],\n",
            "        [0.3582],\n",
            "        [0.5684],\n",
            "        [0.5617],\n",
            "        [0.4306],\n",
            "        [0.5934],\n",
            "        [0.5542],\n",
            "        [0.3125],\n",
            "        [0.7770],\n",
            "        [0.3977],\n",
            "        [0.2168],\n",
            "        [0.3943],\n",
            "        [0.5754],\n",
            "        [0.4719],\n",
            "        [0.5029],\n",
            "        [0.3122],\n",
            "        [0.4491],\n",
            "        [0.3173],\n",
            "        [0.3231],\n",
            "        [0.6202],\n",
            "        [0.4505],\n",
            "        [0.3398],\n",
            "        [0.4502],\n",
            "        [0.5007],\n",
            "        [0.6917],\n",
            "        [0.4935],\n",
            "        [0.1817],\n",
            "        [0.5735],\n",
            "        [0.4190],\n",
            "        [0.5234],\n",
            "        [0.5954],\n",
            "        [0.5139],\n",
            "        [0.3554],\n",
            "        [0.1714],\n",
            "        [0.4268],\n",
            "        [0.7561],\n",
            "        [0.3882],\n",
            "        [0.4429],\n",
            "        [0.2485],\n",
            "        [0.7221],\n",
            "        [0.3174],\n",
            "        [0.3546],\n",
            "        [0.5778],\n",
            "        [0.5574],\n",
            "        [0.6960],\n",
            "        [0.3396],\n",
            "        [0.6118],\n",
            "        [0.5262],\n",
            "        [0.4988],\n",
            "        [0.3487],\n",
            "        [0.2824],\n",
            "        [0.5461],\n",
            "        [0.5437],\n",
            "        [0.3571],\n",
            "        [0.6231],\n",
            "        [0.4741],\n",
            "        [0.2584],\n",
            "        [0.2564],\n",
            "        [0.2586],\n",
            "        [0.4776],\n",
            "        [0.5295],\n",
            "        [0.4830],\n",
            "        [0.4003],\n",
            "        [0.4815],\n",
            "        [0.3776],\n",
            "        [0.3798],\n",
            "        [0.2578],\n",
            "        [0.5446],\n",
            "        [0.4540],\n",
            "        [0.5002],\n",
            "        [0.5475],\n",
            "        [0.3949],\n",
            "        [0.3154],\n",
            "        [0.5039],\n",
            "        [0.5284],\n",
            "        [0.3905],\n",
            "        [0.5806],\n",
            "        [0.5293],\n",
            "        [0.4276],\n",
            "        [0.4937],\n",
            "        [0.5089],\n",
            "        [0.5078],\n",
            "        [0.5135],\n",
            "        [0.4063],\n",
            "        [0.3885],\n",
            "        [0.4610],\n",
            "        [0.2846],\n",
            "        [0.5797],\n",
            "        [0.4239],\n",
            "        [0.4074],\n",
            "        [0.5340],\n",
            "        [0.6254],\n",
            "        [0.4307],\n",
            "        [0.4730],\n",
            "        [0.5944],\n",
            "        [0.2986],\n",
            "        [0.2275],\n",
            "        [0.3722],\n",
            "        [0.5275],\n",
            "        [0.3583],\n",
            "        [0.7214],\n",
            "        [0.2620],\n",
            "        [0.4912],\n",
            "        [0.4258],\n",
            "        [0.4832],\n",
            "        [0.5105],\n",
            "        [0.5423],\n",
            "        [0.5294],\n",
            "        [0.3385],\n",
            "        [0.6756],\n",
            "        [0.3757],\n",
            "        [0.3323],\n",
            "        [0.4433],\n",
            "        [0.6815],\n",
            "        [0.2743],\n",
            "        [0.4132],\n",
            "        [0.3193],\n",
            "        [0.3110],\n",
            "        [0.2674],\n",
            "        [0.5079],\n",
            "        [0.3614],\n",
            "        [0.3386],\n",
            "        [0.4086],\n",
            "        [0.4986],\n",
            "        [0.2834],\n",
            "        [0.3479],\n",
            "        [0.6922],\n",
            "        [0.4609],\n",
            "        [0.3514],\n",
            "        [0.6796],\n",
            "        [0.4654],\n",
            "        [0.4056],\n",
            "        [0.3691],\n",
            "        [0.8197],\n",
            "        [0.8030],\n",
            "        [0.4634],\n",
            "        [0.3940],\n",
            "        [0.6189],\n",
            "        [0.3764],\n",
            "        [0.6795],\n",
            "        [0.5685],\n",
            "        [0.5037],\n",
            "        [0.5567],\n",
            "        [0.4374],\n",
            "        [0.4922],\n",
            "        [0.4016],\n",
            "        [0.2708],\n",
            "        [0.3822],\n",
            "        [0.3499],\n",
            "        [0.1767],\n",
            "        [0.6055],\n",
            "        [0.3650],\n",
            "        [0.4386],\n",
            "        [0.5771],\n",
            "        [0.5520],\n",
            "        [0.4362],\n",
            "        [0.2025],\n",
            "        [0.3988],\n",
            "        [0.3821],\n",
            "        [0.2227],\n",
            "        [0.4781],\n",
            "        [0.3045],\n",
            "        [0.6361],\n",
            "        [0.3417],\n",
            "        [0.5373],\n",
            "        [0.4185],\n",
            "        [0.4753],\n",
            "        [0.4965],\n",
            "        [0.2305],\n",
            "        [0.4148],\n",
            "        [0.5271],\n",
            "        [0.4406],\n",
            "        [0.6041],\n",
            "        [0.4707],\n",
            "        [0.3771],\n",
            "        [0.3478],\n",
            "        [0.5280],\n",
            "        [0.4172],\n",
            "        [0.5939],\n",
            "        [0.5092],\n",
            "        [0.6609],\n",
            "        [0.5776],\n",
            "        [0.4846],\n",
            "        [0.4027],\n",
            "        [0.8178],\n",
            "        [0.2687],\n",
            "        [0.5728],\n",
            "        [0.3830],\n",
            "        [0.3009],\n",
            "        [0.5568],\n",
            "        [0.4301],\n",
            "        [0.8017],\n",
            "        [0.3735],\n",
            "        [0.3774],\n",
            "        [0.4485],\n",
            "        [0.3660],\n",
            "        [0.5491],\n",
            "        [0.4519],\n",
            "        [0.3658],\n",
            "        [0.2792],\n",
            "        [0.6061],\n",
            "        [0.3578],\n",
            "        [0.7657],\n",
            "        [0.5728],\n",
            "        [0.3544],\n",
            "        [0.3064],\n",
            "        [0.5269],\n",
            "        [0.5392],\n",
            "        [0.3268],\n",
            "        [0.4962],\n",
            "        [0.3294],\n",
            "        [0.5132],\n",
            "        [0.2813],\n",
            "        [0.4135],\n",
            "        [0.1575],\n",
            "        [0.4259],\n",
            "        [0.3874],\n",
            "        [0.5026],\n",
            "        [0.3480],\n",
            "        [0.3940],\n",
            "        [0.1152],\n",
            "        [0.2880],\n",
            "        [0.5586],\n",
            "        [0.8909],\n",
            "        [0.5316],\n",
            "        [0.6546],\n",
            "        [0.3610],\n",
            "        [0.4512],\n",
            "        [0.4673],\n",
            "        [0.6059],\n",
            "        [0.5892],\n",
            "        [0.3941],\n",
            "        [0.4845],\n",
            "        [0.3142],\n",
            "        [0.4648],\n",
            "        [0.3907],\n",
            "        [0.3756],\n",
            "        [0.3009],\n",
            "        [0.6618],\n",
            "        [0.1655],\n",
            "        [0.7180],\n",
            "        [0.5360],\n",
            "        [0.6498],\n",
            "        [0.4355],\n",
            "        [0.3472],\n",
            "        [0.2236],\n",
            "        [0.4843],\n",
            "        [0.4825],\n",
            "        [0.4945],\n",
            "        [0.4284],\n",
            "        [0.5914],\n",
            "        [0.5486],\n",
            "        [0.3776],\n",
            "        [0.3685],\n",
            "        [0.2765],\n",
            "        [0.5921],\n",
            "        [0.3920],\n",
            "        [0.7656],\n",
            "        [0.3724],\n",
            "        [0.4254],\n",
            "        [0.3247],\n",
            "        [0.6687],\n",
            "        [0.5572],\n",
            "        [0.2862],\n",
            "        [0.5405],\n",
            "        [0.3608],\n",
            "        [0.2434],\n",
            "        [0.5799],\n",
            "        [0.4734],\n",
            "        [0.5716],\n",
            "        [0.4878],\n",
            "        [0.5957],\n",
            "        [0.3760],\n",
            "        [0.4223],\n",
            "        [0.3636],\n",
            "        [0.4664],\n",
            "        [0.1807],\n",
            "        [0.3206],\n",
            "        [0.4218],\n",
            "        [0.4023],\n",
            "        [0.1452],\n",
            "        [0.4913],\n",
            "        [0.4196],\n",
            "        [0.3828],\n",
            "        [0.4015],\n",
            "        [0.6170],\n",
            "        [0.5530],\n",
            "        [0.3429],\n",
            "        [0.4210],\n",
            "        [0.4086],\n",
            "        [0.5264],\n",
            "        [0.7243],\n",
            "        [0.2228],\n",
            "        [0.4133],\n",
            "        [0.4392],\n",
            "        [0.7618],\n",
            "        [0.4705],\n",
            "        [0.4058],\n",
            "        [0.7058],\n",
            "        [0.4637],\n",
            "        [0.3842],\n",
            "        [0.6024],\n",
            "        [0.4667],\n",
            "        [0.0832],\n",
            "        [0.5451],\n",
            "        [0.4781],\n",
            "        [0.4189],\n",
            "        [0.3786],\n",
            "        [0.6716],\n",
            "        [0.3412],\n",
            "        [0.3375],\n",
            "        [0.4847],\n",
            "        [0.6805],\n",
            "        [0.4026],\n",
            "        [0.4885],\n",
            "        [0.6032],\n",
            "        [0.6601],\n",
            "        [0.6888],\n",
            "        [0.3652],\n",
            "        [0.3355],\n",
            "        [0.4532],\n",
            "        [0.2825],\n",
            "        [0.4587],\n",
            "        [0.7832],\n",
            "        [0.5795],\n",
            "        [0.4408],\n",
            "        [0.3838],\n",
            "        [0.4666],\n",
            "        [0.4619],\n",
            "        [0.3935],\n",
            "        [0.7495],\n",
            "        [0.6054],\n",
            "        [0.3670],\n",
            "        [0.4434],\n",
            "        [0.4932],\n",
            "        [0.4750],\n",
            "        [0.5502],\n",
            "        [0.4576],\n",
            "        [0.3886],\n",
            "        [0.4723],\n",
            "        [0.2375],\n",
            "        [0.4229],\n",
            "        [0.4871],\n",
            "        [0.4342],\n",
            "        [0.5610],\n",
            "        [0.6409],\n",
            "        [0.2810],\n",
            "        [0.6932],\n",
            "        [0.4267],\n",
            "        [0.4133],\n",
            "        [0.8041],\n",
            "        [0.7519],\n",
            "        [0.5072],\n",
            "        [0.4706],\n",
            "        [0.4994],\n",
            "        [0.3848],\n",
            "        [0.4972],\n",
            "        [0.5024],\n",
            "        [0.4635],\n",
            "        [0.6202],\n",
            "        [0.4709],\n",
            "        [0.3335],\n",
            "        [0.3446],\n",
            "        [0.4964],\n",
            "        [0.5888],\n",
            "        [0.4213],\n",
            "        [0.5213],\n",
            "        [0.2419],\n",
            "        [0.4863],\n",
            "        [0.3556],\n",
            "        [0.4982],\n",
            "        [0.4041],\n",
            "        [0.4564],\n",
            "        [0.5408],\n",
            "        [0.3507],\n",
            "        [0.5430],\n",
            "        [0.2427],\n",
            "        [0.5460],\n",
            "        [0.4498],\n",
            "        [0.4283],\n",
            "        [0.5372],\n",
            "        [0.3359],\n",
            "        [0.4333],\n",
            "        [0.4611],\n",
            "        [0.3862],\n",
            "        [0.4520],\n",
            "        [0.5101],\n",
            "        [0.1646],\n",
            "        [0.5236],\n",
            "        [0.5244],\n",
            "        [0.2697],\n",
            "        [0.3209],\n",
            "        [0.6716],\n",
            "        [0.6649],\n",
            "        [0.5008],\n",
            "        [0.5651],\n",
            "        [0.5263],\n",
            "        [0.6132],\n",
            "        [0.4492],\n",
            "        [0.3900],\n",
            "        [0.5376],\n",
            "        [0.2877],\n",
            "        [0.6209],\n",
            "        [0.5101],\n",
            "        [0.5396],\n",
            "        [0.6048],\n",
            "        [0.6020],\n",
            "        [0.3774],\n",
            "        [0.2805],\n",
            "        [0.4832],\n",
            "        [0.4262],\n",
            "        [0.3289],\n",
            "        [0.3840],\n",
            "        [0.5636],\n",
            "        [0.4543],\n",
            "        [0.5716],\n",
            "        [0.3304],\n",
            "        [0.4653],\n",
            "        [0.3832],\n",
            "        [0.3976],\n",
            "        [0.3764],\n",
            "        [0.6181],\n",
            "        [0.2545],\n",
            "        [0.3984],\n",
            "        [0.4308],\n",
            "        [0.5040],\n",
            "        [0.2084],\n",
            "        [0.4676],\n",
            "        [0.7043],\n",
            "        [0.3195],\n",
            "        [0.4885],\n",
            "        [0.6339],\n",
            "        [0.4678],\n",
            "        [0.6517],\n",
            "        [0.5628],\n",
            "        [0.3579],\n",
            "        [0.3191],\n",
            "        [0.6071],\n",
            "        [0.5536],\n",
            "        [0.3779],\n",
            "        [0.3362],\n",
            "        [0.4499],\n",
            "        [0.5200],\n",
            "        [0.3189],\n",
            "        [0.4260],\n",
            "        [0.6793],\n",
            "        [0.5621],\n",
            "        [0.3180],\n",
            "        [0.4513],\n",
            "        [0.4850],\n",
            "        [0.3287],\n",
            "        [0.5030],\n",
            "        [0.2138],\n",
            "        [0.7043],\n",
            "        [0.4453],\n",
            "        [0.3648],\n",
            "        [0.4838],\n",
            "        [0.5301],\n",
            "        [0.3850],\n",
            "        [0.4239],\n",
            "        [0.4407],\n",
            "        [0.4435],\n",
            "        [0.2890],\n",
            "        [0.5125],\n",
            "        [0.1932],\n",
            "        [0.4846],\n",
            "        [0.5639],\n",
            "        [0.2769],\n",
            "        [0.6604],\n",
            "        [0.3957],\n",
            "        [0.4558],\n",
            "        [0.2158],\n",
            "        [0.5984],\n",
            "        [0.3403],\n",
            "        [0.5169],\n",
            "        [0.7339],\n",
            "        [0.6870],\n",
            "        [0.5151],\n",
            "        [0.3400],\n",
            "        [0.3734],\n",
            "        [0.7151],\n",
            "        [0.3802],\n",
            "        [0.4725],\n",
            "        [0.6082],\n",
            "        [0.6730],\n",
            "        [0.4651],\n",
            "        [0.6655],\n",
            "        [0.5293],\n",
            "        [0.4595],\n",
            "        [0.4935],\n",
            "        [0.1905],\n",
            "        [0.3723],\n",
            "        [0.2475],\n",
            "        [0.2303],\n",
            "        [0.4930],\n",
            "        [0.5581],\n",
            "        [0.2815],\n",
            "        [0.4223],\n",
            "        [0.2528],\n",
            "        [0.2708],\n",
            "        [0.7101],\n",
            "        [0.3269],\n",
            "        [0.5634],\n",
            "        [0.4546],\n",
            "        [0.6244],\n",
            "        [0.2593],\n",
            "        [0.4698],\n",
            "        [0.4913],\n",
            "        [0.3594],\n",
            "        [0.6104],\n",
            "        [0.6678],\n",
            "        [0.4607],\n",
            "        [0.6947],\n",
            "        [0.4813],\n",
            "        [0.4751],\n",
            "        [0.2450],\n",
            "        [0.5568],\n",
            "        [0.5487],\n",
            "        [0.2485],\n",
            "        [0.6144],\n",
            "        [0.5363],\n",
            "        [0.3839],\n",
            "        [0.3904],\n",
            "        [0.4552],\n",
            "        [0.5065],\n",
            "        [0.4418],\n",
            "        [0.6370],\n",
            "        [0.7222],\n",
            "        [0.3050],\n",
            "        [0.0767],\n",
            "        [0.5052],\n",
            "        [0.6615],\n",
            "        [0.5045],\n",
            "        [0.4489],\n",
            "        [0.4899],\n",
            "        [0.1469],\n",
            "        [0.4672],\n",
            "        [0.4709],\n",
            "        [0.6022],\n",
            "        [0.4550],\n",
            "        [0.3564],\n",
            "        [0.5875],\n",
            "        [0.5235],\n",
            "        [0.3303],\n",
            "        [0.5237],\n",
            "        [0.3879],\n",
            "        [0.5483],\n",
            "        [0.5299],\n",
            "        [0.2169],\n",
            "        [0.4522],\n",
            "        [0.5872],\n",
            "        [0.2977],\n",
            "        [0.3045],\n",
            "        [0.6245],\n",
            "        [0.8131],\n",
            "        [0.6480],\n",
            "        [0.3438],\n",
            "        [0.4411],\n",
            "        [0.4230],\n",
            "        [0.3562],\n",
            "        [0.6180],\n",
            "        [0.5527],\n",
            "        [0.4466],\n",
            "        [0.4827],\n",
            "        [0.5999],\n",
            "        [0.4739],\n",
            "        [0.3315],\n",
            "        [0.5747],\n",
            "        [0.5497],\n",
            "        [0.3361],\n",
            "        [0.5444],\n",
            "        [0.3141],\n",
            "        [0.2982],\n",
            "        [0.4173],\n",
            "        [0.5051],\n",
            "        [0.2585],\n",
            "        [0.4115],\n",
            "        [0.6478],\n",
            "        [0.7124],\n",
            "        [0.4862],\n",
            "        [0.3976],\n",
            "        [0.3004],\n",
            "        [0.2336],\n",
            "        [0.3959],\n",
            "        [0.4919],\n",
            "        [0.3061],\n",
            "        [0.4145],\n",
            "        [0.5641],\n",
            "        [0.5550],\n",
            "        [0.5431],\n",
            "        [0.2922],\n",
            "        [0.5053],\n",
            "        [0.7108],\n",
            "        [0.3493],\n",
            "        [0.4804],\n",
            "        [0.3444],\n",
            "        [0.5863],\n",
            "        [0.3940],\n",
            "        [0.3156],\n",
            "        [0.5714],\n",
            "        [0.2624],\n",
            "        [0.3044],\n",
            "        [0.5461],\n",
            "        [0.5305],\n",
            "        [0.2857],\n",
            "        [0.5099],\n",
            "        [0.5482],\n",
            "        [0.4583],\n",
            "        [0.3917],\n",
            "        [0.0000],\n",
            "        [0.5479],\n",
            "        [0.5059],\n",
            "        [0.5679],\n",
            "        [0.3707],\n",
            "        [0.4460],\n",
            "        [0.3455],\n",
            "        [0.3162],\n",
            "        [0.6556],\n",
            "        [0.3789],\n",
            "        [0.5151],\n",
            "        [0.5449],\n",
            "        [0.4243],\n",
            "        [0.4637],\n",
            "        [0.4443],\n",
            "        [0.4238],\n",
            "        [0.2154],\n",
            "        [0.1974],\n",
            "        [1.0000],\n",
            "        [0.4320],\n",
            "        [0.3822],\n",
            "        [0.5463],\n",
            "        [0.4660],\n",
            "        [0.7065],\n",
            "        [0.4535],\n",
            "        [0.5329],\n",
            "        [0.5622],\n",
            "        [0.4542],\n",
            "        [0.6215],\n",
            "        [0.3756],\n",
            "        [0.5429],\n",
            "        [0.7261],\n",
            "        [0.7403],\n",
            "        [0.3308],\n",
            "        [0.3738],\n",
            "        [0.6157],\n",
            "        [0.2669],\n",
            "        [0.3786],\n",
            "        [0.3609],\n",
            "        [0.3801],\n",
            "        [0.7215],\n",
            "        [0.4952],\n",
            "        [0.2901],\n",
            "        [0.2936],\n",
            "        [0.5358],\n",
            "        [0.3635],\n",
            "        [0.4636],\n",
            "        [0.2574],\n",
            "        [0.5472],\n",
            "        [0.7591],\n",
            "        [0.4810],\n",
            "        [0.6443],\n",
            "        [0.4959],\n",
            "        [0.6688],\n",
            "        [0.3808],\n",
            "        [0.3832],\n",
            "        [0.4235],\n",
            "        [0.3129],\n",
            "        [0.2805],\n",
            "        [0.2321],\n",
            "        [0.7474],\n",
            "        [0.4060],\n",
            "        [0.3148],\n",
            "        [0.6466],\n",
            "        [0.4786],\n",
            "        [0.4587],\n",
            "        [0.6652],\n",
            "        [0.4890],\n",
            "        [0.4685],\n",
            "        [0.4476],\n",
            "        [0.4491],\n",
            "        [0.5915],\n",
            "        [0.5536],\n",
            "        [0.4045],\n",
            "        [0.3465],\n",
            "        [0.4848],\n",
            "        [0.5247],\n",
            "        [0.4901],\n",
            "        [0.4346],\n",
            "        [0.7175],\n",
            "        [0.6689],\n",
            "        [0.7199],\n",
            "        [0.3274],\n",
            "        [0.5402],\n",
            "        [0.3151],\n",
            "        [0.3756],\n",
            "        [0.3861],\n",
            "        [0.5823],\n",
            "        [0.5032],\n",
            "        [0.4914],\n",
            "        [0.5295],\n",
            "        [0.5767],\n",
            "        [0.6599],\n",
            "        [0.2506],\n",
            "        [0.6093],\n",
            "        [0.4896],\n",
            "        [0.4855],\n",
            "        [0.3452],\n",
            "        [0.5110],\n",
            "        [0.4670],\n",
            "        [0.4978],\n",
            "        [0.6124],\n",
            "        [0.2625],\n",
            "        [0.0876],\n",
            "        [0.2751],\n",
            "        [0.4344],\n",
            "        [0.5556],\n",
            "        [0.3821],\n",
            "        [0.4221],\n",
            "        [0.3157],\n",
            "        [0.2183],\n",
            "        [0.3913],\n",
            "        [0.4258],\n",
            "        [0.2356],\n",
            "        [0.4181],\n",
            "        [0.5036],\n",
            "        [0.2627],\n",
            "        [0.5661],\n",
            "        [0.3576],\n",
            "        [0.4158],\n",
            "        [0.4251],\n",
            "        [0.4977],\n",
            "        [0.4368],\n",
            "        [0.2552],\n",
            "        [0.4884],\n",
            "        [0.2984],\n",
            "        [0.6618],\n",
            "        [0.1872],\n",
            "        [0.3821],\n",
            "        [0.5495],\n",
            "        [0.4366],\n",
            "        [0.4109],\n",
            "        [0.3994],\n",
            "        [0.3451],\n",
            "        [0.4856],\n",
            "        [0.5334],\n",
            "        [0.6775],\n",
            "        [0.5513],\n",
            "        [0.6601],\n",
            "        [0.4664],\n",
            "        [0.3059],\n",
            "        [0.3405],\n",
            "        [0.3721],\n",
            "        [0.4310],\n",
            "        [0.4729],\n",
            "        [0.5733],\n",
            "        [0.5745],\n",
            "        [0.3615],\n",
            "        [0.4576],\n",
            "        [0.4476],\n",
            "        [0.4820],\n",
            "        [0.6865],\n",
            "        [0.6108],\n",
            "        [0.4633],\n",
            "        [0.4921],\n",
            "        [0.4706],\n",
            "        [0.4882],\n",
            "        [0.6262],\n",
            "        [0.3539],\n",
            "        [0.5145],\n",
            "        [0.6111],\n",
            "        [0.2947],\n",
            "        [0.1696],\n",
            "        [0.6217],\n",
            "        [0.6725],\n",
            "        [0.3649],\n",
            "        [0.4125],\n",
            "        [0.6371],\n",
            "        [0.4481],\n",
            "        [0.5072],\n",
            "        [0.3691],\n",
            "        [0.3351],\n",
            "        [0.3781],\n",
            "        [0.1864],\n",
            "        [0.5249],\n",
            "        [0.4910],\n",
            "        [0.6496],\n",
            "        [0.3076]], grad_fn=<AddBackward0>)\n"
          ]
        }
      ]
    },
    {
      "cell_type": "code",
      "source": [
        "# Compute loss\n",
        "loss = mse(preds, targets)\n",
        "print(loss)"
      ],
      "metadata": {
        "id": "I1z0vSwlYBv0",
        "outputId": "b5738554-b75d-48c4-9313-49fb8fc6a03c",
        "colab": {
          "base_uri": "https://localhost:8080/"
        }
      },
      "execution_count": 2094,
      "outputs": [
        {
          "output_type": "stream",
          "name": "stdout",
          "text": [
            "tensor(0.0054, grad_fn=<MeanBackward0>)\n"
          ]
        }
      ]
    },
    {
      "cell_type": "code",
      "source": [
        "# Calculo la derivada de la función de coste\n",
        "loss.backward()"
      ],
      "metadata": {
        "id": "8C09FEJEZDP1"
      },
      "execution_count": 2095,
      "outputs": []
    },
    {
      "cell_type": "code",
      "source": [
        "# Estos son los parámetros estimados y su gradiente\n",
        "print(w)\n",
        "print(w.grad)"
      ],
      "metadata": {
        "id": "PLFynwO7Z1vo",
        "outputId": "4cd4986d-8fef-4195-a612-cdda020e664f",
        "colab": {
          "base_uri": "https://localhost:8080/"
        }
      },
      "execution_count": 2096,
      "outputs": [
        {
          "output_type": "stream",
          "name": "stdout",
          "text": [
            "tensor([[1.]], requires_grad=True)\n",
            "tensor([[0.0982]])\n"
          ]
        }
      ]
    },
    {
      "cell_type": "code",
      "source": [
        "with torch.no_grad():\n",
        "    # Ajusto los parámetros\n",
        "    w -= w.grad * 1e-2\n",
        "    b -= b.grad * 1e-2\n",
        "    # Y reinicializo los gradientes\n",
        "    w.grad.zero_()\n",
        "    b.grad.zero_()"
      ],
      "metadata": {
        "id": "BGCJX-kLa25-"
      },
      "execution_count": 2097,
      "outputs": []
    },
    {
      "cell_type": "code",
      "source": [
        "print(w)\n",
        "print(b)"
      ],
      "metadata": {
        "id": "uCd5MFEkbBD5",
        "outputId": "303e19f7-9231-4129-9dcd-b3d0d9c1b9b8",
        "colab": {
          "base_uri": "https://localhost:8080/"
        }
      },
      "execution_count": 2098,
      "outputs": [
        {
          "output_type": "stream",
          "name": "stdout",
          "text": [
            "tensor([[0.9990]], requires_grad=True)\n",
            "tensor([[-0.0027]], requires_grad=True)\n"
          ]
        }
      ]
    },
    {
      "cell_type": "code",
      "source": [
        "# Compute loss\n",
        "loss = mse(preds, targets)\n",
        "print(loss)"
      ],
      "metadata": {
        "id": "D4mmsPp_emf7",
        "outputId": "3191b890-90dc-455b-f89c-b0a3125c51b0",
        "colab": {
          "base_uri": "https://localhost:8080/"
        }
      },
      "execution_count": 2099,
      "outputs": [
        {
          "output_type": "stream",
          "name": "stdout",
          "text": [
            "tensor(0.0054, grad_fn=<MeanBackward0>)\n"
          ]
        }
      ]
    },
    {
      "cell_type": "code",
      "source": [
        "# Esto lo tengo que hacer en un proceso iterativo. A cada \"vuelta\" de este proceso se la conoce como epoch\n",
        "epochs=1000\n",
        "step=0.001\n",
        "losses=[]\n",
        "for i in range(epochs):\n",
        "    preds = model(inputs)\n",
        "    loss = l(preds, targets)\n",
        "    loss.backward()\n",
        "    losses.append(loss.item())\n",
        "    with torch.no_grad():\n",
        "      w -= w.grad * step\n",
        "      b -= b.grad * step\n",
        "      w.grad.zero_()\n",
        "      b.grad.zero_()"
      ],
      "metadata": {
        "id": "1eLrYuE1bE2h"
      },
      "execution_count": 2100,
      "outputs": []
    },
    {
      "cell_type": "code",
      "source": [
        "from matplotlib import pyplot as plt\n",
        "\n",
        "plt.clf()\n",
        "plt.plot(losses, 'go', label='Losses', alpha=0.5)\n",
        "plt.legend(loc='best')\n",
        "plt.show()"
      ],
      "metadata": {
        "id": "ShZOwmnsf-X4",
        "outputId": "3e770359-4f88-40f7-b468-a2f5226a5ebc",
        "colab": {
          "base_uri": "https://localhost:8080/",
          "height": 432
        }
      },
      "execution_count": 2101,
      "outputs": [
        {
          "output_type": "display_data",
          "data": {
            "text/plain": [
              "<Figure size 640x480 with 1 Axes>"
            ],
            "image/png": "[encoded data removed]"
          },
          "metadata": {}
        }
      ]
    },
    {
      "cell_type": "code",
      "source": [
        "print(w)\n",
        "print(b)"
      ],
      "metadata": {
        "id": "x6T-9E9obOLO",
        "outputId": "5c22396b-9246-438c-a358-a3e19307d44c",
        "colab": {
          "base_uri": "https://localhost:8080/"
        }
      },
      "execution_count": 2102,
      "outputs": [
        {
          "output_type": "stream",
          "name": "stdout",
          "text": [
            "tensor([[1.0098]], requires_grad=True)\n",
            "tensor([[-0.0065]], requires_grad=True)\n"
          ]
        }
      ]
    },
    {
      "cell_type": "code",
      "source": [
        "# Compute loss\n",
        "loss = mse(preds, targets)\n",
        "print(loss.item())"
      ],
      "metadata": {
        "id": "FZDLKDdCenWF",
        "outputId": "99601955-1d37-4be6-c3da-642dc678f8f0",
        "colab": {
          "base_uri": "https://localhost:8080/"
        }
      },
      "execution_count": 2114,
      "outputs": [
        {
          "output_type": "stream",
          "name": "stdout",
          "text": [
            "0.005056513007730246\n"
          ]
        }
      ]
    },
    {
      "cell_type": "code",
      "source": [
        "preds = model(inputs)"
      ],
      "metadata": {
        "id": "3AdD8gdhcugB"
      },
      "execution_count": 2104,
      "outputs": []
    },
    {
      "cell_type": "code",
      "source": [
        "w"
      ],
      "metadata": {
        "id": "G-tINfsIjgrr",
        "outputId": "51509a9d-67fe-4ba1-8929-3ea5d1067759",
        "colab": {
          "base_uri": "https://localhost:8080/"
        }
      },
      "execution_count": 2105,
      "outputs": [
        {
          "output_type": "execute_result",
          "data": {
            "text/plain": [
              "tensor([[1.0098]], requires_grad=True)"
            ]
          },
          "metadata": {},
          "execution_count": 2105
        }
      ]
    },
    {
      "cell_type": "code",
      "source": [
        "b"
      ],
      "metadata": {
        "id": "MiBnBLe5jr58",
        "outputId": "3f63c374-33b9-44fa-d28f-b4fcf1b17799",
        "colab": {
          "base_uri": "https://localhost:8080/"
        }
      },
      "execution_count": 2106,
      "outputs": [
        {
          "output_type": "execute_result",
          "data": {
            "text/plain": [
              "tensor([[-0.0065]], requires_grad=True)"
            ]
          },
          "metadata": {},
          "execution_count": 2106
        }
      ]
    },
    {
      "cell_type": "code",
      "metadata": {
        "colab": {
          "base_uri": "https://localhost:8080/",
          "height": 430
        },
        "id": "4ybyhyGQXgxR",
        "outputId": "9deebe7c-2a3e-456c-bc00-a9d56a3a47a5"
      },
      "source": [
        "from matplotlib import pyplot as plt\n",
        "\n",
        "plt.clf()\n",
        "plt.plot(X, y, 'go', label='True data', alpha=0.5)\n",
        "plt.plot(X, preds.detach().numpy(), '--', label='Predictions', alpha=0.5)\n",
        "plt.legend(loc='best')\n",
        "plt.show()"
      ],
      "execution_count": 2107,
      "outputs": [
        {
          "output_type": "display_data",
          "data": {
            "text/plain": [
              "<Figure size 640x480 with 1 Axes>"
            ],
            "image/png": "[encoded data removed]"
          },
          "metadata": {}
        }
      ]
    },
    {
      "cell_type": "markdown",
      "source": [
        "# Sklearn"
      ],
      "metadata": {
        "id": "FiLiJAsZlex5"
      }
    },
    {
      "cell_type": "code",
      "source": [
        "from sklearn import linear_model\n",
        "lr = linear_model.LinearRegression()\n",
        "lr.fit(X, y)"
      ],
      "metadata": {
        "id": "dW-nPLd5jtCP",
        "outputId": "6fb7a6d8-b2ee-4bcf-d19d-bc206b80f95d",
        "colab": {
          "base_uri": "https://localhost:8080/",
          "height": 75
        }
      },
      "execution_count": 2108,
      "outputs": [
        {
          "output_type": "execute_result",
          "data": {
            "text/plain": [
              "LinearRegression()"
            ],
            "text/html": [
              "<style>#sk-container-id-45 {color: black;background-color: white;}#sk-container-id-45 pre{padding: 0;}#sk-container-id-45 div.sk-toggleable {background-color: white;}#sk-container-id-45 label.sk-toggleable__label {cursor: pointer;display: block;width: 100%;margin-bottom: 0;padding: 0.3em;box-sizing: border-box;text-align: center;}#sk-container-id-45 label.sk-toggleable__label-arrow:before {content: \"▸\";float: left;margin-right: 0.25em;color: #696969;}#sk-container-id-45 label.sk-toggleable__label-arrow:hover:before {color: black;}#sk-container-id-45 div.sk-estimator:hover label.sk-toggleable__label-arrow:before {color: black;}#sk-container-id-45 div.sk-toggleable__content {max-height: 0;max-width: 0;overflow: hidden;text-align: left;background-color: #f0f8ff;}#sk-container-id-45 div.sk-toggleable__content pre {margin: 0.2em;color: black;border-radius: 0.25em;background-color: #f0f8ff;}#sk-container-id-45 input.sk-toggleable__control:checked~div.sk-toggleable__content {max-height: 200px;max-width: 100%;overflow: auto;}#sk-container-id-45 input.sk-toggleable__control:checked~label.sk-toggleable__label-arrow:before {content: \"▾\";}#sk-container-id-45 div.sk-estimator input.sk-toggleable__control:checked~label.sk-toggleable__label {background-color: #d4ebff;}#sk-container-id-45 div.sk-label input.sk-toggleable__control:checked~label.sk-toggleable__label {background-color: #d4ebff;}#sk-container-id-45 input.sk-hidden--visually {border: 0;clip: rect(1px 1px 1px 1px);clip: rect(1px, 1px, 1px, 1px);height: 1px;margin: -1px;overflow: hidden;padding: 0;position: absolute;width: 1px;}#sk-container-id-45 div.sk-estimator {font-family: monospace;background-color: #f0f8ff;border: 1px dotted black;border-radius: 0.25em;box-sizing: border-box;margin-bottom: 0.5em;}#sk-container-id-45 div.sk-estimator:hover {background-color: #d4ebff;}#sk-container-id-45 div.sk-parallel-item::after {content: \"\";width: 100%;border-bottom: 1px solid gray;flex-grow: 1;}#sk-container-id-45 div.sk-label:hover label.sk-toggleable__label {background-color: #d4ebff;}#sk-container-id-45 div.sk-serial::before {content: \"\";position: absolute;border-left: 1px solid gray;box-sizing: border-box;top: 0;bottom: 0;left: 50%;z-index: 0;}#sk-container-id-45 div.sk-serial {display: flex;flex-direction: column;align-items: center;background-color: white;padding-right: 0.2em;padding-left: 0.2em;position: relative;}#sk-container-id-45 div.sk-item {position: relative;z-index: 1;}#sk-container-id-45 div.sk-parallel {display: flex;align-items: stretch;justify-content: center;background-color: white;position: relative;}#sk-container-id-45 div.sk-item::before, #sk-container-id-45 div.sk-parallel-item::before {content: \"\";position: absolute;border-left: 1px solid gray;box-sizing: border-box;top: 0;bottom: 0;left: 50%;z-index: -1;}#sk-container-id-45 div.sk-parallel-item {display: flex;flex-direction: column;z-index: 1;position: relative;background-color: white;}#sk-container-id-45 div.sk-parallel-item:first-child::after {align-self: flex-end;width: 50%;}#sk-container-id-45 div.sk-parallel-item:last-child::after {align-self: flex-start;width: 50%;}#sk-container-id-45 div.sk-parallel-item:only-child::after {width: 0;}#sk-container-id-45 div.sk-dashed-wrapped {border: 1px dashed gray;margin: 0 0.4em 0.5em 0.4em;box-sizing: border-box;padding-bottom: 0.4em;background-color: white;}#sk-container-id-45 div.sk-label label {font-family: monospace;font-weight: bold;display: inline-block;line-height: 1.2em;}#sk-container-id-45 div.sk-label-container {text-align: center;}#sk-container-id-45 div.sk-container {/* jupyter's `normalize.less` sets `[hidden] { display: none; }` but bootstrap.min.css set `[hidden] { display: none !important; }` so we also need the `!important` here to be able to override the default hidden behavior on the sphinx rendered scikit-learn.org. See: https://github.com/scikit-learn/scikit-learn/issues/21755 */display: inline-block !important;position: relative;}#sk-container-id-45 div.sk-text-repr-fallback {display: none;}</style><div id=\"sk-container-id-45\" class=\"sk-top-container\"><div class=\"sk-text-repr-fallback\"><pre>LinearRegression()</pre><b>In a Jupyter environment, please rerun this cell to show the HTML representation or trust the notebook. <br />On GitHub, the HTML representation is unable to render, please try loading this page with nbviewer.org.</b></div><div class=\"sk-container\" hidden><div class=\"sk-item\"><div class=\"sk-estimator sk-toggleable\"><input class=\"sk-toggleable__control sk-hidden--visually\" id=\"sk-estimator-id-45\" type=\"checkbox\" checked><label for=\"sk-estimator-id-45\" class=\"sk-toggleable__label sk-toggleable__label-arrow\">LinearRegression</label><div class=\"sk-toggleable__content\"><pre>LinearRegression()</pre></div></div></div></div></div>"
            ]
          },
          "metadata": {},
          "execution_count": 2108
        }
      ]
    },
    {
      "cell_type": "code",
      "source": [
        "lr.coef_"
      ],
      "metadata": {
        "id": "QwVaL36ojy69",
        "outputId": "b922c491-a432-4862-ec8e-7a488f7b35b9",
        "colab": {
          "base_uri": "https://localhost:8080/"
        }
      },
      "execution_count": 2109,
      "outputs": [
        {
          "output_type": "execute_result",
          "data": {
            "text/plain": [
              "array([[1.0131872]], dtype=float32)"
            ]
          },
          "metadata": {},
          "execution_count": 2109
        }
      ]
    },
    {
      "cell_type": "code",
      "source": [
        "lr.intercept_"
      ],
      "metadata": {
        "id": "iG1-Fw-Mj1dC",
        "outputId": "6975c5dc-f11e-46af-8b12-19c47e5057d8",
        "colab": {
          "base_uri": "https://localhost:8080/"
        }
      },
      "execution_count": 2110,
      "outputs": [
        {
          "output_type": "execute_result",
          "data": {
            "text/plain": [
              "array([-0.00814143], dtype=float32)"
            ]
          },
          "metadata": {},
          "execution_count": 2110
        }
      ]
    },
    {
      "cell_type": "code",
      "source": [
        "yest=lr.predict(X)"
      ],
      "metadata": {
        "id": "3mj8CVq2lr2r"
      },
      "execution_count": 2111,
      "outputs": []
    },
    {
      "cell_type": "code",
      "source": [
        "from matplotlib import pyplot as plt\n",
        "\n",
        "plt.clf()\n",
        "plt.plot(X, y, 'go', label='True data', alpha=0.5)\n",
        "plt.plot(X, yest, '--', label='Predictions', alpha=0.5)\n",
        "plt.legend(loc='best')\n",
        "plt.show()"
      ],
      "metadata": {
        "id": "bk5rp26Bln97",
        "outputId": "59298037-1e74-4212-d583-7b4703b0bf4a",
        "colab": {
          "base_uri": "https://localhost:8080/",
          "height": 430
        }
      },
      "execution_count": 2112,
      "outputs": [
        {
          "output_type": "display_data",
          "data": {
            "text/plain": [
              "<Figure size 640x480 with 1 Axes>"
            ],
            "image/png": "[encoded data removed]"
          },
          "metadata": {}
        }
      ]
    },
    {
      "cell_type": "code",
      "source": [
        "from sklearn.metrics import mean_squared_error \n",
        "mean_squared_error(y,yest)"
      ],
      "metadata": {
        "id": "GXaP9UKrtHYz",
        "outputId": "c87a5c40-1f4f-4dbe-b205-90eeed6f60db",
        "colab": {
          "base_uri": "https://localhost:8080/"
        }
      },
      "execution_count": 2113,
      "outputs": [
        {
          "output_type": "execute_result",
          "data": {
            "text/plain": [
              "4.0135907e-05"
            ]
          },
          "metadata": {},
          "execution_count": 2113
        }
      ]
    },
    {
      "cell_type": "code",
      "source": [
        "from sklearn.metrics import mean_absolute_error\n",
        "mean_absolute_error(y,yest)"
      ],
      "metadata": {
        "id": "UnSbiPkety4V",
        "outputId": "f9b07e2f-57a3-4a6c-e5ec-38aa61ba36d4",
        "colab": {
          "base_uri": "https://localhost:8080/"
        }
      },
      "execution_count": 2115,
      "outputs": [
        {
          "output_type": "execute_result",
          "data": {
            "text/plain": [
              "0.005054437"
            ]
          },
          "metadata": {},
          "execution_count": 2115
        }
      ]
    }
  ]
}