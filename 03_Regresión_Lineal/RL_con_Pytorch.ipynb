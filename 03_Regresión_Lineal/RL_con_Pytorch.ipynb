{
  "nbformat": 4,
  "nbformat_minor": 0,
  "metadata": {
    "colab": {
      "name": "RL con Pytorch.ipynb",
      "provenance": [],
      "authorship_tag": "ABX9TyMS+yvGYvv7lzl3l8Q1I5PE",
      "include_colab_link": true
    },
    "kernelspec": {
      "name": "python3",
      "display_name": "Python 3"
    },
    "language_info": {
      "name": "python"
    }
  },
  "cells": [
    {
      "cell_type": "markdown",
      "metadata": {
        "id": "view-in-github",
        "colab_type": "text"
      },
      "source": [
        "<a href=\"https://colab.research.google.com/github/LCaravaggio/AnalisisPredictivo/blob/master/03_Regresi%C3%B3n_Lineal/RL_con_Pytorch.ipynb\" target=\"_parent\"><img src=\"https://colab.research.google.com/assets/colab-badge.svg\" alt=\"Open In Colab\"/></a>"
      ]
    },
    {
      "cell_type": "markdown",
      "metadata": {
        "id": "iy6ZTn67Zmdi"
      },
      "source": [
        "# RL con Pytorch"
      ]
    },
    {
      "cell_type": "markdown",
      "metadata": {
        "id": "aACkjRdSbN-2"
      },
      "source": [
        "Si bien esta librería (al igual que Tensorflow) no tiene mucho sentido usarla para RL porque es una librería más típica de DeepLearning, puede tener sentido presentarla en este ejemplo sencillo como introducción. "
      ]
    },
    {
      "cell_type": "code",
      "metadata": {
        "id": "RwyT-OdjVsfM"
      },
      "source": [
        "from sklearn import datasets\n",
        "import numpy as np\n",
        "\n",
        "import torch"
      ],
      "execution_count": 2396,
      "outputs": []
    },
    {
      "cell_type": "markdown",
      "metadata": {
        "id": "8gZYgbLWZgYQ"
      },
      "source": [
        "Tomamos los mismos datos del dataset de Boston que usamos para la regresión simple. "
      ]
    },
    {
      "cell_type": "code",
      "metadata": {
        "id": "_FuGpnzQXFnp"
      },
      "source": [
        "from sklearn.datasets import make_regression\n",
        "X, y = make_regression(n_samples=1000, n_features=1, noise=0.75, random_state=42)"
      ],
      "execution_count": 2397,
      "outputs": []
    },
    {
      "cell_type": "code",
      "source": [
        "X = np.float32(X)\n",
        "y = np.float32(y).reshape(-1, 1)"
      ],
      "metadata": {
        "id": "3fRygcBGY26r"
      },
      "execution_count": 2398,
      "outputs": []
    },
    {
      "cell_type": "code",
      "source": [
        "from sklearn.preprocessing import MinMaxScaler\n",
        "# Normalize the data\n",
        "scaler = MinMaxScaler()\n",
        "X = scaler.fit_transform(X)\n",
        "y = scaler.fit_transform(y)"
      ],
      "metadata": {
        "id": "HFbe_Zh2nayj"
      },
      "execution_count": 2399,
      "outputs": []
    },
    {
      "cell_type": "code",
      "source": [
        "from matplotlib import pyplot as plt\n",
        "\n",
        "plt.clf()\n",
        "plt.plot(X, y, 'go', label='True data', alpha=0.5)\n",
        "plt.legend(loc='best')\n",
        "plt.show()"
      ],
      "metadata": {
        "colab": {
          "base_uri": "https://localhost:8080/",
          "height": 430
        },
        "id": "DTgxErZRbmLB",
        "outputId": "fdb2f7e4-f211-4c23-b19d-983509595004"
      },
      "execution_count": 2400,
      "outputs": [
        {
          "output_type": "display_data",
          "data": {
            "text/plain": [
              "<Figure size 640x480 with 1 Axes>"
            ],
            "image/png": "[encoded data removed]"
          },
          "metadata": {}
        }
      ]
    },
    {
      "cell_type": "markdown",
      "metadata": {
        "id": "fPN-Sdiib6NT"
      },
      "source": [
        "Pytorch trabaja directamente sobre tensores. Veamos un poco que es un tensor y como lo trabaja Pytorch"
      ]
    },
    {
      "cell_type": "code",
      "metadata": {
        "colab": {
          "base_uri": "https://localhost:8080/",
          "height": 35
        },
        "id": "hTGvMMj7TRW7",
        "outputId": "fadca9ac-b85c-4c6b-cd8b-ab412fcd6f3c"
      },
      "source": [
        "torch.__version__"
      ],
      "execution_count": 2401,
      "outputs": [
        {
          "output_type": "execute_result",
          "data": {
            "text/plain": [
              "'2.0.0+cu118'"
            ],
            "application/vnd.google.colaboratory.intrinsic+json": {
              "type": "string"
            }
          },
          "metadata": {},
          "execution_count": 2401
        }
      ]
    },
    {
      "cell_type": "code",
      "metadata": {
        "id": "OXhI567HTXA6"
      },
      "source": [
        "# empty genera un tensor vacío\n",
        "tensor=torch.empty(2,2)"
      ],
      "execution_count": 2402,
      "outputs": []
    },
    {
      "cell_type": "code",
      "metadata": {
        "id": "eu3P6lEZTuC_"
      },
      "source": [
        "# Rand genera un tensor aleatorio\n",
        "tensor=torch.rand(2,2)"
      ],
      "execution_count": 2403,
      "outputs": []
    },
    {
      "cell_type": "code",
      "metadata": {
        "colab": {
          "base_uri": "https://localhost:8080/"
        },
        "id": "gFtc8KDddRm-",
        "outputId": "182f0c24-337e-461f-e1e7-79a0c9d65a87"
      },
      "source": [
        "tensor"
      ],
      "execution_count": 2404,
      "outputs": [
        {
          "output_type": "execute_result",
          "data": {
            "text/plain": [
              "tensor([[0.1335, 0.3898],\n",
              "        [0.5607, 0.3310]])"
            ]
          },
          "metadata": {},
          "execution_count": 2404
        }
      ]
    },
    {
      "cell_type": "code",
      "metadata": {
        "colab": {
          "base_uri": "https://localhost:8080/"
        },
        "id": "5maMedF1dTuW",
        "outputId": "70be9c92-309b-469c-d9dd-b85b00c63d1d"
      },
      "source": [
        "# Fíjense que si suman un número a un tensor, se suma elemento a elemento como si el número fuera un tensor del mismo tamaño\n",
        "tensor+1"
      ],
      "execution_count": 2405,
      "outputs": [
        {
          "output_type": "execute_result",
          "data": {
            "text/plain": [
              "tensor([[1.1335, 1.3898],\n",
              "        [1.5607, 1.3310]])"
            ]
          },
          "metadata": {},
          "execution_count": 2405
        }
      ]
    },
    {
      "cell_type": "code",
      "metadata": {
        "colab": {
          "base_uri": "https://localhost:8080/"
        },
        "id": "811cxipreJE-",
        "outputId": "4f3dd82f-ada8-463f-d8ae-1a6bd9ddced9"
      },
      "source": [
        "# Se genera la multiplicación elemento a elemento (y no la multiplicación matricial)\n",
        "tensor*tensor"
      ],
      "execution_count": 2406,
      "outputs": [
        {
          "output_type": "execute_result",
          "data": {
            "text/plain": [
              "tensor([[0.0178, 0.1519],\n",
              "        [0.3143, 0.1096]])"
            ]
          },
          "metadata": {},
          "execution_count": 2406
        }
      ]
    },
    {
      "cell_type": "code",
      "metadata": {
        "colab": {
          "base_uri": "https://localhost:8080/"
        },
        "id": "ebeJpr7Wd-JD",
        "outputId": "005b137c-4733-4512-cc49-2eca16a5ff82"
      },
      "source": [
        "# Mean devuelve la media de todos los elementos del tensor\n",
        "tensor.mean()"
      ],
      "execution_count": 2407,
      "outputs": [
        {
          "output_type": "execute_result",
          "data": {
            "text/plain": [
              "tensor(0.3537)"
            ]
          },
          "metadata": {},
          "execution_count": 2407
        }
      ]
    },
    {
      "cell_type": "markdown",
      "metadata": {
        "id": "B2IFpn-LcMPE"
      },
      "source": [
        "Definimos una clase para regresión lineal, que hereda torch.nn.Module, que es el módulo básico de la red neuronal que contiene todas las funciones requeridas. Nuestro modelo de regresión lineal solo contiene una función lineal simple."
      ]
    },
    {
      "cell_type": "code",
      "source": [
        "import torch.nn as nn\n",
        " \n",
        "# L1 o MAE Error Medio Absoluto\n",
        "l = nn.L1Loss()\n",
        "\n",
        "# MAE loss\n",
        "#def l(t1, t2):\n",
        "#    diff = t1 - t2\n",
        "#    return (torch.sum(diff) / diff.numel())\n",
        "\n",
        "\n",
        "#MSE o Error Cuadrático Medio\n",
        "#l = nn.MSELoss()\n",
        "\n",
        "# MSE loss\n",
        "#def l(t1, t2):\n",
        "#    diff = t1 - t2\n",
        "#    return torch.sum(diff * diff) / diff.numel()"
      ],
      "metadata": {
        "id": "Rebt6Kg3X_Tm"
      },
      "execution_count": 2408,
      "outputs": []
    },
    {
      "cell_type": "code",
      "source": [
        "def model(x):\n",
        "    return x @ w.t() + b"
      ],
      "metadata": {
        "id": "e3tCZ7VfYIIm"
      },
      "execution_count": 2409,
      "outputs": []
    },
    {
      "cell_type": "code",
      "source": [
        "# Weights and biases\n",
        "#w = torch.randn(1, 1, requires_grad=True)\n",
        "#b = torch.randn(1, requires_grad=True)\n",
        "w=torch.tensor([[1.]], requires_grad=True)\n",
        "b=torch.tensor([[0.]], requires_grad=True)"
      ],
      "metadata": {
        "id": "klcmL9P7YPwA"
      },
      "execution_count": 2410,
      "outputs": []
    },
    {
      "cell_type": "code",
      "source": [
        "w"
      ],
      "metadata": {
        "colab": {
          "base_uri": "https://localhost:8080/"
        },
        "id": "ZLks10ASl9O2",
        "outputId": "6a9775a3-6a72-4301-c215-8d983f5dc9e5"
      },
      "execution_count": 2411,
      "outputs": [
        {
          "output_type": "execute_result",
          "data": {
            "text/plain": [
              "tensor([[1.]], requires_grad=True)"
            ]
          },
          "metadata": {},
          "execution_count": 2411
        }
      ]
    },
    {
      "cell_type": "code",
      "source": [
        "b"
      ],
      "metadata": {
        "colab": {
          "base_uri": "https://localhost:8080/"
        },
        "id": "LWQA7ASml94j",
        "outputId": "2ff4f9ac-d87b-4400-b574-f4e37e8fa28d"
      },
      "execution_count": 2412,
      "outputs": [
        {
          "output_type": "execute_result",
          "data": {
            "text/plain": [
              "tensor([[0.]], requires_grad=True)"
            ]
          },
          "metadata": {},
          "execution_count": 2412
        }
      ]
    },
    {
      "cell_type": "code",
      "source": [
        "inputs = torch.from_numpy(X)\n",
        "targets = torch.from_numpy(y)"
      ],
      "metadata": {
        "id": "0q9AAy5CYTud"
      },
      "execution_count": 2413,
      "outputs": []
    },
    {
      "cell_type": "code",
      "source": [
        "# Generate predictions\n",
        "preds = model(inputs)"
      ],
      "metadata": {
        "id": "LMd37keAYKDd"
      },
      "execution_count": 2414,
      "outputs": []
    },
    {
      "cell_type": "code",
      "source": [
        "# Compute loss\n",
        "loss = mse(preds, targets)\n",
        "print(loss)"
      ],
      "metadata": {
        "colab": {
          "base_uri": "https://localhost:8080/"
        },
        "id": "I1z0vSwlYBv0",
        "outputId": "31df2449-ab32-4443-d28c-d508b74a47a6"
      },
      "execution_count": 2415,
      "outputs": [
        {
          "output_type": "stream",
          "name": "stdout",
          "text": [
            "tensor(0.0054, grad_fn=<MeanBackward0>)\n"
          ]
        }
      ]
    },
    {
      "cell_type": "code",
      "source": [
        "# Calculo la derivada de la función de coste\n",
        "loss.backward()"
      ],
      "metadata": {
        "id": "8C09FEJEZDP1"
      },
      "execution_count": 2416,
      "outputs": []
    },
    {
      "cell_type": "code",
      "source": [
        "# Estos son los parámetros estimados y su gradiente\n",
        "print(w)\n",
        "print(w.grad)"
      ],
      "metadata": {
        "colab": {
          "base_uri": "https://localhost:8080/"
        },
        "id": "PLFynwO7Z1vo",
        "outputId": "7e5f00c3-b0ff-41b4-b084-e580de4ab56b"
      },
      "execution_count": 2417,
      "outputs": [
        {
          "output_type": "stream",
          "name": "stdout",
          "text": [
            "tensor([[1.]], requires_grad=True)\n",
            "tensor([[0.0982]])\n"
          ]
        }
      ]
    },
    {
      "cell_type": "code",
      "source": [
        "with torch.no_grad():\n",
        "    # Ajusto los parámetros\n",
        "    w -= w.grad * 1e-2\n",
        "    b -= b.grad * 1e-2\n",
        "    # Y reinicializo los gradientes\n",
        "    w.grad.zero_()\n",
        "    b.grad.zero_()"
      ],
      "metadata": {
        "id": "BGCJX-kLa25-"
      },
      "execution_count": 2418,
      "outputs": []
    },
    {
      "cell_type": "code",
      "source": [
        "print(w)\n",
        "print(b)"
      ],
      "metadata": {
        "colab": {
          "base_uri": "https://localhost:8080/"
        },
        "id": "uCd5MFEkbBD5",
        "outputId": "6cc1903a-0613-439b-e040-25f2b23356a5"
      },
      "execution_count": 2419,
      "outputs": [
        {
          "output_type": "stream",
          "name": "stdout",
          "text": [
            "tensor([[0.9990]], requires_grad=True)\n",
            "tensor([[-0.0027]], requires_grad=True)\n"
          ]
        }
      ]
    },
    {
      "cell_type": "code",
      "source": [
        "# Compute loss\n",
        "loss = mse(preds, targets)\n",
        "print(loss)"
      ],
      "metadata": {
        "colab": {
          "base_uri": "https://localhost:8080/"
        },
        "id": "D4mmsPp_emf7",
        "outputId": "76bedca2-5cc3-4e69-f923-de81fece4a59"
      },
      "execution_count": 2420,
      "outputs": [
        {
          "output_type": "stream",
          "name": "stdout",
          "text": [
            "tensor(0.0054, grad_fn=<MeanBackward0>)\n"
          ]
        }
      ]
    },
    {
      "cell_type": "code",
      "source": [
        "# Esto lo tengo que hacer en un proceso iterativo. A cada \"vuelta\" de este proceso se la conoce como epoch\n",
        "epochs=1500\n",
        "step=0.001\n",
        "losses=[]\n",
        "for i in range(epochs):\n",
        "    preds = model(inputs)\n",
        "    loss = l(preds, targets)\n",
        "    loss.backward()\n",
        "    losses.append(loss.item())\n",
        "    with torch.no_grad():\n",
        "      w -= w.grad * step\n",
        "      b -= b.grad * step\n",
        "      w.grad.zero_()\n",
        "      b.grad.zero_()"
      ],
      "metadata": {
        "id": "1eLrYuE1bE2h"
      },
      "execution_count": 2421,
      "outputs": []
    },
    {
      "cell_type": "code",
      "source": [
        "from matplotlib import pyplot as plt\n",
        "\n",
        "plt.clf()\n",
        "plt.plot(losses, 'go', label='Losses', alpha=0.5)\n",
        "plt.legend(loc='best')\n",
        "plt.show()"
      ],
      "metadata": {
        "colab": {
          "base_uri": "https://localhost:8080/",
          "height": 432
        },
        "id": "ShZOwmnsf-X4",
        "outputId": "73f6eb58-f2b0-4905-a99d-941e3a1c9e9d"
      },
      "execution_count": 2422,
      "outputs": [
        {
          "output_type": "display_data",
          "data": {
            "text/plain": [
              "<Figure size 640x480 with 1 Axes>"
            ],
            "image/png": "[encoded data removed]"
          },
          "metadata": {}
        }
      ]
    },
    {
      "cell_type": "code",
      "source": [
        "print(w)\n",
        "print(b)"
      ],
      "metadata": {
        "colab": {
          "base_uri": "https://localhost:8080/"
        },
        "id": "x6T-9E9obOLO",
        "outputId": "4016ec07-1299-4112-81b4-885f7da23adc"
      },
      "execution_count": 2423,
      "outputs": [
        {
          "output_type": "stream",
          "name": "stdout",
          "text": [
            "tensor([[1.0113]], requires_grad=True)\n",
            "tensor([[-0.0071]], requires_grad=True)\n"
          ]
        }
      ]
    },
    {
      "cell_type": "code",
      "source": [
        "# Compute loss\n",
        "loss = mse(preds, targets)\n",
        "print(loss.item())"
      ],
      "metadata": {
        "colab": {
          "base_uri": "https://localhost:8080/"
        },
        "id": "FZDLKDdCenWF",
        "outputId": "ce8f5bb6-ad4d-45e0-bda0-a126e07dbcbb"
      },
      "execution_count": 2424,
      "outputs": [
        {
          "output_type": "stream",
          "name": "stdout",
          "text": [
            "0.005051265936344862\n"
          ]
        }
      ]
    },
    {
      "cell_type": "code",
      "source": [
        "preds = model(inputs)"
      ],
      "metadata": {
        "id": "3AdD8gdhcugB"
      },
      "execution_count": 2425,
      "outputs": []
    },
    {
      "cell_type": "code",
      "source": [
        "w"
      ],
      "metadata": {
        "colab": {
          "base_uri": "https://localhost:8080/"
        },
        "id": "G-tINfsIjgrr",
        "outputId": "13ff6b6a-f8b2-42b0-9c06-7d81171a39ad"
      },
      "execution_count": 2426,
      "outputs": [
        {
          "output_type": "execute_result",
          "data": {
            "text/plain": [
              "tensor([[1.0113]], requires_grad=True)"
            ]
          },
          "metadata": {},
          "execution_count": 2426
        }
      ]
    },
    {
      "cell_type": "code",
      "source": [
        "b"
      ],
      "metadata": {
        "colab": {
          "base_uri": "https://localhost:8080/"
        },
        "id": "MiBnBLe5jr58",
        "outputId": "b0d9331e-6a65-4aa0-d77e-f527d11a7aed"
      },
      "execution_count": 2427,
      "outputs": [
        {
          "output_type": "execute_result",
          "data": {
            "text/plain": [
              "tensor([[-0.0071]], requires_grad=True)"
            ]
          },
          "metadata": {},
          "execution_count": 2427
        }
      ]
    },
    {
      "cell_type": "code",
      "metadata": {
        "colab": {
          "base_uri": "https://localhost:8080/",
          "height": 430
        },
        "id": "4ybyhyGQXgxR",
        "outputId": "a125e59d-bfae-4a9a-c532-822e629da367"
      },
      "source": [
        "from matplotlib import pyplot as plt\n",
        "\n",
        "plt.clf()\n",
        "plt.plot(X, y, 'go', label='True data', alpha=0.5)\n",
        "plt.plot(X, preds.detach().numpy(), '--', label='Predictions', alpha=0.5)\n",
        "plt.legend(loc='best')\n",
        "plt.show()"
      ],
      "execution_count": 2428,
      "outputs": [
        {
          "output_type": "display_data",
          "data": {
            "text/plain": [
              "<Figure size 640x480 with 1 Axes>"
            ],
            "image/png": "[encoded data removed]"
          },
          "metadata": {}
        }
      ]
    },
    {
      "cell_type": "markdown",
      "source": [
        "# Sklearn"
      ],
      "metadata": {
        "id": "FiLiJAsZlex5"
      }
    },
    {
      "cell_type": "code",
      "source": [
        "from sklearn import linear_model\n",
        "lr = linear_model.LinearRegression()\n",
        "lr.fit(X, y)"
      ],
      "metadata": {
        "colab": {
          "base_uri": "https://localhost:8080/",
          "height": 75
        },
        "id": "dW-nPLd5jtCP",
        "outputId": "bb059b76-8aa1-40d6-d6cb-d9212256c44a"
      },
      "execution_count": 2429,
      "outputs": [
        {
          "output_type": "execute_result",
          "data": {
            "text/plain": [
              "LinearRegression()"
            ],
            "text/html": [
              "<style>#sk-container-id-53 {color: black;background-color: white;}#sk-container-id-53 pre{padding: 0;}#sk-container-id-53 div.sk-toggleable {background-color: white;}#sk-container-id-53 label.sk-toggleable__label {cursor: pointer;display: block;width: 100%;margin-bottom: 0;padding: 0.3em;box-sizing: border-box;text-align: center;}#sk-container-id-53 label.sk-toggleable__label-arrow:before {content: \"▸\";float: left;margin-right: 0.25em;color: #696969;}#sk-container-id-53 label.sk-toggleable__label-arrow:hover:before {color: black;}#sk-container-id-53 div.sk-estimator:hover label.sk-toggleable__label-arrow:before {color: black;}#sk-container-id-53 div.sk-toggleable__content {max-height: 0;max-width: 0;overflow: hidden;text-align: left;background-color: #f0f8ff;}#sk-container-id-53 div.sk-toggleable__content pre {margin: 0.2em;color: black;border-radius: 0.25em;background-color: #f0f8ff;}#sk-container-id-53 input.sk-toggleable__control:checked~div.sk-toggleable__content {max-height: 200px;max-width: 100%;overflow: auto;}#sk-container-id-53 input.sk-toggleable__control:checked~label.sk-toggleable__label-arrow:before {content: \"▾\";}#sk-container-id-53 div.sk-estimator input.sk-toggleable__control:checked~label.sk-toggleable__label {background-color: #d4ebff;}#sk-container-id-53 div.sk-label input.sk-toggleable__control:checked~label.sk-toggleable__label {background-color: #d4ebff;}#sk-container-id-53 input.sk-hidden--visually {border: 0;clip: rect(1px 1px 1px 1px);clip: rect(1px, 1px, 1px, 1px);height: 1px;margin: -1px;overflow: hidden;padding: 0;position: absolute;width: 1px;}#sk-container-id-53 div.sk-estimator {font-family: monospace;background-color: #f0f8ff;border: 1px dotted black;border-radius: 0.25em;box-sizing: border-box;margin-bottom: 0.5em;}#sk-container-id-53 div.sk-estimator:hover {background-color: #d4ebff;}#sk-container-id-53 div.sk-parallel-item::after {content: \"\";width: 100%;border-bottom: 1px solid gray;flex-grow: 1;}#sk-container-id-53 div.sk-label:hover label.sk-toggleable__label {background-color: #d4ebff;}#sk-container-id-53 div.sk-serial::before {content: \"\";position: absolute;border-left: 1px solid gray;box-sizing: border-box;top: 0;bottom: 0;left: 50%;z-index: 0;}#sk-container-id-53 div.sk-serial {display: flex;flex-direction: column;align-items: center;background-color: white;padding-right: 0.2em;padding-left: 0.2em;position: relative;}#sk-container-id-53 div.sk-item {position: relative;z-index: 1;}#sk-container-id-53 div.sk-parallel {display: flex;align-items: stretch;justify-content: center;background-color: white;position: relative;}#sk-container-id-53 div.sk-item::before, #sk-container-id-53 div.sk-parallel-item::before {content: \"\";position: absolute;border-left: 1px solid gray;box-sizing: border-box;top: 0;bottom: 0;left: 50%;z-index: -1;}#sk-container-id-53 div.sk-parallel-item {display: flex;flex-direction: column;z-index: 1;position: relative;background-color: white;}#sk-container-id-53 div.sk-parallel-item:first-child::after {align-self: flex-end;width: 50%;}#sk-container-id-53 div.sk-parallel-item:last-child::after {align-self: flex-start;width: 50%;}#sk-container-id-53 div.sk-parallel-item:only-child::after {width: 0;}#sk-container-id-53 div.sk-dashed-wrapped {border: 1px dashed gray;margin: 0 0.4em 0.5em 0.4em;box-sizing: border-box;padding-bottom: 0.4em;background-color: white;}#sk-container-id-53 div.sk-label label {font-family: monospace;font-weight: bold;display: inline-block;line-height: 1.2em;}#sk-container-id-53 div.sk-label-container {text-align: center;}#sk-container-id-53 div.sk-container {/* jupyter's `normalize.less` sets `[hidden] { display: none; }` but bootstrap.min.css set `[hidden] { display: none !important; }` so we also need the `!important` here to be able to override the default hidden behavior on the sphinx rendered scikit-learn.org. See: https://github.com/scikit-learn/scikit-learn/issues/21755 */display: inline-block !important;position: relative;}#sk-container-id-53 div.sk-text-repr-fallback {display: none;}</style><div id=\"sk-container-id-53\" class=\"sk-top-container\"><div class=\"sk-text-repr-fallback\"><pre>LinearRegression()</pre><b>In a Jupyter environment, please rerun this cell to show the HTML representation or trust the notebook. <br />On GitHub, the HTML representation is unable to render, please try loading this page with nbviewer.org.</b></div><div class=\"sk-container\" hidden><div class=\"sk-item\"><div class=\"sk-estimator sk-toggleable\"><input class=\"sk-toggleable__control sk-hidden--visually\" id=\"sk-estimator-id-53\" type=\"checkbox\" checked><label for=\"sk-estimator-id-53\" class=\"sk-toggleable__label sk-toggleable__label-arrow\">LinearRegression</label><div class=\"sk-toggleable__content\"><pre>LinearRegression()</pre></div></div></div></div></div>"
            ]
          },
          "metadata": {},
          "execution_count": 2429
        }
      ]
    },
    {
      "cell_type": "code",
      "source": [
        "lr.coef_"
      ],
      "metadata": {
        "colab": {
          "base_uri": "https://localhost:8080/"
        },
        "id": "QwVaL36ojy69",
        "outputId": "0f1664d8-b19f-433d-f3d9-312e657cd5df"
      },
      "execution_count": 2430,
      "outputs": [
        {
          "output_type": "execute_result",
          "data": {
            "text/plain": [
              "array([[1.0131872]], dtype=float32)"
            ]
          },
          "metadata": {},
          "execution_count": 2430
        }
      ]
    },
    {
      "cell_type": "code",
      "source": [
        "lr.intercept_"
      ],
      "metadata": {
        "colab": {
          "base_uri": "https://localhost:8080/"
        },
        "id": "iG1-Fw-Mj1dC",
        "outputId": "ca29dd93-7ee1-40c0-c037-8ad58597b443"
      },
      "execution_count": 2431,
      "outputs": [
        {
          "output_type": "execute_result",
          "data": {
            "text/plain": [
              "array([-0.00814143], dtype=float32)"
            ]
          },
          "metadata": {},
          "execution_count": 2431
        }
      ]
    },
    {
      "cell_type": "code",
      "source": [
        "yest=lr.predict(X)"
      ],
      "metadata": {
        "id": "3mj8CVq2lr2r"
      },
      "execution_count": 2432,
      "outputs": []
    },
    {
      "cell_type": "code",
      "source": [
        "from matplotlib import pyplot as plt\n",
        "\n",
        "plt.clf()\n",
        "plt.plot(X, y, 'go', label='True data', alpha=0.5)\n",
        "plt.plot(X, yest, '--', label='Predictions', alpha=0.5)\n",
        "plt.legend(loc='best')\n",
        "plt.show()"
      ],
      "metadata": {
        "colab": {
          "base_uri": "https://localhost:8080/",
          "height": 430
        },
        "id": "bk5rp26Bln97",
        "outputId": "bf729bc9-f72a-49c0-da2f-c810860c8c5e"
      },
      "execution_count": 2433,
      "outputs": [
        {
          "output_type": "display_data",
          "data": {
            "text/plain": [
              "<Figure size 640x480 with 1 Axes>"
            ],
            "image/png": "[encoded data removed]"
          },
          "metadata": {}
        }
      ]
    },
    {
      "cell_type": "code",
      "source": [
        "from sklearn.metrics import mean_squared_error \n",
        "mean_squared_error(y,yest)"
      ],
      "metadata": {
        "colab": {
          "base_uri": "https://localhost:8080/"
        },
        "id": "GXaP9UKrtHYz",
        "outputId": "6384c61f-8ab0-479a-8800-1ae5f2c38ff0"
      },
      "execution_count": 2434,
      "outputs": [
        {
          "output_type": "execute_result",
          "data": {
            "text/plain": [
              "4.0135907e-05"
            ]
          },
          "metadata": {},
          "execution_count": 2434
        }
      ]
    },
    {
      "cell_type": "code",
      "source": [
        "from sklearn.metrics import mean_absolute_error\n",
        "mean_absolute_error(y,yest)"
      ],
      "metadata": {
        "colab": {
          "base_uri": "https://localhost:8080/"
        },
        "id": "UnSbiPkety4V",
        "outputId": "0c23a836-5936-49e7-ee49-60f9f9f63758"
      },
      "execution_count": 2435,
      "outputs": [
        {
          "output_type": "execute_result",
          "data": {
            "text/plain": [
              "0.005054437"
            ]
          },
          "metadata": {},
          "execution_count": 2435
        }
      ]
    }
  ]
}