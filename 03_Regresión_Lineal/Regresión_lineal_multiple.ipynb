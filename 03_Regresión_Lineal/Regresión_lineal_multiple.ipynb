{
  "nbformat": 4,
  "nbformat_minor": 0,
  "metadata": {
    "colab": {
      "name": "Regresión lineal multiple.ipynb",
      "provenance": [],
      "collapsed_sections": [],
      "include_colab_link": true
    },
    "kernelspec": {
      "display_name": "Python 3",
      "language": "python",
      "name": "python3"
    },
    "language_info": {
      "codemirror_mode": {
        "name": "ipython",
        "version": 3
      },
      "file_extension": ".py",
      "mimetype": "text/x-python",
      "name": "python",
      "nbconvert_exporter": "python",
      "pygments_lexer": "ipython3",
      "version": "3.7.6"
    }
  },
  "cells": [
    {
      "cell_type": "markdown",
      "metadata": {
        "id": "view-in-github",
        "colab_type": "text"
      },
      "source": [
        "<a href=\"https://colab.research.google.com/github/LCaravaggio/AnalisisPredictivo/blob/master/03_Regresi%C3%B3n_Lineal/Regresi%C3%B3n_lineal_multiple.ipynb\" target=\"_parent\"><img src=\"https://colab.research.google.com/assets/colab-badge.svg\" alt=\"Open In Colab\"/></a>"
      ]
    },
    {
      "cell_type": "markdown",
      "metadata": {
        "id": "MIAfqLk0XJqa"
      },
      "source": [
        "Importar librerías"
      ]
    },
    {
      "cell_type": "code",
      "metadata": {
        "id": "f8CtebmSzRpT"
      },
      "source": [
        "from sklearn import datasets, linear_model"
      ],
      "execution_count": 1,
      "outputs": []
    },
    {
      "cell_type": "markdown",
      "metadata": {
        "id": "j-f5V67LXNm8"
      },
      "source": [
        "Cargar datos"
      ]
    },
    {
      "cell_type": "code",
      "metadata": {
        "id": "GcXt9imnzRpY",
        "colab": {
          "base_uri": "https://localhost:8080/"
        },
        "outputId": "72618bdb-0937-4edb-9e0e-4a69f4538662"
      },
      "source": [
        "boston = datasets.load_boston()"
      ],
      "execution_count": 2,
      "outputs": [
        {
          "output_type": "stream",
          "name": "stderr",
          "text": [
            "/usr/local/lib/python3.7/dist-packages/sklearn/utils/deprecation.py:87: FutureWarning: Function load_boston is deprecated; `load_boston` is deprecated in 1.0 and will be removed in 1.2.\n",
            "\n",
            "    The Boston housing prices dataset has an ethical problem. You can refer to\n",
            "    the documentation of this function for further details.\n",
            "\n",
            "    The scikit-learn maintainers therefore strongly discourage the use of this\n",
            "    dataset unless the purpose of the code is to study and educate about\n",
            "    ethical issues in data science and machine learning.\n",
            "\n",
            "    In this special case, you can fetch the dataset from the original\n",
            "    source::\n",
            "\n",
            "        import pandas as pd\n",
            "        import numpy as np\n",
            "\n",
            "\n",
            "        data_url = \"http://lib.stat.cmu.edu/datasets/boston\"\n",
            "        raw_df = pd.read_csv(data_url, sep=\"\\s+\", skiprows=22, header=None)\n",
            "        data = np.hstack([raw_df.values[::2, :], raw_df.values[1::2, :2]])\n",
            "        target = raw_df.values[1::2, 2]\n",
            "\n",
            "    Alternative datasets include the California housing dataset (i.e.\n",
            "    :func:`~sklearn.datasets.fetch_california_housing`) and the Ames housing\n",
            "    dataset. You can load the datasets as follows::\n",
            "\n",
            "        from sklearn.datasets import fetch_california_housing\n",
            "        housing = fetch_california_housing()\n",
            "\n",
            "    for the California housing dataset and::\n",
            "\n",
            "        from sklearn.datasets import fetch_openml\n",
            "        housing = fetch_openml(name=\"house_prices\", as_frame=True)\n",
            "\n",
            "    for the Ames housing dataset.\n",
            "    \n",
            "  warnings.warn(msg, category=FutureWarning)\n"
          ]
        }
      ]
    },
    {
      "cell_type": "markdown",
      "metadata": {
        "id": "W6aZilUZXRU0"
      },
      "source": [
        "Un poco de EDA"
      ]
    },
    {
      "cell_type": "code",
      "metadata": {
        "colab": {
          "base_uri": "https://localhost:8080/"
        },
        "id": "vxb5q6FAzRpc",
        "outputId": "2fa2c0c6-3063-48ff-8557-e7f495bf205d"
      },
      "source": [
        "print('Información en el dataset:')\n",
        "print(boston.keys())\n",
        "print()"
      ],
      "execution_count": 3,
      "outputs": [
        {
          "output_type": "stream",
          "name": "stdout",
          "text": [
            "Información en el dataset:\n",
            "dict_keys(['data', 'target', 'feature_names', 'DESCR', 'filename', 'data_module'])\n",
            "\n"
          ]
        }
      ]
    },
    {
      "cell_type": "code",
      "metadata": {
        "colab": {
          "base_uri": "https://localhost:8080/"
        },
        "id": "yCfzz7YazRpf",
        "outputId": "c685b5ea-462c-4ee1-e1c1-7cb91696e0a3"
      },
      "source": [
        "print('Características del dataset:')\n",
        "print(boston.DESCR)"
      ],
      "execution_count": 4,
      "outputs": [
        {
          "output_type": "stream",
          "name": "stdout",
          "text": [
            "Características del dataset:\n",
            ".. _boston_dataset:\n",
            "\n",
            "Boston house prices dataset\n",
            "---------------------------\n",
            "\n",
            "**Data Set Characteristics:**  \n",
            "\n",
            "    :Number of Instances: 506 \n",
            "\n",
            "    :Number of Attributes: 13 numeric/categorical predictive. Median Value (attribute 14) is usually the target.\n",
            "\n",
            "    :Attribute Information (in order):\n",
            "        - CRIM     per capita crime rate by town\n",
            "        - ZN       proportion of residential land zoned for lots over 25,000 sq.ft.\n",
            "        - INDUS    proportion of non-retail business acres per town\n",
            "        - CHAS     Charles River dummy variable (= 1 if tract bounds river; 0 otherwise)\n",
            "        - NOX      nitric oxides concentration (parts per 10 million)\n",
            "        - RM       average number of rooms per dwelling\n",
            "        - AGE      proportion of owner-occupied units built prior to 1940\n",
            "        - DIS      weighted distances to five Boston employment centres\n",
            "        - RAD      index of accessibility to radial highways\n",
            "        - TAX      full-value property-tax rate per $10,000\n",
            "        - PTRATIO  pupil-teacher ratio by town\n",
            "        - B        1000(Bk - 0.63)^2 where Bk is the proportion of black people by town\n",
            "        - LSTAT    % lower status of the population\n",
            "        - MEDV     Median value of owner-occupied homes in $1000's\n",
            "\n",
            "    :Missing Attribute Values: None\n",
            "\n",
            "    :Creator: Harrison, D. and Rubinfeld, D.L.\n",
            "\n",
            "This is a copy of UCI ML housing dataset.\n",
            "https://archive.ics.uci.edu/ml/machine-learning-databases/housing/\n",
            "\n",
            "\n",
            "This dataset was taken from the StatLib library which is maintained at Carnegie Mellon University.\n",
            "\n",
            "The Boston house-price data of Harrison, D. and Rubinfeld, D.L. 'Hedonic\n",
            "prices and the demand for clean air', J. Environ. Economics & Management,\n",
            "vol.5, 81-102, 1978.   Used in Belsley, Kuh & Welsch, 'Regression diagnostics\n",
            "...', Wiley, 1980.   N.B. Various transformations are used in the table on\n",
            "pages 244-261 of the latter.\n",
            "\n",
            "The Boston house-price data has been used in many machine learning papers that address regression\n",
            "problems.   \n",
            "     \n",
            ".. topic:: References\n",
            "\n",
            "   - Belsley, Kuh & Welsch, 'Regression diagnostics: Identifying Influential Data and Sources of Collinearity', Wiley, 1980. 244-261.\n",
            "   - Quinlan,R. (1993). Combining Instance-Based and Model-Based Learning. In Proceedings on the Tenth International Conference of Machine Learning, 236-243, University of Massachusetts, Amherst. Morgan Kaufmann.\n",
            "\n"
          ]
        }
      ]
    },
    {
      "cell_type": "code",
      "metadata": {
        "colab": {
          "base_uri": "https://localhost:8080/"
        },
        "id": "LlzpaSC6zRpi",
        "outputId": "1030db68-6c8c-4b75-a7a3-14184e3cc26a"
      },
      "source": [
        "print('Cantidad de datos:')\n",
        "print(boston.data.shape)\n",
        "print()"
      ],
      "execution_count": 5,
      "outputs": [
        {
          "output_type": "stream",
          "name": "stdout",
          "text": [
            "Cantidad de datos:\n",
            "(506, 13)\n",
            "\n"
          ]
        }
      ]
    },
    {
      "cell_type": "code",
      "metadata": {
        "id": "jwleO9ZczRpk",
        "outputId": "24e2b910-0271-4c58-f6a6-5494af6823cf",
        "colab": {
          "base_uri": "https://localhost:8080/"
        }
      },
      "source": [
        "print('Nombres columnas:')\n",
        "print(boston.feature_names)"
      ],
      "execution_count": 6,
      "outputs": [
        {
          "output_type": "stream",
          "name": "stdout",
          "text": [
            "Nombres columnas:\n",
            "['CRIM' 'ZN' 'INDUS' 'CHAS' 'NOX' 'RM' 'AGE' 'DIS' 'RAD' 'TAX' 'PTRATIO'\n",
            " 'B' 'LSTAT']\n"
          ]
        }
      ]
    },
    {
      "cell_type": "markdown",
      "metadata": {
        "id": "QdzGz93JXYzL"
      },
      "source": [
        "Preparar la regresión lineal"
      ]
    },
    {
      "cell_type": "code",
      "metadata": {
        "id": "hVEO6vRozRpn",
        "outputId": "c70cf517-e2be-49e7-eb4b-128af454310c",
        "colab": {
          "base_uri": "https://localhost:8080/"
        }
      },
      "source": [
        "X_multiple = boston.data[:, 5:8]\n",
        "print(X_multiple)"
      ],
      "execution_count": 31,
      "outputs": [
        {
          "output_type": "stream",
          "name": "stdout",
          "text": [
            "[[ 6.575  65.2     4.09  ]\n",
            " [ 6.421  78.9     4.9671]\n",
            " [ 7.185  61.1     4.9671]\n",
            " ...\n",
            " [ 6.976  91.      2.1675]\n",
            " [ 6.794  89.3     2.3889]\n",
            " [ 6.03   80.8     2.505 ]]\n"
          ]
        }
      ]
    },
    {
      "cell_type": "markdown",
      "metadata": {
        "id": "rQ4Gb2OhXeTe"
      },
      "source": [
        "Defino los datos correspondientes a las etiquetas\n"
      ]
    },
    {
      "cell_type": "code",
      "metadata": {
        "id": "WT3YmnUNzRpq"
      },
      "source": [
        "y_multiple = boston.target"
      ],
      "execution_count": 13,
      "outputs": []
    },
    {
      "cell_type": "markdown",
      "metadata": {
        "id": "Mr8VUTvzXh6X"
      },
      "source": [
        "Regresión Lineal Múltiple"
      ]
    },
    {
      "cell_type": "code",
      "metadata": {
        "id": "ATT_6kYFzRps",
        "outputId": "3cc63a43-d0ec-4872-f910-e2a1e99241c3",
        "colab": {
          "base_uri": "https://localhost:8080/"
        }
      },
      "source": [
        "from sklearn.model_selection import train_test_split\n",
        "\n",
        "X_train, X_test, y_train, y_test = train_test_split(X_multiple, y_multiple, test_size=0.2)\n",
        "lr_multiple = linear_model.LinearRegression()\n",
        "lr_multiple.fit(X_train, y_train)"
      ],
      "execution_count": 21,
      "outputs": [
        {
          "output_type": "execute_result",
          "data": {
            "text/plain": [
              "LinearRegression()"
            ]
          },
          "metadata": {},
          "execution_count": 21
        }
      ]
    },
    {
      "cell_type": "markdown",
      "metadata": {
        "id": "03B7yta8Xl5v"
      },
      "source": [
        "Predicción"
      ]
    },
    {
      "cell_type": "code",
      "metadata": {
        "id": "OT5wdhzmzRpu",
        "outputId": "9474275a-2910-4d4f-c447-180d1034d0ae",
        "colab": {
          "base_uri": "https://localhost:8080/"
        }
      },
      "source": [
        "Y_pred_multiple = lr_multiple.predict(X_test)\n",
        "print('DATOS DEL MODELO REGRESIÓN LINEAL MULTIPLE')\n",
        "print()\n",
        "print('Valor de las pendientes o coeficientes \"a\":')\n",
        "print(lr_multiple.coef_)\n",
        "print('Valor de la intersección o coeficiente \"b\":')\n",
        "print(lr_multiple.intercept_)\n",
        "print('Precisión del modelo:')\n",
        "print(lr_multiple.score(X_train, y_train))"
      ],
      "execution_count": 22,
      "outputs": [
        {
          "output_type": "stream",
          "name": "stdout",
          "text": [
            "DATOS DEL MODELO REGRESIÓN LINEAL MULTIPLE\n",
            "\n",
            "Valor de las pendientes o coeficientes \"a\":\n",
            "[ 8.53782222 -0.06748831]\n",
            "Valor de la intersección o coeficiente \"b\":\n",
            "-26.335515809459842\n",
            "Precisión del modelo:\n",
            "0.530638752433958\n"
          ]
        }
      ]
    },
    {
      "cell_type": "code",
      "source": [
        "print(lr_multiple.score(X_test, y_test))"
      ],
      "metadata": {
        "colab": {
          "base_uri": "https://localhost:8080/"
        },
        "id": "VkFztyLt6zY0",
        "outputId": "58cd5716-e780-4c5d-9c47-1aea84fbf327"
      },
      "execution_count": 23,
      "outputs": [
        {
          "output_type": "stream",
          "name": "stdout",
          "text": [
            "0.5243581372138428\n"
          ]
        }
      ]
    },
    {
      "cell_type": "markdown",
      "source": [
        "Statsmodel"
      ],
      "metadata": {
        "id": "qe4rl72G9XqL"
      }
    },
    {
      "cell_type": "code",
      "source": [
        "import numpy as np\n",
        "import pandas as pd\n",
        "import statsmodels.formula.api as smf"
      ],
      "metadata": {
        "id": "KgUxvSEM9fdR"
      },
      "execution_count": 27,
      "outputs": []
    },
    {
      "cell_type": "code",
      "source": [
        "x1=boston.data[:, 5:6]\n",
        "x2=boston.data[:, 6:7]\n",
        "x3=boston.data[:, 7:8]\n",
        "y=boston.target"
      ],
      "metadata": {
        "id": "TiBZFAFdHjBW"
      },
      "execution_count": 45,
      "outputs": []
    },
    {
      "cell_type": "code",
      "source": [
        "df = {'x1': x1, 'x2': x2, 'x3': x3, 'y': y}\n",
        "\n",
        "formula = 'y ~ x1 + x2 + x3'\n",
        "\n",
        "lm = smf.ols(formula=formula, data=df).fit()\n",
        "print(lm.params)\n",
        "\n",
        "lm.rsquared"
      ],
      "metadata": {
        "id": "e4i7FPZy9XAQ",
        "outputId": "e570ed04-bfab-4610-cde9-b72e6b4268a1",
        "colab": {
          "base_uri": "https://localhost:8080/"
        }
      },
      "execution_count": 56,
      "outputs": [
        {
          "output_type": "stream",
          "name": "stdout",
          "text": [
            "Intercept   -21.872788\n",
            "x1            8.440629\n",
            "x2           -0.099418\n",
            "x3           -0.480384\n",
            "dtype: float64\n"
          ]
        },
        {
          "output_type": "execute_result",
          "data": {
            "text/plain": [
              "0.5355978698785334"
            ]
          },
          "metadata": {},
          "execution_count": 56
        }
      ]
    },
    {
      "cell_type": "code",
      "source": [
        "lm.summary()"
      ],
      "metadata": {
        "id": "io4TaIaXJAvT",
        "outputId": "dea9c9e9-1433-4302-f3c2-71e386a652b5",
        "colab": {
          "base_uri": "https://localhost:8080/",
          "height": 494
        }
      },
      "execution_count": 57,
      "outputs": [
        {
          "output_type": "execute_result",
          "data": {
            "text/plain": [
              "<class 'statsmodels.iolib.summary.Summary'>\n",
              "\"\"\"\n",
              "                            OLS Regression Results                            \n",
              "==============================================================================\n",
              "Dep. Variable:                      y   R-squared:                       0.536\n",
              "Model:                            OLS   Adj. R-squared:                  0.533\n",
              "Method:                 Least Squares   F-statistic:                     193.0\n",
              "Date:                Tue, 19 Apr 2022   Prob (F-statistic):           3.23e-83\n",
              "Time:                        00:06:08   Log-Likelihood:                -1646.2\n",
              "No. Observations:                 506   AIC:                             3300.\n",
              "Df Residuals:                     502   BIC:                             3317.\n",
              "Df Model:                           3                                         \n",
              "Covariance Type:            nonrobust                                         \n",
              "==============================================================================\n",
              "                 coef    std err          t      P>|t|      [0.025      0.975]\n",
              "------------------------------------------------------------------------------\n",
              "Intercept    -21.8728      3.178     -6.883      0.000     -28.117     -15.629\n",
              "x1             8.4406      0.410     20.563      0.000       7.634       9.247\n",
              "x2            -0.0994      0.015     -6.582      0.000      -0.129      -0.070\n",
              "x3            -0.4804      0.200     -2.399      0.017      -0.874      -0.087\n",
              "==============================================================================\n",
              "Omnibus:                      177.624   Durbin-Watson:                   0.681\n",
              "Prob(Omnibus):                  0.000   Jarque-Bera (JB):             1270.183\n",
              "Skew:                           1.340   Prob(JB):                    1.53e-276\n",
              "Kurtosis:                      10.284   Cond. No.                         851.\n",
              "==============================================================================\n",
              "\n",
              "Warnings:\n",
              "[1] Standard Errors assume that the covariance matrix of the errors is correctly specified.\n",
              "\"\"\""
            ],
            "text/html": [
              "<table class=\"simpletable\">\n",
              "<caption>OLS Regression Results</caption>\n",
              "<tr>\n",
              "  <th>Dep. Variable:</th>            <td>y</td>        <th>  R-squared:         </th> <td>   0.536</td>\n",
              "</tr>\n",
              "<tr>\n",
              "  <th>Model:</th>                   <td>OLS</td>       <th>  Adj. R-squared:    </th> <td>   0.533</td>\n",
              "</tr>\n",
              "<tr>\n",
              "  <th>Method:</th>             <td>Least Squares</td>  <th>  F-statistic:       </th> <td>   193.0</td>\n",
              "</tr>\n",
              "<tr>\n",
              "  <th>Date:</th>             <td>Tue, 19 Apr 2022</td> <th>  Prob (F-statistic):</th> <td>3.23e-83</td>\n",
              "</tr>\n",
              "<tr>\n",
              "  <th>Time:</th>                 <td>00:06:08</td>     <th>  Log-Likelihood:    </th> <td> -1646.2</td>\n",
              "</tr>\n",
              "<tr>\n",
              "  <th>No. Observations:</th>      <td>   506</td>      <th>  AIC:               </th> <td>   3300.</td>\n",
              "</tr>\n",
              "<tr>\n",
              "  <th>Df Residuals:</th>          <td>   502</td>      <th>  BIC:               </th> <td>   3317.</td>\n",
              "</tr>\n",
              "<tr>\n",
              "  <th>Df Model:</th>              <td>     3</td>      <th>                     </th>     <td> </td>   \n",
              "</tr>\n",
              "<tr>\n",
              "  <th>Covariance Type:</th>      <td>nonrobust</td>    <th>                     </th>     <td> </td>   \n",
              "</tr>\n",
              "</table>\n",
              "<table class=\"simpletable\">\n",
              "<tr>\n",
              "      <td></td>         <th>coef</th>     <th>std err</th>      <th>t</th>      <th>P>|t|</th>  <th>[0.025</th>    <th>0.975]</th>  \n",
              "</tr>\n",
              "<tr>\n",
              "  <th>Intercept</th> <td>  -21.8728</td> <td>    3.178</td> <td>   -6.883</td> <td> 0.000</td> <td>  -28.117</td> <td>  -15.629</td>\n",
              "</tr>\n",
              "<tr>\n",
              "  <th>x1</th>        <td>    8.4406</td> <td>    0.410</td> <td>   20.563</td> <td> 0.000</td> <td>    7.634</td> <td>    9.247</td>\n",
              "</tr>\n",
              "<tr>\n",
              "  <th>x2</th>        <td>   -0.0994</td> <td>    0.015</td> <td>   -6.582</td> <td> 0.000</td> <td>   -0.129</td> <td>   -0.070</td>\n",
              "</tr>\n",
              "<tr>\n",
              "  <th>x3</th>        <td>   -0.4804</td> <td>    0.200</td> <td>   -2.399</td> <td> 0.017</td> <td>   -0.874</td> <td>   -0.087</td>\n",
              "</tr>\n",
              "</table>\n",
              "<table class=\"simpletable\">\n",
              "<tr>\n",
              "  <th>Omnibus:</th>       <td>177.624</td> <th>  Durbin-Watson:     </th> <td>   0.681</td> \n",
              "</tr>\n",
              "<tr>\n",
              "  <th>Prob(Omnibus):</th> <td> 0.000</td>  <th>  Jarque-Bera (JB):  </th> <td>1270.183</td> \n",
              "</tr>\n",
              "<tr>\n",
              "  <th>Skew:</th>          <td> 1.340</td>  <th>  Prob(JB):          </th> <td>1.53e-276</td>\n",
              "</tr>\n",
              "<tr>\n",
              "  <th>Kurtosis:</th>      <td>10.284</td>  <th>  Cond. No.          </th> <td>    851.</td> \n",
              "</tr>\n",
              "</table><br/><br/>Warnings:<br/>[1] Standard Errors assume that the covariance matrix of the errors is correctly specified."
            ]
          },
          "metadata": {},
          "execution_count": 57
        }
      ]
    }
  ]
}