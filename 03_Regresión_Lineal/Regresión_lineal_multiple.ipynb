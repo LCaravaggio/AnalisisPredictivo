{
  "nbformat": 4,
  "nbformat_minor": 0,
  "metadata": {
    "colab": {
      "name": "Regresión lineal multiple.ipynb",
      "provenance": [],
      "collapsed_sections": [],
      "include_colab_link": true
    },
    "kernelspec": {
      "display_name": "Python 3",
      "language": "python",
      "name": "python3"
    },
    "language_info": {
      "codemirror_mode": {
        "name": "ipython",
        "version": 3
      },
      "file_extension": ".py",
      "mimetype": "text/x-python",
      "name": "python",
      "nbconvert_exporter": "python",
      "pygments_lexer": "ipython3",
      "version": "3.7.6"
    }
  },
  "cells": [
    {
      "cell_type": "markdown",
      "metadata": {
        "id": "view-in-github",
        "colab_type": "text"
      },
      "source": [
        "<a href=\"https://colab.research.google.com/github/LCaravaggio/AnalisisPredictivo/blob/master/Regresi%C3%B3n_lineal_multiple.ipynb\" target=\"_parent\"><img src=\"https://colab.research.google.com/assets/colab-badge.svg\" alt=\"Open In Colab\"/></a>"
      ]
    },
    {
      "cell_type": "markdown",
      "metadata": {
        "id": "MIAfqLk0XJqa"
      },
      "source": [
        "Importar librerías"
      ]
    },
    {
      "cell_type": "code",
      "metadata": {
        "id": "f8CtebmSzRpT"
      },
      "source": [
        "from sklearn import datasets, linear_model"
      ],
      "execution_count": null,
      "outputs": []
    },
    {
      "cell_type": "markdown",
      "metadata": {
        "id": "j-f5V67LXNm8"
      },
      "source": [
        "Cargar datos"
      ]
    },
    {
      "cell_type": "code",
      "metadata": {
        "id": "GcXt9imnzRpY"
      },
      "source": [
        "boston = datasets.load_boston()"
      ],
      "execution_count": null,
      "outputs": []
    },
    {
      "cell_type": "markdown",
      "metadata": {
        "id": "W6aZilUZXRU0"
      },
      "source": [
        "Un poco de EDA"
      ]
    },
    {
      "cell_type": "code",
      "metadata": {
        "colab": {
          "base_uri": "https://localhost:8080/",
          "height": 68
        },
        "id": "vxb5q6FAzRpc",
        "outputId": "9666f023-acef-4517-d94e-91e5d3782191"
      },
      "source": [
        "print('Información en el dataset:')\n",
        "print(boston.keys())\n",
        "print()"
      ],
      "execution_count": null,
      "outputs": [
        {
          "name": "stdout",
          "output_type": "stream",
          "text": [
            "Información en el dataset:\n",
            "dict_keys(['data', 'target', 'feature_names', 'DESCR', 'filename'])\n",
            "\n"
          ]
        }
      ]
    },
    {
      "cell_type": "code",
      "metadata": {
        "colab": {
          "base_uri": "https://localhost:8080/",
          "height": 921
        },
        "id": "yCfzz7YazRpf",
        "outputId": "d94b2b62-3682-425f-acd1-1105bc4f8c80"
      },
      "source": [
        "print('Características del dataset:')\n",
        "print(boston.DESCR)"
      ],
      "execution_count": null,
      "outputs": [
        {
          "name": "stdout",
          "output_type": "stream",
          "text": [
            "Características del dataset:\n",
            ".. _boston_dataset:\n",
            "\n",
            "Boston house prices dataset\n",
            "---------------------------\n",
            "\n",
            "**Data Set Characteristics:**  \n",
            "\n",
            "    :Number of Instances: 506 \n",
            "\n",
            "    :Number of Attributes: 13 numeric/categorical predictive. Median Value (attribute 14) is usually the target.\n",
            "\n",
            "    :Attribute Information (in order):\n",
            "        - CRIM     per capita crime rate by town\n",
            "        - ZN       proportion of residential land zoned for lots over 25,000 sq.ft.\n",
            "        - INDUS    proportion of non-retail business acres per town\n",
            "        - CHAS     Charles River dummy variable (= 1 if tract bounds river; 0 otherwise)\n",
            "        - NOX      nitric oxides concentration (parts per 10 million)\n",
            "        - RM       average number of rooms per dwelling\n",
            "        - AGE      proportion of owner-occupied units built prior to 1940\n",
            "        - DIS      weighted distances to five Boston employment centres\n",
            "        - RAD      index of accessibility to radial highways\n",
            "        - TAX      full-value property-tax rate per $10,000\n",
            "        - PTRATIO  pupil-teacher ratio by town\n",
            "        - B        1000(Bk - 0.63)^2 where Bk is the proportion of blacks by town\n",
            "        - LSTAT    % lower status of the population\n",
            "        - MEDV     Median value of owner-occupied homes in $1000's\n",
            "\n",
            "    :Missing Attribute Values: None\n",
            "\n",
            "    :Creator: Harrison, D. and Rubinfeld, D.L.\n",
            "\n",
            "This is a copy of UCI ML housing dataset.\n",
            "https://archive.ics.uci.edu/ml/machine-learning-databases/housing/\n",
            "\n",
            "\n",
            "This dataset was taken from the StatLib library which is maintained at Carnegie Mellon University.\n",
            "\n",
            "The Boston house-price data of Harrison, D. and Rubinfeld, D.L. 'Hedonic\n",
            "prices and the demand for clean air', J. Environ. Economics & Management,\n",
            "vol.5, 81-102, 1978.   Used in Belsley, Kuh & Welsch, 'Regression diagnostics\n",
            "...', Wiley, 1980.   N.B. Various transformations are used in the table on\n",
            "pages 244-261 of the latter.\n",
            "\n",
            "The Boston house-price data has been used in many machine learning papers that address regression\n",
            "problems.   \n",
            "     \n",
            ".. topic:: References\n",
            "\n",
            "   - Belsley, Kuh & Welsch, 'Regression diagnostics: Identifying Influential Data and Sources of Collinearity', Wiley, 1980. 244-261.\n",
            "   - Quinlan,R. (1993). Combining Instance-Based and Model-Based Learning. In Proceedings on the Tenth International Conference of Machine Learning, 236-243, University of Massachusetts, Amherst. Morgan Kaufmann.\n",
            "\n"
          ]
        }
      ]
    },
    {
      "cell_type": "code",
      "metadata": {
        "colab": {
          "base_uri": "https://localhost:8080/",
          "height": 68
        },
        "id": "LlzpaSC6zRpi",
        "outputId": "cd5c394a-26b5-41ea-996e-dab5c05d4b51"
      },
      "source": [
        "print('Cantidad de datos:')\n",
        "print(boston.data.shape)\n",
        "print()"
      ],
      "execution_count": null,
      "outputs": [
        {
          "name": "stdout",
          "output_type": "stream",
          "text": [
            "Cantidad de datos:\n",
            "(506, 13)\n",
            "\n"
          ]
        }
      ]
    },
    {
      "cell_type": "code",
      "metadata": {
        "id": "jwleO9ZczRpk",
        "outputId": "1cbeefbb-ea3f-40fc-b5c9-3f313d67ecb8"
      },
      "source": [
        "print('Nombres columnas:')\n",
        "print(boston.feature_names)"
      ],
      "execution_count": null,
      "outputs": [
        {
          "name": "stdout",
          "output_type": "stream",
          "text": [
            "Nombres columnas:\n",
            "['CRIM' 'ZN' 'INDUS' 'CHAS' 'NOX' 'RM' 'AGE' 'DIS' 'RAD' 'TAX' 'PTRATIO'\n",
            " 'B' 'LSTAT']\n"
          ]
        }
      ]
    },
    {
      "cell_type": "markdown",
      "metadata": {
        "id": "QdzGz93JXYzL"
      },
      "source": [
        "Preparar la regresión lineal"
      ]
    },
    {
      "cell_type": "code",
      "metadata": {
        "id": "hVEO6vRozRpn",
        "outputId": "038b04a8-fc46-441c-bda6-55d3cd875cc9"
      },
      "source": [
        "X_multiple = boston.data[:, 5:8]\n",
        "print(X_multiple)"
      ],
      "execution_count": null,
      "outputs": [
        {
          "name": "stdout",
          "output_type": "stream",
          "text": [
            "[[ 6.575  65.2     4.09  ]\n",
            " [ 6.421  78.9     4.9671]\n",
            " [ 7.185  61.1     4.9671]\n",
            " ...\n",
            " [ 6.976  91.      2.1675]\n",
            " [ 6.794  89.3     2.3889]\n",
            " [ 6.03   80.8     2.505 ]]\n"
          ]
        }
      ]
    },
    {
      "cell_type": "markdown",
      "metadata": {
        "id": "rQ4Gb2OhXeTe"
      },
      "source": [
        "Defino los datos correspondientes a las etiquetas\n"
      ]
    },
    {
      "cell_type": "code",
      "metadata": {
        "id": "WT3YmnUNzRpq"
      },
      "source": [
        "y_multiple = boston.target"
      ],
      "execution_count": null,
      "outputs": []
    },
    {
      "cell_type": "markdown",
      "metadata": {
        "id": "Mr8VUTvzXh6X"
      },
      "source": [
        "Regresión Lineal Múltiple"
      ]
    },
    {
      "cell_type": "code",
      "metadata": {
        "id": "ATT_6kYFzRps",
        "outputId": "c1c6b867-0c19-4524-c634-4398e49c2369"
      },
      "source": [
        "from sklearn.model_selection import train_test_split\n",
        "\n",
        "X_train, X_test, y_train, y_test = train_test_split(X_multiple, y_multiple, test_size=0.2)\n",
        "lr_multiple = linear_model.LinearRegression()\n",
        "lr_multiple.fit(X_train, y_train)"
      ],
      "execution_count": null,
      "outputs": [
        {
          "data": {
            "text/plain": [
              "LinearRegression(copy_X=True, fit_intercept=True, n_jobs=None, normalize=False)"
            ]
          },
          "execution_count": 10,
          "metadata": {},
          "output_type": "execute_result"
        }
      ]
    },
    {
      "cell_type": "markdown",
      "metadata": {
        "id": "03B7yta8Xl5v"
      },
      "source": [
        "Predicción"
      ]
    },
    {
      "cell_type": "code",
      "metadata": {
        "id": "OT5wdhzmzRpu",
        "outputId": "1778f146-758f-47ba-9612-6da483a51671"
      },
      "source": [
        "Y_pred_multiple = lr_multiple.predict(X_test)\n",
        "print('DATOS DEL MODELO REGRESIÓN LINEAL MULTIPLE')\n",
        "print()\n",
        "print('Valor de las pendientes o coeficientes \"a\":')\n",
        "print(lr_multiple.coef_)\n",
        "print('Valor de la intersección o coeficiente \"b\":')\n",
        "print(lr_multiple.intercept_)\n",
        "print('Precisión del modelo:')\n",
        "print(lr_multiple.score(X_train, y_train))"
      ],
      "execution_count": null,
      "outputs": [
        {
          "name": "stdout",
          "output_type": "stream",
          "text": [
            "DATOS DEL MODELO REGRESIÓN LINEAL MULTIPLE\n",
            "\n",
            "Valor de las pendientes o coeficientes \"a\":\n",
            "[ 8.53709704 -0.09298836 -0.46011885]\n",
            "Valor de la intersección o coeficiente \"b\":\n",
            "-23.081864151525842\n",
            "Precisión del modelo:\n",
            "0.5033024440355143\n"
          ]
        }
      ]
    }
  ]
}
