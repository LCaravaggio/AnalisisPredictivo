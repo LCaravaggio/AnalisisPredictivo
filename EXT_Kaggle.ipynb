{
  "nbformat": 4,
  "nbformat_minor": 0,
  "metadata": {
    "colab": {
      "name": "EXT Kaggle.ipynb",
      "provenance": [],
      "collapsed_sections": [],
      "include_colab_link": true
    },
    "kernelspec": {
      "display_name": "Python 3",
      "language": "python",
      "name": "python3"
    },
    "language_info": {
      "codemirror_mode": {
        "name": "ipython",
        "version": 3
      },
      "file_extension": ".py",
      "mimetype": "text/x-python",
      "name": "python",
      "nbconvert_exporter": "python",
      "pygments_lexer": "ipython3",
      "version": "3.7.6"
    }
  },
  "cells": [
    {
      "cell_type": "markdown",
      "metadata": {
        "id": "view-in-github",
        "colab_type": "text"
      },
      "source": [
        "<a href=\"https://colab.research.google.com/github/LCaravaggio/AnalisisPredictivo/blob/master/EXT_Kaggle.ipynb\" target=\"_parent\"><img src=\"https://colab.research.google.com/assets/colab-badge.svg\" alt=\"Open In Colab\"/></a>"
      ]
    },
    {
      "cell_type": "code",
      "metadata": {
        "id": "Te3O3Ijul8PZ"
      },
      "source": [
        "# Acá deberían cargar todas las librerías que vayan a usar. \n",
        "# Es preferible cargar las librerías al principio para que quede claro que requerimientos tiene la notebook. \n",
        "# Tengan cuidado de no cargar librerías que no vayan a utilizar ya que esto incurre en un gasto de memoria innecesario\n",
        "\n",
        "import pandas as pd\n",
        "import numpy as np\n",
        "\n",
        "from sklearn.ensemble import RandomForestRegressor, ExtraTreesRegressor"
      ],
      "execution_count": 12,
      "outputs": []
    },
    {
      "cell_type": "code",
      "metadata": {
        "id": "I3ptXMETmNSX",
        "colab": {
          "base_uri": "https://localhost:8080/"
        },
        "outputId": "75b9a129-103f-4c84-c35e-a60cd20e4a03"
      },
      "source": [
        "#Levantamos los datos si los tenemos local y los subimos\n",
        "\n",
        "df_train=pd.read_csv(\"datos.csv\", sep=\",\")\n",
        "df_test=pd.read_csv(\"resultados.csv\", sep=\",\")"
      ],
      "execution_count": 2,
      "outputs": [
        {
          "output_type": "stream",
          "name": "stderr",
          "text": [
            "/usr/local/lib/python3.7/dist-packages/IPython/core/interactiveshell.py:2718: DtypeWarning: Columns (4) have mixed types.Specify dtype option on import or set low_memory=False.\n",
            "  interactivity=interactivity, compiler=compiler, result=result)\n"
          ]
        }
      ]
    },
    {
      "cell_type": "code",
      "metadata": {
        "id": "cQZfUWFrslRU"
      },
      "source": [
        "#Aleternativamente podriamos cargar los datos con la API de Kaggle sin necesidad de bajarlos\n",
        "\n",
        "import json\n",
        "from google.colab import drive\n",
        "\n",
        "!mkdir ~/.kaggle\n",
        "!touch ~/.kaggle/kaggle.json\n",
        "\n",
        "drive.mount('/content/drive', force_remount=True)\n",
        "with open(\"/content/drive/My Drive/kaggle.json\", 'r') as f:\n",
        "    api_token= json.load(f)\n",
        "\n",
        "with open('/root/.kaggle/kaggle.json', 'w') as file:\n",
        "    json.dump(api_token, file)\n",
        "\n",
        "!chmod 600 ~/.kaggle/kaggle.json\n",
        "\n",
        "!kaggle competitions download -c examen-2-ap-itba\n",
        "\n",
        "\n",
        "import zipfile\n",
        "import os\n",
        "\n",
        "os.listdir()\n",
        "\n",
        "for file in os.listdir():\n",
        "    if file.endswith('.zip'):\n",
        "      zip_ref = zipfile.ZipFile(file, 'r')\n",
        "      zip_ref.extractall()\n",
        "      zip_ref.close()"
      ],
      "execution_count": null,
      "outputs": []
    },
    {
      "cell_type": "code",
      "metadata": {
        "colab": {
          "base_uri": "https://localhost:8080/"
        },
        "id": "d2INFOE3mtOz",
        "outputId": "5c78ac59-0035-422a-e3f0-9c92ed274076"
      },
      "source": [
        "# Después deberían hacer un poco de EDA para conocer la base\n",
        "df_train.columns"
      ],
      "execution_count": 3,
      "outputs": [
        {
          "output_type": "execute_result",
          "data": {
            "text/plain": [
              "Index(['averageRating', 'numVotes', 'titleType', 'isAdult', 'startYear',\n",
              "       'endYear', 'runtimeMinutes', 'genres_x', 'directors', 'writers',\n",
              "       'seasonNumber', 'episodeNumber', 'ordering', 'language', 'types',\n",
              "       'attributes', 'isOriginalTitle', 'adult', 'budget', 'genres_y',\n",
              "       'original_language', 'overview', 'popularity', 'production_companies',\n",
              "       'production_countries', 'release_date', 'revenue', 'runtime', 'status',\n",
              "       'tagline', 'video', 'id'],\n",
              "      dtype='object')"
            ]
          },
          "metadata": {},
          "execution_count": 3
        }
      ]
    },
    {
      "cell_type": "code",
      "metadata": {
        "colab": {
          "base_uri": "https://localhost:8080/"
        },
        "id": "YWrGTGNxgxig",
        "outputId": "62b066f8-672e-4489-e8d0-fe7d76594819"
      },
      "source": [
        "df_train.shape"
      ],
      "execution_count": 4,
      "outputs": [
        {
          "output_type": "execute_result",
          "data": {
            "text/plain": [
              "(900000, 32)"
            ]
          },
          "metadata": {},
          "execution_count": 4
        }
      ]
    },
    {
      "cell_type": "code",
      "metadata": {
        "id": "zIP_lGOIofX2"
      },
      "source": [
        "#Clasifico en categóricas y continuas\n",
        "cat_vars = ['language'] \n",
        "contin_vars = ['startYear', 'endYear', 'numVotes', 'runtimeMinutes', 'budget', 'revenue']"
      ],
      "execution_count": 5,
      "outputs": []
    },
    {
      "cell_type": "code",
      "metadata": {
        "id": "ibjz7Czzr6LO"
      },
      "source": [
        "#Elimino los NA de las variables continuas\n",
        "for v in contin_vars: df_train.loc[df_train[v].isnull(), v] = 0\n",
        "for v in contin_vars: df_train.loc[(df_train[v].isna()), v] = 0"
      ],
      "execution_count": 6,
      "outputs": []
    },
    {
      "cell_type": "code",
      "metadata": {
        "id": "Z9LnAsTCgxih"
      },
      "source": [
        "# Genero variables dummys con las categóricas\n",
        "for v in cat_vars: df_train=df_train.join(pd.get_dummies(df_train[v], drop_first=True), lsuffix = '_left', rsuffix = '_right')"
      ],
      "execution_count": 7,
      "outputs": []
    },
    {
      "cell_type": "code",
      "metadata": {
        "id": "I-vBUVn0OGmk"
      },
      "source": [
        "#Selección de variables para el modelo\n",
        "algunas=contin_vars+['en', 'es']"
      ],
      "execution_count": 8,
      "outputs": []
    },
    {
      "cell_type": "code",
      "metadata": {
        "id": "JBPUbEH0gxij"
      },
      "source": [
        "#Elimino los NA de las variables continuas y algún otro error que pueda aparecer\n",
        "\n",
        "df_train=df_train.replace('\\\\N',0)\n",
        "df_train=df_train.replace('Game-Show',0)\n",
        "\n",
        "for v in algunas: df_train.loc[df_train[v].isnull(), v] = 0\n",
        "for v in algunas: df_train.loc[(df_train[v].isna()), v] = 0"
      ],
      "execution_count": 9,
      "outputs": []
    },
    {
      "cell_type": "code",
      "metadata": {
        "id": "7rVp9CCum-M5"
      },
      "source": [
        "# Elegir un modelo y correrlo\n",
        "# Recuerden que lo que tienen que clasificar es la columna averageRating\n",
        "\n",
        "reg=ExtraTreesRegressor()\n",
        "\n",
        "X=np.array(df_train[algunas])\n",
        "y=df_train['averageRating']\n",
        "\n",
        "res=reg.fit(X, y)"
      ],
      "execution_count": 13,
      "outputs": []
    },
    {
      "cell_type": "code",
      "metadata": {
        "colab": {
          "base_uri": "https://localhost:8080/"
        },
        "id": "mrb26ucOtFEh",
        "outputId": "0d4cbbe6-84da-4188-b369-9afd7736c397"
      },
      "source": [
        "res.score(X,y)"
      ],
      "execution_count": 14,
      "outputs": [
        {
          "output_type": "execute_result",
          "data": {
            "text/plain": [
              "0.5245209615059216"
            ]
          },
          "metadata": {},
          "execution_count": 14
        }
      ]
    },
    {
      "cell_type": "code",
      "metadata": {
        "id": "F3XlmSBBpu-f"
      },
      "source": [
        "# Luego podría corresponder ajustar hiperparámetros, hacer CV, etc..."
      ],
      "execution_count": null,
      "outputs": []
    },
    {
      "cell_type": "code",
      "metadata": {
        "id": "0tlj7ZjFgxim"
      },
      "source": [
        "#Elimino los NA de las variables continuas\n",
        "for v in contin_vars: df_test.loc[df_test[v].isnull(), v] = 0\n",
        "for v in contin_vars: df_test.loc[(df_test[v].isna()), v] = 0"
      ],
      "execution_count": 15,
      "outputs": []
    },
    {
      "cell_type": "code",
      "metadata": {
        "id": "gXCIa3T_reXA"
      },
      "source": [
        "# Genero variables dummys con las categóricas\n",
        "for v in cat_vars: df_test=df_test.join(pd.get_dummies(df_test[v], drop_first=True), lsuffix = '_left', rsuffix = '_right')"
      ],
      "execution_count": 16,
      "outputs": []
    },
    {
      "cell_type": "code",
      "metadata": {
        "id": "V3rFaPvUgxin"
      },
      "source": [
        "df_test=df_test.replace('\\\\N',0)\n",
        "df_test=df_test.replace('Reality-TV',0)"
      ],
      "execution_count": 17,
      "outputs": []
    },
    {
      "cell_type": "code",
      "metadata": {
        "id": "YGLPb-6Ugxin"
      },
      "source": [
        "# Y hago una predicción con las variables de testeo\n",
        "X=np.array(df_test[algunas])\n",
        "resultado=reg.predict(X)"
      ],
      "execution_count": 18,
      "outputs": []
    },
    {
      "cell_type": "code",
      "metadata": {
        "id": "2JbEO6XQqxs9"
      },
      "source": [
        "# Finalmente generar un CSV con los resultados aplicados al CSV de resultados que no contiene la columna target\n",
        "\n",
        "salida = pd.DataFrame(data={\"averageRating\": resultado}).astype(str)\n",
        "salida.index = df_test.id\n",
        "salida.to_csv(\"extratrees.csv\", sep=',',index=True,  index_label='id')"
      ],
      "execution_count": 20,
      "outputs": []
    }
  ]
}