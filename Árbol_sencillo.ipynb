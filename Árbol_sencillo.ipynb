{
 "cells": [
  {
   "cell_type": "code",
   "execution_count": 3,
   "metadata": {
    "colab": {
     "base_uri": "https://localhost:8080/",
     "height": 34
    },
    "executionInfo": {
     "elapsed": 1538,
     "status": "ok",
     "timestamp": 1601588034924,
     "user": {
      "displayName": "Leonardo Caravaggio",
      "photoUrl": "https://lh3.googleusercontent.com/a-/AOh14GgUlcdRomdAhzYlKq8NOGEv6rsCt8HOgMTH3AK5vw=s64",
      "userId": "10474672308481558846"
     },
     "user_tz": 180
    },
    "id": "m79lBx4oDuK0",
    "outputId": "7b1f836f-93ec-4972-ce39-1b4c5d26e029"
   },
   "outputs": [
    {
     "name": "stdout",
     "output_type": "stream",
     "text": [
      "25\n"
     ]
    }
   ],
   "source": [
    "A=6\n",
    "\n",
    "#Árbol de decisión\n",
    "if A>2:\n",
    "  if A<5: \n",
    "    salida=20\n",
    "  else: \n",
    "    salida=25\n",
    "else:\n",
    "  salida=10\n",
    "\n",
    "\n",
    "print(salida)"
   ]
  }
 ],
 "metadata": {
  "colab": {
   "name": "Árbol_sencillo.ipynb",
   "provenance": []
  },
  "kernelspec": {
   "display_name": "Python 3",
   "language": "python",
   "name": "python3"
  },
  "language_info": {
   "codemirror_mode": {
    "name": "ipython",
    "version": 3
   },
   "file_extension": ".py",
   "mimetype": "text/x-python",
   "name": "python",
   "nbconvert_exporter": "python",
   "pygments_lexer": "ipython3",
   "version": "3.7.6"
  }
 },
 "nbformat": 4,
 "nbformat_minor": 1
}
