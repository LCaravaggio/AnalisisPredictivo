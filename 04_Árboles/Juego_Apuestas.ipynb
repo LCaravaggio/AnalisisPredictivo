{
  "nbformat": 4,
  "nbformat_minor": 0,
  "metadata": {
    "colab": {
      "name": "Juego_Apuestas.ipynb",
      "provenance": [],
      "include_colab_link": true
    },
    "kernelspec": {
      "name": "python3",
      "display_name": "Python 3"
    }
  },
  "cells": [
    {
      "cell_type": "markdown",
      "metadata": {
        "id": "view-in-github",
        "colab_type": "text"
      },
      "source": [
        "<a href=\"https://colab.research.google.com/github/LCaravaggio/AnalisisPredictivo/blob/master/04_%C3%81rboles/Juego_Apuestas.ipynb\" target=\"_parent\"><img src=\"https://colab.research.google.com/assets/colab-badge.svg\" alt=\"Open In Colab\"/></a>"
      ]
    },
    {
      "cell_type": "code",
      "metadata": {
        "id": "rSRjFLvYj4mf",
        "colab": {
          "base_uri": "https://localhost:8080/",
          "height": 623
        },
        "outputId": "61922fe9-c59d-420b-9f82-61f68c88410e"
      },
      "source": [
        "import numpy as np\n",
        "import matplotlib.pyplot as plt\n",
        "import seaborn as sns\n",
        "\n",
        "# Game 1\n",
        "simulations = 10000  # number of Monte Carlo Simulations\n",
        "games = 100          # number of times the game is played\n",
        "threshold = 40       # threshold where if greater than or equal to you win\n",
        "bet = 1              # dollar bet for the game\n",
        "\n",
        "# outer loop is Monte Carlo sims and inner loop is games played\n",
        "sim_results_1 = []\n",
        "for sim in range(simulations):\n",
        "    result = []\n",
        "    for g in range(games):\n",
        "        number = int(np.random.uniform()*100)  # get a random number to see who wins\n",
        "        if number >= threshold:\n",
        "            result.append(bet)\n",
        "        else:\n",
        "            result.append(-bet)\n",
        "    sim_results_1.append(sum(result))          # sim_results_1 stores results for Game 1\n",
        "print('Game 1 Mean: ', round(np.mean(sim_results_1), 2))\n",
        "print('Game 1 Prob Positive: ', round(sum([1 for i in sim_results_1 if i>0])/simulations, 2))\n",
        "print('\\n')\n",
        "    \n",
        "\n",
        "# Game 2 (structure of code is same as above)\n",
        "simulations = 10000\n",
        "games = 10\n",
        "threshold = 40\n",
        "bet = 10\n",
        "\n",
        "sim_results_2 = []\n",
        "for sim in range(simulations):\n",
        "    result = []\n",
        "    for g in range(games):\n",
        "        number = int(np.random.uniform()*100)\n",
        "        if number >= threshold:\n",
        "            result.append(bet)\n",
        "        else:\n",
        "            result.append(-bet)\n",
        "    sim_results_2.append(sum(result))\n",
        "print('Game 2 Mean: ', round(np.mean(sim_results_2), 2))\n",
        "print('Game 2 Prob Positive: ', round(sum([1 for i in sim_results_2 if i>0])/simulations, 2))\n",
        "print('\\n')\n",
        "    \n",
        "    \n",
        "# Game 3 (structure of code is same as above)\n",
        "simulations = 10000\n",
        "games = 1\n",
        "threshold = 40\n",
        "bet = 100\n",
        "\n",
        "sim_results_3 = []\n",
        "for sim in range(simulations):\n",
        "    result = []\n",
        "    for g in range(games):\n",
        "        number = int(np.random.uniform()*100)\n",
        "        if number >= threshold:\n",
        "            result.append(bet)\n",
        "        else:\n",
        "            result.append(-bet)\n",
        "    sim_results_3.append(sum(result))\n",
        "print('Game 3 Mean: ', round(np.mean(sim_results_3), 2))\n",
        "print('Game 3 Prob Positive: ', round(sum([1 for i in sim_results_3 if i>0])/simulations, 2))\n",
        "\n",
        "\n",
        "# Histogram that shows the distribution of the Monte Carlo Results for 2 spending levels\n",
        "fig, ax = plt.subplots(figsize=(8,6))\n",
        "sns.histplot(sim_results_1, kde=False, bins=60, label='Play 100 Times')\n",
        "sns.histplot(sim_results_2, kde=False, bins=60, label='Play 10 Times')\n",
        "sns.histplot(sim_results_3, kde=False, bins=60, label='Play 1 Time', color='pink')\n",
        "\n",
        "ax.set_xlabel('Money Won by You (The Player)', fontsize=16)\n",
        "ax.set_ylabel('Frequency',fontsize=16)\n",
        "plt.legend()\n",
        "plt.tight_layout()\n",
        "\n",
        "plt.savefig(fname='game_hist', dpi=150)\n",
        "plt.show()"
      ],
      "execution_count": null,
      "outputs": [
        {
          "output_type": "stream",
          "text": [
            "Game 1 Mean:  20.04\n",
            "Game 1 Prob Positive:  0.97\n",
            "\n",
            "\n",
            "Game 2 Mean:  19.84\n",
            "Game 2 Prob Positive:  0.63\n",
            "\n",
            "\n",
            "Game 3 Mean:  20.44\n",
            "Game 3 Prob Positive:  0.6\n"
          ],
          "name": "stdout"
        },
        {
          "output_type": "display_data",
          "data": {
            "image/png": "[encoded data removed]",
            "text/plain": [
              "<Figure size 576x432 with 1 Axes>"
            ]
          },
          "metadata": {
            "tags": [],
            "needs_background": "light"
          }
        }
      ]
    }
  ]
}