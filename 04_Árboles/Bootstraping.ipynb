{
  "cells": [
    {
      "cell_type": "code",
      "execution_count": 1,
      "metadata": {
        "id": "bAf5lnsbtWww"
      },
      "outputs": [],
      "source": [
        "from pylab import *\n",
        "import pandas as pd\n",
        "x = arange(101.)"
      ]
    },
    {
      "cell_type": "code",
      "execution_count": 2,
      "metadata": {
        "id": "7gg49rXVtWw1",
        "outputId": "c05d4339-ab91-4635-b721-a62c82ce6263",
        "colab": {
          "base_uri": "https://localhost:8080/"
        }
      },
      "outputs": [
        {
          "output_type": "execute_result",
          "data": {
            "text/plain": [
              "50.0"
            ]
          },
          "metadata": {},
          "execution_count": 2
        }
      ],
      "source": [
        "mean(x)"
      ]
    },
    {
      "cell_type": "code",
      "execution_count": 3,
      "metadata": {
        "id": "fer4gDtctWw2"
      },
      "outputs": [],
      "source": [
        "df = pd.DataFrame(x)"
      ]
    },
    {
      "cell_type": "code",
      "execution_count": 26,
      "metadata": {
        "id": "XJY0UvdotWw3",
        "outputId": "d04aa5ef-495d-4fb4-d1b2-4dad8ef7de6d",
        "colab": {
          "base_uri": "https://localhost:8080/"
        }
      },
      "outputs": [
        {
          "output_type": "execute_result",
          "data": {
            "text/plain": [
              "58.1"
            ]
          },
          "metadata": {},
          "execution_count": 26
        }
      ],
      "source": [
        "part_10 = df.sample(frac = 0.1)\n",
        "mean(part_10[0])"
      ]
    },
    {
      "cell_type": "code",
      "execution_count": 27,
      "metadata": {
        "id": "0vhMbt3utWw4"
      },
      "outputs": [],
      "source": [
        "def bootstrap_mean(n, dataframe):\n",
        "    promedio=0\n",
        "    for x in range(1,n):\n",
        "        part_10 = dataframe.sample(frac = 0.1)\n",
        "        promedio=mean(part_10[0])+promedio\n",
        "    return(promedio/n)"
      ]
    },
    {
      "cell_type": "code",
      "execution_count": 28,
      "metadata": {
        "id": "aRn8AORktWw5",
        "outputId": "8b6b2e59-bca5-40fe-d581-8bba59af43b6",
        "colab": {
          "base_uri": "https://localhost:8080/"
        }
      },
      "outputs": [
        {
          "output_type": "execute_result",
          "data": {
            "text/plain": [
              "50.0297599999998"
            ]
          },
          "metadata": {},
          "execution_count": 28
        }
      ],
      "source": [
        "bootstrap_mean(n=10000, dataframe=df)"
      ]
    }
  ],
  "metadata": {
    "kernelspec": {
      "display_name": "Python 3",
      "language": "python",
      "name": "python3"
    },
    "language_info": {
      "codemirror_mode": {
        "name": "ipython",
        "version": 3
      },
      "file_extension": ".py",
      "mimetype": "text/x-python",
      "name": "python",
      "nbconvert_exporter": "python",
      "pygments_lexer": "ipython3",
      "version": "3.7.6"
    },
    "colab": {
      "provenance": []
    }
  },
  "nbformat": 4,
  "nbformat_minor": 0
}